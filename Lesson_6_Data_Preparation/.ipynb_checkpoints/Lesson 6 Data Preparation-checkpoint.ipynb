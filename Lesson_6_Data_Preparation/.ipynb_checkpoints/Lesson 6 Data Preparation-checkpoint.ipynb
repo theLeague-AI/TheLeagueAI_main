{
 "cells": [
  {
   "cell_type": "code",
   "execution_count": 99,
   "metadata": {},
   "outputs": [
    {
     "name": "stdout",
     "output_type": "stream",
     "text": [
      "<class 'pandas.core.frame.DataFrame'>\n",
      "RangeIndex: 1309 entries, 0 to 1308\n",
      "Data columns (total 14 columns):\n",
      " #   Column     Non-Null Count  Dtype \n",
      "---  ------     --------------  ----- \n",
      " 0   pclass     1309 non-null   int64 \n",
      " 1   survived   1309 non-null   int64 \n",
      " 2   name       1309 non-null   object\n",
      " 3   sex        1309 non-null   object\n",
      " 4   age        1309 non-null   object\n",
      " 5   sibsp      1309 non-null   int64 \n",
      " 6   parch      1309 non-null   int64 \n",
      " 7   ticket     1309 non-null   object\n",
      " 8   fare       1309 non-null   object\n",
      " 9   cabin      1309 non-null   object\n",
      " 10  embarked   1309 non-null   object\n",
      " 11  boat       1309 non-null   object\n",
      " 12  body       1309 non-null   object\n",
      " 13  home.dest  1309 non-null   object\n",
      "dtypes: int64(4), object(10)\n",
      "memory usage: 143.3+ KB\n"
     ]
    }
   ],
   "source": [
    "# import libraries\n",
    "import pandas as pd \n",
    "import numpy as np\n",
    "import matplotlib.pyplot as plt\n",
    "import seaborn as sns\n",
    "\n",
    "# Import titanic dataset\n",
    "titanic_data = pd.read_csv(\"titanic_data.csv\") \n",
    "titanic_data.info()\n"
   ]
  },
  {
   "cell_type": "code",
   "execution_count": 100,
   "metadata": {},
   "outputs": [
    {
     "data": {
      "text/plain": [
       "age\n",
       "0.1667     1\n",
       "0.3333     1\n",
       "0.4167     1\n",
       "0.6667     1\n",
       "0.7500     3\n",
       "          ..\n",
       "70.5000    1\n",
       "71.0000    2\n",
       "74.0000    1\n",
       "76.0000    1\n",
       "80.0000    1\n",
       "Name: age, Length: 98, dtype: int64"
      ]
     },
     "execution_count": 100,
     "metadata": {},
     "output_type": "execute_result"
    }
   ],
   "source": [
    "titanic_data['age'] = pd.to_numeric(titanic_data['age'], errors = 'coerce')\n",
    "grouped = titanic_data.groupby(\"age\")['age'].count()\n",
    "grouped"
   ]
  },
  {
   "cell_type": "code",
   "execution_count": 101,
   "metadata": {},
   "outputs": [
    {
     "data": {
      "text/plain": [
       "41"
      ]
     },
     "execution_count": 101,
     "metadata": {},
     "output_type": "execute_result"
    }
   ],
   "source": [
    "grouped[21]"
   ]
  },
  {
   "cell_type": "code",
   "execution_count": 2,
   "metadata": {},
   "outputs": [
    {
     "data": {
      "text/html": [
       "<div>\n",
       "<style scoped>\n",
       "    .dataframe tbody tr th:only-of-type {\n",
       "        vertical-align: middle;\n",
       "    }\n",
       "\n",
       "    .dataframe tbody tr th {\n",
       "        vertical-align: top;\n",
       "    }\n",
       "\n",
       "    .dataframe thead th {\n",
       "        text-align: right;\n",
       "    }\n",
       "</style>\n",
       "<table border=\"1\" class=\"dataframe\">\n",
       "  <thead>\n",
       "    <tr style=\"text-align: right;\">\n",
       "      <th></th>\n",
       "      <th>pclass</th>\n",
       "      <th>survived</th>\n",
       "      <th>name</th>\n",
       "      <th>sex</th>\n",
       "      <th>age</th>\n",
       "      <th>sibsp</th>\n",
       "      <th>parch</th>\n",
       "      <th>ticket</th>\n",
       "      <th>fare</th>\n",
       "      <th>cabin</th>\n",
       "      <th>embarked</th>\n",
       "      <th>boat</th>\n",
       "      <th>body</th>\n",
       "      <th>home.dest</th>\n",
       "    </tr>\n",
       "  </thead>\n",
       "  <tbody>\n",
       "    <tr>\n",
       "      <th>0</th>\n",
       "      <td>1</td>\n",
       "      <td>1</td>\n",
       "      <td>Allen, Miss. Elisabeth Walton</td>\n",
       "      <td>female</td>\n",
       "      <td>29.0</td>\n",
       "      <td>0</td>\n",
       "      <td>0</td>\n",
       "      <td>24160</td>\n",
       "      <td>211.3375</td>\n",
       "      <td>B5</td>\n",
       "      <td>S</td>\n",
       "      <td>2</td>\n",
       "      <td>?</td>\n",
       "      <td>St Louis, MO</td>\n",
       "    </tr>\n",
       "    <tr>\n",
       "      <th>2</th>\n",
       "      <td>1</td>\n",
       "      <td>0</td>\n",
       "      <td>Allison, Miss. Helen Loraine</td>\n",
       "      <td>female</td>\n",
       "      <td>2.0</td>\n",
       "      <td>1</td>\n",
       "      <td>2</td>\n",
       "      <td>113781</td>\n",
       "      <td>151.55</td>\n",
       "      <td>C22 C26</td>\n",
       "      <td>S</td>\n",
       "      <td>?</td>\n",
       "      <td>?</td>\n",
       "      <td>Montreal, PQ / Chesterville, ON</td>\n",
       "    </tr>\n",
       "    <tr>\n",
       "      <th>3</th>\n",
       "      <td>1</td>\n",
       "      <td>0</td>\n",
       "      <td>Allison, Mr. Hudson Joshua Creighton</td>\n",
       "      <td>male</td>\n",
       "      <td>30.0</td>\n",
       "      <td>1</td>\n",
       "      <td>2</td>\n",
       "      <td>113781</td>\n",
       "      <td>151.55</td>\n",
       "      <td>C22 C26</td>\n",
       "      <td>S</td>\n",
       "      <td>?</td>\n",
       "      <td>135</td>\n",
       "      <td>Montreal, PQ / Chesterville, ON</td>\n",
       "    </tr>\n",
       "    <tr>\n",
       "      <th>4</th>\n",
       "      <td>1</td>\n",
       "      <td>0</td>\n",
       "      <td>Allison, Mrs. Hudson J C (Bessie Waldo Daniels)</td>\n",
       "      <td>female</td>\n",
       "      <td>25.0</td>\n",
       "      <td>1</td>\n",
       "      <td>2</td>\n",
       "      <td>113781</td>\n",
       "      <td>151.55</td>\n",
       "      <td>C22 C26</td>\n",
       "      <td>S</td>\n",
       "      <td>?</td>\n",
       "      <td>?</td>\n",
       "      <td>Montreal, PQ / Chesterville, ON</td>\n",
       "    </tr>\n",
       "    <tr>\n",
       "      <th>5</th>\n",
       "      <td>1</td>\n",
       "      <td>1</td>\n",
       "      <td>Anderson, Mr. Harry</td>\n",
       "      <td>male</td>\n",
       "      <td>48.0</td>\n",
       "      <td>0</td>\n",
       "      <td>0</td>\n",
       "      <td>19952</td>\n",
       "      <td>26.55</td>\n",
       "      <td>E12</td>\n",
       "      <td>S</td>\n",
       "      <td>3</td>\n",
       "      <td>?</td>\n",
       "      <td>New York, NY</td>\n",
       "    </tr>\n",
       "    <tr>\n",
       "      <th>6</th>\n",
       "      <td>1</td>\n",
       "      <td>1</td>\n",
       "      <td>Andrews, Miss. Kornelia Theodosia</td>\n",
       "      <td>female</td>\n",
       "      <td>63.0</td>\n",
       "      <td>1</td>\n",
       "      <td>0</td>\n",
       "      <td>13502</td>\n",
       "      <td>77.9583</td>\n",
       "      <td>D7</td>\n",
       "      <td>S</td>\n",
       "      <td>10</td>\n",
       "      <td>?</td>\n",
       "      <td>Hudson, NY</td>\n",
       "    </tr>\n",
       "    <tr>\n",
       "      <th>7</th>\n",
       "      <td>1</td>\n",
       "      <td>0</td>\n",
       "      <td>Andrews, Mr. Thomas Jr</td>\n",
       "      <td>male</td>\n",
       "      <td>39.0</td>\n",
       "      <td>0</td>\n",
       "      <td>0</td>\n",
       "      <td>112050</td>\n",
       "      <td>0</td>\n",
       "      <td>A36</td>\n",
       "      <td>S</td>\n",
       "      <td>?</td>\n",
       "      <td>?</td>\n",
       "      <td>Belfast, NI</td>\n",
       "    </tr>\n",
       "    <tr>\n",
       "      <th>8</th>\n",
       "      <td>1</td>\n",
       "      <td>1</td>\n",
       "      <td>Appleton, Mrs. Edward Dale (Charlotte Lamson)</td>\n",
       "      <td>female</td>\n",
       "      <td>53.0</td>\n",
       "      <td>2</td>\n",
       "      <td>0</td>\n",
       "      <td>11769</td>\n",
       "      <td>51.4792</td>\n",
       "      <td>C101</td>\n",
       "      <td>S</td>\n",
       "      <td>D</td>\n",
       "      <td>?</td>\n",
       "      <td>Bayside, Queens, NY</td>\n",
       "    </tr>\n",
       "    <tr>\n",
       "      <th>9</th>\n",
       "      <td>1</td>\n",
       "      <td>0</td>\n",
       "      <td>Artagaveytia, Mr. Ramon</td>\n",
       "      <td>male</td>\n",
       "      <td>71.0</td>\n",
       "      <td>0</td>\n",
       "      <td>0</td>\n",
       "      <td>PC 17609</td>\n",
       "      <td>49.5042</td>\n",
       "      <td>?</td>\n",
       "      <td>C</td>\n",
       "      <td>?</td>\n",
       "      <td>22</td>\n",
       "      <td>Montevideo, Uruguay</td>\n",
       "    </tr>\n",
       "    <tr>\n",
       "      <th>10</th>\n",
       "      <td>1</td>\n",
       "      <td>0</td>\n",
       "      <td>Astor, Col. John Jacob</td>\n",
       "      <td>male</td>\n",
       "      <td>47.0</td>\n",
       "      <td>1</td>\n",
       "      <td>0</td>\n",
       "      <td>PC 17757</td>\n",
       "      <td>227.525</td>\n",
       "      <td>C62 C64</td>\n",
       "      <td>C</td>\n",
       "      <td>?</td>\n",
       "      <td>124</td>\n",
       "      <td>New York, NY</td>\n",
       "    </tr>\n",
       "  </tbody>\n",
       "</table>\n",
       "</div>"
      ],
      "text/plain": [
       "    pclass  survived                                             name     sex  \\\n",
       "0        1         1                    Allen, Miss. Elisabeth Walton  female   \n",
       "2        1         0                     Allison, Miss. Helen Loraine  female   \n",
       "3        1         0             Allison, Mr. Hudson Joshua Creighton    male   \n",
       "4        1         0  Allison, Mrs. Hudson J C (Bessie Waldo Daniels)  female   \n",
       "5        1         1                              Anderson, Mr. Harry    male   \n",
       "6        1         1                Andrews, Miss. Kornelia Theodosia  female   \n",
       "7        1         0                           Andrews, Mr. Thomas Jr    male   \n",
       "8        1         1    Appleton, Mrs. Edward Dale (Charlotte Lamson)  female   \n",
       "9        1         0                          Artagaveytia, Mr. Ramon    male   \n",
       "10       1         0                           Astor, Col. John Jacob    male   \n",
       "\n",
       "     age  sibsp  parch    ticket      fare    cabin embarked boat body  \\\n",
       "0   29.0      0      0     24160  211.3375       B5        S    2    ?   \n",
       "2    2.0      1      2    113781    151.55  C22 C26        S    ?    ?   \n",
       "3   30.0      1      2    113781    151.55  C22 C26        S    ?  135   \n",
       "4   25.0      1      2    113781    151.55  C22 C26        S    ?    ?   \n",
       "5   48.0      0      0     19952     26.55      E12        S    3    ?   \n",
       "6   63.0      1      0     13502   77.9583       D7        S   10    ?   \n",
       "7   39.0      0      0    112050         0      A36        S    ?    ?   \n",
       "8   53.0      2      0     11769   51.4792     C101        S    D    ?   \n",
       "9   71.0      0      0  PC 17609   49.5042        ?        C    ?   22   \n",
       "10  47.0      1      0  PC 17757   227.525  C62 C64        C    ?  124   \n",
       "\n",
       "                          home.dest  \n",
       "0                      St Louis, MO  \n",
       "2   Montreal, PQ / Chesterville, ON  \n",
       "3   Montreal, PQ / Chesterville, ON  \n",
       "4   Montreal, PQ / Chesterville, ON  \n",
       "5                      New York, NY  \n",
       "6                        Hudson, NY  \n",
       "7                       Belfast, NI  \n",
       "8               Bayside, Queens, NY  \n",
       "9               Montevideo, Uruguay  \n",
       "10                     New York, NY  "
      ]
     },
     "execution_count": 2,
     "metadata": {},
     "output_type": "execute_result"
    }
   ],
   "source": [
    "titanic_data['age'] = pd.to_numeric(titanic_data['age'], errors = 'coerce')\n",
    "titanic_data.dropna(inplace = True)\n",
    "titanic_data = titanic_data[titanic_data['age'] > 1]\n"
   ]
  },
  {
   "cell_type": "code",
   "execution_count": 3,
   "metadata": {},
   "outputs": [
    {
     "name": "stdout",
     "output_type": "stream",
     "text": [
      "<class 'pandas.core.frame.DataFrame'>\n",
      "Int64Index: 1024 entries, 0 to 1308\n",
      "Data columns (total 14 columns):\n",
      " #   Column     Non-Null Count  Dtype  \n",
      "---  ------     --------------  -----  \n",
      " 0   pclass     1024 non-null   int64  \n",
      " 1   survived   1024 non-null   int64  \n",
      " 2   name       1024 non-null   object \n",
      " 3   sex        1024 non-null   object \n",
      " 4   age        1024 non-null   float64\n",
      " 5   sibsp      1024 non-null   int64  \n",
      " 6   parch      1024 non-null   int64  \n",
      " 7   ticket     1024 non-null   object \n",
      " 8   fare       1024 non-null   object \n",
      " 9   cabin      1024 non-null   object \n",
      " 10  embarked   1024 non-null   object \n",
      " 11  boat       1024 non-null   object \n",
      " 12  body       1024 non-null   object \n",
      " 13  home.dest  1024 non-null   object \n",
      "dtypes: float64(1), int64(4), object(9)\n",
      "memory usage: 120.0+ KB\n"
     ]
    }
   ],
   "source": [
    "titanic_data.info()"
   ]
  },
  {
   "cell_type": "markdown",
   "metadata": {},
   "source": [
    "## Statistics Review "
   ]
  },
  {
   "cell_type": "markdown",
   "metadata": {},
   "source": [
    "Creating a histogram"
   ]
  },
  {
   "cell_type": "code",
   "execution_count": null,
   "metadata": {},
   "outputs": [],
   "source": [
    "# Create a histogram\n",
    "_ = plt.hist(titanic_data['age'], bins=10 )\n",
    "_ = plt.xlabel('age')\n",
    "_ = plt.ylabel('number of people')\n",
    "fig = plt.gcf()\n",
    "fig.set_size_inches(10, 5)"
   ]
  },
  {
   "cell_type": "markdown",
   "metadata": {},
   "source": [
    "- Note that the histogram is very hard to read\n",
    "- Note that plt.hist returns 3 arrays, but we only want a plot therefore we assign these to a dummy variable _\n",
    "- The number of bins and thier size was assigned automatically by the default settings of plt.hist()\n",
    "- we can specify the bins to modify the plot and make it more readable\n"
   ]
  },
  {
   "cell_type": "code",
   "execution_count": null,
   "metadata": {},
   "outputs": [],
   "source": [
    "titanic_data.describe()"
   ]
  },
  {
   "cell_type": "code",
   "execution_count": null,
   "metadata": {},
   "outputs": [],
   "source": [
    "# calculate percentiles\n",
    "age_percentiles = np.percentile(titanic_data['age'], [25, 50, 75])\n",
    "\n",
    "# Print the result\n",
    "print(age_percentiles)"
   ]
  },
  {
   "cell_type": "code",
   "execution_count": null,
   "metadata": {},
   "outputs": [],
   "source": [
    "# Graph the box plot the age data\n",
    "\n",
    "# import seaborn\n",
    "\n",
    "# Create box plot with Seaborn's default settings\n",
    "_ = sns.boxplot(x='age',data=titanic_data)\n",
    "\n",
    "# Label the axes\n",
    "_ = plt.xlabel('age')\n",
    "\n",
    "#ax = sns.boxplot(x=tips[\"total_bill\"])\n",
    "\n",
    "# Show the plot\n",
    "plt.show()"
   ]
  },
  {
   "cell_type": "code",
   "execution_count": null,
   "metadata": {},
   "outputs": [],
   "source": [
    "### Outliers"
   ]
  },
  {
   "cell_type": "code",
   "execution_count": null,
   "metadata": {},
   "outputs": [],
   "source": [
    "# Remove outliers\n",
    "df_no_outliers = titanic_data[titanic_data['age'] < 65]\n",
    "\n",
    "# Calculate mean\n",
    "df_no_outliers.describe()"
   ]
  },
  {
   "cell_type": "code",
   "execution_count": null,
   "metadata": {},
   "outputs": [],
   "source": [
    "# Create a new histogram\n",
    "_ = plt.hist(df_no_outliers['age'], bins=10)\n",
    "_ = plt.xlabel('age')\n",
    "_ = plt.ylabel('number of people')\n",
    "fig = plt.gcf()\n",
    "fig.set_size_inches(10, 5)"
   ]
  },
  {
   "cell_type": "code",
   "execution_count": null,
   "metadata": {},
   "outputs": [],
   "source": [
    "### Missing Values"
   ]
  },
  {
   "cell_type": "code",
   "execution_count": null,
   "metadata": {},
   "outputs": [],
   "source": [
    "# Remove age 29 and replace with nan\n",
    "# First define a series with that has all values that equal 29 replaced with nan\n",
    "#df_no_outliers.loc[df_no_outliers[df_no_outliers['age']==29]] = np.nan\n",
    "age_wo_29 = titanic_data['age'].replace(29, np.nan)\n",
    "\n",
    "# Add the newly defined series as a column in our titanic dataframe\n",
    "df_no_outliers['age'] = age_wo_29\n",
    "\n",
    "df_no_outliers.head(100)"
   ]
  },
  {
   "cell_type": "code",
   "execution_count": null,
   "metadata": {},
   "outputs": [],
   "source": [
    "# calculate new statistics\n",
    "df_no_outliers.describe()"
   ]
  },
  {
   "cell_type": "code",
   "execution_count": null,
   "metadata": {},
   "outputs": [],
   "source": [
    "### Date Time"
   ]
  },
  {
   "cell_type": "code",
   "execution_count": null,
   "metadata": {},
   "outputs": [],
   "source": [
    "# Import datetime\n",
    "import datetime as dt\n",
    "\n",
    "# Import data with datetime (appointment data from a doctor's office)\n",
    "date_df = pd.read_csv(\"datetime_data.csv\")\n",
    "date_df.head()"
   ]
  },
  {
   "cell_type": "code",
   "execution_count": null,
   "metadata": {},
   "outputs": [],
   "source": [
    "date_df.info()"
   ]
  },
  {
   "cell_type": "code",
   "execution_count": null,
   "metadata": {},
   "outputs": [],
   "source": [
    "- Note that date features like \"AppointmentDay\" and \"ScheduledDay\" seem to be \"object\" instead of date time.\n",
    "- This is the case beause  pandas is currently looking at these values as strings instead of dates\n",
    "- To convert these features into datetime we cans simply use the pandas function to_datetime"
   ]
  },
  {
   "cell_type": "code",
   "execution_count": null,
   "metadata": {},
   "outputs": [],
   "source": [
    "# Convert AppointmentDay into datetime\n",
    "date_df['AppointmentDay'] = pd.to_datetime(date_df['AppointmentDay'])\n",
    "\n",
    "# Convert AppointmentDay into datetime\n",
    "date_df['ScheduledDay'] = pd.to_datetime(date_df['AppointmentDay'])\n",
    "\n",
    "date_df.info()"
   ]
  },
  {
   "cell_type": "markdown",
   "metadata": {},
   "source": [
    "Now that you have these values with datetime type, you can use them to create a better analysis.\n",
    "- datetime64 has several properties in pandas that we can now use \n",
    "\n",
    "link:https://pandas.pydata.org/pandas-docs/version/0.23/api.html#datetimelike-properties"
   ]
  },
  {
   "cell_type": "code",
   "execution_count": null,
   "metadata": {},
   "outputs": [],
   "source": [
    "# Create a new field that tells us the year in which each appointment was set\n",
    "date_df['year_set'] = date_df['ScheduledDay'].dt.year\n",
    "\n",
    "# Create a new field that tells us which day of the year the appointment was set\n",
    "date_df['day_num'] = date_df['ScheduledDay'].dt.dayofyear\n",
    "\n",
    "date_df.sort_values(by=['Age']).head(26)"
   ]
  }
 ],
 "metadata": {
  "kernelspec": {
   "display_name": "Python 3",
   "language": "python",
   "name": "python3"
  },
  "language_info": {
   "codemirror_mode": {
    "name": "ipython",
    "version": 3
   },
   "file_extension": ".py",
   "mimetype": "text/x-python",
   "name": "python",
   "nbconvert_exporter": "python",
   "pygments_lexer": "ipython3",
   "version": "3.8.5"
  }
 },
 "nbformat": 4,
 "nbformat_minor": 4
}
