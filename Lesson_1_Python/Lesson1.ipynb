{
 "cells": [
  {
   "cell_type": "markdown",
   "metadata": {},
   "source": [
    "# Lesson 1: Intro to Python"
   ]
  },
  {
   "cell_type": "markdown",
   "metadata": {},
   "source": [
    "## Variables and Types\n",
    "\n",
    "### Calculations\n",
    "Python allows you to make calculations, just like a regular calculator:"
   ]
  },
  {
   "cell_type": "code",
   "execution_count": 6,
   "metadata": {},
   "outputs": [
    {
     "data": {
      "text/plain": [
       "5"
      ]
     },
     "execution_count": 6,
     "metadata": {},
     "output_type": "execute_result"
    }
   ],
   "source": [
    "# Addition\n",
    "3+1+1"
   ]
  },
  {
   "cell_type": "code",
   "execution_count": 2,
   "metadata": {},
   "outputs": [
    {
     "data": {
      "text/plain": [
       "12"
      ]
     },
     "execution_count": 2,
     "metadata": {},
     "output_type": "execute_result"
    }
   ],
   "source": [
    "# Multiplication\n",
    "3*4"
   ]
  },
  {
   "cell_type": "code",
   "execution_count": 3,
   "metadata": {},
   "outputs": [
    {
     "data": {
      "text/plain": [
       "28"
      ]
     },
     "execution_count": 3,
     "metadata": {},
     "output_type": "execute_result"
    }
   ],
   "source": [
    "# Order of operations\n",
    "(3+4)*4"
   ]
  },
  {
   "cell_type": "markdown",
   "metadata": {},
   "source": [
    "### Variables: Storing Values\n",
    "When you want to make more complex calculations you can \"save\" values in variables when you are coding.\n",
    "\n",
    "Imagine you have the task to calculate the properties of a cylindrical can given that you know its radius (r) to be 1.82364 and height (h) to be 2.984757\n",
    "\n",
    "Measurements:\n",
    "- **Volume**: pi X r^2 X h\n",
    "- **Surface Area**: (2 X pi X r X h) + (2 X pi X r^2)\n",
    "\n",
    "Writing the *r* and *h* in these equations would be very inefficient and would take a long time...\n",
    "\n",
    "Instead we can assign the radius and height to variables and write the equations out...\n"
   ]
  },
  {
   "cell_type": "code",
   "execution_count": 4,
   "metadata": {},
   "outputs": [],
   "source": [
    "# Store the values of the radius, height and pi into variables\n",
    "r = 1.82364\n",
    "h = 2.984757\n",
    "pi = 3.14\n",
    "\n",
    "# We may now calculate the volume and surface area using normal math\n",
    "\n",
    "Vol = pi*(r**2)*h\n",
    "SA = (2*pi*r*h)+(2*pi*(r**2))"
   ]
  },
  {
   "cell_type": "markdown",
   "metadata": {},
   "source": [
    "### Display your information: print()\n",
    "print() is a function that can be used to display the results of your code"
   ]
  },
  {
   "cell_type": "code",
   "execution_count": 5,
   "metadata": {},
   "outputs": [
    {
     "name": "stdout",
     "output_type": "stream",
     "text": [
      "The volume of your cylinder is  31.168567775748336 and the Surface Area 55.0679704599024\n"
     ]
    }
   ],
   "source": [
    "print('The volume of your cylinder is ', Vol,  'and the Surface Area', SA)"
   ]
  },
  {
   "cell_type": "markdown",
   "metadata": {},
   "source": [
    "### Manipulating Variables\n",
    "You can also manipulate variables to update their values. In the example below, you will update the values or *r* and *Vol*."
   ]
  },
  {
   "cell_type": "code",
   "execution_count": 6,
   "metadata": {},
   "outputs": [
    {
     "name": "stdout",
     "output_type": "stream",
     "text": [
      "The volume for the new cylinder is 218.06622388899157\n"
     ]
    }
   ],
   "source": [
    "# Increase the radius of the cylinder by 3 \n",
    "\n",
    "r += 3 #this is the same as saying r = r + 3\n",
    "\n",
    "# Calculate the new volume with the larger radius\n",
    "Vol = pi*(r**2)*h\n",
    "\n",
    "# Print the newly calculate volume\n",
    "print('The volume for the new cylinder is',Vol)"
   ]
  },
  {
   "cell_type": "markdown",
   "metadata": {},
   "source": [
    "### Types\n",
    "- All values in Python have a specific type.\n",
    "    - There are many data types in python but the most common are:\n",
    "        - **Int**: This type describes whole numbers (no decimal points). *e.g., 2 or -11*\n",
    "        - **Float**: This type describes real numbers with decimals. *e.g, 65.23 or 0.854*\n",
    "        - **Strings**: This type describes a sequence of characters, like a word. *e.g., Music or television*\n",
    "        - **Booleans**: A value with only two states (True or False and 1 or 0) used to represent logical propositions and to do data filtering\n",
    "        \n",
    "- The types of values can be found using the type() function\n"
   ]
  },
  {
   "cell_type": "code",
   "execution_count": 7,
   "metadata": {},
   "outputs": [
    {
     "name": "stdout",
     "output_type": "stream",
     "text": [
      "<class 'float'>\n",
      "<class 'int'>\n",
      "<class 'float'>\n"
     ]
    }
   ],
   "source": [
    "# Create some variables\n",
    "x = 1.56\n",
    "y = 2\n",
    "z = x + y\n",
    "\n",
    "# Print variable type\n",
    "print(type(x))\n",
    "print(type(y))\n",
    "print(type(z))"
   ]
  },
  {
   "cell_type": "code",
   "execution_count": 8,
   "metadata": {},
   "outputs": [
    {
     "data": {
      "text/plain": [
       "str"
      ]
     },
     "execution_count": 8,
     "metadata": {},
     "output_type": "execute_result"
    }
   ],
   "source": [
    "# Create a variable\n",
    "a = 'this is a string'\n",
    "# Print variable type\n",
    "type(a)"
   ]
  },
  {
   "cell_type": "code",
   "execution_count": 9,
   "metadata": {},
   "outputs": [
    {
     "name": "stdout",
     "output_type": "stream",
     "text": [
      "<class 'bool'>\n",
      "<class 'bool'>\n"
     ]
    }
   ],
   "source": [
    "# Boolean type\n",
    "\n",
    "print(type(True))\n",
    "print(type(False))"
   ]
  },
  {
   "cell_type": "markdown",
   "metadata": {},
   "source": [
    "### Python Lists\n",
    "- A list is just another data type. This data type allows us to work with multiple data points at the same time.\n",
    "\n",
    "- In data science you will have to work with multiple data points often. Imagine that you were building a machine learning model that has as input the height of your friends. It would be very inconvenient to create a variable for every single person and then call each variable one by one.\n",
    "\n",
    "- Instead what you could do is create a list to simplify this process.\n",
    "- Lists a mutable, meaning that their element values can be manipulated.\n",
    "\n"
   ]
  },
  {
   "cell_type": "code",
   "execution_count": 10,
   "metadata": {},
   "outputs": [
    {
     "name": "stdout",
     "output_type": "stream",
     "text": [
      "[5.5, 5.6, 5.7, 6.1, 6.2, 4.9]\n"
     ]
    }
   ],
   "source": [
    "# Create a list. Note square brackets\n",
    "friends_height = [5.5,5.6,5.7,6.1,6.2,4.9]\n",
    "\n",
    "# Print friends height list\n",
    "print(friends_height)"
   ]
  },
  {
   "cell_type": "markdown",
   "metadata": {},
   "source": [
    "**Sublist**: elements within lists can be of any type (int, float, string). In fact, list elements can be composed of others lists."
   ]
  },
  {
   "cell_type": "code",
   "execution_count": 11,
   "metadata": {
    "scrolled": true
   },
   "outputs": [
    {
     "name": "stdout",
     "output_type": "stream",
     "text": [
      "[5.5, 5.6, [5.7, 6.1, 6.3]]\n"
     ]
    }
   ],
   "source": [
    "#  Sublist Example\n",
    "sublist_a = [5.5,5.6,[5.7,6.1,6.3]]\n",
    "\n",
    "# Print sublist\n",
    "print(sublist_a)"
   ]
  },
  {
   "cell_type": "markdown",
   "metadata": {},
   "source": [
    "**Index:** elements within a list are indexed according to their location in the list, starting with 0 (zero) from left to right. If you need to access an element within a list, you can use its indexing value. To do this, you type the name of the list with the index value in square brackets. \n",
    "\n",
    "**Zero Based Indexing:** is a way of numbering each of the elements of a list, where the very first value in the list is assigned the location = 0\n",
    "\n",
    "For example, <br>\n",
    "list_b = [a, b, c, d, e] <br>\n",
    "Index =    0, 1, 2, 3, 4  <br>\n",
    "\n",
    "In this example, the index for element c is 2, while the index for element e is 4, and so on. \n"
   ]
  },
  {
   "cell_type": "code",
   "execution_count": 12,
   "metadata": {},
   "outputs": [
    {
     "data": {
      "text/plain": [
       "5.5"
      ]
     },
     "execution_count": 12,
     "metadata": {},
     "output_type": "execute_result"
    }
   ],
   "source": [
    "# Extract 1st value from friends_height list\n",
    "friends_height[0]"
   ]
  },
  {
   "cell_type": "markdown",
   "metadata": {},
   "source": [
    "**Slicing:** sometimes you might need to extract multiple elements from a list at the same time. You can use a colon or slice operator for this (:).\n",
    "- Note the format of the slicing process list[start,end] where the last element is not included [inclusive:exclusive]"
   ]
  },
  {
   "cell_type": "code",
   "execution_count": 13,
   "metadata": {},
   "outputs": [
    {
     "name": "stdout",
     "output_type": "stream",
     "text": [
      "[5.5, 5.6, 5.7, 6.1, 6.2, 4.9]\n"
     ]
    }
   ],
   "source": [
    "#Reprint Friends Height List\n",
    "print(friends_height)"
   ]
  },
  {
   "cell_type": "code",
   "execution_count": 14,
   "metadata": {},
   "outputs": [
    {
     "data": {
      "text/plain": [
       "[5.5, 5.6]"
      ]
     },
     "execution_count": 14,
     "metadata": {},
     "output_type": "execute_result"
    }
   ],
   "source": [
    "# Slicing Example: Extract the first 2 elements of the friends_height list\n",
    "friends_height[0:2]"
   ]
  },
  {
   "cell_type": "markdown",
   "metadata": {},
   "source": [
    "In the example above, only the elements with index values of 0 and 1 were printed. The 2 is exclusive as explained above.\n",
    " "
   ]
  },
  {
   "cell_type": "code",
   "execution_count": 15,
   "metadata": {},
   "outputs": [
    {
     "data": {
      "text/plain": [
       "[6.2, 4.9]"
      ]
     },
     "execution_count": 15,
     "metadata": {},
     "output_type": "execute_result"
    }
   ],
   "source": [
    "# Extract up to the element with index 4 from the end of the list\n",
    "friends_height[4:]"
   ]
  },
  {
   "cell_type": "code",
   "execution_count": 16,
   "metadata": {},
   "outputs": [
    {
     "data": {
      "text/plain": [
       "[5.5, 5.6, 5.7, 6.1, 6.2]"
      ]
     },
     "execution_count": 16,
     "metadata": {},
     "output_type": "execute_result"
    }
   ],
   "source": [
    "# Extract all elements from the beginning of the list up to the 4th index\n",
    "friends_height[:5]"
   ]
  },
  {
   "cell_type": "markdown",
   "metadata": {},
   "source": [
    "**List Manipulation:** since lists in python are mutable, you can update, add or remove elements from the list"
   ]
  },
  {
   "cell_type": "code",
   "execution_count": 17,
   "metadata": {},
   "outputs": [
    {
     "name": "stdout",
     "output_type": "stream",
     "text": [
      "This is the original list: [5.5, 5.6, 5.7, 6.1, 6.2, 4.9]\n",
      "This is the updated list: [5.5, 5.6, 5.7, 6.1, 6.2, 7.1]\n"
     ]
    }
   ],
   "source": [
    "# Print the original list\n",
    "print('This is the original list:', friends_height)\n",
    "\n",
    "# Update the 6th element (index 5) from the list\n",
    "friends_height[5] = 7.1\n",
    "\n",
    "# Print updated list\n",
    "print('This is the updated list:', friends_height)"
   ]
  },
  {
   "cell_type": "code",
   "execution_count": 18,
   "metadata": {},
   "outputs": [
    {
     "name": "stdout",
     "output_type": "stream",
     "text": [
      "[5.5, 5.6, 5.7, 6.1, 6.2, 7.1, 3.1]\n"
     ]
    }
   ],
   "source": [
    "# Add an element to the end of the list\n",
    "\n",
    "# Create a new height element for your new friend\n",
    "new_friend = [3.1]\n",
    "\n",
    "# Modify the friends_height list with the newly created variable at the end\n",
    "friends_height += new_friend\n",
    "\n",
    "# Print the updated list\n",
    "print(friends_height)\n"
   ]
  },
  {
   "cell_type": "markdown",
   "metadata": {},
   "source": [
    "## Functions and Packages\n",
    "\n",
    "### Functions\n",
    "- A **Function** is a piece of reusable code used to solve a particular task. You can use a function instead of having to write the code yourself everytime you're trying to complete the same action. \n"
   ]
  },
  {
   "cell_type": "code",
   "execution_count": 19,
   "metadata": {},
   "outputs": [
    {
     "name": "stdout",
     "output_type": "stream",
     "text": [
      "7.1\n",
      "There are 7 elements in this list\n"
     ]
    }
   ],
   "source": [
    "# Simple function example\n",
    "# Use the max() function to find the maximum height (or the tallest height) among your friends\n",
    "print(max(friends_height))\n",
    "\n",
    "# Print size of list\n",
    "print('There are',len(friends_height), 'elements in this list')\n",
    "\n"
   ]
  },
  {
   "cell_type": "markdown",
   "metadata": {},
   "source": [
    "- You may assign a function to a variable to store its results"
   ]
  },
  {
   "cell_type": "code",
   "execution_count": 20,
   "metadata": {},
   "outputs": [
    {
     "name": "stdout",
     "output_type": "stream",
     "text": [
      "My tallest friends is: 7.1\n",
      "\n",
      "The new sorted list is shown below:\n",
      "[3.1, 5.5, 5.6, 5.7, 6.1, 6.2, 7.1]\n"
     ]
    }
   ],
   "source": [
    "# Store the tallest height on a variable called \"tallest\"\n",
    "tallest = max(friends_height)\n",
    "\n",
    "# Print the variable\n",
    "print('My tallest friends is:', tallest)\n",
    "\n",
    "# Sort the list and save in another variable\n",
    "sorted_friends_height = sorted(friends_height)\n",
    "print(\"\\nThe new sorted list is shown below:\")\n",
    "print(sorted_friends_height)\n"
   ]
  },
  {
   "cell_type": "markdown",
   "metadata": {},
   "source": [
    "- Functions may take multiple inputs:"
   ]
  },
  {
   "cell_type": "code",
   "execution_count": 1,
   "metadata": {
    "scrolled": true
   },
   "outputs": [
    {
     "name": "stdout",
     "output_type": "stream",
     "text": [
      "1.98\n"
     ]
    }
   ],
   "source": [
    "# Example of multiple inputs using the round() function, store the value in a variable called \"z\"\n",
    "z = round(1.9835,2)\n",
    "\n",
    "# Print the result\n",
    "print(z)"
   ]
  },
  {
   "cell_type": "markdown",
   "metadata": {},
   "source": [
    " - Note that Python stores all the information and inner workings of a function internally, you don't have to worry about these.\n",
    " - If you want to know more about how a function work, you may simply look for its documentation online\n",
    " - You can either create your own functions or use existing ones. \n",
    " "
   ]
  },
  {
   "cell_type": "markdown",
   "metadata": {},
   "source": [
    "### Objects and Methods\n",
    "- Everything in Python is an **object**, that is why Python is known as an \"object oriented programming language\"\n",
    "- **Methods** are functions that belong to objects\n",
    "    - Different objects have specific methods\n",
    "    - You can apply a method to an object using the dot notation\n",
    "    \n",
    "**Dot Notation Example:** to call a method on a particular object you write the object followed by a period and the name of the method you would like to apply on it. On this example we use the index method on a list to find the location of an element in that list"
   ]
  },
  {
   "cell_type": "code",
   "execution_count": 22,
   "metadata": {},
   "outputs": [
    {
     "name": "stdout",
     "output_type": "stream",
     "text": [
      "[5.5, 5.6, 5.7, 6.1, 6.2, 7.1, 3.1]\n"
     ]
    },
    {
     "data": {
      "text/plain": [
       "3"
      ]
     },
     "execution_count": 22,
     "metadata": {},
     "output_type": "execute_result"
    }
   ],
   "source": [
    "## Dot notation example on a method.\n",
    "# Apply the index method on the new_friends_height list\n",
    "# Find the location of a friend with the height of 6.1 feet in the list\n",
    "print(friends_height)\n",
    "friends_height.index(6.1)"
   ]
  },
  {
   "cell_type": "code",
   "execution_count": 23,
   "metadata": {},
   "outputs": [
    {
     "name": "stdout",
     "output_type": "stream",
     "text": [
      "Liza\n",
      "Hailey\n"
     ]
    }
   ],
   "source": [
    "## Example 2\n",
    "# You can use the replace method to modify a string\n",
    "# Define a friend name\n",
    "friend_a = 'Liza'\n",
    "friend_b = 'Hailey'\n",
    "\n",
    "print(friend_a)\n",
    "print(friend_b)"
   ]
  },
  {
   "cell_type": "code",
   "execution_count": 24,
   "metadata": {},
   "outputs": [
    {
     "name": "stdout",
     "output_type": "stream",
     "text": [
      "Lisa\n",
      "Haley\n"
     ]
    }
   ],
   "source": [
    "# Replace 'z' with 's' and store it in a new variable\n",
    "new_friend_a = friend_a.replace('z','s')\n",
    "\n",
    "# Replace 'y' with 'ay' and store it in the same variable\n",
    "friend_b = friend_b.replace('ai','a')\n",
    "\n",
    "# print\n",
    "print(new_friend_a)\n",
    "print(friend_b)"
   ]
  },
  {
   "cell_type": "markdown",
   "metadata": {},
   "source": [
    "### Packages\n",
    "- There is a very large number of methods and types created for Python.\n",
    "- Having all of these in the same Python distribution would be messy.\n",
    "- We must therefore store all of these methods and types into packages.\n",
    "- You can think of packages as a directory of Python scripts.\n",
    "- Python packages are made up of **Modules**\n",
    "    - Each script is a Module, each module contains functions, methods and types\n",
    "- Among the most important packages for data scientists are:\n",
    "    - NumPy: allows us to work with numbers in array form\n",
    "    - Matplotlib: allows us to create data visualizations\n",
    "    - Scikit-Learn: allows us to use machine learning models\n",
    "- To use packages you must install them on your own system\n",
    "    - **conda install** allows you to install packages in the Anaconda python distribution\n"
   ]
  },
  {
   "cell_type": "code",
   "execution_count": 25,
   "metadata": {},
   "outputs": [
    {
     "name": "stdout",
     "output_type": "stream",
     "text": [
      "Collecting package metadata (current_repodata.json): ...working... done\n",
      "Note: you may need to restart the kernel to use updated packages.\n",
      "Solving environment: ...working... done\n",
      "\n",
      "# All requested packages already installed.\n",
      "\n",
      "\n"
     ]
    }
   ],
   "source": [
    "conda install numpy"
   ]
  },
  {
   "cell_type": "code",
   "execution_count": 26,
   "metadata": {},
   "outputs": [
    {
     "name": "stdout",
     "output_type": "stream",
     "text": [
      "Collecting package metadata (current_repodata.json): ...working... done\n",
      "Note: you may need to restart the kernel to use updated packages.\n",
      "\n",
      "Solving environment: ...working... done\n",
      "\n",
      "# All requested packages already installed.\n",
      "\n"
     ]
    }
   ],
   "source": [
    "conda install pandas"
   ]
  },
  {
   "cell_type": "markdown",
   "metadata": {},
   "source": [
    "- After installing any package, you must import the package into python to be able to use it\n",
    "- You will be using the numpy extension often in your code, therfore you can import and immediately abbreviate it as \"np\""
   ]
  },
  {
   "cell_type": "code",
   "execution_count": 27,
   "metadata": {},
   "outputs": [],
   "source": [
    "import numpy as np"
   ]
  },
  {
   "cell_type": "markdown",
   "metadata": {},
   "source": [
    "- At this point you are ready to use the Numpy package in your code\n",
    "- In the example below we use numpy to create an array of zeros"
   ]
  },
  {
   "cell_type": "code",
   "execution_count": 28,
   "metadata": {},
   "outputs": [
    {
     "name": "stdout",
     "output_type": "stream",
     "text": [
      "[[0. 0.]\n",
      " [0. 0.]\n",
      " [0. 0.]\n",
      " [0. 0.]\n",
      " [0. 0.]]\n",
      "\n",
      "This is a 2 dimensional array of shape (5, 2)\n"
     ]
    }
   ],
   "source": [
    "# Define a 5x2 matrix with only zeros \n",
    "a = np.zeros((5,2))\n",
    "\n",
    "# print the matrix you defined\n",
    "print(a)\n",
    "\n",
    "# Get the dimensions and size of the array\n",
    "dimensions = np.ndim(a)\n",
    "shape = np.shape(a)\n",
    "print('\\nThis is a', dimensions, 'dimensional array of shape' ,shape)"
   ]
  },
  {
   "cell_type": "markdown",
   "metadata": {},
   "source": [
    "You can also create your own arrays and manipulate its data. "
   ]
  },
  {
   "cell_type": "code",
   "execution_count": 29,
   "metadata": {},
   "outputs": [
    {
     "name": "stdout",
     "output_type": "stream",
     "text": [
      "[[ 3.   5.   7. ]\n",
      " [11.   0.2 -2. ]\n",
      " [-1.  -2.   1.9]]\n",
      "<class 'numpy.ndarray'>\n",
      "0.2\n",
      "Array size: 9\n"
     ]
    }
   ],
   "source": [
    "# Create a new array\n",
    "my_array = np.array([[3,5,7],[11,0.2,-2],[-1,-2,1.9]])\n",
    "\n",
    "# Print array and type\n",
    "print(my_array)\n",
    "print(type(my_array))\n",
    "\n",
    "# Find the value of the middle element in your array\n",
    "ind = my_array[1,1]\n",
    "print(ind)\n",
    "\n",
    "#Find the size of the array\n",
    "print('Array size:',my_array.size)"
   ]
  },
  {
   "cell_type": "markdown",
   "metadata": {},
   "source": [
    "## LAB - Lists\n",
    "- Given the area measurements of a house, complete the following steps"
   ]
  },
  {
   "cell_type": "code",
   "execution_count": 30,
   "metadata": {},
   "outputs": [
    {
     "name": "stdout",
     "output_type": "stream",
     "text": [
      "The rooms downstairs are: ['hallway', 11.25, 'kitchen', 18.0, 'living room', 20.0]\n",
      "The rooms upstairs are: ['bedroom', 10.75, 'bathroom', 9.5]\n",
      "The updated rooms downstairs are: ['hallway', 11.25, 'kitchen', 18.0, 'living room', 20.0, 'restroom', 13.5]\n"
     ]
    }
   ],
   "source": [
    "# List with locations in a house with their corresponding areas\n",
    "areas = [\"hallway\", 11.25, \"kitchen\", 18.0, \"living room\", 20.0, \"bedroom\", 10.75, \"bathroom\", 9.50]\n",
    "\n",
    "\n",
    "# Use slicing to create a list of the areas that would belong to the first level of the house. Name this list \"downstairs\"\n",
    "downstairs = areas[:6]\n",
    "\n",
    "# Use slicing to create a list of the areas that would belong to the second level of the house. Name this list \"upstairs\"\n",
    "upstairs = areas[-4:]\n",
    "\n",
    "# Print areas from the first level\n",
    "print('The rooms downstairs are:',downstairs)\n",
    "\n",
    "# Print areas from the second level\n",
    "print('The rooms upstairs are:',upstairs)\n",
    "\n",
    "# Add a restroom to the downstairs list with an area of 13.5\n",
    "restroom_area = [\"restroom\", 13.5]\n",
    "downstairs += restroom_area\n",
    "\n",
    "# Print new areas from the first level\n",
    "print('The updated rooms downstairs are:',downstairs)\n"
   ]
  },
  {
   "cell_type": "code",
   "execution_count": 31,
   "metadata": {},
   "outputs": [
    {
     "name": "stdout",
     "output_type": "stream",
     "text": [
      "The room areas are:\n",
      "[20.0, 18.0, 11.25, 10.75, 9.5]\n"
     ]
    }
   ],
   "source": [
    "# Create a copy of the original areas, remove all the room names and sort from largest to smallest\n",
    "\n",
    "new_areas = areas\n",
    "\n",
    "new_areas.pop(0)\n",
    "new_areas.pop(1)\n",
    "new_areas.pop(2)\n",
    "new_areas.pop(3)\n",
    "new_areas.pop(4)\n",
    "new_areas.sort(reverse = True)\n",
    "\n",
    "print('The room areas are:')\n",
    "print(new_areas)\n",
    "\n",
    "# Think of other ways to achieve the result above without having to individually remove elements"
   ]
  },
  {
   "cell_type": "markdown",
   "metadata": {},
   "source": [
    "## LAB - NumPy\n",
    "- As a data scientist you will be working with millions of data points\n",
    "- You will need to be able to interpret the data easily\n",
    "- NumPy is great at finding basic statistical facts about your data such as: mean, median , sum, sort, std deviation\n",
    "- Note that because NumPy forces the data into an array, it can drastically speed up the processing of this data\n",
    "- For this lab you are given a dataset with baseball information\n",
    "\n"
   ]
  },
  {
   "cell_type": "code",
   "execution_count": 32,
   "metadata": {},
   "outputs": [
    {
     "name": "stdout",
     "output_type": "stream",
     "text": [
      "[['Adam_Donachie' 'BAL' 'Catcher' '74' '180' '22.99' 'Catcher']\n",
      " ['Paul_Bako' 'BAL' 'Catcher' '74' '215' '34.69' 'Catcher']\n",
      " ['Ramon_Hernandez' 'BAL' 'Catcher' '72' '210' '30.78' 'Catcher']\n",
      " ['Kevin_Millar' 'BAL' 'First_Baseman' '72' '210' '35.43' 'Infielder']\n",
      " ['Chris_Gomez' 'BAL' 'First_Baseman' '73' '188' '35.71' 'Infielder']\n",
      " ['Brian_Roberts' 'BAL' 'Second_Baseman' '69' '176' '29.39' 'Infielder']\n",
      " ['Miguel_Tejada' 'BAL' 'Shortstop' '69' '209' '30.77' 'Infielder']\n",
      " ['Melvin_Mora' 'BAL' 'Third_Baseman' '71' '200' '35.07' 'Infielder']\n",
      " ['Aubrey_Huff' 'BAL' 'Third_Baseman' '76' '231' '30.19' 'Infielder']\n",
      " ['Adam_Stern' 'BAL' 'Outfielder' '71' '180' '27.05' 'Outfielder']\n",
      " ['Jeff_Fiorentino' 'BAL' 'Outfielder' '73' '188' '23.88' 'Outfielder']\n",
      " ['Freddie_Bynum' 'BAL' 'Outfielder' '73' '180' '26.96' 'Outfielder']\n",
      " ['Nick_Markakis' 'BAL' 'Outfielder' '74' '185' '23.29' 'Outfielder']\n",
      " ['Brandon_Fahey' 'BAL' 'Outfielder' '74' '160' '26.11' 'Outfielder']\n",
      " ['Corey_Patterson' 'BAL' 'Outfielder' '69' '180' '27.55' 'Outfielder']\n",
      " ['Jay_Payton' 'BAL' 'Outfielder' '70' '185' '34.27' 'Outfielder']\n",
      " ['Erik_Bedard' 'BAL' 'Starting_Pitcher' '73' '189' '27.99' 'Pitcher']\n",
      " ['Hayden_Penn' 'BAL' 'Starting_Pitcher' '75' '185' '22.38' 'Pitcher']\n",
      " ['Adam_Loewen' 'BAL' 'Starting_Pitcher' '78' '219' '22.89' 'Pitcher']\n",
      " ['Daniel_Cabrera' 'BAL' 'Starting_Pitcher' '79' '230' '25.76' 'Pitcher']\n",
      " ['Steve_Trachsel' 'BAL' 'Starting_Pitcher' '76' '205' '36.33' 'Pitcher']\n",
      " ['Jaret_Wright' 'BAL' 'Starting_Pitcher' '74' '230' '31.17' 'Pitcher']\n",
      " ['Kris_Benson' 'BAL' 'Starting_Pitcher' '76' '195' '32.31' 'Pitcher']\n",
      " ['Scott_Williamson' 'BAL' 'Relief_Pitcher' '72' '180' '31.03' 'Pitcher']]\n",
      "[74 74 72 72 73 69 69 71 76 71 73 73 74 74 69 70 73 75 78 79 76 74 76 72]\n",
      "The average height is: 73.20833333333333\n",
      "The median height is: 73.0\n",
      "The standard deviation: 2.613732431260366\n",
      "Correlation: [[1.         0.46463695]\n",
      " [0.46463695 1.        ]]\n"
     ]
    }
   ],
   "source": [
    "# Import numpy\n",
    "import numpy as np\n",
    "\n",
    "# Baseball Dataset\n",
    "baseball = [['Adam_Donachie','BAL','Catcher','74','180','22.99','Catcher'],['Paul_Bako','BAL','Catcher','74','215','34.69','Catcher'],\n",
    "         ['Ramon_Hernandez','BAL','Catcher','72','210','30.78','Catcher'],['Kevin_Millar','BAL','First_Baseman','72','210','35.43','Infielder'],\n",
    "         ['Chris_Gomez','BAL','First_Baseman','73','188','35.71','Infielder'],['Brian_Roberts','BAL','Second_Baseman','69','176','29.39','Infielder'],\n",
    "         ['Miguel_Tejada','BAL','Shortstop','69','209','30.77','Infielder'],['Melvin_Mora','BAL','Third_Baseman','71','200','35.07','Infielder'],\n",
    "         ['Aubrey_Huff','BAL','Third_Baseman','76','231','30.19','Infielder'],['Adam_Stern','BAL','Outfielder','71','180','27.05','Outfielder'],\n",
    "         ['Jeff_Fiorentino','BAL','Outfielder','73','188','23.88','Outfielder'],['Freddie_Bynum','BAL','Outfielder','73','180','26.96','Outfielder'],\n",
    "         ['Nick_Markakis','BAL','Outfielder','74','185','23.29','Outfielder'],['Brandon_Fahey','BAL','Outfielder','74','160','26.11','Outfielder'],\n",
    "         ['Corey_Patterson','BAL','Outfielder','69','180','27.55','Outfielder'],['Jay_Payton','BAL','Outfielder','70','185','34.27','Outfielder'],\n",
    "         ['Erik_Bedard','BAL','Starting_Pitcher','73','189','27.99','Pitcher'],['Hayden_Penn','BAL','Starting_Pitcher','75','185','22.38','Pitcher'],\n",
    "         ['Adam_Loewen','BAL','Starting_Pitcher','78','219','22.89','Pitcher'],['Daniel_Cabrera','BAL','Starting_Pitcher','79','230','25.76','Pitcher'],\n",
    "         ['Steve_Trachsel','BAL','Starting_Pitcher','76','205','36.33','Pitcher'],['Jaret_Wright','BAL','Starting_Pitcher','74','230','31.17','Pitcher'],\n",
    "         ['Kris_Benson','BAL','Starting_Pitcher','76','195','32.31','Pitcher'],['Scott_Williamson','BAL','Relief_Pitcher','72','180','31.03','Pitcher']]\n",
    "\n",
    "#print new array\n",
    "np_baseball = np.array(baseball)\n",
    "print(np_baseball)\n",
    "\n",
    "# Create np_height_in from np_baseball\n",
    "np_height_in = np_baseball[:,3]\n",
    "\n",
    "# Convert the height value type to int\n",
    "np_height_in = np_height_in.astype(int)\n",
    "\n",
    "# Print new height array\n",
    "print(np_height_in)\n",
    "\n",
    "# Print out the mean of np_height_in\n",
    "print('The average height is:',np.mean(np_height_in))\n",
    "\n",
    "# Print out the median of np_height_in\n",
    "print('The median height is:',np.median(np_height_in))\n",
    "\n",
    "# Print out the standard deviation on height\n",
    "#np.std(np_baseball[:,0])\n",
    "print('The standard deviation:', np.std(np_height_in))\n",
    "\n",
    "# Print out correlation between height and weight column.\n",
    "np_weight_in = np_baseball[:,4]\n",
    "np_weight_in = np_weight_in.astype(int)\n",
    "\n",
    "corr = np.corrcoef(np_height_in,np_weight_in) #[1,0] including this at the end of the () yields a singel value\n",
    "\n",
    "print(\"Correlation:\" , corr)"
   ]
  },
  {
   "cell_type": "code",
   "execution_count": null,
   "metadata": {},
   "outputs": [],
   "source": []
  },
  {
   "cell_type": "code",
   "execution_count": 2,
   "metadata": {},
   "outputs": [],
   "source": [
    "# List with locations in a house with their corresponding areas\n",
    "areas = [\"hallway\", 11.25, \"kitchen\", 18.0, \"living room\", 20.0, \"bedroom\", 10.75, \"bathroom\", 9.50]\n",
    "\n",
    "\n",
    "# Use slicing to create a list of the areas that would belong to the first level of the house. Name this list \"downstairs\"\n",
    "\n",
    "\n",
    "# Use slicing to create a list of the areas that would belong to the second level of the house. Name this list \"upstairs\"\n",
    "\n",
    "\n",
    "# Print areas from the first level\n",
    "\n",
    "\n",
    "# Print areas from the second level\n",
    "\n",
    "\n",
    "# Add a restroom to the downstairs list with an area of 13.5\n",
    "\n",
    "\n",
    "# Print new areas from the first level\n",
    "\n"
   ]
  },
  {
   "cell_type": "code",
   "execution_count": null,
   "metadata": {},
   "outputs": [],
   "source": []
  },
  {
   "cell_type": "code",
   "execution_count": 3,
   "metadata": {},
   "outputs": [],
   "source": [
    "# Create a copy of the original areas, remove all the room names and sort from largest to smallest\n",
    "\n",
    "\n",
    "# Think of other ways to achieve the result above without having to individually remove elements"
   ]
  },
  {
   "cell_type": "code",
   "execution_count": null,
   "metadata": {},
   "outputs": [],
   "source": []
  },
  {
   "cell_type": "code",
   "execution_count": 4,
   "metadata": {},
   "outputs": [],
   "source": [
    "# Import numpy\n",
    "import numpy as np\n",
    "\n",
    "# Baseball Dataset\n",
    "baseball = [['Adam_Donachie','BAL','Catcher','74','180','22.99','Catcher'],['Paul_Bako','BAL','Catcher','74','215','34.69','Catcher'],\n",
    "         ['Ramon_Hernandez','BAL','Catcher','72','210','30.78','Catcher'],['Kevin_Millar','BAL','First_Baseman','72','210','35.43','Infielder'],\n",
    "         ['Chris_Gomez','BAL','First_Baseman','73','188','35.71','Infielder'],['Brian_Roberts','BAL','Second_Baseman','69','176','29.39','Infielder'],\n",
    "         ['Miguel_Tejada','BAL','Shortstop','69','209','30.77','Infielder'],['Melvin_Mora','BAL','Third_Baseman','71','200','35.07','Infielder'],\n",
    "         ['Aubrey_Huff','BAL','Third_Baseman','76','231','30.19','Infielder'],['Adam_Stern','BAL','Outfielder','71','180','27.05','Outfielder'],\n",
    "         ['Jeff_Fiorentino','BAL','Outfielder','73','188','23.88','Outfielder'],['Freddie_Bynum','BAL','Outfielder','73','180','26.96','Outfielder'],\n",
    "         ['Nick_Markakis','BAL','Outfielder','74','185','23.29','Outfielder'],['Brandon_Fahey','BAL','Outfielder','74','160','26.11','Outfielder'],\n",
    "         ['Corey_Patterson','BAL','Outfielder','69','180','27.55','Outfielder'],['Jay_Payton','BAL','Outfielder','70','185','34.27','Outfielder'],\n",
    "         ['Erik_Bedard','BAL','Starting_Pitcher','73','189','27.99','Pitcher'],['Hayden_Penn','BAL','Starting_Pitcher','75','185','22.38','Pitcher'],\n",
    "         ['Adam_Loewen','BAL','Starting_Pitcher','78','219','22.89','Pitcher'],['Daniel_Cabrera','BAL','Starting_Pitcher','79','230','25.76','Pitcher'],\n",
    "         ['Steve_Trachsel','BAL','Starting_Pitcher','76','205','36.33','Pitcher'],['Jaret_Wright','BAL','Starting_Pitcher','74','230','31.17','Pitcher'],\n",
    "         ['Kris_Benson','BAL','Starting_Pitcher','76','195','32.31','Pitcher'],['Scott_Williamson','BAL','Relief_Pitcher','72','180','31.03','Pitcher']]\n",
    "\n",
    "#print new array\n",
    "\n",
    "\n",
    "# Create np_height_in from np_baseball\n",
    "\n",
    "\n",
    "# Convert the height value type to int\n",
    "\n",
    "# Print new height array\n",
    "\n",
    "\n",
    "# Print out the mean of np_height_in\n",
    "\n",
    "\n",
    "# Print out the median of np_height_in\n",
    "\n",
    "\n",
    "# Print out the standard deviation on height\n",
    "#np.std(np_baseball[:,0])\n",
    "\n",
    "\n",
    "# Print out correlation between height and weight column.\n",
    "\n",
    "\n"
   ]
  },
  {
   "cell_type": "code",
   "execution_count": null,
   "metadata": {},
   "outputs": [],
   "source": []
  }
 ],
 "metadata": {
  "kernelspec": {
   "display_name": "Python 3",
   "language": "python",
   "name": "python3"
  },
  "language_info": {
   "codemirror_mode": {
    "name": "ipython",
    "version": 3
   },
   "file_extension": ".py",
   "mimetype": "text/x-python",
   "name": "python",
   "nbconvert_exporter": "python",
   "pygments_lexer": "ipython3",
   "version": "3.8.5"
  }
 },
 "nbformat": 4,
 "nbformat_minor": 4
}
