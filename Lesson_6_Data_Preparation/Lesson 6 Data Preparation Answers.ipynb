{
 "cells": [
  {
   "cell_type": "markdown",
   "metadata": {},
   "source": [
    "# Data Preperation\n",
    "Welcome to the Data Preperation. In this lesson we will be covering: \n",
    "- **Filling missing data**\n",
    "- **Skewness**\n",
    "- **Outliers** \n",
    "- **Datetime**\n",
    "\n",
    "The lab for Lesson 6 will consist of all the exercises that you will find throughtout the notebook. \n",
    "\n",
    "For this lesson we will again be using the Titanic Survival Dataset from Kaggle. \n",
    "\n",
    "Let's review the column values once more as a reminder of the data we are using:\n",
    "- **Survived**: Outcome of survival (0 = No; 1 = Yes)\n",
    "- **Pclass**: Socio-economic class (1 = Upper class; 2 = Middle class; 3 = Lower class)\n",
    "- **Name**: Name of passenger\n",
    "- **Sex**: Sex of the passenger\n",
    "- **Age**: Age of the passenger (Some entries contain `?`)\n",
    "- **SibSp**: Number of siblings and spouses of the passenger aboard\n",
    "- **Parch**: Number of parents and children of the passenger aboard\n",
    "- **Ticket**: Ticket number of the passenger\n",
    "- **Fare**: Fare paid by the passenger\n",
    "- **Cabin** Cabin number of the passenger (Some entries contain `?`)\n",
    "- **Embarked**: Port of embarkation of the passenger (C = Cherbourg; Q = Queenstown; S = Southampton)\n",
    "- **Home.Dest**: Home / Destination"
   ]
  },
  {
   "cell_type": "code",
   "execution_count": null,
   "metadata": {},
   "outputs": [],
   "source": [
    "# import libraries\n",
    "import pandas as pd \n",
    "import numpy as np\n",
    "import matplotlib.pyplot as plt\n",
    "\n",
    "# Import titanic dataset\n",
    "titanic_data = pd.read_csv(\"titanic_data.csv\")\n",
    "titanic_data"
   ]
  },
  {
   "cell_type": "code",
   "execution_count": null,
   "metadata": {},
   "outputs": [],
   "source": [
    "titanic_data.info()"
   ]
  },
  {
   "cell_type": "code",
   "execution_count": null,
   "metadata": {},
   "outputs": [],
   "source": [
    "titanic_data['sex']= titanic_data['sex'].map(str)"
   ]
  },
  {
   "cell_type": "markdown",
   "metadata": {},
   "source": [
    "# Filling Missing Data\n",
    "Lets replace our missing values in the age column with the mean value.\n"
   ]
  },
  {
   "cell_type": "code",
   "execution_count": null,
   "metadata": {},
   "outputs": [],
   "source": [
    "# check for missing values\n",
    "titanic_data.age.value_counts()\n",
    "\n",
    "# modify pandas display options to view the full list\n",
    "pd.options.display.max_rows = 4000"
   ]
  },
  {
   "cell_type": "code",
   "execution_count": null,
   "metadata": {},
   "outputs": [],
   "source": [
    "# is '?' concidered a null value?\n",
    "titanic_data.isnull().sum()"
   ]
  },
  {
   "cell_type": "code",
   "execution_count": null,
   "metadata": {},
   "outputs": [],
   "source": [
    "# replace ? with none\n",
    "titanic_data = titanic_data.replace({'?': None})\n",
    "\n",
    "# change the type fo the age column to numeric\n",
    "titanic_data['age'] = pd.to_numeric(titanic_data['age'], errors = 'coerce')\n",
    "\n",
    "# Lets round the age values\n",
    "titanic_data['age'] = round(titanic_data['age'])\n",
    "\n",
    "# lets check for null values again\n",
    "titanic_data.isnull().sum()"
   ]
  },
  {
   "cell_type": "markdown",
   "metadata": {},
   "source": [
    "## Using mean to fill in missing data\n",
    "\n",
    "Lets replace missing age values with the average age of the people within the same gender"
   ]
  },
  {
   "cell_type": "code",
   "execution_count": null,
   "metadata": {},
   "outputs": [],
   "source": [
    "titanic_data['sex'].value_counts()"
   ]
  },
  {
   "cell_type": "code",
   "execution_count": null,
   "metadata": {},
   "outputs": [],
   "source": [
    "# create a dictionary with the average age for each sex\n",
    "gender_ages = dict(round(titanic_data.groupby('sex')['age'].mean()))\n",
    "gender_ages"
   ]
  },
  {
   "cell_type": "code",
   "execution_count": null,
   "metadata": {},
   "outputs": [],
   "source": [
    "gender_ages['male']"
   ]
  },
  {
   "cell_type": "code",
   "execution_count": null,
   "metadata": {},
   "outputs": [],
   "source": [
    "# create a column of the average ages\n",
    "titanic_data['age_mean'] = titanic_data['sex'].apply(lambda x: gender_ages[x])\n",
    "\n",
    "# replace all missing ages with the value in this column\n",
    "titanic_data['age'].fillna(titanic_data['age_mean'], inplace=True)\n",
    "\n",
    "# check the age column again\n",
    "titanic_data['age'].value_counts()"
   ]
  },
  {
   "cell_type": "markdown",
   "metadata": {},
   "source": [
    "## Exercise 1\n",
    "Think about ways to replace the missing values in the age column. \n",
    "-  What other information can be used to replace the missing values.\n"
   ]
  },
  {
   "cell_type": "markdown",
   "metadata": {},
   "source": [
    "## Solution\n",
    "- Other ways to group passangers would be by pre-fixes, or socio-economic levels."
   ]
  },
  {
   "cell_type": "markdown",
   "metadata": {},
   "source": [
    "# Skewed Data"
   ]
  },
  {
   "cell_type": "markdown",
   "metadata": {},
   "source": [
    "Creating a histogram"
   ]
  },
  {
   "cell_type": "code",
   "execution_count": null,
   "metadata": {},
   "outputs": [],
   "source": [
    "%matplotlib inline\n",
    "# Create a histogram\n",
    "plt.hist(titanic_data['age'], density=True, bins=25)\n",
    "plt.title(\"Age: Feature Distribution\")\n",
    "plt.xlabel(\"Age\")\n",
    "plt.ylabel(\"No of records\")\n"
   ]
  },
  {
   "cell_type": "code",
   "execution_count": null,
   "metadata": {},
   "outputs": [],
   "source": [
    "titanic_data.describe()"
   ]
  },
  {
   "cell_type": "code",
   "execution_count": null,
   "metadata": {},
   "outputs": [],
   "source": [
    "# Create a copy of our dataset\n",
    "titanic_data_transformed = titanic_data.copy()\n",
    "\n",
    "# applying the log transformation to the test data\n",
    "titanic_data_transformed['age'] = titanic_data_transformed['age'].apply(lambda x: np.log(x+1))\n",
    "\n",
    "# Visualize the new log distributions\n",
    "plt.hist(titanic_data_transformed['age'], density=True, bins=30)\n",
    "plt.title(\"Age: Feature Distribution\")\n",
    "plt.xlabel(\"Age\")\n",
    "plt.ylabel(\"No of records\")\n"
   ]
  },
  {
   "cell_type": "code",
   "execution_count": null,
   "metadata": {},
   "outputs": [],
   "source": [
    "titanic_data_transformed.describe()"
   ]
  },
  {
   "cell_type": "markdown",
   "metadata": {},
   "source": [
    "# Outliers"
   ]
  },
  {
   "cell_type": "code",
   "execution_count": null,
   "metadata": {},
   "outputs": [],
   "source": [
    "# calculate percentiles\n",
    "age_percentiles = np.percentile(titanic_data['age'], [25, 50, 75])\n",
    "\n",
    "# Print the result\n",
    "print(age_percentiles)"
   ]
  },
  {
   "cell_type": "markdown",
   "metadata": {},
   "source": [
    "- if we split our data into buckets where we have the most common ages"
   ]
  },
  {
   "cell_type": "code",
   "execution_count": null,
   "metadata": {},
   "outputs": [],
   "source": [
    "# import seaborn\n",
    "import seaborn as sns\n",
    "\n",
    "\n",
    "# Create box plot with Seaborn's default settings\n",
    "_ = sns.boxplot(x='age',data=titanic_data)\n",
    "\n",
    "\n",
    "# Label the axes\n",
    "_ = plt.xlabel('age')\n",
    "\n",
    "\n",
    "# Show the plot\n",
    "plt.show()"
   ]
  },
  {
   "cell_type": "code",
   "execution_count": null,
   "metadata": {},
   "outputs": [],
   "source": [
    "titanic_data.describe()"
   ]
  },
  {
   "cell_type": "code",
   "execution_count": null,
   "metadata": {},
   "outputs": [],
   "source": [
    "# Remove outliers\n",
    "df_no_outliers = titanic_data[titanic_data['age'] < 65]\n",
    "df_no_outliers['age'].value_counts()"
   ]
  },
  {
   "cell_type": "code",
   "execution_count": null,
   "metadata": {},
   "outputs": [],
   "source": [
    "# Create box plot with Seaborn's default settings\n",
    "_ = sns.boxplot(x='age',data=df_no_outliers)\n",
    "\n",
    "# Label the axes\n",
    "_ = plt.xlabel('age')\n",
    "\n",
    "\n",
    "# Show the plot\n",
    "plt.show()"
   ]
  },
  {
   "cell_type": "code",
   "execution_count": null,
   "metadata": {},
   "outputs": [],
   "source": [
    "# calculate new statistics\n",
    "df_no_outliers.describe()"
   ]
  },
  {
   "cell_type": "markdown",
   "metadata": {},
   "source": [
    "## Exercise 2\n",
    " Remove the outliers from the 'fare' feature"
   ]
  },
  {
   "cell_type": "markdown",
   "metadata": {},
   "source": [
    "## Solution"
   ]
  },
  {
   "cell_type": "code",
   "execution_count": null,
   "metadata": {},
   "outputs": [],
   "source": [
    "# How many null values do we have?\n",
    "titanic_data.isnull().sum()"
   ]
  },
  {
   "cell_type": "code",
   "execution_count": null,
   "metadata": {},
   "outputs": [],
   "source": [
    "# Visual inspection of the values in the fare column\n",
    "titanic_data.fare"
   ]
  },
  {
   "cell_type": "code",
   "execution_count": null,
   "metadata": {},
   "outputs": [],
   "source": [
    "# Making sure the fare column is of numeric type\n",
    "titanic_data['fare'] = pd.to_numeric(titanic_data['fare'], errors = 'coerce')"
   ]
  },
  {
   "cell_type": "code",
   "execution_count": null,
   "metadata": {},
   "outputs": [],
   "source": [
    "# lets look at the statistics of the fare column\n",
    "titanic_data.describe()"
   ]
  },
  {
   "cell_type": "code",
   "execution_count": null,
   "metadata": {},
   "outputs": [],
   "source": [
    "%matplotlib inline\n",
    "# Create a histogram\n",
    "plt.hist(titanic_data['fare'], density=True, bins=25)\n",
    "plt.title(\"fare: Feature Distribution\")\n",
    "plt.xlabel(\"fare\")\n",
    "plt.ylabel(\"No of records\")\n"
   ]
  },
  {
   "cell_type": "code",
   "execution_count": null,
   "metadata": {},
   "outputs": [],
   "source": [
    "# Create box plot with Seaborn's default settings\n",
    "_ = sns.boxplot(x='fare',data=titanic_data)\n",
    "\n",
    "# Label the axes\n",
    "_ = plt.xlabel('fare')\n",
    "\n",
    "\n",
    "# Show the plot\n",
    "plt.show()"
   ]
  },
  {
   "cell_type": "code",
   "execution_count": null,
   "metadata": {},
   "outputs": [],
   "source": [
    "# Removing fare outliers\n",
    "df_no_outliers_fares = titanic_data[titanic_data['fare'] < 300]"
   ]
  },
  {
   "cell_type": "code",
   "execution_count": null,
   "metadata": {},
   "outputs": [],
   "source": [
    "%matplotlib inline\n",
    "# Create a histogram\n",
    "plt.hist(df_no_outliers_fares['fare'], density=True, bins=25)\n",
    "plt.title(\"fare: Feature Distribution\")\n",
    "plt.xlabel(\"fare\")\n",
    "plt.ylabel(\"No of records\")\n"
   ]
  },
  {
   "cell_type": "code",
   "execution_count": null,
   "metadata": {},
   "outputs": [],
   "source": [
    "# Create box plot with Seaborn's default settings\n",
    "_ = sns.boxplot(x='fare',data=df_no_outliers_fares)\n",
    "\n",
    "# Label the axes\n",
    "_ = plt.xlabel('fare')\n",
    "\n",
    "\n",
    "# Show the plot\n",
    "plt.show()"
   ]
  },
  {
   "cell_type": "markdown",
   "metadata": {},
   "source": [
    "## DateTime Manipulation"
   ]
  },
  {
   "cell_type": "code",
   "execution_count": null,
   "metadata": {},
   "outputs": [],
   "source": [
    "# Import datetime\n",
    "import datetime as dt\n",
    "\n",
    "# Import data with datetime (appointment data from a doctor's office)\n",
    "date_df = pd.read_csv(\"datetime_data.csv\")\n",
    "date_df.head()"
   ]
  },
  {
   "cell_type": "code",
   "execution_count": null,
   "metadata": {},
   "outputs": [],
   "source": [
    "date_df.info()"
   ]
  },
  {
   "cell_type": "markdown",
   "metadata": {},
   "source": [
    "- Note that date features like \"AppointmentDay\" and \"ScheduledDay\" seem to be \"object\" instead of date time.\n",
    "- This is the case beause  pandas is currently looking at these values as strings instead of dates\n",
    "- To convert these features into datetime we can simply use the pandas function to_datetime"
   ]
  },
  {
   "cell_type": "code",
   "execution_count": null,
   "metadata": {},
   "outputs": [],
   "source": [
    "# Convert AppointmentDay into datetime\n",
    "date_df['AppointmentDay'] = pd.to_datetime(date_df['AppointmentDay'])\n",
    "\n",
    "# Convert AppointmentDay into datetime\n",
    "date_df['ScheduledDay'] = pd.to_datetime(date_df['AppointmentDay'])\n",
    "\n",
    "date_df.info()"
   ]
  },
  {
   "cell_type": "markdown",
   "metadata": {},
   "source": [
    "Now that you have these values with datetime type, you can use them to create a better analysis.\n",
    "- datetime64 has several properties in pandas that we can now use \n",
    "\n",
    "link:https://pandas.pydata.org/pandas-docs/version/0.23/api.html#datetimelike-properties"
   ]
  },
  {
   "cell_type": "code",
   "execution_count": null,
   "metadata": {},
   "outputs": [],
   "source": [
    "# Create a new field that tells us the year in which each appointment was set\n",
    "date_df['year_set'] = date_df['ScheduledDay'].dt.year\n",
    "\n",
    "# Create a new field that tells us which day of the year the appointment was set\n",
    "date_df['day_num'] = date_df['ScheduledDay'].dt.dayofyear\n",
    "\n",
    "date_df.sort_values(by=['Age']).head(26)"
   ]
  },
  {
   "cell_type": "markdown",
   "metadata": {},
   "source": [
    "## Exercise 3\n",
    " Find the week of the year corresponding to the 'ScheduleDay' feature\n",
    " (Hint: use the link above to find the method necessary to solve this exercise)"
   ]
  },
  {
   "cell_type": "markdown",
   "metadata": {},
   "source": [
    "## Solution"
   ]
  },
  {
   "cell_type": "code",
   "execution_count": null,
   "metadata": {},
   "outputs": [],
   "source": [
    "date_df['week_num'] = date_df['ScheduledDay'].dt.weekofyear"
   ]
  },
  {
   "cell_type": "code",
   "execution_count": null,
   "metadata": {},
   "outputs": [],
   "source": [
    "date_df.sort_values(by=['AppointmentID']).head(26)"
   ]
  }
 ],
 "metadata": {
  "kernelspec": {
   "display_name": "Python 3",
   "language": "python",
   "name": "python3"
  },
  "language_info": {
   "codemirror_mode": {
    "name": "ipython",
    "version": 3
   },
   "file_extension": ".py",
   "mimetype": "text/x-python",
   "name": "python",
   "nbconvert_exporter": "python",
   "pygments_lexer": "ipython3",
   "version": "3.8.5"
  }
 },
 "nbformat": 4,
 "nbformat_minor": 4
}
