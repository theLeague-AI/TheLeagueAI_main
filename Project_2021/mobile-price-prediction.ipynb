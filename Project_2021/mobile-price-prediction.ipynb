{
 "cells": [
  {
   "cell_type": "markdown",
   "metadata": {
    "_cell_guid": "81c1b79c-79e8-4079-8e2d-df02c6fa6fc5",
    "_uuid": "5a087925ae89725d3b7f8f7fe9ced574ea2775b6"
   },
   "source": [
    "# Please do Vote up if you liked my work\n",
    "*Linkedin : https://www.linkedin.com/in/vikramadityab/\n",
    "\n",
    "*Git : https://github.com/vikram-bhati\n",
    "#### AIM:\n",
    "* In this Project,On the basis of the mobile Specification like Battery power, 3G enabled , wifi ,Bluetooth, Ram etc we are predicting Price range of the mobile\n",
    "\n",
    "\n",
    "* In this data:\n",
    "    * id:ID\n",
    "    * battery_power:Total energy a battery can store in one time measured in mAh\n",
    "    * blue:Has bluetooth or not\n",
    "    * clock_speed:speed at which microprocessor executes instructions\n",
    "    * dual_sim:Has dual sim support or not\n",
    "    * fc:Front Camera mega pixels\n",
    "    * four_g:Has 4G or not\n",
    "    * int_memory:Internal Memory in Gigabytes\n",
    "    * m_dep:Mobile Depth in cm\n",
    "    * mobile_wt:Weight of mobile phone\n",
    "    * n_cores:Number of cores of processor\n",
    "    * pc:Primary Camera mega pixels\n",
    "    * px_height:Pixel Resolution Height\n",
    "    * px_width:Pixel Resolution Width\n",
    "    * ram:Random Access Memory in Megabytes\n",
    "    * sc_h:Screen Height of mobile in cm\n",
    "    * sc_w:Screen Width of mobile in cm\n",
    "    * talk_time:longest time that a single battery charge will last when you are\n",
    "    * three_g:Has 3G or not\n",
    "    * touch_screen:Has touch screen or not\n",
    "    * wifi:Has wifi or not\n",
    "\n",
    "\n",
    "\n",
    "#### USE:\n",
    "\n",
    "* This kind of prediction will help companies estimate price of mobiles to give tough competion to other mobile manufacturer\n",
    "* Also it will be usefull for Consumers to verify that they are paying best price for a mobile.\n",
    "\n",
    "##### Applied Models:\n",
    "\n",
    "\n",
    "* Linear Regression\n",
    "* KNN\n",
    "* Logistic Regression\n",
    "* Decision tree\n",
    "* Random forest"
   ]
  },
  {
   "cell_type": "markdown",
   "metadata": {
    "_cell_guid": "792143a5-a783-41bd-8de4-8aa536bfdcda",
    "_uuid": "08177a115d2416d14275e07a6322351467f40cc4"
   },
   "source": [
    "## Load Data"
   ]
  },
  {
   "cell_type": "code",
   "execution_count": 1,
   "metadata": {
    "_cell_guid": "2f5c959f-89f7-4172-9c43-8cf435dda821",
    "_uuid": "eb00b4441a2c29669e51d64f141d610b6a404540",
    "collapsed": true,
    "jupyter": {
     "outputs_hidden": true
    }
   },
   "outputs": [],
   "source": [
    "import pandas as pd\n",
    "import numpy as np\n",
    "import matplotlib.pyplot as plt\n",
    "import seaborn as sns\n",
    "%matplotlib inline"
   ]
  },
  {
   "cell_type": "code",
   "execution_count": 2,
   "metadata": {
    "_cell_guid": "fe5ef812-5337-4771-bb34-b75e5376fdf1",
    "_uuid": "9b77bcb4ac1b1573b7963acafea8aa073f5a4d26",
    "collapsed": true,
    "jupyter": {
     "outputs_hidden": true
    }
   },
   "outputs": [],
   "source": [
    "dataset=pd.read_csv('../input/train.csv')"
   ]
  },
  {
   "cell_type": "code",
   "execution_count": 3,
   "metadata": {
    "_cell_guid": "e00cf821-c064-4ade-829f-dc003f8d4a02",
    "_uuid": "bb2ba3ebe41a42e9d09067a8d4a4791818136b32",
    "collapsed": true,
    "jupyter": {
     "outputs_hidden": true
    }
   },
   "outputs": [],
   "source": [
    "dataset.head()"
   ]
  },
  {
   "cell_type": "markdown",
   "metadata": {
    "_cell_guid": "0fb74cbf-5e15-41a7-8850-17068b2f0a4d",
    "_uuid": "5ec64a6d84aa454e5ae94f9f7cef26abe753ee10"
   },
   "source": [
    "## Data Analysis"
   ]
  },
  {
   "cell_type": "code",
   "execution_count": 4,
   "metadata": {
    "_cell_guid": "4020be0e-5ce8-4528-9dd0-b71b6ec099f0",
    "_uuid": "fa533ed5265e30fbf7412d331edda3fa0fb31e84",
    "collapsed": true,
    "jupyter": {
     "outputs_hidden": true
    },
    "scrolled": true
   },
   "outputs": [],
   "source": [
    "dataset.info()"
   ]
  },
  {
   "cell_type": "code",
   "execution_count": 5,
   "metadata": {
    "_cell_guid": "5a5fe2da-cbcb-4b4a-ae86-8a5dfbaf669d",
    "_uuid": "601dcbe8ed3b549ebd6c7dc5a69edecea072c020",
    "collapsed": true,
    "jupyter": {
     "outputs_hidden": true
    }
   },
   "outputs": [],
   "source": [
    "dataset.describe()"
   ]
  },
  {
   "cell_type": "markdown",
   "metadata": {
    "_cell_guid": "4f71118d-af9f-489f-bff9-1eedb4874f99",
    "_uuid": "d4bad17c572fafaa901cd04f8553c14d94731fe7"
   },
   "source": [
    "## Data Visualization & Analysis"
   ]
  },
  {
   "cell_type": "code",
   "execution_count": null,
   "metadata": {
    "_cell_guid": "d2da2976-6022-426c-9408-4f66a37fde43",
    "_uuid": "042787dab9b2980347f6d47971c1aeb1d45f4f93",
    "collapsed": true,
    "jupyter": {
     "outputs_hidden": true
    }
   },
   "outputs": [],
   "source": [
    "sns.pairplot(dataset,hue='price_range')"
   ]
  },
  {
   "cell_type": "markdown",
   "metadata": {
    "_cell_guid": "54ae967b-e9a3-4e80-be15-0b72b165cb2c",
    "_uuid": "a4407339df63a9f7384839614fc2998065cddd09"
   },
   "source": [
    "### How does ram is affected by price"
   ]
  },
  {
   "cell_type": "code",
   "execution_count": null,
   "metadata": {
    "_cell_guid": "2b7a0ff7-4118-4c7a-801c-068ea73859aa",
    "_uuid": "1b04c26b9674986c9ebfc2121ca1ff9fd0509556",
    "collapsed": true,
    "jupyter": {
     "outputs_hidden": true
    }
   },
   "outputs": [],
   "source": [
    "sns.jointplot(x='ram',y='price_range',data=dataset,color='red',kind='kde');"
   ]
  },
  {
   "cell_type": "markdown",
   "metadata": {
    "_cell_guid": "50cebd13-81f3-4de8-9a0e-3160e39d5336",
    "_uuid": "ad4d1e9742dcc1128eb6e5fd0eab904bfbfb34bb"
   },
   "source": [
    "### Internal Memory vs Price Range"
   ]
  },
  {
   "cell_type": "code",
   "execution_count": null,
   "metadata": {
    "_cell_guid": "d5104984-4637-4366-82a6-3c4e84813817",
    "_uuid": "33160e974a63e303fa26436f757f6fcb01b5f2a6",
    "collapsed": true,
    "jupyter": {
     "outputs_hidden": true
    }
   },
   "outputs": [],
   "source": [
    "sns.pointplot(y=\"int_memory\", x=\"price_range\", data=dataset)"
   ]
  },
  {
   "cell_type": "markdown",
   "metadata": {
    "_cell_guid": "f0ae90ed-d319-42a1-bba9-1c8869b395a8",
    "_uuid": "69b599ba273b3e58fecf218fa3197e9f7efb4770"
   },
   "source": [
    "### % of Phones which support 3G"
   ]
  },
  {
   "cell_type": "code",
   "execution_count": null,
   "metadata": {
    "_cell_guid": "07923197-d43e-4ac9-9db7-b2e76ba86703",
    "_uuid": "cc8a291fa7146558530967796e279ff9bff358f1",
    "collapsed": true,
    "jupyter": {
     "outputs_hidden": true
    }
   },
   "outputs": [],
   "source": [
    "labels = [\"3G-supported\",'Not supported']\n",
    "values=dataset['three_g'].value_counts().values"
   ]
  },
  {
   "cell_type": "code",
   "execution_count": null,
   "metadata": {
    "_cell_guid": "302d1ae7-d884-40b0-85f5-1141137f3f4f",
    "_uuid": "c5ef218996c28b16eaa62cf82a605bcf5d36fcce",
    "collapsed": true,
    "jupyter": {
     "outputs_hidden": true
    }
   },
   "outputs": [],
   "source": [
    "fig1, ax1 = plt.subplots()\n",
    "ax1.pie(values, labels=labels, autopct='%1.1f%%',shadow=True,startangle=90)\n",
    "plt.show()\n"
   ]
  },
  {
   "cell_type": "markdown",
   "metadata": {
    "_cell_guid": "a77b1619-24fb-401f-a2a0-87ef955213a2",
    "_uuid": "72c0a92a438d8667c1ec5319e9cc9d26669cdf5d"
   },
   "source": [
    "### % of Phones which support 4G\n"
   ]
  },
  {
   "cell_type": "code",
   "execution_count": null,
   "metadata": {
    "_cell_guid": "1ec4ca62-55c6-47e3-98b5-b22d7964784a",
    "_uuid": "c58a05a21f43fa9e5beaf573d1396dee54dc217e",
    "collapsed": true,
    "jupyter": {
     "outputs_hidden": true
    }
   },
   "outputs": [],
   "source": [
    "labels4g = [\"4G-supported\",'Not supported']\n",
    "values4g = dataset['four_g'].value_counts().values\n",
    "fig1, ax1 = plt.subplots()\n",
    "ax1.pie(values4g, labels=labels4g, autopct='%1.1f%%',shadow=True,startangle=90)\n",
    "plt.show()"
   ]
  },
  {
   "cell_type": "markdown",
   "metadata": {
    "_cell_guid": "ca3a45d4-9efe-400e-a027-4685ca344915",
    "_uuid": "988f3f5c993edbfac16be580e6d310ca150fc583"
   },
   "source": [
    "### Battery power vs Price Range"
   ]
  },
  {
   "cell_type": "code",
   "execution_count": null,
   "metadata": {
    "_cell_guid": "ba2774fc-7413-4bfe-9b51-682c5b9853e5",
    "_uuid": "eb22eb546598657704657b79690cf0a21a6e1b64",
    "collapsed": true,
    "jupyter": {
     "outputs_hidden": true
    }
   },
   "outputs": [],
   "source": [
    "sns.boxplot(x=\"price_range\", y=\"battery_power\", data=dataset)"
   ]
  },
  {
   "cell_type": "markdown",
   "metadata": {
    "_cell_guid": "11a0d867-5f55-420f-b584-611f8ab9a1fc",
    "_uuid": "d5696bf73b454161c9db9976ac2e64bf12f6bf1c"
   },
   "source": [
    "### No of Phones vs Camera megapixels of front and primary camera"
   ]
  },
  {
   "cell_type": "code",
   "execution_count": null,
   "metadata": {
    "_cell_guid": "bacf12bd-87d8-4f45-8231-37233d724bdf",
    "_uuid": "a681b22233caf48c785b74a3360129935150de42",
    "collapsed": true,
    "jupyter": {
     "outputs_hidden": true
    }
   },
   "outputs": [],
   "source": [
    "plt.figure(figsize=(10,6))\n",
    "dataset['fc'].hist(alpha=0.5,color='blue',label='Front camera')\n",
    "dataset['pc'].hist(alpha=0.5,color='red',label='Primary camera')\n",
    "plt.legend()\n",
    "plt.xlabel('MegaPixels')"
   ]
  },
  {
   "cell_type": "markdown",
   "metadata": {
    "_cell_guid": "2e688266-3650-4ab6-9ecd-a95f008e1739",
    "_uuid": "522d026d18a2818a2ab9c9b61aa1cd4fef9ed98b"
   },
   "source": [
    "### Mobile Weght vs Price range"
   ]
  },
  {
   "cell_type": "code",
   "execution_count": null,
   "metadata": {
    "_cell_guid": "e5f4874d-e457-4528-a70d-5bdd1c5b9bc5",
    "_uuid": "52dbfd0f00e526f3e4f894856e55cecb20f7bdc9",
    "collapsed": true,
    "jupyter": {
     "outputs_hidden": true
    }
   },
   "outputs": [],
   "source": [
    "sns.jointplot(x='mobile_wt',y='price_range',data=dataset,kind='kde');"
   ]
  },
  {
   "cell_type": "markdown",
   "metadata": {
    "_cell_guid": "b67b8ea6-ac15-4bcd-83ad-0ccb929b79cf",
    "_uuid": "baeb96c042f508f0f6ef8f65f99ce8049e775441"
   },
   "source": [
    "### Talk time vs Price range"
   ]
  },
  {
   "cell_type": "code",
   "execution_count": null,
   "metadata": {
    "_cell_guid": "cb679fc9-7204-4d1e-b182-6978f64115e8",
    "_uuid": "a1878fa56774d15b79234747f470ccaff25aeb3d",
    "collapsed": true,
    "jupyter": {
     "outputs_hidden": true
    },
    "scrolled": true
   },
   "outputs": [],
   "source": [
    "sns.pointplot(y=\"talk_time\", x=\"price_range\", data=dataset)"
   ]
  },
  {
   "cell_type": "markdown",
   "metadata": {
    "_cell_guid": "7377245a-347a-4d03-915a-788cc58ebf7e",
    "_uuid": "ef34afd1fef30011e743f41f32347c1cd0065914"
   },
   "source": [
    "## X & Y array"
   ]
  },
  {
   "cell_type": "code",
   "execution_count": null,
   "metadata": {
    "_cell_guid": "e2032e54-969d-4d2a-bdd7-1616d81edca9",
    "_uuid": "8e713c429f0f62e60485f3ad3fa781975fe89a8c",
    "collapsed": true,
    "jupyter": {
     "outputs_hidden": true
    }
   },
   "outputs": [],
   "source": [
    "X=dataset.drop('price_range',axis=1)"
   ]
  },
  {
   "cell_type": "code",
   "execution_count": null,
   "metadata": {
    "_cell_guid": "66f0fea1-8474-430f-89ab-06f43e77f135",
    "_uuid": "974a956c637813d31d94e67c9f4e736aa376ac60",
    "collapsed": true,
    "jupyter": {
     "outputs_hidden": true
    }
   },
   "outputs": [],
   "source": [
    "y=dataset['price_range']"
   ]
  },
  {
   "cell_type": "markdown",
   "metadata": {
    "_cell_guid": "1365ab9d-f6ec-428d-b0a0-c5e6309fa343",
    "_uuid": "24e93bf4289bf68e70c43c06d2ea4557efad5df1"
   },
   "source": [
    "## Splitting the data"
   ]
  },
  {
   "cell_type": "code",
   "execution_count": null,
   "metadata": {
    "_cell_guid": "7d7a62b7-9175-4e81-bd7b-10e88e23dfec",
    "_uuid": "e4922ebd426f58428f24e62918cd5a6dfefdd8f9",
    "collapsed": true,
    "jupyter": {
     "outputs_hidden": true
    }
   },
   "outputs": [],
   "source": [
    "from sklearn.model_selection import train_test_split"
   ]
  },
  {
   "cell_type": "code",
   "execution_count": null,
   "metadata": {
    "_cell_guid": "a0b47d36-66c2-4948-8e31-24c072b12a81",
    "_uuid": "5b5f9d2878df9cd7476f237af46aaf680a303863",
    "collapsed": true,
    "jupyter": {
     "outputs_hidden": true
    }
   },
   "outputs": [],
   "source": [
    "X_train, X_test, y_train, y_test = train_test_split(X, y, test_size=0.33, random_state=101)"
   ]
  },
  {
   "cell_type": "markdown",
   "metadata": {
    "_cell_guid": "41a47182-7d3e-469b-a98c-edc5a301f26a",
    "_uuid": "92bbe05268406a40f4bf6081bb995cd2e30ef940"
   },
   "source": [
    "## Creating & Training Linear Regression Model"
   ]
  },
  {
   "cell_type": "code",
   "execution_count": null,
   "metadata": {
    "_cell_guid": "5bc9ce82-b821-4fc3-91b8-bd6edfe63c0a",
    "_uuid": "5ff3302bc293c6d76b67d59c16f31cdc91ea48d0",
    "collapsed": true,
    "jupyter": {
     "outputs_hidden": true
    }
   },
   "outputs": [],
   "source": [
    "from sklearn.linear_model import LinearRegression\n",
    "lm = LinearRegression()"
   ]
  },
  {
   "cell_type": "code",
   "execution_count": null,
   "metadata": {
    "_cell_guid": "762e9898-183c-43d0-a8b9-fae305c16bf4",
    "_uuid": "b6bb16f3ef1fb39f87359332a15135da21dc4fa1",
    "collapsed": true,
    "jupyter": {
     "outputs_hidden": true
    }
   },
   "outputs": [],
   "source": [
    "lm.fit(X_train,y_train)"
   ]
  },
  {
   "cell_type": "code",
   "execution_count": null,
   "metadata": {
    "_cell_guid": "d9a5bc85-f5ba-415d-bf22-92598445d9e4",
    "_uuid": "59a4c34dd19e2a106bda21114fe53b5a09b961ab",
    "collapsed": true,
    "jupyter": {
     "outputs_hidden": true
    }
   },
   "outputs": [],
   "source": [
    "lm.score(X_test,y_test)"
   ]
  },
  {
   "cell_type": "markdown",
   "metadata": {
    "_cell_guid": "7fca2c76-ba5a-4c1b-8cde-848a0185039e",
    "_uuid": "edde15543ecd366e722fb084dd908ef1c6496cf0"
   },
   "source": [
    "## Creating & Training KNN Model"
   ]
  },
  {
   "cell_type": "code",
   "execution_count": null,
   "metadata": {
    "_cell_guid": "34f7396d-6b8b-497f-b03b-39a5cd198007",
    "_uuid": "1d273af8556f5e221e4e997e27b9c595246fe2f4",
    "collapsed": true,
    "jupyter": {
     "outputs_hidden": true
    },
    "scrolled": true
   },
   "outputs": [],
   "source": [
    "from sklearn.neighbors import KNeighborsClassifier\n",
    "knn = KNeighborsClassifier(n_neighbors=10)\n",
    "knn.fit(X_train,y_train)"
   ]
  },
  {
   "cell_type": "code",
   "execution_count": null,
   "metadata": {
    "_cell_guid": "57fa7749-ec6c-492a-9c6c-3c3cfdcb6b8a",
    "_uuid": "f86e8a224ee9c06cbe77bf712606dc4a2226bc82",
    "collapsed": true,
    "jupyter": {
     "outputs_hidden": true
    }
   },
   "outputs": [],
   "source": [
    "knn.score(X_test,y_test)"
   ]
  },
  {
   "cell_type": "markdown",
   "metadata": {
    "_cell_guid": "11084c53-fc15-408e-b8b4-823f1105dfda",
    "_uuid": "737c4137623b8d9f693d778b410232fc3e11013e"
   },
   "source": [
    "### Elbow Method For optimum value of K"
   ]
  },
  {
   "cell_type": "code",
   "execution_count": null,
   "metadata": {
    "_cell_guid": "09e21ed6-8f8d-4b60-9071-c2dfaf97c2c4",
    "_uuid": "d85262a44bf55155042d9b9a7794d9ae11480d29",
    "collapsed": true,
    "jupyter": {
     "outputs_hidden": true
    }
   },
   "outputs": [],
   "source": [
    "error_rate = []\n",
    "for i in range(1,20):\n",
    "    \n",
    "    knn = KNeighborsClassifier(n_neighbors=i)\n",
    "    knn.fit(X_train,y_train)\n",
    "    pred_i = knn.predict(X_test)\n",
    "    error_rate.append(np.mean(pred_i != y_test))"
   ]
  },
  {
   "cell_type": "code",
   "execution_count": null,
   "metadata": {
    "_cell_guid": "2e8732c9-f9e5-4803-afc1-305fb44a7f5a",
    "_uuid": "1912a94969841454b2d50bf67cb11868487bc78f",
    "collapsed": true,
    "jupyter": {
     "outputs_hidden": true
    }
   },
   "outputs": [],
   "source": [
    "plt.figure(figsize=(10,6))\n",
    "plt.plot(range(1,20),error_rate,color='blue', linestyle='dashed', marker='o',\n",
    "         markerfacecolor='red', markersize=5)\n",
    "plt.title('Error Rate vs. K Value')\n",
    "plt.xlabel('K')\n",
    "plt.ylabel('Error Rate')"
   ]
  },
  {
   "cell_type": "markdown",
   "metadata": {
    "_cell_guid": "731e987e-e173-4867-bc6d-12b930d90ce3",
    "_uuid": "5cff34bee93c8d928a21201f573cc2c2f6fd1814"
   },
   "source": [
    "## Creating & Training Logistic Regression Model"
   ]
  },
  {
   "cell_type": "code",
   "execution_count": null,
   "metadata": {
    "_cell_guid": "25a56417-3ef5-464d-9130-8e94aabc9189",
    "_uuid": "c693792ae98ab55ce9ea3b8e59ffc5a101149c93",
    "collapsed": true,
    "jupyter": {
     "outputs_hidden": true
    }
   },
   "outputs": [],
   "source": [
    "from sklearn.linear_model import LogisticRegression\n",
    "logmodel = LogisticRegression()\n"
   ]
  },
  {
   "cell_type": "code",
   "execution_count": null,
   "metadata": {
    "_cell_guid": "557c5f11-bbb3-4442-9280-4cd24c035724",
    "_uuid": "33be5001468ca5ef53badb685b155be5896eaa4f",
    "collapsed": true,
    "jupyter": {
     "outputs_hidden": true
    }
   },
   "outputs": [],
   "source": [
    "logmodel.fit(X_train,y_train)"
   ]
  },
  {
   "cell_type": "code",
   "execution_count": null,
   "metadata": {
    "_cell_guid": "5d2af22d-7612-4100-a630-bbbd29be58c6",
    "_uuid": "92e9cb37bceee364360e0d1ce2aab910f96db4ce",
    "collapsed": true,
    "jupyter": {
     "outputs_hidden": true
    }
   },
   "outputs": [],
   "source": [
    "logmodel.score(X_test,y_test)"
   ]
  },
  {
   "cell_type": "markdown",
   "metadata": {
    "_cell_guid": "f340b0ed-3e71-438f-884b-ac17776de66d",
    "_uuid": "58a725a262599b24b3e4eab44482696fbe970cb1"
   },
   "source": [
    "## Creating & Training Decision Tree Model"
   ]
  },
  {
   "cell_type": "code",
   "execution_count": null,
   "metadata": {
    "_cell_guid": "dd6ea683-d16c-46bf-9095-45cebfd56f13",
    "_uuid": "5fe32e0bf2637d31a9a1e9fa948386051029d489",
    "collapsed": true,
    "jupyter": {
     "outputs_hidden": true
    }
   },
   "outputs": [],
   "source": [
    "from sklearn.tree import DecisionTreeClassifier\n",
    "dtree = DecisionTreeClassifier()"
   ]
  },
  {
   "cell_type": "code",
   "execution_count": null,
   "metadata": {
    "_cell_guid": "919b8b34-ae81-4817-8f77-aef1908156c6",
    "_uuid": "86231fb557f8e78b54687bc968dc787a7ee3f267",
    "collapsed": true,
    "jupyter": {
     "outputs_hidden": true
    }
   },
   "outputs": [],
   "source": [
    "dtree.fit(X_train,y_train)"
   ]
  },
  {
   "cell_type": "code",
   "execution_count": null,
   "metadata": {
    "_cell_guid": "4526ff70-52ab-4244-baf3-ac31e3e04858",
    "_uuid": "a368dc9b6a95befc6aa7b14a5497f2f3ad29260f",
    "collapsed": true,
    "jupyter": {
     "outputs_hidden": true
    }
   },
   "outputs": [],
   "source": [
    "dtree.score(X_test,y_test)"
   ]
  },
  {
   "cell_type": "markdown",
   "metadata": {
    "_cell_guid": "6085c7c4-1d5a-44ee-9fbf-cb7987511ba5",
    "_uuid": "06a50686e36a161c5a965fb472ee6303bb4c385c"
   },
   "source": [
    "## Tree Visualization"
   ]
  },
  {
   "cell_type": "code",
   "execution_count": null,
   "metadata": {
    "_cell_guid": "bbd9cc05-0375-42f4-9437-0d434345ac1a",
    "_uuid": "d150a4f617a40e419f2cf19f578532ed404730c0",
    "collapsed": true,
    "jupyter": {
     "outputs_hidden": true
    }
   },
   "outputs": [],
   "source": [
    "feature_names=['battery_power', 'blue', 'clock_speed', 'dual_sim', 'fc', 'four_g',\n",
    "       'int_memory', 'm_dep', 'mobile_wt', 'n_cores', 'pc', 'px_height',\n",
    "       'px_width', 'ram', 'sc_h', 'sc_w', 'talk_time', 'three_g',\n",
    "       'touch_screen', 'wifi']"
   ]
  },
  {
   "cell_type": "code",
   "execution_count": null,
   "metadata": {
    "_cell_guid": "2fa03d5e-cb41-4ed6-b8fd-3f0f0a8dcfa5",
    "_uuid": "f434d2bdad771f5750f3d960b8614427d0349793",
    "collapsed": true,
    "jupyter": {
     "outputs_hidden": true
    }
   },
   "outputs": [],
   "source": [
    "#For tree Visualization as kaggle does't support pydotplus just install the pydotplus in your systems's conda terminal\n",
    "'''\n",
    "import pydotplus as pydot\n",
    "\n",
    "from IPython.display import Image\n",
    "\n",
    "from sklearn.externals.six import StringIO\n",
    "\n",
    "dot_data = StringIO()\n",
    "\n",
    "tree.export_graphviz(dtree, out_file=dot_data,feature_names=feature_names)\n",
    "\n",
    "graph = pydot.graph_from_dot_data(dot_data.getvalue())\n",
    "\n",
    "Image(graph.create_png())'''"
   ]
  },
  {
   "cell_type": "code",
   "execution_count": null,
   "metadata": {
    "_cell_guid": "12b259b9-8f5d-44c9-b21e-3cfaf6a2c0fa",
    "_uuid": "f6572109e62531da1cb86e5fc41ee57726426bde",
    "collapsed": true,
    "jupyter": {
     "outputs_hidden": true
    }
   },
   "outputs": [],
   "source": [
    "#Another way\n",
    "'''from IPython.display import Image  \n",
    "from sklearn.externals.six import StringIO  \n",
    "from sklearn.tree import export_graphviz\n",
    "import pydot \n",
    "import os\n",
    "os.environ[\"PATH\"] += os.pathsep + 'C:/Program Files (x86)/Graphviz2.38/bin/'\n",
    "dot_data = StringIO()  \n",
    "export_graphviz(dtree, out_file=dot_data,feature_names=feature_names,filled=True)\n",
    "\n",
    "graph = pydot.graph_from_dot_data(dot_data.getvalue())  \n",
    "Image(graph[0].create_png())'''  "
   ]
  },
  {
   "cell_type": "markdown",
   "metadata": {
    "_cell_guid": "901bd79a-9d8f-4704-9b86-5661f2d8adda",
    "_uuid": "1e76e4e5b8eab20305c72ddd7dbbacb8f2043830"
   },
   "source": [
    "## Creating & Training Random Tree Model"
   ]
  },
  {
   "cell_type": "code",
   "execution_count": null,
   "metadata": {
    "_cell_guid": "d355b9c8-43a7-4399-9b85-04e065dae6f0",
    "_uuid": "eb296baaec145d61a8b1a09b90fa42f32b6a3197",
    "collapsed": true,
    "jupyter": {
     "outputs_hidden": true
    }
   },
   "outputs": [],
   "source": [
    "from sklearn.ensemble import RandomForestClassifier\n",
    "rfc = RandomForestClassifier(n_estimators=200)\n",
    "rfc.fit(X_train, y_train)"
   ]
  },
  {
   "cell_type": "code",
   "execution_count": null,
   "metadata": {
    "_cell_guid": "3a0987f1-9e86-4815-b69c-90f5af799f99",
    "_uuid": "52eafe5a69d347e27006facad7241f78944f6005",
    "collapsed": true,
    "jupyter": {
     "outputs_hidden": true
    }
   },
   "outputs": [],
   "source": [
    "rfc.score(X_test,y_test)"
   ]
  },
  {
   "cell_type": "markdown",
   "metadata": {
    "_cell_guid": "aebeccb1-a511-43aa-ad5e-6e76618fbbb9",
    "_uuid": "694e44684e74ca7c959bf2a570cd50a990ca14d7"
   },
   "source": [
    "# Conclusion: KNN & Linear Regression performed the best"
   ]
  },
  {
   "cell_type": "markdown",
   "metadata": {
    "_cell_guid": "8189bf26-509a-4b04-8b1d-46dcdb6cce06",
    "_uuid": "7dc5a2eea2fecb1daaa8a7823ab2e17c657ba159"
   },
   "source": [
    "## RESULT : Linear Regression"
   ]
  },
  {
   "cell_type": "code",
   "execution_count": null,
   "metadata": {
    "_cell_guid": "4fdc21a7-3370-4f2a-8eec-2e6874078c1d",
    "_uuid": "f1a320071672955d660cbae402b120dab508774c",
    "collapsed": true,
    "jupyter": {
     "outputs_hidden": true
    }
   },
   "outputs": [],
   "source": [
    "y_pred=lm.predict(X_test)\n"
   ]
  },
  {
   "cell_type": "code",
   "execution_count": null,
   "metadata": {
    "_cell_guid": "4ddf4a13-33eb-4e11-9570-31c8d6f90ad0",
    "_uuid": "6d7f63f3fea71f9244176d849ebf93d1a3fad2ad",
    "collapsed": true,
    "jupyter": {
     "outputs_hidden": true
    },
    "scrolled": true
   },
   "outputs": [],
   "source": [
    "plt.scatter(y_test,y_pred)\n"
   ]
  },
  {
   "cell_type": "code",
   "execution_count": null,
   "metadata": {
    "_cell_guid": "b931cc25-877a-4a9c-83f0-89d69ebca454",
    "_uuid": "13c279c5e120567d21c28cef3df5db97965a540d",
    "collapsed": true,
    "jupyter": {
     "outputs_hidden": true
    }
   },
   "outputs": [],
   "source": [
    "plt.plot(y_test,y_pred)"
   ]
  },
  {
   "cell_type": "markdown",
   "metadata": {
    "_cell_guid": "d01c37d3-c31a-4456-976c-556322668b3e",
    "_uuid": "76373dc505c7e33a7f9b8baa7115fe46e969a56f"
   },
   "source": [
    "## RESULT: KNN"
   ]
  },
  {
   "cell_type": "code",
   "execution_count": null,
   "metadata": {
    "_cell_guid": "5d6bac80-b0b3-435b-8f82-4230741f6eab",
    "_uuid": "a30be27739cae86dc97d14326cb437c7c0fd2b4a",
    "collapsed": true,
    "jupyter": {
     "outputs_hidden": true
    }
   },
   "outputs": [],
   "source": [
    "from sklearn.metrics import classification_report,confusion_matrix"
   ]
  },
  {
   "cell_type": "code",
   "execution_count": null,
   "metadata": {
    "_cell_guid": "f558eb0c-8bf0-4364-9a20-853201a3196d",
    "_uuid": "b60db21ddd06a9bcb8baac551e534201f64b895e",
    "collapsed": true,
    "jupyter": {
     "outputs_hidden": true
    }
   },
   "outputs": [],
   "source": [
    "pred = knn.predict(X_test)"
   ]
  },
  {
   "cell_type": "code",
   "execution_count": null,
   "metadata": {
    "_cell_guid": "fcdd1bb4-736f-4b7a-8cdb-7e70926b7ead",
    "_uuid": "c572c54f9cdc7849d257ce89b43eeac8155b550e",
    "collapsed": true,
    "jupyter": {
     "outputs_hidden": true
    }
   },
   "outputs": [],
   "source": [
    "print(classification_report(y_test,pred))"
   ]
  },
  {
   "cell_type": "code",
   "execution_count": null,
   "metadata": {
    "_cell_guid": "d59420ce-ba6b-4e8b-8c40-3ff3c8c80c61",
    "_uuid": "6c8009a3a147561717443a0b0d6913ee9fc5c13e",
    "collapsed": true,
    "jupyter": {
     "outputs_hidden": true
    }
   },
   "outputs": [],
   "source": [
    "matrix=confusion_matrix(y_test,pred)\n",
    "print(matrix)"
   ]
  },
  {
   "cell_type": "code",
   "execution_count": null,
   "metadata": {
    "_cell_guid": "20b96327-02b6-4d61-9f2d-9bdaebb7d901",
    "_uuid": "18a8035cc295fa52ecf65834988328a3376a2324",
    "collapsed": true,
    "jupyter": {
     "outputs_hidden": true
    },
    "scrolled": true
   },
   "outputs": [],
   "source": [
    "plt.figure(figsize = (10,7))\n",
    "sns.heatmap(matrix,annot=True)\n"
   ]
  },
  {
   "cell_type": "markdown",
   "metadata": {
    "_cell_guid": "87525e54-d98e-4bba-a397-540dcd04255f",
    "_uuid": "2b7ffb5f99c6ce3a2accb7f654d0eaebd9a4e00d"
   },
   "source": [
    "# Price prediction of Test.csv Using KNN for Prediction"
   ]
  },
  {
   "cell_type": "markdown",
   "metadata": {
    "_cell_guid": "67142dd2-f949-4201-99fa-2a4e0d15249e",
    "_uuid": "b8fbd1570742cf70dc2a76fcdca6eb3379404a0b"
   },
   "source": [
    "### Import test.csv"
   ]
  },
  {
   "cell_type": "code",
   "execution_count": null,
   "metadata": {
    "_cell_guid": "8092abb7-64da-4c2c-bd4c-2d149039dcfa",
    "_uuid": "76c54a84916b740a002e695fdc6ea5da75685647",
    "collapsed": true,
    "jupyter": {
     "outputs_hidden": true
    }
   },
   "outputs": [],
   "source": [
    "data_test=pd.read_csv('../input/test.csv')"
   ]
  },
  {
   "cell_type": "code",
   "execution_count": null,
   "metadata": {
    "_cell_guid": "cca5c34e-c556-4542-8628-54210638921a",
    "_uuid": "27777d3fe6206be6f0558f1a4850dde71c4084e0",
    "collapsed": true,
    "jupyter": {
     "outputs_hidden": true
    }
   },
   "outputs": [],
   "source": [
    "data_test.head()"
   ]
  },
  {
   "cell_type": "code",
   "execution_count": null,
   "metadata": {
    "_cell_guid": "f15edb3f-ec8e-464f-bc2f-0ef4d3ec4f3e",
    "_uuid": "b10347a3881e83400d58804a7f8591102df66923",
    "collapsed": true,
    "jupyter": {
     "outputs_hidden": true
    }
   },
   "outputs": [],
   "source": [
    "data_test=data_test.drop('id',axis=1)"
   ]
  },
  {
   "cell_type": "code",
   "execution_count": null,
   "metadata": {
    "_cell_guid": "14e43b6c-2955-41d8-8a80-45f100c00d59",
    "_uuid": "811170acbad3b26af1a0cad212996a6ee50ecc62",
    "collapsed": true,
    "jupyter": {
     "outputs_hidden": true
    }
   },
   "outputs": [],
   "source": [
    "data_test.head()"
   ]
  },
  {
   "cell_type": "markdown",
   "metadata": {
    "_cell_guid": "e01d7518-7d2d-410a-903c-42747644e490",
    "_uuid": "a424c177b42256ed3db07adeb39f0bf1297040ef"
   },
   "source": [
    "# Model"
   ]
  },
  {
   "cell_type": "code",
   "execution_count": null,
   "metadata": {
    "_cell_guid": "8e3b29c8-95cd-4e93-9a69-d50c9d06365b",
    "_uuid": "6d55dd7fd581e05be32d50f2f35a456de1471244",
    "collapsed": true,
    "jupyter": {
     "outputs_hidden": true
    }
   },
   "outputs": [],
   "source": [
    "predicted_price=knn.predict(data_test)"
   ]
  },
  {
   "cell_type": "markdown",
   "metadata": {
    "_cell_guid": "747259ea-8956-47b8-bfa5-76ef393a7397",
    "_uuid": "677e84d62701a680e521ae36de1d1a1be7f4fa75"
   },
   "source": [
    "# Predicted Price Range"
   ]
  },
  {
   "cell_type": "code",
   "execution_count": null,
   "metadata": {
    "_cell_guid": "eb80d35e-48b2-4d43-b078-5a1af6d1fcf3",
    "_uuid": "ef765d614d4a2b582398f4224dfbd22b98346ce5",
    "collapsed": true,
    "jupyter": {
     "outputs_hidden": true
    }
   },
   "outputs": [],
   "source": [
    "predicted_price"
   ]
  },
  {
   "cell_type": "markdown",
   "metadata": {
    "_cell_guid": "e7a97740-e662-4087-937f-60803ac35df4",
    "_uuid": "7470adc5daf4f6fd6bbf73b9b321f1183723e6f1"
   },
   "source": [
    "# Adding Predicted price to test.csv"
   ]
  },
  {
   "cell_type": "code",
   "execution_count": null,
   "metadata": {
    "_cell_guid": "4a54b2fa-088c-4b7b-b3e9-0ea316e9d04b",
    "_uuid": "a40d8b4ef325f24b91c14e9c4186f95edbdfeae2",
    "collapsed": true,
    "jupyter": {
     "outputs_hidden": true
    }
   },
   "outputs": [],
   "source": [
    "data_test['price_range']=predicted_price"
   ]
  },
  {
   "cell_type": "code",
   "execution_count": null,
   "metadata": {
    "_cell_guid": "cced89d0-98fb-4268-bb1a-97a698eb468f",
    "_uuid": "a5615570a35a41dc13c9c9caf542ccc984e0e641",
    "collapsed": true,
    "jupyter": {
     "outputs_hidden": true
    }
   },
   "outputs": [],
   "source": [
    "data_test"
   ]
  },
  {
   "cell_type": "code",
   "execution_count": null,
   "metadata": {
    "_uuid": "a35f4123090c262dc8ee0918675d6e1c23409791",
    "collapsed": true,
    "jupyter": {
     "outputs_hidden": true
    }
   },
   "outputs": [],
   "source": []
  },
  {
   "cell_type": "code",
   "execution_count": null,
   "metadata": {
    "_uuid": "d491c0a11e78c54f565cd6ffcfaf8603ae1998e0",
    "collapsed": true,
    "jupyter": {
     "outputs_hidden": true
    }
   },
   "outputs": [],
   "source": []
  },
  {
   "cell_type": "code",
   "execution_count": null,
   "metadata": {
    "_uuid": "c8c3d039b892c91c650e7204e3887cbe3c37d7fd",
    "collapsed": true,
    "jupyter": {
     "outputs_hidden": true
    }
   },
   "outputs": [],
   "source": []
  },
  {
   "cell_type": "code",
   "execution_count": null,
   "metadata": {
    "_uuid": "132866eca0ab482fd6dbc339eb5052ebdc2c48d9",
    "collapsed": true,
    "jupyter": {
     "outputs_hidden": true
    }
   },
   "outputs": [],
   "source": []
  },
  {
   "cell_type": "code",
   "execution_count": null,
   "metadata": {
    "_uuid": "9d038d40a1f08205fb98e182df7821ff9895debb",
    "collapsed": true,
    "jupyter": {
     "outputs_hidden": true
    }
   },
   "outputs": [],
   "source": []
  },
  {
   "cell_type": "code",
   "execution_count": null,
   "metadata": {
    "_uuid": "65f57f19299a47eebc90d045ecd022313f85d756",
    "collapsed": true,
    "jupyter": {
     "outputs_hidden": true
    }
   },
   "outputs": [],
   "source": []
  },
  {
   "cell_type": "code",
   "execution_count": null,
   "metadata": {
    "_uuid": "e41fe1f4c0900f39da60d236557429d9b6ee42c1",
    "collapsed": true,
    "jupyter": {
     "outputs_hidden": true
    }
   },
   "outputs": [],
   "source": []
  },
  {
   "cell_type": "code",
   "execution_count": null,
   "metadata": {
    "_uuid": "a5698e4a028b3348d42a5ca232c56065abbe119e",
    "collapsed": true,
    "jupyter": {
     "outputs_hidden": true
    }
   },
   "outputs": [],
   "source": []
  },
  {
   "cell_type": "code",
   "execution_count": null,
   "metadata": {
    "_uuid": "2831e72cda0dce26e36314a0fb26264a76f4e560",
    "collapsed": true,
    "jupyter": {
     "outputs_hidden": true
    }
   },
   "outputs": [],
   "source": []
  },
  {
   "cell_type": "code",
   "execution_count": null,
   "metadata": {
    "_uuid": "e1e8ad4e6dd4c04d9d13c807e5805ec985c5f766",
    "collapsed": true,
    "jupyter": {
     "outputs_hidden": true
    }
   },
   "outputs": [],
   "source": []
  },
  {
   "cell_type": "code",
   "execution_count": null,
   "metadata": {
    "_uuid": "24a6367ec4bd0875ca7421c202a01a8a2118d8f3",
    "collapsed": true,
    "jupyter": {
     "outputs_hidden": true
    }
   },
   "outputs": [],
   "source": []
  },
  {
   "cell_type": "code",
   "execution_count": null,
   "metadata": {
    "_uuid": "952b00b5f7493dc988a753c6b5fb5f5b3cadddd3",
    "collapsed": true,
    "jupyter": {
     "outputs_hidden": true
    }
   },
   "outputs": [],
   "source": []
  },
  {
   "cell_type": "code",
   "execution_count": null,
   "metadata": {
    "_uuid": "cf52043fc4847cc084da64c41a4f10a210aac4e6",
    "collapsed": true,
    "jupyter": {
     "outputs_hidden": true
    }
   },
   "outputs": [],
   "source": []
  },
  {
   "cell_type": "code",
   "execution_count": null,
   "metadata": {
    "_uuid": "663161c163bc28b9d7f4194d1fed79e129b5970d",
    "collapsed": true,
    "jupyter": {
     "outputs_hidden": true
    }
   },
   "outputs": [],
   "source": []
  },
  {
   "cell_type": "code",
   "execution_count": null,
   "metadata": {
    "_uuid": "4c469b836b2bb906d890ec3e7208f8ec7d30a37d",
    "collapsed": true,
    "jupyter": {
     "outputs_hidden": true
    }
   },
   "outputs": [],
   "source": []
  },
  {
   "cell_type": "code",
   "execution_count": null,
   "metadata": {
    "_uuid": "0b79dc4b6712e05617d3da0b0b055bb9c21540a5",
    "collapsed": true,
    "jupyter": {
     "outputs_hidden": true
    }
   },
   "outputs": [],
   "source": []
  },
  {
   "cell_type": "code",
   "execution_count": null,
   "metadata": {
    "_uuid": "15c727489f2747c4ec52ad8fe41750dbe2cd9cf2",
    "collapsed": true,
    "jupyter": {
     "outputs_hidden": true
    }
   },
   "outputs": [],
   "source": []
  },
  {
   "cell_type": "code",
   "execution_count": null,
   "metadata": {
    "_uuid": "de5916e2803e92a068569e6af5537f2c82656f57",
    "collapsed": true,
    "jupyter": {
     "outputs_hidden": true
    }
   },
   "outputs": [],
   "source": []
  },
  {
   "cell_type": "code",
   "execution_count": null,
   "metadata": {
    "_uuid": "df936261f655e98e3f47dd3b3884e41f0e82a4ea",
    "collapsed": true,
    "jupyter": {
     "outputs_hidden": true
    }
   },
   "outputs": [],
   "source": []
  },
  {
   "cell_type": "code",
   "execution_count": null,
   "metadata": {
    "_uuid": "0fd3be10291fe2351b0e0ee3d9e5a8564daa5e7e",
    "collapsed": true,
    "jupyter": {
     "outputs_hidden": true
    }
   },
   "outputs": [],
   "source": []
  },
  {
   "cell_type": "code",
   "execution_count": null,
   "metadata": {
    "_uuid": "f4fceeb60110747901c7b56ee2ba1963ddc36270",
    "collapsed": true,
    "jupyter": {
     "outputs_hidden": true
    }
   },
   "outputs": [],
   "source": []
  },
  {
   "cell_type": "code",
   "execution_count": null,
   "metadata": {
    "_uuid": "7c1de568715ab032f513b9b4f64933fb4e7a302e",
    "collapsed": true,
    "jupyter": {
     "outputs_hidden": true
    }
   },
   "outputs": [],
   "source": []
  },
  {
   "cell_type": "code",
   "execution_count": null,
   "metadata": {
    "_uuid": "5adb7d84ba12ca9f9ea80d9eda043b0002456d5b",
    "collapsed": true,
    "jupyter": {
     "outputs_hidden": true
    }
   },
   "outputs": [],
   "source": []
  },
  {
   "cell_type": "code",
   "execution_count": null,
   "metadata": {
    "_uuid": "db5db1b2c072ca70fe748b47af19bda79cba221c",
    "collapsed": true,
    "jupyter": {
     "outputs_hidden": true
    }
   },
   "outputs": [],
   "source": []
  },
  {
   "cell_type": "code",
   "execution_count": null,
   "metadata": {
    "_uuid": "f5f5d898d7c7d68d4d92c8e4d0b3e646ef89e6a8",
    "collapsed": true,
    "jupyter": {
     "outputs_hidden": true
    }
   },
   "outputs": [],
   "source": []
  },
  {
   "cell_type": "code",
   "execution_count": null,
   "metadata": {
    "_uuid": "d67ceb69091255d7cc0c663728d2ef926f640195",
    "collapsed": true,
    "jupyter": {
     "outputs_hidden": true
    }
   },
   "outputs": [],
   "source": []
  },
  {
   "cell_type": "code",
   "execution_count": null,
   "metadata": {
    "_uuid": "4e825fb12c21cea77fa99bdcd05084e36dccc905",
    "collapsed": true,
    "jupyter": {
     "outputs_hidden": true
    }
   },
   "outputs": [],
   "source": []
  },
  {
   "cell_type": "code",
   "execution_count": null,
   "metadata": {
    "_uuid": "be1d785be80fde4fe0a16a94615a7fd9bd327627",
    "collapsed": true,
    "jupyter": {
     "outputs_hidden": true
    }
   },
   "outputs": [],
   "source": []
  },
  {
   "cell_type": "code",
   "execution_count": null,
   "metadata": {
    "_uuid": "dcef4046fe9309935ea4fc08a2a92ece23501aad",
    "collapsed": true,
    "jupyter": {
     "outputs_hidden": true
    }
   },
   "outputs": [],
   "source": []
  },
  {
   "cell_type": "code",
   "execution_count": null,
   "metadata": {
    "_uuid": "b77c3bddf62adb39c6bf9408a029518131a4b7a9",
    "collapsed": true,
    "jupyter": {
     "outputs_hidden": true
    }
   },
   "outputs": [],
   "source": []
  },
  {
   "cell_type": "code",
   "execution_count": null,
   "metadata": {
    "_uuid": "48357d22ad37f4e883abc6bd2c3779118647a4f9",
    "collapsed": true,
    "jupyter": {
     "outputs_hidden": true
    }
   },
   "outputs": [],
   "source": []
  },
  {
   "cell_type": "code",
   "execution_count": null,
   "metadata": {
    "_uuid": "a5f1cba347668a4445c4bf7877b472ee7ddf7074",
    "collapsed": true,
    "jupyter": {
     "outputs_hidden": true
    }
   },
   "outputs": [],
   "source": []
  },
  {
   "cell_type": "code",
   "execution_count": null,
   "metadata": {
    "_uuid": "688aa89fb8ab04d38c5083c5a8a1abf042c789b6",
    "collapsed": true,
    "jupyter": {
     "outputs_hidden": true
    }
   },
   "outputs": [],
   "source": []
  },
  {
   "cell_type": "code",
   "execution_count": null,
   "metadata": {
    "_uuid": "4feff7f3923256336b838e0737c32650de9bfaf5",
    "collapsed": true,
    "jupyter": {
     "outputs_hidden": true
    }
   },
   "outputs": [],
   "source": []
  },
  {
   "cell_type": "code",
   "execution_count": null,
   "metadata": {
    "_uuid": "d7a774380a98f9e83589407ee7ce4281c08fa67e",
    "collapsed": true,
    "jupyter": {
     "outputs_hidden": true
    }
   },
   "outputs": [],
   "source": []
  },
  {
   "cell_type": "code",
   "execution_count": null,
   "metadata": {
    "_uuid": "d70a35aff12603789f134852fad64a50e4219b52",
    "collapsed": true,
    "jupyter": {
     "outputs_hidden": true
    }
   },
   "outputs": [],
   "source": []
  },
  {
   "cell_type": "code",
   "execution_count": null,
   "metadata": {
    "_uuid": "647fcf43bd295e3c027f12299736962836fa6049",
    "collapsed": true,
    "jupyter": {
     "outputs_hidden": true
    }
   },
   "outputs": [],
   "source": []
  },
  {
   "cell_type": "code",
   "execution_count": null,
   "metadata": {
    "_uuid": "909cc24552bb8da1c8c6621057d686fa3ef73bd5",
    "collapsed": true,
    "jupyter": {
     "outputs_hidden": true
    }
   },
   "outputs": [],
   "source": []
  },
  {
   "cell_type": "code",
   "execution_count": null,
   "metadata": {
    "_uuid": "31125695844e08a217cf14d17b3758ff6aec8541",
    "collapsed": true,
    "jupyter": {
     "outputs_hidden": true
    }
   },
   "outputs": [],
   "source": []
  },
  {
   "cell_type": "code",
   "execution_count": null,
   "metadata": {
    "_uuid": "f83e74ed0902e211d0c01f8b3927041bd578cbe5",
    "collapsed": true,
    "jupyter": {
     "outputs_hidden": true
    }
   },
   "outputs": [],
   "source": []
  },
  {
   "cell_type": "code",
   "execution_count": null,
   "metadata": {
    "_uuid": "a93b20769b8e9e8dd7bf7c0cc7200aca21baaaaa",
    "collapsed": true,
    "jupyter": {
     "outputs_hidden": true
    }
   },
   "outputs": [],
   "source": []
  },
  {
   "cell_type": "code",
   "execution_count": null,
   "metadata": {
    "_uuid": "fb6c9c7ba3582fd868e3394fa91be01912811e9e",
    "collapsed": true,
    "jupyter": {
     "outputs_hidden": true
    }
   },
   "outputs": [],
   "source": []
  },
  {
   "cell_type": "code",
   "execution_count": null,
   "metadata": {
    "_uuid": "311be5dc48c1927e4eedbb942d1567df31637e83",
    "collapsed": true,
    "jupyter": {
     "outputs_hidden": true
    }
   },
   "outputs": [],
   "source": []
  },
  {
   "cell_type": "code",
   "execution_count": null,
   "metadata": {
    "_uuid": "35626a2522925fb11348ce313a8fe67e5f7e0291",
    "collapsed": true,
    "jupyter": {
     "outputs_hidden": true
    }
   },
   "outputs": [],
   "source": []
  },
  {
   "cell_type": "code",
   "execution_count": null,
   "metadata": {
    "_uuid": "90a4494cf596c40621c1637b8280ad4ed6edb3ce",
    "collapsed": true,
    "jupyter": {
     "outputs_hidden": true
    }
   },
   "outputs": [],
   "source": []
  },
  {
   "cell_type": "code",
   "execution_count": null,
   "metadata": {
    "_uuid": "084f194248f74129b3695d1a9a51e5de5cc426c4",
    "collapsed": true,
    "jupyter": {
     "outputs_hidden": true
    }
   },
   "outputs": [],
   "source": []
  },
  {
   "cell_type": "code",
   "execution_count": null,
   "metadata": {
    "_uuid": "ac63b44048d4731fd70da12b28e3adac4b722f2e",
    "collapsed": true,
    "jupyter": {
     "outputs_hidden": true
    }
   },
   "outputs": [],
   "source": []
  },
  {
   "cell_type": "code",
   "execution_count": null,
   "metadata": {
    "_uuid": "18a01de4b8358217ec28329efefa77b6150f4bec",
    "collapsed": true,
    "jupyter": {
     "outputs_hidden": true
    }
   },
   "outputs": [],
   "source": []
  },
  {
   "cell_type": "code",
   "execution_count": null,
   "metadata": {
    "_uuid": "a137cc7ab03dbdc9d6248c67710895c28aee7425",
    "collapsed": true,
    "jupyter": {
     "outputs_hidden": true
    }
   },
   "outputs": [],
   "source": []
  },
  {
   "cell_type": "code",
   "execution_count": null,
   "metadata": {
    "_uuid": "27c7a9c24341b6137c9ca27cf2d4b5eb37e5480e",
    "collapsed": true,
    "jupyter": {
     "outputs_hidden": true
    }
   },
   "outputs": [],
   "source": []
  },
  {
   "cell_type": "code",
   "execution_count": null,
   "metadata": {
    "_uuid": "c5d69380d7aeaef530d10dbeacc838c176042f49",
    "collapsed": true,
    "jupyter": {
     "outputs_hidden": true
    }
   },
   "outputs": [],
   "source": []
  },
  {
   "cell_type": "code",
   "execution_count": null,
   "metadata": {
    "_uuid": "f4431262ab56aca71a07d3cec14c816cb1209063",
    "collapsed": true,
    "jupyter": {
     "outputs_hidden": true
    }
   },
   "outputs": [],
   "source": []
  },
  {
   "cell_type": "code",
   "execution_count": null,
   "metadata": {
    "_uuid": "3bbccdd80931e311f528685bdc24c21e90576b54",
    "collapsed": true,
    "jupyter": {
     "outputs_hidden": true
    }
   },
   "outputs": [],
   "source": []
  },
  {
   "cell_type": "code",
   "execution_count": null,
   "metadata": {
    "_uuid": "c88bd2267b39f3907f5d466bbfe2e1c13e9d53f6",
    "collapsed": true,
    "jupyter": {
     "outputs_hidden": true
    }
   },
   "outputs": [],
   "source": []
  },
  {
   "cell_type": "code",
   "execution_count": null,
   "metadata": {
    "_uuid": "b6075bc7677c1dc9fd5a72dda0e81b0f6d149189",
    "collapsed": true,
    "jupyter": {
     "outputs_hidden": true
    }
   },
   "outputs": [],
   "source": []
  },
  {
   "cell_type": "code",
   "execution_count": null,
   "metadata": {
    "_uuid": "97d0205aa8811592a057dfc47370eeaa5090f7b4"
   },
   "outputs": [],
   "source": []
  },
  {
   "cell_type": "code",
   "execution_count": null,
   "metadata": {
    "_uuid": "8765264f41a20752d6b1573adf5c90cea54fad01",
    "collapsed": true,
    "jupyter": {
     "outputs_hidden": true
    }
   },
   "outputs": [],
   "source": []
  },
  {
   "cell_type": "code",
   "execution_count": null,
   "metadata": {
    "_uuid": "c9c8cc4a078656157d3f3498ad9185e57dffe472",
    "collapsed": true,
    "jupyter": {
     "outputs_hidden": true
    }
   },
   "outputs": [],
   "source": []
  },
  {
   "cell_type": "code",
   "execution_count": null,
   "metadata": {
    "_uuid": "cc1bb8aaeabfed2098d65105f737f00ca060577c",
    "collapsed": true,
    "jupyter": {
     "outputs_hidden": true
    }
   },
   "outputs": [],
   "source": []
  },
  {
   "cell_type": "code",
   "execution_count": null,
   "metadata": {
    "_uuid": "ca45ea26ed83b0f66f21d16530ec513d47a6df56",
    "collapsed": true,
    "jupyter": {
     "outputs_hidden": true
    }
   },
   "outputs": [],
   "source": []
  },
  {
   "cell_type": "code",
   "execution_count": null,
   "metadata": {
    "_uuid": "fe002199910f19ca665620b49bc22d7ba67612e0",
    "collapsed": true,
    "jupyter": {
     "outputs_hidden": true
    }
   },
   "outputs": [],
   "source": []
  },
  {
   "cell_type": "code",
   "execution_count": null,
   "metadata": {
    "_uuid": "f82710663a007559feda4c18722b9aa18548875b",
    "collapsed": true,
    "jupyter": {
     "outputs_hidden": true
    }
   },
   "outputs": [],
   "source": []
  },
  {
   "cell_type": "code",
   "execution_count": null,
   "metadata": {
    "_uuid": "7c9797bcc1f4caf682e95252fa6d0e2996a215ae",
    "collapsed": true,
    "jupyter": {
     "outputs_hidden": true
    }
   },
   "outputs": [],
   "source": []
  },
  {
   "cell_type": "code",
   "execution_count": null,
   "metadata": {
    "_uuid": "d7c9ab37b96f94b951537ba6628b6ebcd6f9d6d7",
    "collapsed": true,
    "jupyter": {
     "outputs_hidden": true
    }
   },
   "outputs": [],
   "source": []
  },
  {
   "cell_type": "code",
   "execution_count": null,
   "metadata": {
    "_uuid": "4b9143329885e80d06cec80f92d4c1ef7be89007",
    "collapsed": true,
    "jupyter": {
     "outputs_hidden": true
    }
   },
   "outputs": [],
   "source": []
  },
  {
   "cell_type": "code",
   "execution_count": null,
   "metadata": {
    "_uuid": "c003d31dc7b135c84d6cb55d220ccbfe5ec79458",
    "collapsed": true,
    "jupyter": {
     "outputs_hidden": true
    }
   },
   "outputs": [],
   "source": []
  },
  {
   "cell_type": "code",
   "execution_count": null,
   "metadata": {
    "_uuid": "07ca34ab8330c27c9900710ca4d928b56ce7aa58",
    "collapsed": true,
    "jupyter": {
     "outputs_hidden": true
    }
   },
   "outputs": [],
   "source": []
  },
  {
   "cell_type": "code",
   "execution_count": null,
   "metadata": {
    "_uuid": "9e8fa77a878e3b4c3b1b8f957b14ddb58258b359",
    "collapsed": true,
    "jupyter": {
     "outputs_hidden": true
    }
   },
   "outputs": [],
   "source": []
  },
  {
   "cell_type": "code",
   "execution_count": null,
   "metadata": {
    "_uuid": "1f5d14748b86c9fb25575aaa92f40d0e1c2d4014",
    "collapsed": true,
    "jupyter": {
     "outputs_hidden": true
    }
   },
   "outputs": [],
   "source": []
  },
  {
   "cell_type": "code",
   "execution_count": null,
   "metadata": {
    "_uuid": "5ee3636c2544474acf8fb310cb5a7292462e3cff",
    "collapsed": true,
    "jupyter": {
     "outputs_hidden": true
    }
   },
   "outputs": [],
   "source": []
  },
  {
   "cell_type": "code",
   "execution_count": null,
   "metadata": {
    "_uuid": "343ea9c1cfba66e337d2f330addb2cf9fde155a1",
    "collapsed": true,
    "jupyter": {
     "outputs_hidden": true
    }
   },
   "outputs": [],
   "source": []
  },
  {
   "cell_type": "code",
   "execution_count": null,
   "metadata": {
    "_uuid": "1fb18cacdcc7244bef232265028b962eb7510bf2",
    "collapsed": true,
    "jupyter": {
     "outputs_hidden": true
    }
   },
   "outputs": [],
   "source": []
  },
  {
   "cell_type": "code",
   "execution_count": null,
   "metadata": {
    "_uuid": "fb1d1e1158594709c8e3762b44e7b9e63c4b46a0",
    "collapsed": true,
    "jupyter": {
     "outputs_hidden": true
    }
   },
   "outputs": [],
   "source": []
  },
  {
   "cell_type": "code",
   "execution_count": null,
   "metadata": {
    "_uuid": "41e3235549de8facacc328d0d4f347b75be5847a",
    "collapsed": true,
    "jupyter": {
     "outputs_hidden": true
    }
   },
   "outputs": [],
   "source": []
  },
  {
   "cell_type": "code",
   "execution_count": null,
   "metadata": {
    "_uuid": "74418aa3e616d4f77c852dd399f6272288de70ad",
    "collapsed": true,
    "jupyter": {
     "outputs_hidden": true
    }
   },
   "outputs": [],
   "source": []
  },
  {
   "cell_type": "code",
   "execution_count": null,
   "metadata": {
    "_uuid": "aa67b5e1f5fe68ffd41738903a28bb9ae11c2c3d",
    "collapsed": true,
    "jupyter": {
     "outputs_hidden": true
    }
   },
   "outputs": [],
   "source": []
  },
  {
   "cell_type": "code",
   "execution_count": null,
   "metadata": {
    "_uuid": "981c76906272432589e3c2a58f5314f756603a67",
    "collapsed": true,
    "jupyter": {
     "outputs_hidden": true
    }
   },
   "outputs": [],
   "source": []
  },
  {
   "cell_type": "code",
   "execution_count": null,
   "metadata": {
    "_uuid": "1499e9990daf8316abfa41f253d7edfe3c1e1d75",
    "collapsed": true,
    "jupyter": {
     "outputs_hidden": true
    }
   },
   "outputs": [],
   "source": []
  },
  {
   "cell_type": "code",
   "execution_count": null,
   "metadata": {
    "_uuid": "2f97492340ab6f6e7de4ac7a57ba6813f3e30a44",
    "collapsed": true,
    "jupyter": {
     "outputs_hidden": true
    }
   },
   "outputs": [],
   "source": []
  },
  {
   "cell_type": "code",
   "execution_count": null,
   "metadata": {
    "_uuid": "aa8525062d055605e7442963c9e608c2c7c739e9",
    "collapsed": true,
    "jupyter": {
     "outputs_hidden": true
    }
   },
   "outputs": [],
   "source": []
  },
  {
   "cell_type": "code",
   "execution_count": null,
   "metadata": {
    "_uuid": "ff9b4d6462c70e6fcc7fe38a20736ad1614fa98a",
    "collapsed": true,
    "jupyter": {
     "outputs_hidden": true
    }
   },
   "outputs": [],
   "source": []
  },
  {
   "cell_type": "code",
   "execution_count": null,
   "metadata": {
    "_uuid": "c02b26b6cb602c8923ee059f60a6f99bed691af9",
    "collapsed": true,
    "jupyter": {
     "outputs_hidden": true
    }
   },
   "outputs": [],
   "source": []
  },
  {
   "cell_type": "code",
   "execution_count": null,
   "metadata": {
    "_uuid": "080697fc23e2acfd6729cfb45f34cb7421911c78",
    "collapsed": true,
    "jupyter": {
     "outputs_hidden": true
    }
   },
   "outputs": [],
   "source": []
  },
  {
   "cell_type": "code",
   "execution_count": null,
   "metadata": {
    "_uuid": "dea213d52a17c9be14248fc50ff36f2fd05d246b",
    "collapsed": true,
    "jupyter": {
     "outputs_hidden": true
    }
   },
   "outputs": [],
   "source": []
  },
  {
   "cell_type": "code",
   "execution_count": null,
   "metadata": {
    "_uuid": "c8540b7b2eaa33d1a2d96fd758e2943d818a758d",
    "collapsed": true,
    "jupyter": {
     "outputs_hidden": true
    }
   },
   "outputs": [],
   "source": []
  },
  {
   "cell_type": "code",
   "execution_count": null,
   "metadata": {
    "_uuid": "3c3f1d8fd08cd1a68682e42dcd728b9ac07da048",
    "collapsed": true,
    "jupyter": {
     "outputs_hidden": true
    }
   },
   "outputs": [],
   "source": []
  },
  {
   "cell_type": "code",
   "execution_count": null,
   "metadata": {
    "_uuid": "b0850ffb197e6a8ad3720f897122fb23e05a2f5a",
    "collapsed": true,
    "jupyter": {
     "outputs_hidden": true
    }
   },
   "outputs": [],
   "source": []
  },
  {
   "cell_type": "code",
   "execution_count": null,
   "metadata": {
    "_uuid": "0bcaf11d3b1cf39857caef2da7fb7d4cce269577",
    "collapsed": true,
    "jupyter": {
     "outputs_hidden": true
    }
   },
   "outputs": [],
   "source": []
  },
  {
   "cell_type": "code",
   "execution_count": null,
   "metadata": {
    "_uuid": "1cd00a018777c752039d4a003f0cd62c7902dafb",
    "collapsed": true,
    "jupyter": {
     "outputs_hidden": true
    }
   },
   "outputs": [],
   "source": []
  },
  {
   "cell_type": "code",
   "execution_count": null,
   "metadata": {
    "_uuid": "48a672f651aec41e9c0ff1d4ea863332ecc26f47",
    "collapsed": true,
    "jupyter": {
     "outputs_hidden": true
    }
   },
   "outputs": [],
   "source": []
  }
 ],
 "metadata": {
  "anaconda-cloud": {},
  "kernelspec": {
   "display_name": "Python 3",
   "language": "python",
   "name": "python3"
  },
  "language_info": {
   "codemirror_mode": {
    "name": "ipython",
    "version": 3
   },
   "file_extension": ".py",
   "mimetype": "text/x-python",
   "name": "python",
   "nbconvert_exporter": "python",
   "pygments_lexer": "ipython3",
   "version": "3.8.5"
  }
 },
 "nbformat": 4,
 "nbformat_minor": 4
}
