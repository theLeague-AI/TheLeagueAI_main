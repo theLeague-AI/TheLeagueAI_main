{
 "cells": [
  {
   "cell_type": "markdown",
   "metadata": {},
   "source": [
    "<img src=\"the_leagueAI_Logo.png\" alt=\"the_leagueAI_Logo\" width=\"200\"/>"
   ]
  },
  {
   "cell_type": "markdown",
   "metadata": {},
   "source": [
    "## 1. Introduction\n",
    "Smartphones are an integral part of the lives of human beings. When making the decision to purchase a phone, many factors like the display, processor, memory, camera, thickness, battery and connectivity are taken into account. With so many options in the market customers find it increasingly difficult to estimate whether the product they are purchasing is worth the cost.\n",
    "\n",
    "Today you will attempt at solving this problem by generating a machine learning model capable of predicting the cost of a smartphone taking the historical data pertaining to the key features of smartphones along with their cost. A model capable of predicting the value of a new smartphone can be a powerful tool for customers who are looking to make the best investment when buying a new phone."
   ]
  },
  {
   "cell_type": "markdown",
   "metadata": {},
   "source": [
    "<img src=\"phones_image.jpeg\" alt=\"phones_image\" width=\"1000\"/>"
   ]
  },
  {
   "cell_type": "markdown",
   "metadata": {},
   "source": [
    "### Approach\n",
    "A reminder of the general approach to working on a Machine Lerning Project:</p>\n",
    "<ul>\n",
    " \n",
    "    1. Start off by loading and viewing the dataset. Make sure you are able to understand the how our data looks, the data types and value ranges.\n",
    " \n",
    "    2. Prepare the data to make sure that you are not missing any values and that your data is ready for your ML model to make predictions.\n",
    " \n",
    "    3. Build some intuition on your data by exploring the features.\n",
    " \n",
    "    4. Finally build a machine learning model that can predict if an individual's application for a credit card will be accepted.\n"
   ]
  },
  {
   "cell_type": "markdown",
   "metadata": {},
   "source": [
    "### Notes\n",
    "- The data is sitting on a csv file named train_mobil_data.csv\n",
    "- The features present in this data are:\n",
    "\n",
    "    * id:ID\n",
    "    * battery_power:Total energy a battery can store in one time measured in mAh\n",
    "    * blue:Has bluetooth or not\n",
    "    * clock_speed:speed at which microprocessor executes instructions\n",
    "    * dual_sim:Has dual sim support or not\n",
    "    * fc:Front Camera mega pixels\n",
    "    * four_g:Has 4G or not\n",
    "    * int_memory:Internal Memory in Gigabytes\n",
    "    * m_dep:Mobile Depth in cm\n",
    "    * mobile_wt:Weight of mobile phone\n",
    "    * n_cores:Number of cores of processor\n",
    "    * pc:Primary Camera mega pixels\n",
    "    * px_height:Pixel Resolution Height\n",
    "    * px_width:Pixel Resolution Width\n",
    "    * ram:Random Access Memory in Megabytes\n",
    "    * sc_h:Screen Height of mobile in cm\n",
    "    * sc_w:Screen Width of mobile in cm\n",
    "    * talk_time:longest time that a single battery charge will last when you are\n",
    "    * three_g:Has 3G or not\n",
    "    * touch_screen:Has touch screen or not\n",
    "    * wifi:Has wifi or not\n",
    "\n"
   ]
  },
  {
   "cell_type": "markdown",
   "metadata": {},
   "source": [
    "## Data Load\n",
    "Load the data from the file provided and inspect it."
   ]
  },
  {
   "cell_type": "code",
   "execution_count": null,
   "metadata": {
    "dc": {
     "key": "3"
    },
    "tags": [
     "sample_code"
    ]
   },
   "outputs": [],
   "source": [
    "# Import pandas\n",
    "import pandas as pd\n",
    "\n",
    "# Load dataset\n",
    "dataset=pd.read_csv('../input/train.csv')\n",
    "\n",
    "# Inspect data\n",
    "dataset.head()"
   ]
  },
  {
   "cell_type": "markdown",
   "metadata": {},
   "source": [
    "## Data Exploration\n",
    "This is the process where you look at and understand their data with statistical and visualization methods. This step helps identifying patterns and problems in the dataset, as well as deciding which model or algorithm to use in subsequent steps.\n",
    "\n",
    "The steps you should consider in this stage include:\n",
    "\n",
    "- Identify input(features) and output(target) variables on your data\n",
    "- Identify the types of data\n",
    "- identify categorical vs continuous variables\n",
    "- Understanding the statistical properties of your variables"
   ]
  },
  {
   "cell_type": "code",
   "execution_count": null,
   "metadata": {
    "dc": {
     "key": "10"
    },
    "tags": [
     "sample_code"
    ]
   },
   "outputs": [],
   "source": [
    "# Code for data exploration\n",
    "dataset.info()\n",
    "dataset.describe()"
   ]
  },
  {
   "cell_type": "markdown",
   "metadata": {},
   "source": [
    "## Data Visualization\n",
    "e now have a basic idea about the data. We need to extend that with some visualizations.\n",
    "\n",
    "We are going to look at two types of plots:\n",
    "\n",
    "- Histograms plot to have an idea of the distribution\n",
    "- Scatter plots to find some of the correlation between variables"
   ]
  },
  {
   "cell_type": "code",
   "execution_count": null,
   "metadata": {},
   "outputs": [],
   "source": [
    "# Code for data visualization\n",
    "sns.pairplot(dataset,hue='price_range')\n",
    "\n",
    "# how is price affected by ram?\n",
    "sns.jointplot(x='ram',y='price_range',data=dataset,color='red',kind='kde');\n",
    "\n",
    "# how is price affected by internam memory\n",
    "sns.pointplot(y=\"int_memory\", x=\"price_range\", data=dataset)\n",
    "\n",
    "# % percentage of phones wich support 3G\n",
    "labels = [\"3G-supported\",'Not supported']\n",
    "values=dataset['three_g'].value_counts().values\n",
    "fig1, ax1 = plt.subplots()\n",
    "ax1.pie(values, labels=labels, autopct='%1.1f%%',shadow=True,startangle=90)\n",
    "plt.show()\n",
    "\n",
    "# % percentage of phones that support 4G\n",
    "labels4g = [\"4G-supported\",'Not supported']\n",
    "values4g = dataset['four_g'].value_counts().values\n",
    "fig1, ax1 = plt.subplots()\n",
    "ax1.pie(values4g, labels=labels4g, autopct='%1.1f%%',shadow=True,startangle=90)\n",
    "plt.show()\n",
    "\n",
    "# How is price affected by battery power\n",
    "sns.boxplot(x=\"price_range\", y=\"battery_power\", data=dataset)\n",
    "\n",
    "# No of phones vs camera megapiles of front and primary camera\n",
    "plt.figure(figsize=(10,6))\n",
    "dataset['fc'].hist(alpha=0.5,color='blue',label='Front camera')\n",
    "dataset['pc'].hist(alpha=0.5,color='red',label='Primary camera')\n",
    "plt.legend()\n",
    "plt.xlabel('MegaPixels')\n",
    "\n",
    "# Talk time vs price range\n",
    "sns.pointplot(y=\"talk_time\", x=\"price_range\", data=dataset)"
   ]
  },
  {
   "cell_type": "markdown",
   "metadata": {},
   "source": [
    "## Data Preparation\n",
    "You must now begin the process of transforming raw data so that data it is run through your ml model\n",
    "\n",
    "- Identify features and target variables\n",
    "- Modify the data types of each feature (if needed)\n",
    "- Look for missing values, replace or remove\n",
    "- Modify skewed variables\n",
    "- Remove outliers"
   ]
  },
  {
   "cell_type": "code",
   "execution_count": null,
   "metadata": {},
   "outputs": [],
   "source": [
    "# Separate features and target variables\n",
    "features = dataset.drop('price_range',axis=1)\n",
    "target = dataset['price_range']"
   ]
  },
  {
   "cell_type": "code",
   "execution_count": null,
   "metadata": {
    "dc": {
     "key": "31"
    },
    "tags": [
     "sample_code"
    ]
   },
   "outputs": [],
   "source": [
    "#"
   ]
  },
  {
   "cell_type": "markdown",
   "metadata": {},
   "source": [
    "## Feature Engineering\n",
    "You must now begin the process of extracting more information from existing data. You are not adding any new data here, but you are actually making the data you already have more useful.\n",
    "\n",
    "\n",
    "The steps you should consider in this stage include:\n",
    "\n",
    "- Developing new features apart from those already generated\n",
    "\n",
    "- Selecting a set of features to remove\n",
    "\n",
    "- Creating features using existing data through mathematical operations \n",
    "\n",
    "- Applying feature scaling\n",
    "\n",
    "- Applying label encoding\n",
    "\n",
    "- Understanding correlation between features and target\n",
    "\n",
    "\n"
   ]
  },
  {
   "cell_type": "code",
   "execution_count": null,
   "metadata": {},
   "outputs": [],
   "source": [
    "# Code for feature engineering"
   ]
  },
  {
   "cell_type": "code",
   "execution_count": null,
   "metadata": {
    "dc": {
     "key": "52"
    },
    "tags": [
     "sample_code"
    ]
   },
   "outputs": [],
   "source": [
    "# Code for feature engineering"
   ]
  },
  {
   "cell_type": "markdown",
   "metadata": {},
   "source": [
    "## Build Train and Test\n",
    "For training a model we initially split the model into 3 three sections which are ‘Training data’ ,‘Validation data’ and ‘Testing data’.\n",
    "You train the classifier using ‘training data set’, tune the parameters using ‘validation set’ and then test the performance of your classifier on unseen ‘test data set’. \n",
    "\n",
    "- Note: during training the classifier only the training and/or validation set is available. The test data set must not be used during training the classifier. The test set will only be available during testing the classifier."
   ]
  },
  {
   "cell_type": "code",
   "execution_count": null,
   "metadata": {
    "dc": {
     "key": "45"
    },
    "tags": [
     "sample_code"
    ]
   },
   "outputs": [],
   "source": [
    "# Import train_test_split\n",
    "\n",
    "X_train, X_test, y_train, y_test = train_test_split(X, y, test_size=0.33, random_state=101)"
   ]
  },
  {
   "cell_type": "markdown",
   "metadata": {},
   "source": [
    "## Building the Model\n",
    "\n",
    "Now that the data has been processed it is time to determine the what model will be used to find our predictions. \n",
    "\n",
    "Consider the following points before making a choosing a model:\n",
    "\n",
    "- The type of prediction this project requires (classification/regression)\n",
    "- How well do you understand the model you want to use.\n",
    "- Previoous performance of the model you choose on similar data\n",
    "\n"
   ]
  },
  {
   "cell_type": "code",
   "execution_count": null,
   "metadata": {
    "dc": {
     "key": "59"
    },
    "tags": [
     "sample_code"
    ]
   },
   "outputs": [],
   "source": [
    "# Code to build the model\n",
    "from sklearn.tree import DecisionTreeClassifier\n",
    "dtree = DecisionTreeClassifier()\n",
    "dtree.fit(X_train,y_train)\n",
    "dtree.score(X_test,y_test)"
   ]
  },
  {
   "cell_type": "code",
   "execution_count": null,
   "metadata": {},
   "outputs": [],
   "source": [
    "feature_names=['battery_power', 'blue', 'clock_speed', 'dual_sim', 'fc', 'four_g',\n",
    "       'int_memory', 'm_dep', 'mobile_wt', 'n_cores', 'pc', 'px_height',\n",
    "       'px_width', 'ram', 'sc_h', 'sc_w', 'talk_time', 'three_g',\n",
    "       'touch_screen', 'wifi']"
   ]
  },
  {
   "cell_type": "code",
   "execution_count": null,
   "metadata": {},
   "outputs": [],
   "source": [
    "#For tree Visualization as kaggle does't support pydotplus just install the pydotplus in your systems's conda terminal\n",
    "'''\n",
    "import pydotplus as pydot\n",
    "\n",
    "from IPython.display import Image\n",
    "\n",
    "from sklearn.externals.six import StringIO\n",
    "\n",
    "dot_data = StringIO()\n",
    "\n",
    "tree.export_graphviz(dtree, out_file=dot_data,feature_names=feature_names)\n",
    "\n",
    "graph = pydot.graph_from_dot_data(dot_data.getvalue())\n",
    "\n",
    "Image(graph.create_png())'''"
   ]
  },
  {
   "cell_type": "code",
   "execution_count": null,
   "metadata": {},
   "outputs": [],
   "source": [
    "#Another way\n",
    "'''from IPython.display import Image  \n",
    "from sklearn.externals.six import StringIO  \n",
    "from sklearn.tree import export_graphviz\n",
    "import pydot \n",
    "import os\n",
    "os.environ[\"PATH\"] += os.pathsep + 'C:/Program Files (x86)/Graphviz2.38/bin/'\n",
    "dot_data = StringIO()  \n",
    "export_graphviz(dtree, out_file=dot_data,feature_names=feature_names,filled=True)\n",
    "\n",
    "graph = pydot.graph_from_dot_data(dot_data.getvalue())  \n",
    "Image(graph[0].create_png())'''  "
   ]
  },
  {
   "cell_type": "code",
   "execution_count": null,
   "metadata": {},
   "outputs": [],
   "source": [
    "from sklearn.ensemble import RandomForestClassifier\n",
    "rfc = RandomForestClassifier(n_estimators=200)\n",
    "rfc.fit(X_train, y_train)"
   ]
  },
  {
   "cell_type": "markdown",
   "metadata": {},
   "source": [
    "## Evaluating and Accuracy Metrics\n",
    "<p>But how well does our model perform? </p>\n"
   ]
  },
  {
   "cell_type": "code",
   "execution_count": null,
   "metadata": {},
   "outputs": [],
   "source": [
    "# Data Accuracy metrics code"
   ]
  },
  {
   "cell_type": "markdown",
   "metadata": {},
   "source": [
    "rfc.score(X_test,y_test)"
   ]
  },
  {
   "cell_type": "code",
   "execution_count": null,
   "metadata": {},
   "outputs": [],
   "source": [
    "pred = rfc.predict(X_test)"
   ]
  },
  {
   "cell_type": "code",
   "execution_count": null,
   "metadata": {},
   "outputs": [],
   "source": [
    "from sklearn.metrics import classification_report,confusion_matrix"
   ]
  },
  {
   "cell_type": "code",
   "execution_count": null,
   "metadata": {},
   "outputs": [],
   "source": [
    "print(classification_report(y_test,pred))"
   ]
  },
  {
   "cell_type": "code",
   "execution_count": null,
   "metadata": {},
   "outputs": [],
   "source": [
    "matrix=confusion_matrix(y_test,pred)\n",
    "print(matrix)"
   ]
  },
  {
   "cell_type": "code",
   "execution_count": null,
   "metadata": {},
   "outputs": [],
   "source": [
    "plt.figure(figsize = (10,7))\n",
    "sns.heatmap(matrix,annot=True)"
   ]
  }
 ],
 "metadata": {
  "kernelspec": {
   "display_name": "Python 3",
   "language": "python",
   "name": "python3"
  },
  "language_info": {
   "codemirror_mode": {
    "name": "ipython",
    "version": 3
   },
   "file_extension": ".py",
   "mimetype": "text/x-python",
   "name": "python",
   "nbconvert_exporter": "python",
   "pygments_lexer": "ipython3",
   "version": "3.8.5"
  }
 },
 "nbformat": 4,
 "nbformat_minor": 4
}
