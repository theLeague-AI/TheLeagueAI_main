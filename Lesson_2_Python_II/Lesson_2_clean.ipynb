{
 "cells": [
  {
   "cell_type": "markdown",
   "metadata": {},
   "source": [
    "# Lesson 2: Intro to Python Part 2\n",
    "\n",
    "Today we want to learn more about visualization, dictionaries, pandas and control structures"
   ]
  },
  {
   "cell_type": "markdown",
   "metadata": {},
   "source": [
    "## Visualization: Matplotlib\n",
    "- Data visualizations are important because they allow us to understand data\n",
    "- The better you understand data, the more insights you will find\n",
    "- The better the visualization, the easier it will be to communicate your findings\n",
    "- Matplotlib is one of the most important visualization packages in python"
   ]
  },
  {
   "cell_type": "markdown",
   "metadata": {},
   "source": [
    "### Line Plot\n",
    "You can create line plots to represent data, the example below shows an example of how you can use matplotlib to create a basic line plot using two lists of data\n",
    "   - .plot method tells Python what to plot and how to plot it\n",
    "   \n",
    "\n"
   ]
  },
  {
   "cell_type": "code",
   "execution_count": 4,
   "metadata": {},
   "outputs": [],
   "source": [
    "# Import matplotlib subpackage pyplot as plt\n",
    "import matplotlib.pyplot as plt\n",
    "\n",
    "# Data of the US population in millions over the past 3 dacades\n",
    "year = [1990, 2000, 2010, 2020]\n",
    "population = [248.7, 281.3, 308.7, 332.6]\n",
    "\n",
    "# Create a plot using the data provided \n",
    "# Year on the horizontal axis and Population on the vertical access\n",
    "# # Plot function tells Python what to plot and how to plot it\n",
    "\n",
    "\n",
    "\n",
    "# Display the plot\n",
    "# You can call the show() function to display the plot\n",
    "\n"
   ]
  },
  {
   "cell_type": "markdown",
   "metadata": {},
   "source": [
    "Lets think about a more truthful way to visualize this data is in a scatter plot...\n",
    "  - Why is a scatter plot a more truthful representation of our data"
   ]
  },
  {
   "cell_type": "code",
   "execution_count": 3,
   "metadata": {},
   "outputs": [],
   "source": [
    "# Create a scatter plot from the data provided\n",
    "\n",
    "# Show the plot\n"
   ]
  },
  {
   "cell_type": "markdown",
   "metadata": {},
   "source": [
    "### Customization\n",
    "- There are many options available to customize your plots:\n",
    "    - plot type \n",
    "    - Color\n",
    "    - Label\n",
    "    - Axis\n",
    "    \n",
    "- The choices depend on the data available and the story you want to tell\n",
    "\n",
    "- Important steps to consider:\n",
    "        1) Pick the type\n",
    "        2) Color and size\n",
    "        3) Label your axies \n",
    "        4) Modify the scale of each axis"
   ]
  },
  {
   "cell_type": "code",
   "execution_count": 2,
   "metadata": {},
   "outputs": [],
   "source": [
    "# Import matplotlib subpackage pyplot as plt\n",
    "# Note we do not really have to do this twice\n",
    "import matplotlib.pyplot as plt\n",
    "\n",
    "# Given data\n",
    "time = [90,92,94,96]\n",
    "quantity = [248.7, 281.3, 308.7, 332.6]\n",
    "\n",
    "# Pick the type of graph you would like to make (scatter, x, y, color and size of your marker size)\n",
    "\n",
    "\n",
    "# Label your axies\n",
    "\n",
    "\n",
    "# Add a title\n",
    "\n",
    "\n",
    "# We can modify the axis ticks on our x and/or y axis\n",
    "\n",
    "\n",
    "# Show your graph\n"
   ]
  },
  {
   "cell_type": "markdown",
   "metadata": {},
   "source": [
    "## Dictionaries and Pandas\n",
    "### Dictionaries \n",
    "- Dictionaries are used to store data values in key:value pairs\n",
    "- This data structure is a very useful because you can use the keys to index data\n",
    "- To create a dictionary you first open a set of curly brackets\n",
    "- Inside the curly brackets we have what we call Key Value pairs\n",
    "- Keys: Elements that you want to define\n",
    "- Values: Elements that define your keys. (these can be of any type float, integer, lists) \n",
    "- They are separated by a colon (:)"
   ]
  },
  {
   "cell_type": "code",
   "execution_count": 30,
   "metadata": {
    "scrolled": true
   },
   "outputs": [
    {
     "name": "stdout",
     "output_type": "stream",
     "text": [
      "{'apple': 195, 'banana': 120, 'mango': 200}\n"
     ]
    }
   ],
   "source": [
    "# Example dictionary of fruit weights in grams\n",
    "fruit_dict = {'apple':195 , 'banana':120, 'mango':200}\n",
    "\n",
    "print(fruit_dict)"
   ]
  },
  {
   "cell_type": "markdown",
   "metadata": {},
   "source": [
    "***Accessing Elements From Dictionary***\n",
    "- With lists, we used indexing to access values within a list with a set of squared brackets\n",
    "- Similarly, for dictionaries we can add square brackets to find any particular element within the dictionary\n"
   ]
  },
  {
   "cell_type": "code",
   "execution_count": 31,
   "metadata": {},
   "outputs": [
    {
     "name": "stdout",
     "output_type": "stream",
     "text": [
      "120\n"
     ]
    }
   ],
   "source": [
    "# Access the weight of the banana from the fruit dictionary\n"
   ]
  },
  {
   "cell_type": "code",
   "execution_count": 32,
   "metadata": {},
   "outputs": [],
   "source": [
    "# EXERCISE 1\n",
    "# Print the weight of mangos from the fruit dictionary"
   ]
  },
  {
   "cell_type": "markdown",
   "metadata": {},
   "source": [
    "- The keys in the dictionary must be unique\n",
    "- Keys have to be immutable objects; strings, booleans and integers are immutable. Lists for example are not immutable\n",
    "\n",
    "***Adding/Updating Data to a Dictionary***\n",
    "\n",
    "You can add new keys and their corresponding value to a dictionary"
   ]
  },
  {
   "cell_type": "code",
   "execution_count": 33,
   "metadata": {},
   "outputs": [
    {
     "name": "stdout",
     "output_type": "stream",
     "text": [
      "{'apple': 195, 'banana': 120, 'mango': 200, 'orange': 140}\n",
      "True\n"
     ]
    }
   ],
   "source": [
    "# Add orange and its corresponding weight to the dictionary\n",
    "\n",
    "\n",
    "# Print the dictionary\n",
    "\n",
    "\n",
    "# You can check if any particular key is in a dictionary\n",
    "# Using \"in\"\n"
   ]
  },
  {
   "cell_type": "markdown",
   "metadata": {},
   "source": [
    "You can also update the values inside a list"
   ]
  },
  {
   "cell_type": "code",
   "execution_count": 34,
   "metadata": {},
   "outputs": [
    {
     "name": "stdout",
     "output_type": "stream",
     "text": [
      "{'apple': 195, 'banana': 120, 'mango': 200, 'orange': 140}\n",
      "{'apple': 200, 'banana': 120, 'mango': 200, 'orange': 140}\n"
     ]
    }
   ],
   "source": [
    "# Print the current fruit dictionary\n",
    "\n",
    "\n",
    "# Update the apple value\n",
    "\n",
    "\n",
    "# Print the updated fruit dictionary\n"
   ]
  },
  {
   "cell_type": "markdown",
   "metadata": {},
   "source": [
    "- You may remove keys from dictionaries"
   ]
  },
  {
   "cell_type": "code",
   "execution_count": 35,
   "metadata": {},
   "outputs": [
    {
     "name": "stdout",
     "output_type": "stream",
     "text": [
      "{'apple': 200, 'banana': 120, 'orange': 140}\n"
     ]
    }
   ],
   "source": [
    "# Remove mango key from a dictionary\n",
    "del(fruit_dict['mango'])\n",
    "\n",
    "# Print fruit dictionary\n"
   ]
  },
  {
   "cell_type": "code",
   "execution_count": 36,
   "metadata": {},
   "outputs": [],
   "source": [
    "# EXERCISE 2\n",
    "# Add berries with a weight of 4g to the fruit dictionary and print the weight of berries and apples"
   ]
  },
  {
   "cell_type": "markdown",
   "metadata": {},
   "source": [
    "- Lists are indexed by numbers and the dictionaries are indexed by keys\n",
    "- Just like we did with sublists, you may have dictionaries where the values for each key is another dictionary\n",
    "- You can then access data values within the nested dictionaries"
   ]
  },
  {
   "cell_type": "code",
   "execution_count": 6,
   "metadata": {},
   "outputs": [],
   "source": [
    "# Define a dictionary with nested dictionary as values\n",
    "team_dict = {1: {'name': 'John', 'age': '27', 'gender': 'Male'},\n",
    "          2: {'name': 'Marie', 'age': '22', 'gender': 'Female'},\n",
    "          3: {'name': 'Luna', 'age': '24', 'gender': 'Female', 'married': 'No'},\n",
    "          4: {'name': 'Peter', 'age': '29', 'gender': 'Male', 'married': 'Yes'}}\n",
    "\n",
    "# Extract the age of person 4\n",
    "\n"
   ]
  },
  {
   "cell_type": "markdown",
   "metadata": {},
   "source": [
    "### Pandas and DataFrames\n",
    "- In data science we will work with large amounts of data\n",
    "- To work with data in python we need some sort of tabulated data structures\n",
    "- Pandas allows us to work with tabulated data very easily by using DataFrames\n",
    "- Pandas DataFrames are 2-Dimensional table like data structures \n",
    "\n",
    "***Creating DataFrames***\n",
    "- First you need to import the Pandas package\n",
    "- Then you can create a DataFrame from a dictionary and other data sources such as the cloud or a CSV file from your computer\n"
   ]
  },
  {
   "cell_type": "code",
   "execution_count": 5,
   "metadata": {},
   "outputs": [],
   "source": [
    "# Import the Pandas package\n",
    "import pandas as pd\n",
    "\n",
    "# Create a DataFrame from the team dictionary\n",
    "\n",
    "\n",
    "# Print the DataFrame \n",
    "\n"
   ]
  },
  {
   "cell_type": "markdown",
   "metadata": {},
   "source": [
    "- This data looks a bit messy, what do the columns mean?\n",
    "- We will work on how cleaning and structure data correctly\n",
    "\n",
    "For now let's look at data that does not need any editing...\n"
   ]
  },
  {
   "cell_type": "code",
   "execution_count": 7,
   "metadata": {},
   "outputs": [],
   "source": [
    "# Import data from a CSV file\n",
    "# Stored in your computer you must have the car.csv file \n",
    "\n",
    "\n",
    "# Print the imported DataFrame\n"
   ]
  },
  {
   "cell_type": "markdown",
   "metadata": {},
   "source": [
    "- Notice that the read_csv method automatically generated an index column on the left of the DataFrame automatically\n",
    "- In most cases you would want to make sure that the first column of your DataFrame is the indexing column\n",
    "- In our example, we have data corresponding to different countries, therefore the countries abbreviation should be the first column\n",
    "- To do so you can add an argument on the read_csv method that specifies that our first column should be our indexing column\n"
   ]
  },
  {
   "cell_type": "code",
   "execution_count": 8,
   "metadata": {},
   "outputs": [],
   "source": [
    "# Import the CSV file with the first column as the indexing column\n",
    "# you can do this by setting the index_col argument to zero\n",
    "cars = pd.read_csv('cars.csv', index_col = 0)\n",
    "\n",
    "# print DataFrame\n",
    "\n"
   ]
  },
  {
   "cell_type": "markdown",
   "metadata": {},
   "source": [
    "### Select Data From DataFrames\n",
    "- We must often index and select data from our data frame\n",
    "- Some of the options we have to do this include:\n",
    "    - Brackets\n",
    "    - loc\n",
    "    - iloc\n",
    "    \n",
    "You can select a column in a DataFrame using squared brackets:"
   ]
  },
  {
   "cell_type": "code",
   "execution_count": 9,
   "metadata": {},
   "outputs": [],
   "source": [
    "# Print the cars per capita column from the cars DataFrame\n"
   ]
  },
  {
   "cell_type": "code",
   "execution_count": 42,
   "metadata": {},
   "outputs": [],
   "source": [
    "# EXERCISE 3\n",
    "# print the full country names in the cars DataFrame\n"
   ]
  },
  {
   "cell_type": "markdown",
   "metadata": {},
   "source": [
    "- Python prints the column along with the row labels\n",
    "- The column was returned with a note at the bottom, stating that the dtype is int64\n",
    "- We can then evaluate what type of data was returned from the square brackets using the type function type()"
   ]
  },
  {
   "cell_type": "code",
   "execution_count": 43,
   "metadata": {},
   "outputs": [
    {
     "data": {
      "text/plain": [
       "pandas.core.series.Series"
      ]
     },
     "execution_count": 43,
     "metadata": {},
     "output_type": "execute_result"
    }
   ],
   "source": [
    "type(cars['cars_per_cap'])"
   ]
  },
  {
   "cell_type": "markdown",
   "metadata": {},
   "source": [
    "- Note that you are returned a series\n",
    "- A series is a one dimentional DataFrame\n",
    "- You can think of a DataFrame as a bunch of series put together\n",
    "\n",
    "***Slicing***\n",
    "- You may obtain a set of rows from the DataFrame using slicing (similar to lists)\n",
    "- Note the formatting of slicing\n",
    "    - DataFrame [start-inclusive, end-exclusive]\n",
    "    - zero based indexing"
   ]
  },
  {
   "cell_type": "code",
   "execution_count": 10,
   "metadata": {},
   "outputs": [],
   "source": [
    "# Obtain the 2nd and 3rd rows from the cars DataFrame (1 is inclusive, 3 is exclusive)\n"
   ]
  },
  {
   "cell_type": "code",
   "execution_count": 45,
   "metadata": {},
   "outputs": [],
   "source": [
    "# EXERCISE 4\n",
    "# Obtain the last two rows from the cars DataFrame"
   ]
  },
  {
   "cell_type": "markdown",
   "metadata": {},
   "source": [
    "***loc and iloc***\n",
    "- loc: allows you to select data based on labels\n",
    "- iloc: allows you to select your data based on position\n",
    "\n",
    "***Example using loc***"
   ]
  },
  {
   "cell_type": "code",
   "execution_count": 11,
   "metadata": {},
   "outputs": [],
   "source": [
    "# get the row for Russia from the cars DataFrame\n"
   ]
  },
  {
   "cell_type": "markdown",
   "metadata": {},
   "source": [
    "- You get a pandas series containing all the information for that label (Russia in this case)\n",
    "- If you wanted to get a DataFrame from your car DataFrame that also included China you could use another set of brackets..."
   ]
  },
  {
   "cell_type": "code",
   "execution_count": 12,
   "metadata": {},
   "outputs": [],
   "source": [
    "# Select a DataFrame from the cars DataFrame that contains Russia and Japan\n"
   ]
  },
  {
   "cell_type": "markdown",
   "metadata": {},
   "source": [
    "- You could also obtain specific information from that label \n",
    "- For example, if you wanted to obtain cars_per_cap and the full country name you can add a coma and another list with the column names that we want"
   ]
  },
  {
   "cell_type": "code",
   "execution_count": 13,
   "metadata": {},
   "outputs": [],
   "source": [
    "# Select the cars_per_cap and country columns for the for Russia and Japan\n"
   ]
  },
  {
   "cell_type": "markdown",
   "metadata": {},
   "source": [
    "- You can select all rows and a set of columns by using a colon (:) instead of specifying what row label you want\n"
   ]
  },
  {
   "cell_type": "code",
   "execution_count": 14,
   "metadata": {},
   "outputs": [],
   "source": [
    "# Select all rows and the cars_per_cap and country columns\n"
   ]
  },
  {
   "cell_type": "markdown",
   "metadata": {},
   "source": [
    "***Example Using iloc***\n",
    "- You can also select several rows and and columns based on index location by using iloc"
   ]
  },
  {
   "cell_type": "code",
   "execution_count": 15,
   "metadata": {},
   "outputs": [],
   "source": [
    "# get the row for Russia from the cars DataFrame\n"
   ]
  },
  {
   "cell_type": "code",
   "execution_count": 16,
   "metadata": {},
   "outputs": [],
   "source": [
    "# Select a DataFrame from the cars DataFrame that contains Russia and Japan\n"
   ]
  },
  {
   "cell_type": "code",
   "execution_count": 17,
   "metadata": {},
   "outputs": [],
   "source": [
    "# Select a DataFrame from the cars DataFrame that contains India and Morocco\n"
   ]
  },
  {
   "cell_type": "code",
   "execution_count": 18,
   "metadata": {},
   "outputs": [],
   "source": [
    "# Select the cars_per_cap and country columns for the for Russia and Japan\n"
   ]
  },
  {
   "cell_type": "code",
   "execution_count": 19,
   "metadata": {},
   "outputs": [],
   "source": [
    "# Select all rows and the cars_per_cap and country columns\n"
   ]
  },
  {
   "cell_type": "markdown",
   "metadata": {},
   "source": [
    "## Logic, Control Flow and Filtering\n",
    "### Comparison Operators\n",
    "- Comparison operators allow us how tell how two python values relate and provide a result in boolean form (True or False)\n",
    "- \"<\" is defined as less than\n",
    "- \">\" is defined as more than\n",
    "- Trick: if you know the game pacman, imagine the comparison operator is pacman's mouth. Packman will always want to eat the biggest value."
   ]
  },
  {
   "cell_type": "code",
   "execution_count": 20,
   "metadata": {},
   "outputs": [],
   "source": [
    "# Simple comparison operator, is 2 more than 3?\n"
   ]
  },
  {
   "cell_type": "code",
   "execution_count": 21,
   "metadata": {},
   "outputs": [],
   "source": [
    "# You can also check if two values are equal, is 2 equal 4?\n"
   ]
  },
  {
   "cell_type": "code",
   "execution_count": 22,
   "metadata": {},
   "outputs": [],
   "source": [
    "# Same operation can be done for less than or equal to three operator\n"
   ]
  },
  {
   "cell_type": "markdown",
   "metadata": {},
   "source": [
    "- You can also use comparison operators directly on variables"
   ]
  },
  {
   "cell_type": "code",
   "execution_count": 23,
   "metadata": {},
   "outputs": [],
   "source": [
    "# Define variables and test their values using comparison operators\n"
   ]
  },
  {
   "cell_type": "code",
   "execution_count": 24,
   "metadata": {},
   "outputs": [],
   "source": [
    "#Note that '==' checks to see if two values are equal, while '=' set a variable equal to a value\n"
   ]
  },
  {
   "cell_type": "markdown",
   "metadata": {},
   "source": [
    "### Filtering\n",
    "- You may apply logical operators to numpy arrays to filter for values that you need\n",
    "- Lets filter (or remove) all values that are less than 13"
   ]
  },
  {
   "cell_type": "code",
   "execution_count": 25,
   "metadata": {},
   "outputs": [],
   "source": [
    "# Import numpy\n",
    "import numpy as np\n",
    "\n",
    "# Define numpy array \n",
    "new_array = np.array([1,23,45,12,34,44,55,2,4])\n",
    "\n",
    "# Create a filtering boolean array \n",
    "\n"
   ]
  },
  {
   "cell_type": "code",
   "execution_count": 26,
   "metadata": {},
   "outputs": [],
   "source": [
    "# Using that boolean array we may now extract the values we want\n",
    "\n",
    "\n",
    "# print\n"
   ]
  },
  {
   "cell_type": "markdown",
   "metadata": {},
   "source": [
    "### Boolean Operators\n",
    "- You may combine comparison operation with boolean operators\n",
    "- The main boolean operators are:\n",
    "    - **and**: checks two booleans and returns True if both booleans are the same. It returns False if both booleans are different:\n",
    "        - True and True = True\n",
    "        - False and False = True\n",
    "        - True and Talse = Talse\n",
    "    - **or:** Checks to see if one of the booleans is true\n",
    "        - True or True = True\n",
    "        - True or False = True\n",
    "        - False or False = False\n",
    "    - **not:** negates the boolean value you use it on\n",
    "        - not True = False\n",
    "        - not False = True"
   ]
  },
  {
   "cell_type": "code",
   "execution_count": 27,
   "metadata": {},
   "outputs": [],
   "source": [
    "# Suppose you have a variable equal to 12\n",
    "\n",
    "# Check if x is greater than 5\n",
    "\n",
    "\n",
    "# You may chekc if x is less than 15\n"
   ]
  },
  {
   "cell_type": "markdown",
   "metadata": {},
   "source": [
    "- You may check if both conditions are met at the same time with boolean operators"
   ]
  },
  {
   "cell_type": "code",
   "execution_count": 28,
   "metadata": {},
   "outputs": [],
   "source": [
    "# Test with boolean operators\n"
   ]
  },
  {
   "cell_type": "markdown",
   "metadata": {},
   "source": [
    "- Check to see if either condition is met"
   ]
  },
  {
   "cell_type": "code",
   "execution_count": 29,
   "metadata": {},
   "outputs": [],
   "source": [
    "# Check to see if either x > 3 or x < 7\n"
   ]
  },
  {
   "cell_type": "markdown",
   "metadata": {},
   "source": [
    "- Negate an operation"
   ]
  },
  {
   "cell_type": "code",
   "execution_count": 30,
   "metadata": {},
   "outputs": [],
   "source": [
    "# negate the operation x>3 (Note that x = 12)\n"
   ]
  },
  {
   "cell_type": "markdown",
   "metadata": {},
   "source": [
    "### if, elif, else Conditional Statements\n",
    "\n",
    "- You can now utilize the boolean and comparison operators along with the conditional statements to make your python code behave in any way you want.\n",
    "- Conditional statement allow you to write data that perfomrs tasks based on a condition\n",
    "- Format\n",
    "    - if condition:\n",
    "    \n",
    "            expression...must be indented with 4 spaces or a \"tab\"\n",
    "- The expression is a function (action) that your code will perform on your data\n",
    "- To exit the conditional statement continue writing your code without indentation\n",
    "- **elif**: the elif statement allows you to add more conditions if the first one is not met\n",
    "- **else**: the else statement allows you to run a seperate function or perform a different action if the initial condition(s) is not met\n",
    "- Format:\n",
    "    - if condition :\n",
    "         \n",
    "          expression\n",
    "             \n",
    "      elif condition:\n",
    "      \n",
    "          expression\n",
    "      \n",
    "      else:\n",
    "         \n",
    "          expression\n",
    "             \n",
    "- Once a conditional statement has been met, the remaining statements are skipped.\n",
    "\n",
    "***Example***: write a code to determine the size category of a house. (small, medium, large)"
   ]
  },
  {
   "cell_type": "code",
   "execution_count": 31,
   "metadata": {},
   "outputs": [],
   "source": [
    "#Example\n",
    "\n",
    "# Define Area\n",
    "area = 10.0\n",
    "\n",
    "# Use if,elif,else to determine if the size category\n"
   ]
  },
  {
   "cell_type": "code",
   "execution_count": 68,
   "metadata": {},
   "outputs": [],
   "source": [
    "# EXERCISE 5\n",
    "# Create an if statement that checks if Felipe's favorite sport is tennis\n",
    "\n",
    "felipe_fav_sport = 'soccer'\n"
   ]
  },
  {
   "cell_type": "markdown",
   "metadata": {},
   "source": [
    "## Loops\n",
    "- Loops are techniques that you can use to  execute Python code several times over.\n",
    "\n",
    "\n",
    "### While loop\n",
    "- For **if** statements, python checks the condition, then decides to execute or not\n",
    "- For **if** statement, python only goes over the code once\n",
    "- **while** executes the code if the condition is true. But as opposed to the **if** statement , the **while** look will continue executing as along as the condition is true\n",
    "- While loops are not used very often but they can be very useful\n",
    "- \"repeating an action until a particular condition is met\"\n",
    "\n",
    "\n",
    "***Example***: "
   ]
  },
  {
   "cell_type": "code",
   "execution_count": 11,
   "metadata": {},
   "outputs": [
    {
     "name": "stdout",
     "output_type": "stream",
     "text": [
      "1\n",
      "2\n",
      "3\n",
      "4\n",
      "5\n"
     ]
    }
   ],
   "source": [
    "x = 1\n",
    "\n",
    "while x < 6:\n",
    "    print (x)\n",
    "    x = x+1\n",
    "    "
   ]
  },
  {
   "cell_type": "markdown",
   "metadata": {},
   "source": [
    "- Notice how the while loop provided us with several answers, one for every loop, until **x** == 6\n",
    "- With while loops you can write an infinite loop...\n",
    "  \n",
    "    - BE CAREFUL: The loop below continues indefinately because the loop's condition is always met."
   ]
  },
  {
   "cell_type": "code",
   "execution_count": 32,
   "metadata": {},
   "outputs": [],
   "source": [
    "### infinite loop\n",
    "\n",
    "# while y > 1:\n",
    "#    y = y + 1\n",
    "#    print(y)"
   ]
  },
  {
   "cell_type": "markdown",
   "metadata": {},
   "source": [
    "### For loop\n",
    "- The **for** loop allows you to iterate (repeate a process) on a group of items\n",
    "- Format:\n",
    "\n",
    "    for var in seq:\n",
    "        expression\n",
    "        \n",
    "- It can be read as \"for each variable in sequence execute the expression\"\n",
    "- \"var\" can be any variable you want. It is used in your expression to complete the iteration\n",
    "\n",
    "\n",
    "Example: \n",
    "\n",
    "- Suppose that you want to print each number seperately in the series s...\n",
    "- you may do so this way:"
   ]
  },
  {
   "cell_type": "code",
   "execution_count": 71,
   "metadata": {},
   "outputs": [
    {
     "name": "stdout",
     "output_type": "stream",
     "text": [
      "1\n",
      "3\n",
      "5\n",
      "7\n",
      "8\n"
     ]
    }
   ],
   "source": [
    "s = [1,3,5,7,8]\n",
    "\n",
    "print(s[0])\n",
    "print(s[1])\n",
    "print(s[2])\n",
    "print(s[3])\n",
    "print(s[4])"
   ]
  },
  {
   "cell_type": "markdown",
   "metadata": {},
   "source": [
    "- But doing this would be tedious and time consuming\n",
    "- In this case you may use a **for** loop\n",
    "- A **for** loop allows you to visit item by item in your list:"
   ]
  },
  {
   "cell_type": "code",
   "execution_count": 72,
   "metadata": {},
   "outputs": [
    {
     "name": "stdout",
     "output_type": "stream",
     "text": [
      "1\n",
      "3\n",
      "5\n",
      "7\n",
      "8\n"
     ]
    }
   ],
   "source": [
    "for item in s:\n",
    "    print(item)"
   ]
  },
  {
   "cell_type": "markdown",
   "metadata": {},
   "source": [
    "- You may modify your code to perform multiple actions during each iteration\n",
    "- Once you have looped through your data one time, the loop ends"
   ]
  },
  {
   "cell_type": "code",
   "execution_count": 33,
   "metadata": {},
   "outputs": [],
   "source": [
    "# Definition of dictionary\n",
    "europe = {'spain':'madrid', 'france':'paris', 'germany':'berlin',\n",
    "          'norway':'oslo', 'italy':'rome', 'poland':'warsaw', 'austria':'vienna' }\n",
    "          \n",
    "# Iterate over europe (k would be lable, v would be value)\n"
   ]
  },
  {
   "cell_type": "markdown",
   "metadata": {},
   "source": [
    "## LAB - for loops and Pandas"
   ]
  },
  {
   "cell_type": "markdown",
   "metadata": {},
   "source": [
    "### Lab 1"
   ]
  },
  {
   "cell_type": "markdown",
   "metadata": {},
   "source": [
    "Import *baseball_data.csv* as a DataFrame and complete the following:\n",
    "- Iterate through the DataFrame to print the height column and add the word 'inches' after each value\n",
    "- Iterate through the baseball DataFrame to count the number of players that are 73 inches"
   ]
  },
  {
   "cell_type": "code",
   "execution_count": null,
   "metadata": {},
   "outputs": [],
   "source": [
    "#loop over a data frame\n",
    "#import pandas as pd\n",
    "import pandas as pd\n",
    "\n",
    "#read the baseball_data file\n",
    "\n",
    "#iterate through the DataFrame, print the height of each player and add the word 'inches' after it\n",
    "\n",
    "#create a counter for players that are 73in tall\n",
    "# Define a 'counter' vearialbe that is equal to zero\n",
    "# Using a forloop iterate over the height of each player, check the players height and if the players height\n",
    "# is more than 73 inches, add a unit the counter\n",
    "counter = 0\n",
    "\n",
    "\n",
    "        \n",
    "print('There are', , 'players that are 73 inches in height')\n",
    "\n",
    "# Perform statistical analysis\n",
    "# Using .mean(), .std() and .min() methods find the average, \n",
    "# standard deviation and smallest value of the heights of all players in our baseball dataset\n",
    "        \n"
   ]
  },
  {
   "cell_type": "markdown",
   "metadata": {},
   "source": [
    "### Lab 2"
   ]
  },
  {
   "cell_type": "markdown",
   "metadata": {},
   "source": [
    "The dataset cars.csv is provided to you. This dataset containst 3 types of information, the country, the country's name abbreviation, the number of cars per 1000 people (cars_per_cap) and whether or not the people from each respective country drive on the right side of the sreet.\n",
    "\n",
    "- Import *cars.csv* dataset as a DataFrame \n",
    "- Iterate through the DataFrame and perform two print() calls: one for the row label and one to print out all the row contents\n",
    "- Iterate through the DataFrame and print the names of the countries that have more than 500 cars / capita\n",
    "- Add an additional column named COUNTRY and add all the country's names in upper case under this new column"
   ]
  },
  {
   "cell_type": "code",
   "execution_count": 2,
   "metadata": {},
   "outputs": [],
   "source": [
    "# Import pandas\n",
    "\n",
    "\n",
    "# Import cars data, create a dataframe called cars_df\n",
    "\n",
    "\n",
    "# print car_df to visualize the data structure\n",
    "\n",
    "\n",
    "# Write a for loop that iterates over the rows of cars_df and on each iteration \n",
    "# Using a for loop print the name of every country listed\n",
    "\n",
    "    \n",
    "# Using a comparison operators print the name of each country in which the cars_per_cap is more than 500\n",
    "# Complete this operation without using a for loop\n",
    "# Note you might need to do research on how to use a boolean index to extract data and complete this task\n"
   ]
  }
 ],
 "metadata": {
  "kernelspec": {
   "display_name": "Python 3",
   "language": "python",
   "name": "python3"
  },
  "language_info": {
   "codemirror_mode": {
    "name": "ipython",
    "version": 3
   },
   "file_extension": ".py",
   "mimetype": "text/x-python",
   "name": "python",
   "nbconvert_exporter": "python",
   "pygments_lexer": "ipython3",
   "version": "3.8.5"
  }
 },
 "nbformat": 4,
 "nbformat_minor": 4
}
