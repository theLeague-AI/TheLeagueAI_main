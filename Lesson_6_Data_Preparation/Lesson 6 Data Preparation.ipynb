{
 "cells": [
  {
   "cell_type": "code",
   "execution_count": null,
   "metadata": {},
   "outputs": [],
   "source": [
    "# import libraries\n",
    "import pandas as pd \n",
    "import numpy as np\n",
    "import matplotlib.pyplot as plt\n",
    "import seaborn as sns\n",
    "\n",
    "# Import titanic dataset\n",
    "titanic_data = pd.read_csv(\"titanic_data.csv\") \n",
    "titanic_data.head(5)"
   ]
  },
  {
   "cell_type": "code",
   "execution_count": null,
   "metadata": {},
   "outputs": [],
   "source": [
    "titanic_data['age'] = pd.to_numeric(titanic_data['age'], errors = 'coerce')\n",
    "titanic_data.dropna(inplace = True)\n",
    "titanic_data = titanic_data[titanic_data['age'] > 1]\n",
    "titanic_data.head(10)"
   ]
  },
  {
   "cell_type": "code",
   "execution_count": null,
   "metadata": {},
   "outputs": [],
   "source": [
    "titanic_data.info()"
   ]
  },
  {
   "cell_type": "markdown",
   "metadata": {},
   "source": [
    "#### Quick Introduction to histograms...."
   ]
  },
  {
   "cell_type": "code",
   "execution_count": null,
   "metadata": {},
   "outputs": [],
   "source": []
  },
  {
   "cell_type": "code",
   "execution_count": null,
   "metadata": {},
   "outputs": [],
   "source": [
    "# Create a histogram\n",
    "_ = plt.hist(titanic_data['age'], bins=10 )\n",
    "_ = plt.xlabel('age')\n",
    "_ = plt.ylabel('number of people')\n",
    "fig = plt.gcf()\n",
    "fig.set_size_inches(10, 5)"
   ]
  },
  {
   "cell_type": "markdown",
   "metadata": {},
   "source": [
    "- Note that the histogram is very hard to read\n",
    "- Note that plt.hist returns 3 arrays, but we only want a plot therefore we assign these to a dummy variable _\n",
    "- The number of bins and thier size was assigned automatically by the default settings of plt.hist()\n",
    "- we can specify the bins to modify the plot and make it more readable\n"
   ]
  },
  {
   "cell_type": "code",
   "execution_count": null,
   "metadata": {},
   "outputs": [],
   "source": [
    "titanic_data.describe()"
   ]
  },
  {
   "cell_type": "code",
   "execution_count": null,
   "metadata": {},
   "outputs": [],
   "source": [
    "# calculate percentiles\n",
    "age_percentiles = np.percentile(titanic_data['age'], [25, 50, 75])\n",
    "\n",
    "# Print the result\n",
    "print(age_percentiles)"
   ]
  },
  {
   "cell_type": "code",
   "execution_count": null,
   "metadata": {},
   "outputs": [],
   "source": [
    "# Graph the box plot the age data\n",
    "\n",
    "# import seaborn\n",
    "\n",
    "# Create box plot with Seaborn's default settings\n",
    "_ = sns.boxplot(x='age',data=titanic_data)\n",
    "\n",
    "# Label the axes\n",
    "_ = plt.xlabel('age')\n",
    "\n",
    "#ax = sns.boxplot(x=tips[\"total_bill\"])\n",
    "\n",
    "# Show the plot\n",
    "plt.show()"
   ]
  },
  {
   "cell_type": "code",
   "execution_count": null,
   "metadata": {},
   "outputs": [],
   "source": [
    "### Outliers"
   ]
  },
  {
   "cell_type": "code",
   "execution_count": null,
   "metadata": {},
   "outputs": [],
   "source": [
    "# Remove outliers\n",
    "df_no_outliers = titanic_data[titanic_data['age'] < 65]\n",
    "\n",
    "# Calculate mean\n",
    "df_no_outliers.describe()"
   ]
  },
  {
   "cell_type": "code",
   "execution_count": null,
   "metadata": {},
   "outputs": [],
   "source": [
    "# Create a new histogram\n",
    "_ = plt.hist(df_no_outliers['age'], bins=10)\n",
    "_ = plt.xlabel('age')\n",
    "_ = plt.ylabel('number of people')\n",
    "fig = plt.gcf()\n",
    "fig.set_size_inches(10, 5)"
   ]
  },
  {
   "cell_type": "code",
   "execution_count": null,
   "metadata": {},
   "outputs": [],
   "source": [
    "### Missing Values"
   ]
  },
  {
   "cell_type": "code",
   "execution_count": null,
   "metadata": {},
   "outputs": [],
   "source": [
    "# Remove age 29 and replace with nan\n",
    "# First define a series with that has all values that equal 29 replaced with nan\n",
    "#df_no_outliers.loc[df_no_outliers[df_no_outliers['age']==29]] = np.nan\n",
    "age_wo_29 = titanic_data['age'].replace(29, np.nan)\n",
    "\n",
    "# Add the newly defined series as a column in our titanic dataframe\n",
    "df_no_outliers['age'] = age_wo_29\n",
    "\n",
    "df_no_outliers.head(100)"
   ]
  },
  {
   "cell_type": "code",
   "execution_count": null,
   "metadata": {},
   "outputs": [],
   "source": [
    "# calculate new statistics\n",
    "df_no_outliers.describe()"
   ]
  },
  {
   "cell_type": "code",
   "execution_count": null,
   "metadata": {},
   "outputs": [],
   "source": [
    "### Date Time"
   ]
  },
  {
   "cell_type": "code",
   "execution_count": null,
   "metadata": {},
   "outputs": [],
   "source": [
    "# Import datetime\n",
    "import datetime as dt\n",
    "\n",
    "# Import data with datetime (appointment data from a doctor's office)\n",
    "date_df = pd.read_csv(\"datetime_data.csv\")\n",
    "date_df.head()"
   ]
  },
  {
   "cell_type": "code",
   "execution_count": null,
   "metadata": {},
   "outputs": [],
   "source": [
    "date_df.info()"
   ]
  },
  {
   "cell_type": "code",
   "execution_count": null,
   "metadata": {},
   "outputs": [],
   "source": [
    "- Note that date features like \"AppointmentDay\" and \"ScheduledDay\" seem to be \"object\" instead of date time.\n",
    "- This is the case beause  pandas is currently looking at these values as strings instead of dates\n",
    "- To convert these features into datetime we cans simply use the pandas function to_datetime"
   ]
  },
  {
   "cell_type": "code",
   "execution_count": null,
   "metadata": {},
   "outputs": [],
   "source": [
    "# Convert AppointmentDay into datetime\n",
    "date_df['AppointmentDay'] = pd.to_datetime(date_df['AppointmentDay'])\n",
    "\n",
    "# Convert AppointmentDay into datetime\n",
    "date_df['ScheduledDay'] = pd.to_datetime(date_df['AppointmentDay'])\n",
    "\n",
    "date_df.info()"
   ]
  },
  {
   "cell_type": "code",
   "execution_count": null,
   "metadata": {},
   "outputs": [],
   "source": [
    "Now that you have these values with datetime type, you can use them to create a better analysis.\n",
    "- datetime64 has several properties in pandas that we can now use \n",
    "\n",
    "link:https://pandas.pydata.org/pandas-docs/version/0.23/api.html#datetimelike-properties"
   ]
  },
  {
   "cell_type": "code",
   "execution_count": null,
   "metadata": {},
   "outputs": [],
   "source": [
    "# Create a new field that tells us the year in which each appointment was set\n",
    "date_df['year_set'] = date_df['ScheduledDay'].dt.year\n",
    "\n",
    "# Create a new field that tells us which day of the year the appointment was set\n",
    "date_df['day_num'] = date_df['ScheduledDay'].dt.dayofyear\n",
    "\n",
    "date_df.sort_values(by=['Age']).head(26)"
   ]
  }
 ],
 "metadata": {
  "kernelspec": {
   "display_name": "Python 3",
   "language": "python",
   "name": "python3"
  },
  "language_info": {
   "codemirror_mode": {
    "name": "ipython",
    "version": 3
   },
   "file_extension": ".py",
   "mimetype": "text/x-python",
   "name": "python",
   "nbconvert_exporter": "python",
   "pygments_lexer": "ipython3",
   "version": "3.8.5"
  }
 },
 "nbformat": 4,
 "nbformat_minor": 4
}
