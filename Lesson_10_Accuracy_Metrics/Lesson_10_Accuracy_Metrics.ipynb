{
 "cells": [
  {
   "cell_type": "markdown",
   "metadata": {},
   "source": [
    "# Lesson 10 - Accuracy Metrics\n",
    "Welcome to the Accuracy Metrics. In this lesson we will be covering: \n",
    "- **Metrics for Classification**\n",
    "- **Metrics for Regression**\n",
    "\n",
    "The lab for Lesson 10 will consist of all the exercises throughtout the notebook. "
   ]
  },
  {
   "cell_type": "markdown",
   "metadata": {},
   "source": [
    "For this lesson we will again be using the Titanic Survival Dataset from Kaggle to predict survival of passengers.\n",
    "\n",
    "Let's review the column values once more as a reminder of the data we are using:\n",
    "\n",
    "- **Survived**: Outcome of survival (0 = No; 1 = Yes)\n",
    "- **Pclass**: Socio-economic class (1 = Upper class; 2 = Middle class; 3 = Lower class)\n",
    "- **Name**: Name of passenger\n",
    "- **Sex**: Sex of the passenger\n",
    "- **Age**: Age of the passenger (Some entries contain ?)\n",
    "- **SibSp**: Number of siblings and spouses of the passenger aboard\n",
    "- **Parch**: Number of parents and children of the passenger aboard\n",
    "- **Ticket**: Ticket number of the passenger\n",
    "- **Fare**: Fare paid by the passenger\n",
    "- **Cabin**: Cabin number of the passenger (Some entries contain ?)\n",
    "- **Embarked**: Port of embarkation of the passenger (C = Cherbourg; Q = Queenstown; S = Southampton)\n",
    "- **Boat**: Lifeboat (if survived)\n",
    "- **Body**: Body Number (if did not survive and body was recovered)\n",
    "- **Home.Dest**: Home / Destination"
   ]
  },
  {
   "cell_type": "markdown",
   "metadata": {},
   "source": [
    "## Sklearn Library "
   ]
  },
  {
   "cell_type": "code",
   "execution_count": 40,
   "metadata": {},
   "outputs": [],
   "source": [
    "# If you do not have the Scikit-learn, please install using by removing the # from the conda command. \n",
    "# If you do not need to, then you can skip this step\n",
    "#!conda install -c anaconda scikit-learn"
   ]
  },
  {
   "cell_type": "markdown",
   "metadata": {},
   "source": [
    "## Building your model ML - End to End"
   ]
  },
  {
   "cell_type": "markdown",
   "metadata": {},
   "source": [
    "In our lab today, we will go through end to end of the machine learning process to reiterate concepts we have learned, and then discuss ones that we learned today. \n",
    "\n",
    "Lets start with importing our libraries...."
   ]
  },
  {
   "cell_type": "code",
   "execution_count": 41,
   "metadata": {},
   "outputs": [],
   "source": [
    "# Exercise 1\n",
    "# Import the pandas library \n",
    "import pandas as pd\n",
    "import numpy as np\n",
    "import matplotlib.pyplot as plt\n",
    "import seaborn as sns\n",
    "import plotly.express as px\n",
    "\n",
    "%matplotlib inline"
   ]
  },
  {
   "cell_type": "markdown",
   "metadata": {},
   "source": [
    "### Read in your data"
   ]
  },
  {
   "cell_type": "code",
   "execution_count": 42,
   "metadata": {},
   "outputs": [
    {
     "data": {
      "text/html": [
       "<div>\n",
       "<style scoped>\n",
       "    .dataframe tbody tr th:only-of-type {\n",
       "        vertical-align: middle;\n",
       "    }\n",
       "\n",
       "    .dataframe tbody tr th {\n",
       "        vertical-align: top;\n",
       "    }\n",
       "\n",
       "    .dataframe thead th {\n",
       "        text-align: right;\n",
       "    }\n",
       "</style>\n",
       "<table border=\"1\" class=\"dataframe\">\n",
       "  <thead>\n",
       "    <tr style=\"text-align: right;\">\n",
       "      <th></th>\n",
       "      <th>pclass</th>\n",
       "      <th>survived</th>\n",
       "      <th>name</th>\n",
       "      <th>sex</th>\n",
       "      <th>age</th>\n",
       "      <th>sibsp</th>\n",
       "      <th>parch</th>\n",
       "      <th>ticket</th>\n",
       "      <th>fare</th>\n",
       "      <th>cabin</th>\n",
       "      <th>embarked</th>\n",
       "      <th>boat</th>\n",
       "      <th>body</th>\n",
       "      <th>home.dest</th>\n",
       "    </tr>\n",
       "  </thead>\n",
       "  <tbody>\n",
       "    <tr>\n",
       "      <th>0</th>\n",
       "      <td>1</td>\n",
       "      <td>1</td>\n",
       "      <td>Allen, Miss. Elisabeth Walton</td>\n",
       "      <td>female</td>\n",
       "      <td>29</td>\n",
       "      <td>0</td>\n",
       "      <td>0</td>\n",
       "      <td>24160</td>\n",
       "      <td>211.3375</td>\n",
       "      <td>B5</td>\n",
       "      <td>S</td>\n",
       "      <td>2</td>\n",
       "      <td>?</td>\n",
       "      <td>St Louis, MO</td>\n",
       "    </tr>\n",
       "    <tr>\n",
       "      <th>1</th>\n",
       "      <td>1</td>\n",
       "      <td>1</td>\n",
       "      <td>Allison, Master. Hudson Trevor</td>\n",
       "      <td>male</td>\n",
       "      <td>0.9167</td>\n",
       "      <td>1</td>\n",
       "      <td>2</td>\n",
       "      <td>113781</td>\n",
       "      <td>151.55</td>\n",
       "      <td>C22 C26</td>\n",
       "      <td>S</td>\n",
       "      <td>11</td>\n",
       "      <td>?</td>\n",
       "      <td>Montreal, PQ / Chesterville, ON</td>\n",
       "    </tr>\n",
       "    <tr>\n",
       "      <th>2</th>\n",
       "      <td>1</td>\n",
       "      <td>0</td>\n",
       "      <td>Allison, Miss. Helen Loraine</td>\n",
       "      <td>female</td>\n",
       "      <td>2</td>\n",
       "      <td>1</td>\n",
       "      <td>2</td>\n",
       "      <td>113781</td>\n",
       "      <td>151.55</td>\n",
       "      <td>C22 C26</td>\n",
       "      <td>S</td>\n",
       "      <td>?</td>\n",
       "      <td>?</td>\n",
       "      <td>Montreal, PQ / Chesterville, ON</td>\n",
       "    </tr>\n",
       "    <tr>\n",
       "      <th>3</th>\n",
       "      <td>1</td>\n",
       "      <td>0</td>\n",
       "      <td>Allison, Mr. Hudson Joshua Creighton</td>\n",
       "      <td>male</td>\n",
       "      <td>30</td>\n",
       "      <td>1</td>\n",
       "      <td>2</td>\n",
       "      <td>113781</td>\n",
       "      <td>151.55</td>\n",
       "      <td>C22 C26</td>\n",
       "      <td>S</td>\n",
       "      <td>?</td>\n",
       "      <td>135</td>\n",
       "      <td>Montreal, PQ / Chesterville, ON</td>\n",
       "    </tr>\n",
       "    <tr>\n",
       "      <th>4</th>\n",
       "      <td>1</td>\n",
       "      <td>0</td>\n",
       "      <td>Allison, Mrs. Hudson J C (Bessie Waldo Daniels)</td>\n",
       "      <td>female</td>\n",
       "      <td>25</td>\n",
       "      <td>1</td>\n",
       "      <td>2</td>\n",
       "      <td>113781</td>\n",
       "      <td>151.55</td>\n",
       "      <td>C22 C26</td>\n",
       "      <td>S</td>\n",
       "      <td>?</td>\n",
       "      <td>?</td>\n",
       "      <td>Montreal, PQ / Chesterville, ON</td>\n",
       "    </tr>\n",
       "    <tr>\n",
       "      <th>...</th>\n",
       "      <td>...</td>\n",
       "      <td>...</td>\n",
       "      <td>...</td>\n",
       "      <td>...</td>\n",
       "      <td>...</td>\n",
       "      <td>...</td>\n",
       "      <td>...</td>\n",
       "      <td>...</td>\n",
       "      <td>...</td>\n",
       "      <td>...</td>\n",
       "      <td>...</td>\n",
       "      <td>...</td>\n",
       "      <td>...</td>\n",
       "      <td>...</td>\n",
       "    </tr>\n",
       "    <tr>\n",
       "      <th>1304</th>\n",
       "      <td>3</td>\n",
       "      <td>0</td>\n",
       "      <td>Zabour, Miss. Hileni</td>\n",
       "      <td>female</td>\n",
       "      <td>14.5</td>\n",
       "      <td>1</td>\n",
       "      <td>0</td>\n",
       "      <td>2665</td>\n",
       "      <td>14.4542</td>\n",
       "      <td>?</td>\n",
       "      <td>C</td>\n",
       "      <td>?</td>\n",
       "      <td>328</td>\n",
       "      <td>?</td>\n",
       "    </tr>\n",
       "    <tr>\n",
       "      <th>1305</th>\n",
       "      <td>3</td>\n",
       "      <td>0</td>\n",
       "      <td>Zabour, Miss. Thamine</td>\n",
       "      <td>female</td>\n",
       "      <td>?</td>\n",
       "      <td>1</td>\n",
       "      <td>0</td>\n",
       "      <td>2665</td>\n",
       "      <td>14.4542</td>\n",
       "      <td>?</td>\n",
       "      <td>C</td>\n",
       "      <td>?</td>\n",
       "      <td>?</td>\n",
       "      <td>?</td>\n",
       "    </tr>\n",
       "    <tr>\n",
       "      <th>1306</th>\n",
       "      <td>3</td>\n",
       "      <td>0</td>\n",
       "      <td>Zakarian, Mr. Mapriededer</td>\n",
       "      <td>male</td>\n",
       "      <td>26.5</td>\n",
       "      <td>0</td>\n",
       "      <td>0</td>\n",
       "      <td>2656</td>\n",
       "      <td>7.225</td>\n",
       "      <td>?</td>\n",
       "      <td>C</td>\n",
       "      <td>?</td>\n",
       "      <td>304</td>\n",
       "      <td>?</td>\n",
       "    </tr>\n",
       "    <tr>\n",
       "      <th>1307</th>\n",
       "      <td>3</td>\n",
       "      <td>0</td>\n",
       "      <td>Zakarian, Mr. Ortin</td>\n",
       "      <td>male</td>\n",
       "      <td>27</td>\n",
       "      <td>0</td>\n",
       "      <td>0</td>\n",
       "      <td>2670</td>\n",
       "      <td>7.225</td>\n",
       "      <td>?</td>\n",
       "      <td>C</td>\n",
       "      <td>?</td>\n",
       "      <td>?</td>\n",
       "      <td>?</td>\n",
       "    </tr>\n",
       "    <tr>\n",
       "      <th>1308</th>\n",
       "      <td>3</td>\n",
       "      <td>0</td>\n",
       "      <td>Zimmerman, Mr. Leo</td>\n",
       "      <td>male</td>\n",
       "      <td>29</td>\n",
       "      <td>0</td>\n",
       "      <td>0</td>\n",
       "      <td>315082</td>\n",
       "      <td>7.875</td>\n",
       "      <td>?</td>\n",
       "      <td>S</td>\n",
       "      <td>?</td>\n",
       "      <td>?</td>\n",
       "      <td>?</td>\n",
       "    </tr>\n",
       "  </tbody>\n",
       "</table>\n",
       "<p>1309 rows × 14 columns</p>\n",
       "</div>"
      ],
      "text/plain": [
       "      pclass  survived                                             name  \\\n",
       "0          1         1                    Allen, Miss. Elisabeth Walton   \n",
       "1          1         1                   Allison, Master. Hudson Trevor   \n",
       "2          1         0                     Allison, Miss. Helen Loraine   \n",
       "3          1         0             Allison, Mr. Hudson Joshua Creighton   \n",
       "4          1         0  Allison, Mrs. Hudson J C (Bessie Waldo Daniels)   \n",
       "...      ...       ...                                              ...   \n",
       "1304       3         0                             Zabour, Miss. Hileni   \n",
       "1305       3         0                            Zabour, Miss. Thamine   \n",
       "1306       3         0                        Zakarian, Mr. Mapriededer   \n",
       "1307       3         0                              Zakarian, Mr. Ortin   \n",
       "1308       3         0                               Zimmerman, Mr. Leo   \n",
       "\n",
       "         sex     age  sibsp  parch  ticket      fare    cabin embarked boat  \\\n",
       "0     female      29      0      0   24160  211.3375       B5        S    2   \n",
       "1       male  0.9167      1      2  113781    151.55  C22 C26        S   11   \n",
       "2     female       2      1      2  113781    151.55  C22 C26        S    ?   \n",
       "3       male      30      1      2  113781    151.55  C22 C26        S    ?   \n",
       "4     female      25      1      2  113781    151.55  C22 C26        S    ?   \n",
       "...      ...     ...    ...    ...     ...       ...      ...      ...  ...   \n",
       "1304  female    14.5      1      0    2665   14.4542        ?        C    ?   \n",
       "1305  female       ?      1      0    2665   14.4542        ?        C    ?   \n",
       "1306    male    26.5      0      0    2656     7.225        ?        C    ?   \n",
       "1307    male      27      0      0    2670     7.225        ?        C    ?   \n",
       "1308    male      29      0      0  315082     7.875        ?        S    ?   \n",
       "\n",
       "     body                        home.dest  \n",
       "0       ?                     St Louis, MO  \n",
       "1       ?  Montreal, PQ / Chesterville, ON  \n",
       "2       ?  Montreal, PQ / Chesterville, ON  \n",
       "3     135  Montreal, PQ / Chesterville, ON  \n",
       "4       ?  Montreal, PQ / Chesterville, ON  \n",
       "...   ...                              ...  \n",
       "1304  328                                ?  \n",
       "1305    ?                                ?  \n",
       "1306  304                                ?  \n",
       "1307    ?                                ?  \n",
       "1308    ?                                ?  \n",
       "\n",
       "[1309 rows x 14 columns]"
      ]
     },
     "execution_count": 42,
     "metadata": {},
     "output_type": "execute_result"
    }
   ],
   "source": [
    "# Exercise 2 read in the titanic dataset \n"
   ]
  },
  {
   "cell_type": "markdown",
   "metadata": {},
   "source": [
    "### Explore the Data"
   ]
  },
  {
   "cell_type": "markdown",
   "metadata": {},
   "source": [
    "We will now explore our data to get a feel of what we are dealing with. Remember this is typically the first step of the process, if you do not understand your data, then you will not be able to predict with your data."
   ]
  },
  {
   "cell_type": "code",
   "execution_count": 43,
   "metadata": {},
   "outputs": [
    {
     "name": "stdout",
     "output_type": "stream",
     "text": [
      "<class 'pandas.core.frame.DataFrame'>\n",
      "RangeIndex: 1309 entries, 0 to 1308\n",
      "Data columns (total 14 columns):\n",
      " #   Column     Non-Null Count  Dtype \n",
      "---  ------     --------------  ----- \n",
      " 0   pclass     1309 non-null   int64 \n",
      " 1   survived   1309 non-null   int64 \n",
      " 2   name       1309 non-null   object\n",
      " 3   sex        1309 non-null   object\n",
      " 4   age        1309 non-null   object\n",
      " 5   sibsp      1309 non-null   int64 \n",
      " 6   parch      1309 non-null   int64 \n",
      " 7   ticket     1309 non-null   object\n",
      " 8   fare       1309 non-null   object\n",
      " 9   cabin      1309 non-null   object\n",
      " 10  embarked   1309 non-null   object\n",
      " 11  boat       1309 non-null   object\n",
      " 12  body       1309 non-null   object\n",
      " 13  home.dest  1309 non-null   object\n",
      "dtypes: int64(4), object(10)\n",
      "memory usage: 143.3+ KB\n"
     ]
    }
   ],
   "source": [
    "titanic_data.info()"
   ]
  },
  {
   "cell_type": "code",
   "execution_count": 44,
   "metadata": {},
   "outputs": [
    {
     "data": {
      "application/vnd.plotly.v1+json": {
       "config": {
        "plotlyServerURL": "https://plot.ly"
       },
       "data": [
        {
         "alignmentgroup": "True",
         "bingroup": "x",
         "hovertemplate": "survived=1<br>age=%{x}<br>count=%{y}<extra></extra>",
         "legendgroup": "1",
         "marker": {
          "color": "#636efa",
          "opacity": 0.7
         },
         "name": "1",
         "offsetgroup": "1",
         "orientation": "v",
         "showlegend": true,
         "type": "histogram",
         "x": [
          "29",
          "0.9167",
          "48",
          "63",
          "53",
          "18",
          "24",
          "26",
          "80",
          "50",
          "32",
          "37",
          "47",
          "26",
          "42",
          "29",
          "25",
          "19",
          "35",
          "28",
          "40",
          "30",
          "58",
          "45",
          "22",
          "?",
          "44",
          "59",
          "60",
          "41",
          "42",
          "53",
          "36",
          "58",
          "11",
          "14",
          "36",
          "36",
          "?",
          "76",
          "47",
          "27",
          "33",
          "36",
          "30",
          "45",
          "?",
          "26",
          "22",
          "39",
          "64",
          "55",
          "36",
          "64",
          "38",
          "51",
          "27",
          "33",
          "27",
          "31",
          "17",
          "53",
          "4",
          "54",
          "27",
          "48",
          "48",
          "49",
          "23",
          "38",
          "54",
          "?",
          "?",
          "36",
          "24",
          "28",
          "23",
          "60",
          "30",
          "50",
          "43",
          "?",
          "22",
          "60",
          "48",
          "35",
          "35",
          "22",
          "45",
          "49",
          "?",
          "53",
          "19",
          "58",
          "23",
          "45",
          "25",
          "25",
          "48",
          "49",
          "35",
          "27",
          "?",
          "24",
          "52",
          "16",
          "44",
          "51",
          "35",
          "35",
          "38",
          "35",
          "38",
          "49",
          "?",
          "42",
          "45",
          "39",
          "49",
          "30",
          "35",
          "55",
          "16",
          "51",
          "21",
          "58",
          "15",
          "16",
          "?",
          "18",
          "24",
          "36",
          "?",
          "33",
          "37",
          "30",
          "31",
          "23",
          "19",
          "39",
          "?",
          "22",
          "22",
          "17",
          "30",
          "52",
          "56",
          "?",
          "43",
          "45",
          "33",
          "33",
          "54",
          "13",
          "18",
          "21",
          "48",
          "?",
          "24",
          "?",
          "35",
          "30",
          "34",
          "40",
          "35",
          "39",
          "56",
          "28",
          "18",
          "24",
          "23",
          "6",
          "45",
          "40",
          "?",
          "32",
          "54",
          "43",
          "52",
          "62",
          "48",
          "18",
          "39",
          "48",
          "?",
          "17",
          "39",
          "?",
          "31",
          "35",
          "60",
          "55",
          "31",
          "45",
          "50",
          "21",
          "21",
          "31",
          "?",
          "36",
          "28",
          "36",
          "36",
          "32",
          "19",
          "1",
          "4",
          "12",
          "36",
          "34",
          "19",
          "24",
          "15",
          "40",
          "20",
          "36",
          "42",
          "0.8333",
          "26",
          "22",
          "35",
          "25",
          "45",
          "28",
          "24",
          "8",
          "31",
          "22",
          "8",
          "48",
          "28",
          "24",
          "18",
          "34",
          "8",
          "34",
          "27",
          "30",
          "29",
          "34",
          "0.6667",
          "24",
          "6",
          "62",
          "7",
          "45",
          "24",
          "24",
          "48",
          "55",
          "20",
          "54",
          "29",
          "42",
          "17",
          "24",
          "23",
          "24",
          "?",
          "45",
          "1",
          "3",
          "22",
          "17",
          "?",
          "34",
          "42",
          "1",
          "24",
          "13",
          "41",
          "19",
          "14",
          "2",
          "3",
          "20",
          "29",
          "22",
          "?",
          "29",
          "50",
          "21",
          "19",
          "32",
          "30",
          "2",
          "8",
          "33",
          "30",
          "28",
          "0.8333",
          "3",
          "24",
          "50",
          "21",
          "25",
          "18",
          "20",
          "30",
          "30",
          "40",
          "50",
          "28",
          "27",
          "31",
          "31",
          "12",
          "40",
          "32.5",
          "29",
          "2",
          "4",
          "29",
          "0.9167",
          "5",
          "33",
          "31",
          "?",
          "26",
          "35",
          "16",
          "25",
          "20",
          "18",
          "0.8333",
          "18",
          "26",
          "19",
          "17",
          "27",
          "3",
          "5",
          "23",
          "38",
          "45",
          "13",
          "33",
          "0.75",
          "0.75",
          "5",
          "24",
          "18",
          "20",
          "32",
          "22",
          "21",
          "16",
          "32",
          "18",
          "22",
          "9",
          "3",
          "36",
          "17",
          "45",
          "30",
          "29",
          "?",
          "36.5",
          "36",
          "30",
          "1",
          "0.1667",
          "33",
          "19",
          "19",
          "30",
          "23",
          "24",
          "22",
          "5",
          "?",
          "?",
          "16",
          "?",
          "9",
          "31",
          "24",
          "45",
          "?",
          "27",
          "?",
          "26",
          "22",
          "2",
          "22",
          "27",
          "?",
          "?",
          "29",
          "21",
          "?",
          "?",
          "26",
          "4",
          "1",
          "27",
          "32",
          "32",
          "21",
          "4",
          "39",
          "?",
          "?",
          "?",
          "4",
          "29",
          "26",
          "25",
          "?",
          "22",
          "26",
          "22",
          "20",
          "27",
          "23",
          "32",
          "?",
          "24",
          "?",
          "?",
          "?",
          "?",
          "?",
          "?",
          "?",
          "?",
          "?",
          "?",
          "15",
          "21",
          "?",
          "6",
          "27",
          "?",
          "?",
          "?",
          "?",
          "?",
          "?",
          "?",
          "24",
          "?",
          "?",
          "?",
          "15",
          "1",
          "20",
          "19",
          "12",
          "14",
          "18",
          "26",
          "39",
          "22",
          "?",
          "?",
          "?",
          "22",
          "?",
          "?",
          "9",
          "32",
          "31",
          "25",
          "?",
          "?",
          "?",
          "32",
          "?",
          "?",
          "?",
          "21",
          "1",
          "24",
          "4",
          "25",
          "29",
          "?",
          "18",
          "?",
          "23",
          "31",
          "16",
          "44",
          "14",
          "25",
          "0.4167",
          "16",
          "?",
          "25",
          "7",
          "9",
          "29",
          "18",
          "63",
          "22",
          "38",
          "47",
          "15"
         ],
         "xaxis": "x",
         "yaxis": "y"
        },
        {
         "alignmentgroup": "True",
         "bingroup": "x",
         "hovertemplate": "survived=0<br>age=%{x}<br>count=%{y}<extra></extra>",
         "legendgroup": "0",
         "marker": {
          "color": "#EF553B",
          "opacity": 0.7
         },
         "name": "0",
         "offsetgroup": "0",
         "orientation": "v",
         "showlegend": true,
         "type": "histogram",
         "x": [
          "2",
          "30",
          "25",
          "39",
          "71",
          "47",
          "?",
          "24",
          "36",
          "25",
          "45",
          "42",
          "41",
          "48",
          "?",
          "45",
          "?",
          "33",
          "28",
          "17",
          "49",
          "36",
          "46",
          "?",
          "27",
          "?",
          "47",
          "37",
          "?",
          "70",
          "39",
          "31",
          "50",
          "39",
          "36",
          "?",
          "30",
          "19",
          "64",
          "?",
          "?",
          "37",
          "47",
          "24",
          "71",
          "38",
          "46",
          "?",
          "45",
          "40",
          "55",
          "42",
          "?",
          "55",
          "42",
          "?",
          "50",
          "46",
          "50",
          "32.5",
          "58",
          "41",
          "?",
          "?",
          "42",
          "29",
          "30",
          "30",
          "19",
          "46",
          "54",
          "28",
          "65",
          "44",
          "55",
          "47",
          "37",
          "58",
          "64",
          "65",
          "28.5",
          "?",
          "45.5",
          "23",
          "29",
          "18",
          "47",
          "38",
          "22",
          "?",
          "31",
          "?",
          "46",
          "36",
          "55",
          "33",
          "61",
          "50",
          "56",
          "56",
          "24",
          "?",
          "57",
          "62",
          "?",
          "67",
          "63",
          "61",
          "52",
          "49",
          "40",
          "61",
          "47",
          "64",
          "60",
          "54",
          "21",
          "57",
          "50",
          "27",
          "51",
          "?",
          "62",
          "30",
          "30",
          "18",
          "25",
          "34",
          "57",
          "18",
          "23",
          "28",
          "51",
          "28",
          "23",
          "26",
          "42",
          "27",
          "60",
          "25",
          "25",
          "42",
          "?",
          "19",
          "44",
          "54",
          "52",
          "37",
          "29",
          "29",
          "29",
          "28",
          "31",
          "30",
          "?",
          "21",
          "?",
          "18",
          "32",
          "17",
          "29",
          "25",
          "18",
          "54",
          "42",
          "23",
          "21",
          "18",
          "40",
          "18",
          "36",
          "?",
          "38",
          "35",
          "38",
          "34",
          "16",
          "26",
          "47",
          "21",
          "21",
          "24",
          "24",
          "34",
          "30",
          "52",
          "30",
          "44",
          "28",
          "30",
          "43",
          "49",
          "24",
          "32",
          "21",
          "18",
          "23",
          "36",
          "50",
          "44",
          "21",
          "63",
          "60",
          "33",
          "42",
          "47",
          "24",
          "22",
          "32",
          "34",
          "22",
          "35",
          "57",
          "?",
          "31",
          "26",
          "30",
          "?",
          "25",
          "36",
          "24",
          "61",
          "50",
          "57",
          "?",
          "31",
          "?",
          "30",
          "40",
          "32",
          "30",
          "46",
          "39",
          "48",
          "70",
          "27",
          "54",
          "39",
          "16",
          "62",
          "32.5",
          "36.5",
          "26",
          "19",
          "28",
          "39",
          "23",
          "28",
          "?",
          "19",
          "?",
          "41",
          "43",
          "34",
          "27",
          "36",
          "34",
          "23",
          "19",
          "26",
          "25",
          "27",
          "59",
          "35",
          "25",
          "41",
          "25",
          "18.5",
          "14",
          "23",
          "29",
          "27",
          "40",
          "30",
          "23",
          "?",
          "27",
          "36",
          "66",
          "?",
          "24",
          "42",
          "13",
          "16",
          "30",
          "26",
          "40",
          "26",
          "20",
          "24",
          "25",
          "35",
          "18",
          "32",
          "4",
          "6",
          "2",
          "38",
          "9",
          "11",
          "39",
          "26",
          "39",
          "20",
          "26",
          "25",
          "18",
          "24",
          "35",
          "5",
          "9",
          "13",
          "40",
          "21",
          "23",
          "17",
          "30",
          "23",
          "20",
          "32",
          "40",
          "26",
          "18",
          "45",
          "27",
          "22",
          "19",
          "26",
          "22",
          "?",
          "20",
          "21",
          "18",
          "26",
          "6",
          "9",
          "?",
          "?",
          "?",
          "40",
          "32",
          "21",
          "20",
          "29",
          "22",
          "22",
          "35",
          "18.5",
          "19",
          "18",
          "21",
          "30",
          "18",
          "38",
          "17",
          "17",
          "21",
          "21",
          "21",
          "?",
          "?",
          "28",
          "24",
          "37",
          "28",
          "24",
          "21",
          "29",
          "26",
          "18",
          "20",
          "24",
          "36",
          "24",
          "31",
          "31",
          "30",
          "70.5",
          "43",
          "35",
          "27",
          "19",
          "30",
          "59",
          "19",
          "44",
          "17",
          "22.5",
          "22",
          "19",
          "0.3333",
          "34",
          "28",
          "27",
          "25",
          "24",
          "22",
          "21",
          "17",
          "?",
          "16",
          "26",
          "25",
          "?",
          "?",
          "22",
          "36",
          "17",
          "42",
          "43",
          "?",
          "32",
          "24",
          "33",
          "65",
          "23",
          "18",
          "16",
          "45",
          "?",
          "39",
          "17",
          "15",
          "47",
          "?",
          "40.5",
          "40.5",
          "18",
          "?",
          "?",
          "?",
          "26",
          "?",
          "21",
          "9",
          "?",
          "18",
          "16",
          "48",
          "?",
          "?",
          "25",
          "?",
          "?",
          "22",
          "33",
          "41",
          "38",
          "9",
          "1",
          "11",
          "10",
          "16",
          "14",
          "40",
          "43",
          "51",
          "32",
          "?",
          "20",
          "37",
          "28",
          "19",
          "24",
          "17",
          "?",
          "?",
          "28",
          "20",
          "23.5",
          "41",
          "26",
          "21",
          "?",
          "25",
          "?",
          "11",
          "18",
          "23",
          "28",
          "28",
          "?",
          "43",
          "28",
          "?",
          "42",
          "30",
          "?",
          "27",
          "25",
          "?",
          "?",
          "20",
          "48",
          "17",
          "34",
          "22",
          "33",
          "31",
          "29",
          "49",
          "33",
          "19",
          "?",
          "?",
          "?",
          "?",
          "23",
          "27",
          "20",
          "21",
          "17",
          "21",
          "30",
          "33",
          "22",
          "?",
          "18.5",
          "?",
          "?",
          "34.5",
          "44",
          "?",
          "?",
          "?",
          "?",
          "?",
          "22",
          "26",
          "1",
          "18",
          "36",
          "?",
          "?",
          "37",
          "?",
          "?",
          "?",
          "29",
          "29",
          "22",
          "?",
          "?",
          "?",
          "?",
          "?",
          "32",
          "34.5",
          "?",
          "?",
          "36",
          "39",
          "24",
          "25",
          "45",
          "36",
          "30",
          "?",
          "28",
          "?",
          "30",
          "26",
          "?",
          "20.5",
          "51",
          "?",
          "?",
          "22",
          "?",
          "?",
          "?",
          "29",
          "30.5",
          "?",
          "35",
          "33",
          "?",
          "?",
          "35",
          "?",
          "24",
          "19",
          "?",
          "?",
          "?",
          "55.5",
          "?",
          "?",
          "24",
          "21",
          "28",
          "?",
          "25",
          "?",
          "?",
          "?",
          "34",
          "?",
          "?",
          "?",
          "18",
          "22",
          "33",
          "?",
          "?",
          "?",
          "?",
          "29",
          "28",
          "21",
          "41",
          "21",
          "28.5",
          "61",
          "?",
          "?",
          "?",
          "?",
          "?",
          "23",
          "?",
          "28",
          "42",
          "?",
          "31",
          "28",
          "20",
          "23",
          "20",
          "20",
          "16",
          "?",
          "2",
          "6",
          "3",
          "8",
          "29",
          "1",
          "7",
          "2",
          "16",
          "14",
          "41",
          "21",
          "19",
          "?",
          "32",
          "0.75",
          "3",
          "26",
          "?",
          "?",
          "?",
          "21",
          "25",
          "22",
          "?",
          "24",
          "28",
          "19",
          "?",
          "25",
          "18",
          "?",
          "17",
          "24",
          "?",
          "?",
          "?",
          "?",
          "38",
          "21",
          "10",
          "4",
          "7",
          "2",
          "8",
          "39",
          "22",
          "35",
          "?",
          "?",
          "50",
          "47",
          "?",
          "?",
          "2",
          "18",
          "41",
          "50",
          "16",
          "?",
          "?",
          "25",
          "?",
          "?",
          "?",
          "38.5",
          "?",
          "14.5",
          "?",
          "?",
          "?",
          "?",
          "?",
          "?",
          "?",
          "?",
          "?",
          "24",
          "39",
          "?",
          "?",
          "?",
          "20",
          "24.5",
          "?",
          "?",
          "?",
          "?",
          "?",
          "?",
          "22",
          "?",
          "40",
          "21",
          "4",
          "10",
          "9",
          "2",
          "40",
          "45",
          "?",
          "?",
          "?",
          "?",
          "19",
          "30",
          "?",
          "32",
          "?",
          "33",
          "21",
          "60.5",
          "19",
          "22",
          "27",
          "2",
          "29",
          "25",
          "74",
          "24",
          "34",
          "?",
          "?",
          "?",
          "?",
          "?",
          "32",
          "?",
          "?",
          "30.5",
          "44",
          "?",
          "?",
          "36",
          "?",
          "11.5",
          "40.5",
          "10",
          "36",
          "30",
          "?",
          "33",
          "28",
          "28",
          "47",
          "18",
          "31",
          "16",
          "31",
          "20",
          "14",
          "22",
          "22",
          "?",
          "?",
          "?",
          "32.5",
          "51",
          "18",
          "21",
          "?",
          "?",
          "?",
          "28.5",
          "21",
          "27",
          "?",
          "36",
          "27",
          "45.5",
          "?",
          "?",
          "14.5",
          "?",
          "26.5",
          "27",
          "29"
         ],
         "xaxis": "x",
         "yaxis": "y"
        }
       ],
       "layout": {
        "barmode": "relative",
        "legend": {
         "title": {
          "text": "survived"
         },
         "tracegroupgap": 0
        },
        "margin": {
         "t": 60
        },
        "template": {
         "data": {
          "bar": [
           {
            "error_x": {
             "color": "#2a3f5f"
            },
            "error_y": {
             "color": "#2a3f5f"
            },
            "marker": {
             "line": {
              "color": "#E5ECF6",
              "width": 0.5
             }
            },
            "type": "bar"
           }
          ],
          "barpolar": [
           {
            "marker": {
             "line": {
              "color": "#E5ECF6",
              "width": 0.5
             }
            },
            "type": "barpolar"
           }
          ],
          "carpet": [
           {
            "aaxis": {
             "endlinecolor": "#2a3f5f",
             "gridcolor": "white",
             "linecolor": "white",
             "minorgridcolor": "white",
             "startlinecolor": "#2a3f5f"
            },
            "baxis": {
             "endlinecolor": "#2a3f5f",
             "gridcolor": "white",
             "linecolor": "white",
             "minorgridcolor": "white",
             "startlinecolor": "#2a3f5f"
            },
            "type": "carpet"
           }
          ],
          "choropleth": [
           {
            "colorbar": {
             "outlinewidth": 0,
             "ticks": ""
            },
            "type": "choropleth"
           }
          ],
          "contour": [
           {
            "colorbar": {
             "outlinewidth": 0,
             "ticks": ""
            },
            "colorscale": [
             [
              0,
              "#0d0887"
             ],
             [
              0.1111111111111111,
              "#46039f"
             ],
             [
              0.2222222222222222,
              "#7201a8"
             ],
             [
              0.3333333333333333,
              "#9c179e"
             ],
             [
              0.4444444444444444,
              "#bd3786"
             ],
             [
              0.5555555555555556,
              "#d8576b"
             ],
             [
              0.6666666666666666,
              "#ed7953"
             ],
             [
              0.7777777777777778,
              "#fb9f3a"
             ],
             [
              0.8888888888888888,
              "#fdca26"
             ],
             [
              1,
              "#f0f921"
             ]
            ],
            "type": "contour"
           }
          ],
          "contourcarpet": [
           {
            "colorbar": {
             "outlinewidth": 0,
             "ticks": ""
            },
            "type": "contourcarpet"
           }
          ],
          "heatmap": [
           {
            "colorbar": {
             "outlinewidth": 0,
             "ticks": ""
            },
            "colorscale": [
             [
              0,
              "#0d0887"
             ],
             [
              0.1111111111111111,
              "#46039f"
             ],
             [
              0.2222222222222222,
              "#7201a8"
             ],
             [
              0.3333333333333333,
              "#9c179e"
             ],
             [
              0.4444444444444444,
              "#bd3786"
             ],
             [
              0.5555555555555556,
              "#d8576b"
             ],
             [
              0.6666666666666666,
              "#ed7953"
             ],
             [
              0.7777777777777778,
              "#fb9f3a"
             ],
             [
              0.8888888888888888,
              "#fdca26"
             ],
             [
              1,
              "#f0f921"
             ]
            ],
            "type": "heatmap"
           }
          ],
          "heatmapgl": [
           {
            "colorbar": {
             "outlinewidth": 0,
             "ticks": ""
            },
            "colorscale": [
             [
              0,
              "#0d0887"
             ],
             [
              0.1111111111111111,
              "#46039f"
             ],
             [
              0.2222222222222222,
              "#7201a8"
             ],
             [
              0.3333333333333333,
              "#9c179e"
             ],
             [
              0.4444444444444444,
              "#bd3786"
             ],
             [
              0.5555555555555556,
              "#d8576b"
             ],
             [
              0.6666666666666666,
              "#ed7953"
             ],
             [
              0.7777777777777778,
              "#fb9f3a"
             ],
             [
              0.8888888888888888,
              "#fdca26"
             ],
             [
              1,
              "#f0f921"
             ]
            ],
            "type": "heatmapgl"
           }
          ],
          "histogram": [
           {
            "marker": {
             "colorbar": {
              "outlinewidth": 0,
              "ticks": ""
             }
            },
            "type": "histogram"
           }
          ],
          "histogram2d": [
           {
            "colorbar": {
             "outlinewidth": 0,
             "ticks": ""
            },
            "colorscale": [
             [
              0,
              "#0d0887"
             ],
             [
              0.1111111111111111,
              "#46039f"
             ],
             [
              0.2222222222222222,
              "#7201a8"
             ],
             [
              0.3333333333333333,
              "#9c179e"
             ],
             [
              0.4444444444444444,
              "#bd3786"
             ],
             [
              0.5555555555555556,
              "#d8576b"
             ],
             [
              0.6666666666666666,
              "#ed7953"
             ],
             [
              0.7777777777777778,
              "#fb9f3a"
             ],
             [
              0.8888888888888888,
              "#fdca26"
             ],
             [
              1,
              "#f0f921"
             ]
            ],
            "type": "histogram2d"
           }
          ],
          "histogram2dcontour": [
           {
            "colorbar": {
             "outlinewidth": 0,
             "ticks": ""
            },
            "colorscale": [
             [
              0,
              "#0d0887"
             ],
             [
              0.1111111111111111,
              "#46039f"
             ],
             [
              0.2222222222222222,
              "#7201a8"
             ],
             [
              0.3333333333333333,
              "#9c179e"
             ],
             [
              0.4444444444444444,
              "#bd3786"
             ],
             [
              0.5555555555555556,
              "#d8576b"
             ],
             [
              0.6666666666666666,
              "#ed7953"
             ],
             [
              0.7777777777777778,
              "#fb9f3a"
             ],
             [
              0.8888888888888888,
              "#fdca26"
             ],
             [
              1,
              "#f0f921"
             ]
            ],
            "type": "histogram2dcontour"
           }
          ],
          "mesh3d": [
           {
            "colorbar": {
             "outlinewidth": 0,
             "ticks": ""
            },
            "type": "mesh3d"
           }
          ],
          "parcoords": [
           {
            "line": {
             "colorbar": {
              "outlinewidth": 0,
              "ticks": ""
             }
            },
            "type": "parcoords"
           }
          ],
          "pie": [
           {
            "automargin": true,
            "type": "pie"
           }
          ],
          "scatter": [
           {
            "marker": {
             "colorbar": {
              "outlinewidth": 0,
              "ticks": ""
             }
            },
            "type": "scatter"
           }
          ],
          "scatter3d": [
           {
            "line": {
             "colorbar": {
              "outlinewidth": 0,
              "ticks": ""
             }
            },
            "marker": {
             "colorbar": {
              "outlinewidth": 0,
              "ticks": ""
             }
            },
            "type": "scatter3d"
           }
          ],
          "scattercarpet": [
           {
            "marker": {
             "colorbar": {
              "outlinewidth": 0,
              "ticks": ""
             }
            },
            "type": "scattercarpet"
           }
          ],
          "scattergeo": [
           {
            "marker": {
             "colorbar": {
              "outlinewidth": 0,
              "ticks": ""
             }
            },
            "type": "scattergeo"
           }
          ],
          "scattergl": [
           {
            "marker": {
             "colorbar": {
              "outlinewidth": 0,
              "ticks": ""
             }
            },
            "type": "scattergl"
           }
          ],
          "scattermapbox": [
           {
            "marker": {
             "colorbar": {
              "outlinewidth": 0,
              "ticks": ""
             }
            },
            "type": "scattermapbox"
           }
          ],
          "scatterpolar": [
           {
            "marker": {
             "colorbar": {
              "outlinewidth": 0,
              "ticks": ""
             }
            },
            "type": "scatterpolar"
           }
          ],
          "scatterpolargl": [
           {
            "marker": {
             "colorbar": {
              "outlinewidth": 0,
              "ticks": ""
             }
            },
            "type": "scatterpolargl"
           }
          ],
          "scatterternary": [
           {
            "marker": {
             "colorbar": {
              "outlinewidth": 0,
              "ticks": ""
             }
            },
            "type": "scatterternary"
           }
          ],
          "surface": [
           {
            "colorbar": {
             "outlinewidth": 0,
             "ticks": ""
            },
            "colorscale": [
             [
              0,
              "#0d0887"
             ],
             [
              0.1111111111111111,
              "#46039f"
             ],
             [
              0.2222222222222222,
              "#7201a8"
             ],
             [
              0.3333333333333333,
              "#9c179e"
             ],
             [
              0.4444444444444444,
              "#bd3786"
             ],
             [
              0.5555555555555556,
              "#d8576b"
             ],
             [
              0.6666666666666666,
              "#ed7953"
             ],
             [
              0.7777777777777778,
              "#fb9f3a"
             ],
             [
              0.8888888888888888,
              "#fdca26"
             ],
             [
              1,
              "#f0f921"
             ]
            ],
            "type": "surface"
           }
          ],
          "table": [
           {
            "cells": {
             "fill": {
              "color": "#EBF0F8"
             },
             "line": {
              "color": "white"
             }
            },
            "header": {
             "fill": {
              "color": "#C8D4E3"
             },
             "line": {
              "color": "white"
             }
            },
            "type": "table"
           }
          ]
         },
         "layout": {
          "annotationdefaults": {
           "arrowcolor": "#2a3f5f",
           "arrowhead": 0,
           "arrowwidth": 1
          },
          "autotypenumbers": "strict",
          "coloraxis": {
           "colorbar": {
            "outlinewidth": 0,
            "ticks": ""
           }
          },
          "colorscale": {
           "diverging": [
            [
             0,
             "#8e0152"
            ],
            [
             0.1,
             "#c51b7d"
            ],
            [
             0.2,
             "#de77ae"
            ],
            [
             0.3,
             "#f1b6da"
            ],
            [
             0.4,
             "#fde0ef"
            ],
            [
             0.5,
             "#f7f7f7"
            ],
            [
             0.6,
             "#e6f5d0"
            ],
            [
             0.7,
             "#b8e186"
            ],
            [
             0.8,
             "#7fbc41"
            ],
            [
             0.9,
             "#4d9221"
            ],
            [
             1,
             "#276419"
            ]
           ],
           "sequential": [
            [
             0,
             "#0d0887"
            ],
            [
             0.1111111111111111,
             "#46039f"
            ],
            [
             0.2222222222222222,
             "#7201a8"
            ],
            [
             0.3333333333333333,
             "#9c179e"
            ],
            [
             0.4444444444444444,
             "#bd3786"
            ],
            [
             0.5555555555555556,
             "#d8576b"
            ],
            [
             0.6666666666666666,
             "#ed7953"
            ],
            [
             0.7777777777777778,
             "#fb9f3a"
            ],
            [
             0.8888888888888888,
             "#fdca26"
            ],
            [
             1,
             "#f0f921"
            ]
           ],
           "sequentialminus": [
            [
             0,
             "#0d0887"
            ],
            [
             0.1111111111111111,
             "#46039f"
            ],
            [
             0.2222222222222222,
             "#7201a8"
            ],
            [
             0.3333333333333333,
             "#9c179e"
            ],
            [
             0.4444444444444444,
             "#bd3786"
            ],
            [
             0.5555555555555556,
             "#d8576b"
            ],
            [
             0.6666666666666666,
             "#ed7953"
            ],
            [
             0.7777777777777778,
             "#fb9f3a"
            ],
            [
             0.8888888888888888,
             "#fdca26"
            ],
            [
             1,
             "#f0f921"
            ]
           ]
          },
          "colorway": [
           "#636efa",
           "#EF553B",
           "#00cc96",
           "#ab63fa",
           "#FFA15A",
           "#19d3f3",
           "#FF6692",
           "#B6E880",
           "#FF97FF",
           "#FECB52"
          ],
          "font": {
           "color": "#2a3f5f"
          },
          "geo": {
           "bgcolor": "white",
           "lakecolor": "white",
           "landcolor": "#E5ECF6",
           "showlakes": true,
           "showland": true,
           "subunitcolor": "white"
          },
          "hoverlabel": {
           "align": "left"
          },
          "hovermode": "closest",
          "mapbox": {
           "style": "light"
          },
          "paper_bgcolor": "white",
          "plot_bgcolor": "#E5ECF6",
          "polar": {
           "angularaxis": {
            "gridcolor": "white",
            "linecolor": "white",
            "ticks": ""
           },
           "bgcolor": "#E5ECF6",
           "radialaxis": {
            "gridcolor": "white",
            "linecolor": "white",
            "ticks": ""
           }
          },
          "scene": {
           "xaxis": {
            "backgroundcolor": "#E5ECF6",
            "gridcolor": "white",
            "gridwidth": 2,
            "linecolor": "white",
            "showbackground": true,
            "ticks": "",
            "zerolinecolor": "white"
           },
           "yaxis": {
            "backgroundcolor": "#E5ECF6",
            "gridcolor": "white",
            "gridwidth": 2,
            "linecolor": "white",
            "showbackground": true,
            "ticks": "",
            "zerolinecolor": "white"
           },
           "zaxis": {
            "backgroundcolor": "#E5ECF6",
            "gridcolor": "white",
            "gridwidth": 2,
            "linecolor": "white",
            "showbackground": true,
            "ticks": "",
            "zerolinecolor": "white"
           }
          },
          "shapedefaults": {
           "line": {
            "color": "#2a3f5f"
           }
          },
          "ternary": {
           "aaxis": {
            "gridcolor": "white",
            "linecolor": "white",
            "ticks": ""
           },
           "baxis": {
            "gridcolor": "white",
            "linecolor": "white",
            "ticks": ""
           },
           "bgcolor": "#E5ECF6",
           "caxis": {
            "gridcolor": "white",
            "linecolor": "white",
            "ticks": ""
           }
          },
          "title": {
           "x": 0.05
          },
          "xaxis": {
           "automargin": true,
           "gridcolor": "white",
           "linecolor": "white",
           "ticks": "",
           "title": {
            "standoff": 15
           },
           "zerolinecolor": "white",
           "zerolinewidth": 2
          },
          "yaxis": {
           "automargin": true,
           "gridcolor": "white",
           "linecolor": "white",
           "ticks": "",
           "title": {
            "standoff": 15
           },
           "zerolinecolor": "white",
           "zerolinewidth": 2
          }
         }
        },
        "xaxis": {
         "anchor": "y",
         "domain": [
          0,
          1
         ],
         "title": {
          "text": "age"
         }
        },
        "yaxis": {
         "anchor": "x",
         "domain": [
          0,
          1
         ],
         "title": {
          "text": "count"
         }
        }
       }
      },
      "text/html": [
       "<div>                            <div id=\"acf52ebc-5373-4715-b151-fc36ea8e086a\" class=\"plotly-graph-div\" style=\"height:525px; width:100%;\"></div>            <script type=\"text/javascript\">                require([\"plotly\"], function(Plotly) {                    window.PLOTLYENV=window.PLOTLYENV || {};                                    if (document.getElementById(\"acf52ebc-5373-4715-b151-fc36ea8e086a\")) {                    Plotly.newPlot(                        \"acf52ebc-5373-4715-b151-fc36ea8e086a\",                        [{\"alignmentgroup\": \"True\", \"bingroup\": \"x\", \"hovertemplate\": \"survived=1<br>age=%{x}<br>count=%{y}<extra></extra>\", \"legendgroup\": \"1\", \"marker\": {\"color\": \"#636efa\", \"opacity\": 0.7}, \"name\": \"1\", \"offsetgroup\": \"1\", \"orientation\": \"v\", \"showlegend\": true, \"type\": \"histogram\", \"x\": [\"29\", \"0.9167\", \"48\", \"63\", \"53\", \"18\", \"24\", \"26\", \"80\", \"50\", \"32\", \"37\", \"47\", \"26\", \"42\", \"29\", \"25\", \"19\", \"35\", \"28\", \"40\", \"30\", \"58\", \"45\", \"22\", \"?\", \"44\", \"59\", \"60\", \"41\", \"42\", \"53\", \"36\", \"58\", \"11\", \"14\", \"36\", \"36\", \"?\", \"76\", \"47\", \"27\", \"33\", \"36\", \"30\", \"45\", \"?\", \"26\", \"22\", \"39\", \"64\", \"55\", \"36\", \"64\", \"38\", \"51\", \"27\", \"33\", \"27\", \"31\", \"17\", \"53\", \"4\", \"54\", \"27\", \"48\", \"48\", \"49\", \"23\", \"38\", \"54\", \"?\", \"?\", \"36\", \"24\", \"28\", \"23\", \"60\", \"30\", \"50\", \"43\", \"?\", \"22\", \"60\", \"48\", \"35\", \"35\", \"22\", \"45\", \"49\", \"?\", \"53\", \"19\", \"58\", \"23\", \"45\", \"25\", \"25\", \"48\", \"49\", \"35\", \"27\", \"?\", \"24\", \"52\", \"16\", \"44\", \"51\", \"35\", \"35\", \"38\", \"35\", \"38\", \"49\", \"?\", \"42\", \"45\", \"39\", \"49\", \"30\", \"35\", \"55\", \"16\", \"51\", \"21\", \"58\", \"15\", \"16\", \"?\", \"18\", \"24\", \"36\", \"?\", \"33\", \"37\", \"30\", \"31\", \"23\", \"19\", \"39\", \"?\", \"22\", \"22\", \"17\", \"30\", \"52\", \"56\", \"?\", \"43\", \"45\", \"33\", \"33\", \"54\", \"13\", \"18\", \"21\", \"48\", \"?\", \"24\", \"?\", \"35\", \"30\", \"34\", \"40\", \"35\", \"39\", \"56\", \"28\", \"18\", \"24\", \"23\", \"6\", \"45\", \"40\", \"?\", \"32\", \"54\", \"43\", \"52\", \"62\", \"48\", \"18\", \"39\", \"48\", \"?\", \"17\", \"39\", \"?\", \"31\", \"35\", \"60\", \"55\", \"31\", \"45\", \"50\", \"21\", \"21\", \"31\", \"?\", \"36\", \"28\", \"36\", \"36\", \"32\", \"19\", \"1\", \"4\", \"12\", \"36\", \"34\", \"19\", \"24\", \"15\", \"40\", \"20\", \"36\", \"42\", \"0.8333\", \"26\", \"22\", \"35\", \"25\", \"45\", \"28\", \"24\", \"8\", \"31\", \"22\", \"8\", \"48\", \"28\", \"24\", \"18\", \"34\", \"8\", \"34\", \"27\", \"30\", \"29\", \"34\", \"0.6667\", \"24\", \"6\", \"62\", \"7\", \"45\", \"24\", \"24\", \"48\", \"55\", \"20\", \"54\", \"29\", \"42\", \"17\", \"24\", \"23\", \"24\", \"?\", \"45\", \"1\", \"3\", \"22\", \"17\", \"?\", \"34\", \"42\", \"1\", \"24\", \"13\", \"41\", \"19\", \"14\", \"2\", \"3\", \"20\", \"29\", \"22\", \"?\", \"29\", \"50\", \"21\", \"19\", \"32\", \"30\", \"2\", \"8\", \"33\", \"30\", \"28\", \"0.8333\", \"3\", \"24\", \"50\", \"21\", \"25\", \"18\", \"20\", \"30\", \"30\", \"40\", \"50\", \"28\", \"27\", \"31\", \"31\", \"12\", \"40\", \"32.5\", \"29\", \"2\", \"4\", \"29\", \"0.9167\", \"5\", \"33\", \"31\", \"?\", \"26\", \"35\", \"16\", \"25\", \"20\", \"18\", \"0.8333\", \"18\", \"26\", \"19\", \"17\", \"27\", \"3\", \"5\", \"23\", \"38\", \"45\", \"13\", \"33\", \"0.75\", \"0.75\", \"5\", \"24\", \"18\", \"20\", \"32\", \"22\", \"21\", \"16\", \"32\", \"18\", \"22\", \"9\", \"3\", \"36\", \"17\", \"45\", \"30\", \"29\", \"?\", \"36.5\", \"36\", \"30\", \"1\", \"0.1667\", \"33\", \"19\", \"19\", \"30\", \"23\", \"24\", \"22\", \"5\", \"?\", \"?\", \"16\", \"?\", \"9\", \"31\", \"24\", \"45\", \"?\", \"27\", \"?\", \"26\", \"22\", \"2\", \"22\", \"27\", \"?\", \"?\", \"29\", \"21\", \"?\", \"?\", \"26\", \"4\", \"1\", \"27\", \"32\", \"32\", \"21\", \"4\", \"39\", \"?\", \"?\", \"?\", \"4\", \"29\", \"26\", \"25\", \"?\", \"22\", \"26\", \"22\", \"20\", \"27\", \"23\", \"32\", \"?\", \"24\", \"?\", \"?\", \"?\", \"?\", \"?\", \"?\", \"?\", \"?\", \"?\", \"?\", \"15\", \"21\", \"?\", \"6\", \"27\", \"?\", \"?\", \"?\", \"?\", \"?\", \"?\", \"?\", \"24\", \"?\", \"?\", \"?\", \"15\", \"1\", \"20\", \"19\", \"12\", \"14\", \"18\", \"26\", \"39\", \"22\", \"?\", \"?\", \"?\", \"22\", \"?\", \"?\", \"9\", \"32\", \"31\", \"25\", \"?\", \"?\", \"?\", \"32\", \"?\", \"?\", \"?\", \"21\", \"1\", \"24\", \"4\", \"25\", \"29\", \"?\", \"18\", \"?\", \"23\", \"31\", \"16\", \"44\", \"14\", \"25\", \"0.4167\", \"16\", \"?\", \"25\", \"7\", \"9\", \"29\", \"18\", \"63\", \"22\", \"38\", \"47\", \"15\"], \"xaxis\": \"x\", \"yaxis\": \"y\"}, {\"alignmentgroup\": \"True\", \"bingroup\": \"x\", \"hovertemplate\": \"survived=0<br>age=%{x}<br>count=%{y}<extra></extra>\", \"legendgroup\": \"0\", \"marker\": {\"color\": \"#EF553B\", \"opacity\": 0.7}, \"name\": \"0\", \"offsetgroup\": \"0\", \"orientation\": \"v\", \"showlegend\": true, \"type\": \"histogram\", \"x\": [\"2\", \"30\", \"25\", \"39\", \"71\", \"47\", \"?\", \"24\", \"36\", \"25\", \"45\", \"42\", \"41\", \"48\", \"?\", \"45\", \"?\", \"33\", \"28\", \"17\", \"49\", \"36\", \"46\", \"?\", \"27\", \"?\", \"47\", \"37\", \"?\", \"70\", \"39\", \"31\", \"50\", \"39\", \"36\", \"?\", \"30\", \"19\", \"64\", \"?\", \"?\", \"37\", \"47\", \"24\", \"71\", \"38\", \"46\", \"?\", \"45\", \"40\", \"55\", \"42\", \"?\", \"55\", \"42\", \"?\", \"50\", \"46\", \"50\", \"32.5\", \"58\", \"41\", \"?\", \"?\", \"42\", \"29\", \"30\", \"30\", \"19\", \"46\", \"54\", \"28\", \"65\", \"44\", \"55\", \"47\", \"37\", \"58\", \"64\", \"65\", \"28.5\", \"?\", \"45.5\", \"23\", \"29\", \"18\", \"47\", \"38\", \"22\", \"?\", \"31\", \"?\", \"46\", \"36\", \"55\", \"33\", \"61\", \"50\", \"56\", \"56\", \"24\", \"?\", \"57\", \"62\", \"?\", \"67\", \"63\", \"61\", \"52\", \"49\", \"40\", \"61\", \"47\", \"64\", \"60\", \"54\", \"21\", \"57\", \"50\", \"27\", \"51\", \"?\", \"62\", \"30\", \"30\", \"18\", \"25\", \"34\", \"57\", \"18\", \"23\", \"28\", \"51\", \"28\", \"23\", \"26\", \"42\", \"27\", \"60\", \"25\", \"25\", \"42\", \"?\", \"19\", \"44\", \"54\", \"52\", \"37\", \"29\", \"29\", \"29\", \"28\", \"31\", \"30\", \"?\", \"21\", \"?\", \"18\", \"32\", \"17\", \"29\", \"25\", \"18\", \"54\", \"42\", \"23\", \"21\", \"18\", \"40\", \"18\", \"36\", \"?\", \"38\", \"35\", \"38\", \"34\", \"16\", \"26\", \"47\", \"21\", \"21\", \"24\", \"24\", \"34\", \"30\", \"52\", \"30\", \"44\", \"28\", \"30\", \"43\", \"49\", \"24\", \"32\", \"21\", \"18\", \"23\", \"36\", \"50\", \"44\", \"21\", \"63\", \"60\", \"33\", \"42\", \"47\", \"24\", \"22\", \"32\", \"34\", \"22\", \"35\", \"57\", \"?\", \"31\", \"26\", \"30\", \"?\", \"25\", \"36\", \"24\", \"61\", \"50\", \"57\", \"?\", \"31\", \"?\", \"30\", \"40\", \"32\", \"30\", \"46\", \"39\", \"48\", \"70\", \"27\", \"54\", \"39\", \"16\", \"62\", \"32.5\", \"36.5\", \"26\", \"19\", \"28\", \"39\", \"23\", \"28\", \"?\", \"19\", \"?\", \"41\", \"43\", \"34\", \"27\", \"36\", \"34\", \"23\", \"19\", \"26\", \"25\", \"27\", \"59\", \"35\", \"25\", \"41\", \"25\", \"18.5\", \"14\", \"23\", \"29\", \"27\", \"40\", \"30\", \"23\", \"?\", \"27\", \"36\", \"66\", \"?\", \"24\", \"42\", \"13\", \"16\", \"30\", \"26\", \"40\", \"26\", \"20\", \"24\", \"25\", \"35\", \"18\", \"32\", \"4\", \"6\", \"2\", \"38\", \"9\", \"11\", \"39\", \"26\", \"39\", \"20\", \"26\", \"25\", \"18\", \"24\", \"35\", \"5\", \"9\", \"13\", \"40\", \"21\", \"23\", \"17\", \"30\", \"23\", \"20\", \"32\", \"40\", \"26\", \"18\", \"45\", \"27\", \"22\", \"19\", \"26\", \"22\", \"?\", \"20\", \"21\", \"18\", \"26\", \"6\", \"9\", \"?\", \"?\", \"?\", \"40\", \"32\", \"21\", \"20\", \"29\", \"22\", \"22\", \"35\", \"18.5\", \"19\", \"18\", \"21\", \"30\", \"18\", \"38\", \"17\", \"17\", \"21\", \"21\", \"21\", \"?\", \"?\", \"28\", \"24\", \"37\", \"28\", \"24\", \"21\", \"29\", \"26\", \"18\", \"20\", \"24\", \"36\", \"24\", \"31\", \"31\", \"30\", \"70.5\", \"43\", \"35\", \"27\", \"19\", \"30\", \"59\", \"19\", \"44\", \"17\", \"22.5\", \"22\", \"19\", \"0.3333\", \"34\", \"28\", \"27\", \"25\", \"24\", \"22\", \"21\", \"17\", \"?\", \"16\", \"26\", \"25\", \"?\", \"?\", \"22\", \"36\", \"17\", \"42\", \"43\", \"?\", \"32\", \"24\", \"33\", \"65\", \"23\", \"18\", \"16\", \"45\", \"?\", \"39\", \"17\", \"15\", \"47\", \"?\", \"40.5\", \"40.5\", \"18\", \"?\", \"?\", \"?\", \"26\", \"?\", \"21\", \"9\", \"?\", \"18\", \"16\", \"48\", \"?\", \"?\", \"25\", \"?\", \"?\", \"22\", \"33\", \"41\", \"38\", \"9\", \"1\", \"11\", \"10\", \"16\", \"14\", \"40\", \"43\", \"51\", \"32\", \"?\", \"20\", \"37\", \"28\", \"19\", \"24\", \"17\", \"?\", \"?\", \"28\", \"20\", \"23.5\", \"41\", \"26\", \"21\", \"?\", \"25\", \"?\", \"11\", \"18\", \"23\", \"28\", \"28\", \"?\", \"43\", \"28\", \"?\", \"42\", \"30\", \"?\", \"27\", \"25\", \"?\", \"?\", \"20\", \"48\", \"17\", \"34\", \"22\", \"33\", \"31\", \"29\", \"49\", \"33\", \"19\", \"?\", \"?\", \"?\", \"?\", \"23\", \"27\", \"20\", \"21\", \"17\", \"21\", \"30\", \"33\", \"22\", \"?\", \"18.5\", \"?\", \"?\", \"34.5\", \"44\", \"?\", \"?\", \"?\", \"?\", \"?\", \"22\", \"26\", \"1\", \"18\", \"36\", \"?\", \"?\", \"37\", \"?\", \"?\", \"?\", \"29\", \"29\", \"22\", \"?\", \"?\", \"?\", \"?\", \"?\", \"32\", \"34.5\", \"?\", \"?\", \"36\", \"39\", \"24\", \"25\", \"45\", \"36\", \"30\", \"?\", \"28\", \"?\", \"30\", \"26\", \"?\", \"20.5\", \"51\", \"?\", \"?\", \"22\", \"?\", \"?\", \"?\", \"29\", \"30.5\", \"?\", \"35\", \"33\", \"?\", \"?\", \"35\", \"?\", \"24\", \"19\", \"?\", \"?\", \"?\", \"55.5\", \"?\", \"?\", \"24\", \"21\", \"28\", \"?\", \"25\", \"?\", \"?\", \"?\", \"34\", \"?\", \"?\", \"?\", \"18\", \"22\", \"33\", \"?\", \"?\", \"?\", \"?\", \"29\", \"28\", \"21\", \"41\", \"21\", \"28.5\", \"61\", \"?\", \"?\", \"?\", \"?\", \"?\", \"23\", \"?\", \"28\", \"42\", \"?\", \"31\", \"28\", \"20\", \"23\", \"20\", \"20\", \"16\", \"?\", \"2\", \"6\", \"3\", \"8\", \"29\", \"1\", \"7\", \"2\", \"16\", \"14\", \"41\", \"21\", \"19\", \"?\", \"32\", \"0.75\", \"3\", \"26\", \"?\", \"?\", \"?\", \"21\", \"25\", \"22\", \"?\", \"24\", \"28\", \"19\", \"?\", \"25\", \"18\", \"?\", \"17\", \"24\", \"?\", \"?\", \"?\", \"?\", \"38\", \"21\", \"10\", \"4\", \"7\", \"2\", \"8\", \"39\", \"22\", \"35\", \"?\", \"?\", \"50\", \"47\", \"?\", \"?\", \"2\", \"18\", \"41\", \"50\", \"16\", \"?\", \"?\", \"25\", \"?\", \"?\", \"?\", \"38.5\", \"?\", \"14.5\", \"?\", \"?\", \"?\", \"?\", \"?\", \"?\", \"?\", \"?\", \"?\", \"24\", \"39\", \"?\", \"?\", \"?\", \"20\", \"24.5\", \"?\", \"?\", \"?\", \"?\", \"?\", \"?\", \"22\", \"?\", \"40\", \"21\", \"4\", \"10\", \"9\", \"2\", \"40\", \"45\", \"?\", \"?\", \"?\", \"?\", \"19\", \"30\", \"?\", \"32\", \"?\", \"33\", \"21\", \"60.5\", \"19\", \"22\", \"27\", \"2\", \"29\", \"25\", \"74\", \"24\", \"34\", \"?\", \"?\", \"?\", \"?\", \"?\", \"32\", \"?\", \"?\", \"30.5\", \"44\", \"?\", \"?\", \"36\", \"?\", \"11.5\", \"40.5\", \"10\", \"36\", \"30\", \"?\", \"33\", \"28\", \"28\", \"47\", \"18\", \"31\", \"16\", \"31\", \"20\", \"14\", \"22\", \"22\", \"?\", \"?\", \"?\", \"32.5\", \"51\", \"18\", \"21\", \"?\", \"?\", \"?\", \"28.5\", \"21\", \"27\", \"?\", \"36\", \"27\", \"45.5\", \"?\", \"?\", \"14.5\", \"?\", \"26.5\", \"27\", \"29\"], \"xaxis\": \"x\", \"yaxis\": \"y\"}],                        {\"barmode\": \"relative\", \"legend\": {\"title\": {\"text\": \"survived\"}, \"tracegroupgap\": 0}, \"margin\": {\"t\": 60}, \"template\": {\"data\": {\"bar\": [{\"error_x\": {\"color\": \"#2a3f5f\"}, \"error_y\": {\"color\": \"#2a3f5f\"}, \"marker\": {\"line\": {\"color\": \"#E5ECF6\", \"width\": 0.5}}, \"type\": \"bar\"}], \"barpolar\": [{\"marker\": {\"line\": {\"color\": \"#E5ECF6\", \"width\": 0.5}}, \"type\": \"barpolar\"}], \"carpet\": [{\"aaxis\": {\"endlinecolor\": \"#2a3f5f\", \"gridcolor\": \"white\", \"linecolor\": \"white\", \"minorgridcolor\": \"white\", \"startlinecolor\": \"#2a3f5f\"}, \"baxis\": {\"endlinecolor\": \"#2a3f5f\", \"gridcolor\": \"white\", \"linecolor\": \"white\", \"minorgridcolor\": \"white\", \"startlinecolor\": \"#2a3f5f\"}, \"type\": \"carpet\"}], \"choropleth\": [{\"colorbar\": {\"outlinewidth\": 0, \"ticks\": \"\"}, \"type\": \"choropleth\"}], \"contour\": [{\"colorbar\": {\"outlinewidth\": 0, \"ticks\": \"\"}, \"colorscale\": [[0.0, \"#0d0887\"], [0.1111111111111111, \"#46039f\"], [0.2222222222222222, \"#7201a8\"], [0.3333333333333333, \"#9c179e\"], [0.4444444444444444, \"#bd3786\"], [0.5555555555555556, \"#d8576b\"], [0.6666666666666666, \"#ed7953\"], [0.7777777777777778, \"#fb9f3a\"], [0.8888888888888888, \"#fdca26\"], [1.0, \"#f0f921\"]], \"type\": \"contour\"}], \"contourcarpet\": [{\"colorbar\": {\"outlinewidth\": 0, \"ticks\": \"\"}, \"type\": \"contourcarpet\"}], \"heatmap\": [{\"colorbar\": {\"outlinewidth\": 0, \"ticks\": \"\"}, \"colorscale\": [[0.0, \"#0d0887\"], [0.1111111111111111, \"#46039f\"], [0.2222222222222222, \"#7201a8\"], [0.3333333333333333, \"#9c179e\"], [0.4444444444444444, \"#bd3786\"], [0.5555555555555556, \"#d8576b\"], [0.6666666666666666, \"#ed7953\"], [0.7777777777777778, \"#fb9f3a\"], [0.8888888888888888, \"#fdca26\"], [1.0, \"#f0f921\"]], \"type\": \"heatmap\"}], \"heatmapgl\": [{\"colorbar\": {\"outlinewidth\": 0, \"ticks\": \"\"}, \"colorscale\": [[0.0, \"#0d0887\"], [0.1111111111111111, \"#46039f\"], [0.2222222222222222, \"#7201a8\"], [0.3333333333333333, \"#9c179e\"], [0.4444444444444444, \"#bd3786\"], [0.5555555555555556, \"#d8576b\"], [0.6666666666666666, \"#ed7953\"], [0.7777777777777778, \"#fb9f3a\"], [0.8888888888888888, \"#fdca26\"], [1.0, \"#f0f921\"]], \"type\": \"heatmapgl\"}], \"histogram\": [{\"marker\": {\"colorbar\": {\"outlinewidth\": 0, \"ticks\": \"\"}}, \"type\": \"histogram\"}], \"histogram2d\": [{\"colorbar\": {\"outlinewidth\": 0, \"ticks\": \"\"}, \"colorscale\": [[0.0, \"#0d0887\"], [0.1111111111111111, \"#46039f\"], [0.2222222222222222, \"#7201a8\"], [0.3333333333333333, \"#9c179e\"], [0.4444444444444444, \"#bd3786\"], [0.5555555555555556, \"#d8576b\"], [0.6666666666666666, \"#ed7953\"], [0.7777777777777778, \"#fb9f3a\"], [0.8888888888888888, \"#fdca26\"], [1.0, \"#f0f921\"]], \"type\": \"histogram2d\"}], \"histogram2dcontour\": [{\"colorbar\": {\"outlinewidth\": 0, \"ticks\": \"\"}, \"colorscale\": [[0.0, \"#0d0887\"], [0.1111111111111111, \"#46039f\"], [0.2222222222222222, \"#7201a8\"], [0.3333333333333333, \"#9c179e\"], [0.4444444444444444, \"#bd3786\"], [0.5555555555555556, \"#d8576b\"], [0.6666666666666666, \"#ed7953\"], [0.7777777777777778, \"#fb9f3a\"], [0.8888888888888888, \"#fdca26\"], [1.0, \"#f0f921\"]], \"type\": \"histogram2dcontour\"}], \"mesh3d\": [{\"colorbar\": {\"outlinewidth\": 0, \"ticks\": \"\"}, \"type\": \"mesh3d\"}], \"parcoords\": [{\"line\": {\"colorbar\": {\"outlinewidth\": 0, \"ticks\": \"\"}}, \"type\": \"parcoords\"}], \"pie\": [{\"automargin\": true, \"type\": \"pie\"}], \"scatter\": [{\"marker\": {\"colorbar\": {\"outlinewidth\": 0, \"ticks\": \"\"}}, \"type\": \"scatter\"}], \"scatter3d\": [{\"line\": {\"colorbar\": {\"outlinewidth\": 0, \"ticks\": \"\"}}, \"marker\": {\"colorbar\": {\"outlinewidth\": 0, \"ticks\": \"\"}}, \"type\": \"scatter3d\"}], \"scattercarpet\": [{\"marker\": {\"colorbar\": {\"outlinewidth\": 0, \"ticks\": \"\"}}, \"type\": \"scattercarpet\"}], \"scattergeo\": [{\"marker\": {\"colorbar\": {\"outlinewidth\": 0, \"ticks\": \"\"}}, \"type\": \"scattergeo\"}], \"scattergl\": [{\"marker\": {\"colorbar\": {\"outlinewidth\": 0, \"ticks\": \"\"}}, \"type\": \"scattergl\"}], \"scattermapbox\": [{\"marker\": {\"colorbar\": {\"outlinewidth\": 0, \"ticks\": \"\"}}, \"type\": \"scattermapbox\"}], \"scatterpolar\": [{\"marker\": {\"colorbar\": {\"outlinewidth\": 0, \"ticks\": \"\"}}, \"type\": \"scatterpolar\"}], \"scatterpolargl\": [{\"marker\": {\"colorbar\": {\"outlinewidth\": 0, \"ticks\": \"\"}}, \"type\": \"scatterpolargl\"}], \"scatterternary\": [{\"marker\": {\"colorbar\": {\"outlinewidth\": 0, \"ticks\": \"\"}}, \"type\": \"scatterternary\"}], \"surface\": [{\"colorbar\": {\"outlinewidth\": 0, \"ticks\": \"\"}, \"colorscale\": [[0.0, \"#0d0887\"], [0.1111111111111111, \"#46039f\"], [0.2222222222222222, \"#7201a8\"], [0.3333333333333333, \"#9c179e\"], [0.4444444444444444, \"#bd3786\"], [0.5555555555555556, \"#d8576b\"], [0.6666666666666666, \"#ed7953\"], [0.7777777777777778, \"#fb9f3a\"], [0.8888888888888888, \"#fdca26\"], [1.0, \"#f0f921\"]], \"type\": \"surface\"}], \"table\": [{\"cells\": {\"fill\": {\"color\": \"#EBF0F8\"}, \"line\": {\"color\": \"white\"}}, \"header\": {\"fill\": {\"color\": \"#C8D4E3\"}, \"line\": {\"color\": \"white\"}}, \"type\": \"table\"}]}, \"layout\": {\"annotationdefaults\": {\"arrowcolor\": \"#2a3f5f\", \"arrowhead\": 0, \"arrowwidth\": 1}, \"autotypenumbers\": \"strict\", \"coloraxis\": {\"colorbar\": {\"outlinewidth\": 0, \"ticks\": \"\"}}, \"colorscale\": {\"diverging\": [[0, \"#8e0152\"], [0.1, \"#c51b7d\"], [0.2, \"#de77ae\"], [0.3, \"#f1b6da\"], [0.4, \"#fde0ef\"], [0.5, \"#f7f7f7\"], [0.6, \"#e6f5d0\"], [0.7, \"#b8e186\"], [0.8, \"#7fbc41\"], [0.9, \"#4d9221\"], [1, \"#276419\"]], \"sequential\": [[0.0, \"#0d0887\"], [0.1111111111111111, \"#46039f\"], [0.2222222222222222, \"#7201a8\"], [0.3333333333333333, \"#9c179e\"], [0.4444444444444444, \"#bd3786\"], [0.5555555555555556, \"#d8576b\"], [0.6666666666666666, \"#ed7953\"], [0.7777777777777778, \"#fb9f3a\"], [0.8888888888888888, \"#fdca26\"], [1.0, \"#f0f921\"]], \"sequentialminus\": [[0.0, \"#0d0887\"], [0.1111111111111111, \"#46039f\"], [0.2222222222222222, \"#7201a8\"], [0.3333333333333333, \"#9c179e\"], [0.4444444444444444, \"#bd3786\"], [0.5555555555555556, \"#d8576b\"], [0.6666666666666666, \"#ed7953\"], [0.7777777777777778, \"#fb9f3a\"], [0.8888888888888888, \"#fdca26\"], [1.0, \"#f0f921\"]]}, \"colorway\": [\"#636efa\", \"#EF553B\", \"#00cc96\", \"#ab63fa\", \"#FFA15A\", \"#19d3f3\", \"#FF6692\", \"#B6E880\", \"#FF97FF\", \"#FECB52\"], \"font\": {\"color\": \"#2a3f5f\"}, \"geo\": {\"bgcolor\": \"white\", \"lakecolor\": \"white\", \"landcolor\": \"#E5ECF6\", \"showlakes\": true, \"showland\": true, \"subunitcolor\": \"white\"}, \"hoverlabel\": {\"align\": \"left\"}, \"hovermode\": \"closest\", \"mapbox\": {\"style\": \"light\"}, \"paper_bgcolor\": \"white\", \"plot_bgcolor\": \"#E5ECF6\", \"polar\": {\"angularaxis\": {\"gridcolor\": \"white\", \"linecolor\": \"white\", \"ticks\": \"\"}, \"bgcolor\": \"#E5ECF6\", \"radialaxis\": {\"gridcolor\": \"white\", \"linecolor\": \"white\", \"ticks\": \"\"}}, \"scene\": {\"xaxis\": {\"backgroundcolor\": \"#E5ECF6\", \"gridcolor\": \"white\", \"gridwidth\": 2, \"linecolor\": \"white\", \"showbackground\": true, \"ticks\": \"\", \"zerolinecolor\": \"white\"}, \"yaxis\": {\"backgroundcolor\": \"#E5ECF6\", \"gridcolor\": \"white\", \"gridwidth\": 2, \"linecolor\": \"white\", \"showbackground\": true, \"ticks\": \"\", \"zerolinecolor\": \"white\"}, \"zaxis\": {\"backgroundcolor\": \"#E5ECF6\", \"gridcolor\": \"white\", \"gridwidth\": 2, \"linecolor\": \"white\", \"showbackground\": true, \"ticks\": \"\", \"zerolinecolor\": \"white\"}}, \"shapedefaults\": {\"line\": {\"color\": \"#2a3f5f\"}}, \"ternary\": {\"aaxis\": {\"gridcolor\": \"white\", \"linecolor\": \"white\", \"ticks\": \"\"}, \"baxis\": {\"gridcolor\": \"white\", \"linecolor\": \"white\", \"ticks\": \"\"}, \"bgcolor\": \"#E5ECF6\", \"caxis\": {\"gridcolor\": \"white\", \"linecolor\": \"white\", \"ticks\": \"\"}}, \"title\": {\"x\": 0.05}, \"xaxis\": {\"automargin\": true, \"gridcolor\": \"white\", \"linecolor\": \"white\", \"ticks\": \"\", \"title\": {\"standoff\": 15}, \"zerolinecolor\": \"white\", \"zerolinewidth\": 2}, \"yaxis\": {\"automargin\": true, \"gridcolor\": \"white\", \"linecolor\": \"white\", \"ticks\": \"\", \"title\": {\"standoff\": 15}, \"zerolinecolor\": \"white\", \"zerolinewidth\": 2}}}, \"xaxis\": {\"anchor\": \"y\", \"domain\": [0.0, 1.0], \"title\": {\"text\": \"age\"}}, \"yaxis\": {\"anchor\": \"x\", \"domain\": [0.0, 1.0], \"title\": {\"text\": \"count\"}}},                        {\"responsive\": true}                    ).then(function(){\n",
       "                            \n",
       "var gd = document.getElementById('acf52ebc-5373-4715-b151-fc36ea8e086a');\n",
       "var x = new MutationObserver(function (mutations, observer) {{\n",
       "        var display = window.getComputedStyle(gd).display;\n",
       "        if (!display || display === 'none') {{\n",
       "            console.log([gd, 'removed!']);\n",
       "            Plotly.purge(gd);\n",
       "            observer.disconnect();\n",
       "        }}\n",
       "}});\n",
       "\n",
       "// Listen for the removal of the full notebook cells\n",
       "var notebookContainer = gd.closest('#notebook-container');\n",
       "if (notebookContainer) {{\n",
       "    x.observe(notebookContainer, {childList: true});\n",
       "}}\n",
       "\n",
       "// Listen for the clearing of the current output cell\n",
       "var outputEl = gd.closest('.output');\n",
       "if (outputEl) {{\n",
       "    x.observe(outputEl, {childList: true});\n",
       "}}\n",
       "\n",
       "                        })                };                });            </script>        </div>"
      ]
     },
     "metadata": {},
     "output_type": "display_data"
    }
   ],
   "source": [
    "#First we must group the dataset by Pclass and Survived to gather the total count\n",
    "group = titanic_data.groupby(['pclass', 'survived'])\n",
    "pclass_survived = group.size().unstack()\n",
    "\n",
    "\n",
    "# Creating a histogram of age by survival\n",
    "hist = px.histogram(titanic_data,x = \"age\", opacity = 0.7, color = \"survived\")\n",
    "hist"
   ]
  },
  {
   "cell_type": "markdown",
   "metadata": {},
   "source": [
    "Below I will demonstrate how I explored the data.The first thing you will notice is that I created two list:\n",
    "\n",
    "- categorical columns \n",
    "- numerical columns\n",
    "\n",
    "I do this, to make it easier for me to access columns from these groups and if I need to apply any transformations"
   ]
  },
  {
   "cell_type": "code",
   "execution_count": 45,
   "metadata": {},
   "outputs": [],
   "source": [
    "categorical_columns = [\"name\",\"sex\",\"cabin\",\"embarked\", \"home.dest\"]\n",
    "numerical_columns = [\"pclass\",\"survived\",\"age\",\"sibsp\",\"parch\",\"ticket\",\"fare\",\"boat\",\"body\"]"
   ]
  },
  {
   "cell_type": "markdown",
   "metadata": {},
   "source": [
    "Now I will look at the values from my categorical columns"
   ]
  },
  {
   "cell_type": "code",
   "execution_count": 46,
   "metadata": {},
   "outputs": [
    {
     "name": "stdout",
     "output_type": "stream",
     "text": [
      "-----------------------------\n",
      "For column name, the values are: \n",
      "Connolly, Miss. Kate                              2\n",
      "Kelly, Mr. James                                  2\n",
      "Carter, Mrs. William Ernest (Lucile Polk)         1\n",
      "Svensson, Mr. Johan Cervin                        1\n",
      "Webber, Mr. James                                 1\n",
      "                                                 ..\n",
      "McNeill, Miss. Bridget                            1\n",
      "Gee, Mr. Arthur H                                 1\n",
      "Smith, Mrs. Lucien Philip (Mary Eloise Hughes)    1\n",
      "Aubart, Mme. Leontine Pauline                     1\n",
      "Karun, Miss. Manca                                1\n",
      "Name: name, Length: 1307, dtype: int64 \n",
      "\n",
      "-----------------------------\n",
      "-----------------------------\n",
      "For column sex, the values are: \n",
      "male      843\n",
      "female    466\n",
      "Name: sex, dtype: int64 \n",
      "\n",
      "-----------------------------\n",
      "-----------------------------\n",
      "For column cabin, the values are: \n",
      "?                  1014\n",
      "C23 C25 C27           6\n",
      "B57 B59 B63 B66       5\n",
      "G6                    5\n",
      "F33                   4\n",
      "                   ... \n",
      "B52 B54 B56           1\n",
      "B86                   1\n",
      "A5                    1\n",
      "D45                   1\n",
      "D47                   1\n",
      "Name: cabin, Length: 187, dtype: int64 \n",
      "\n",
      "-----------------------------\n",
      "-----------------------------\n",
      "For column embarked, the values are: \n",
      "S    914\n",
      "C    270\n",
      "Q    123\n",
      "?      2\n",
      "Name: embarked, dtype: int64 \n",
      "\n",
      "-----------------------------\n",
      "-----------------------------\n",
      "For column home.dest, the values are: \n",
      "?                               564\n",
      "New York, NY                     64\n",
      "London                           14\n",
      "Montreal, PQ                     10\n",
      "Paris, France                     9\n",
      "                               ... \n",
      "Waukegan, Chicago, IL             1\n",
      "Cambridge, MA                     1\n",
      "Halesworth, England               1\n",
      "Co Cork, Ireland Roxbury, MA      1\n",
      "Chelsea, London                   1\n",
      "Name: home.dest, Length: 370, dtype: int64 \n",
      "\n",
      "-----------------------------\n"
     ]
    }
   ],
   "source": [
    "for column in categorical_columns:\n",
    "    print(\"-----------------------------\")\n",
    "    print(\"For column {}, the values are: \\n{} \\n\".format(column, titanic_data[column].value_counts()))\n",
    "    print(\"-----------------------------\")"
   ]
  },
  {
   "cell_type": "markdown",
   "metadata": {},
   "source": [
    "**Exercise 4** - What can you understand from the above `value_counts()`? Do you see alot of people from NY or does everyone have the same name? Describe what you see."
   ]
  },
  {
   "cell_type": "markdown",
   "metadata": {},
   "source": [
    "(Double Click Here) Answer:"
   ]
  },
  {
   "cell_type": "markdown",
   "metadata": {},
   "source": [
    "Now lets take a look at how our numerical values are distributed"
   ]
  },
  {
   "cell_type": "code",
   "execution_count": 47,
   "metadata": {
    "scrolled": false
   },
   "outputs": [
    {
     "data": {
      "image/png": "[encoded data removed]",
      "text/plain": [
       "<Figure size 432x288 with 1 Axes>"
      ]
     },
     "metadata": {
      "needs_background": "light"
     },
     "output_type": "display_data"
    },
    {
     "data": {
      "image/png": "[encoded data removed]",
      "text/plain": [
       "<Figure size 432x288 with 1 Axes>"
      ]
     },
     "metadata": {
      "needs_background": "light"
     },
     "output_type": "display_data"
    },
    {
     "data": {
      "image/png": "[encoded data removed]",
      "text/plain": [
       "<Figure size 432x288 with 1 Axes>"
      ]
     },
     "metadata": {
      "needs_background": "light"
     },
     "output_type": "display_data"
    },
    {
     "data": {
      "image/png": "[encoded data removed]",
      "text/plain": [
       "<Figure size 432x288 with 1 Axes>"
      ]
     },
     "metadata": {
      "needs_background": "light"
     },
     "output_type": "display_data"
    }
   ],
   "source": [
    "for col in numerical_columns:\n",
    "    if col in [\"pclass\",\"survived\",\"sibsp\",\"parch\"]:\n",
    "        titanic_data.hist(column=col)"
   ]
  },
  {
   "cell_type": "markdown",
   "metadata": {},
   "source": [
    "### Prepare The data"
   ]
  },
  {
   "cell_type": "markdown",
   "metadata": {},
   "source": [
    "Next step is to start preparing our data. Here we will transform columns or clean up the data before we begin to feature engineer any new columns. \n",
    "\n",
    "Lets start with replacing our good ole friend the \"?\", so that we can decide how to replace missing values later."
   ]
  },
  {
   "cell_type": "code",
   "execution_count": 48,
   "metadata": {},
   "outputs": [
    {
     "data": {
      "text/html": [
       "<div>\n",
       "<style scoped>\n",
       "    .dataframe tbody tr th:only-of-type {\n",
       "        vertical-align: middle;\n",
       "    }\n",
       "\n",
       "    .dataframe tbody tr th {\n",
       "        vertical-align: top;\n",
       "    }\n",
       "\n",
       "    .dataframe thead th {\n",
       "        text-align: right;\n",
       "    }\n",
       "</style>\n",
       "<table border=\"1\" class=\"dataframe\">\n",
       "  <thead>\n",
       "    <tr style=\"text-align: right;\">\n",
       "      <th></th>\n",
       "      <th>pclass</th>\n",
       "      <th>survived</th>\n",
       "      <th>name</th>\n",
       "      <th>sex</th>\n",
       "      <th>age</th>\n",
       "      <th>sibsp</th>\n",
       "      <th>parch</th>\n",
       "      <th>ticket</th>\n",
       "      <th>fare</th>\n",
       "      <th>cabin</th>\n",
       "      <th>embarked</th>\n",
       "      <th>boat</th>\n",
       "      <th>body</th>\n",
       "      <th>home.dest</th>\n",
       "    </tr>\n",
       "  </thead>\n",
       "  <tbody>\n",
       "    <tr>\n",
       "      <th>0</th>\n",
       "      <td>1</td>\n",
       "      <td>1</td>\n",
       "      <td>Allen, Miss. Elisabeth Walton</td>\n",
       "      <td>female</td>\n",
       "      <td>29</td>\n",
       "      <td>0</td>\n",
       "      <td>0</td>\n",
       "      <td>24160</td>\n",
       "      <td>211.3375</td>\n",
       "      <td>B5</td>\n",
       "      <td>S</td>\n",
       "      <td>2</td>\n",
       "      <td>None</td>\n",
       "      <td>St Louis, MO</td>\n",
       "    </tr>\n",
       "    <tr>\n",
       "      <th>1</th>\n",
       "      <td>1</td>\n",
       "      <td>1</td>\n",
       "      <td>Allison, Master. Hudson Trevor</td>\n",
       "      <td>male</td>\n",
       "      <td>0.9167</td>\n",
       "      <td>1</td>\n",
       "      <td>2</td>\n",
       "      <td>113781</td>\n",
       "      <td>151.55</td>\n",
       "      <td>C22 C26</td>\n",
       "      <td>S</td>\n",
       "      <td>11</td>\n",
       "      <td>None</td>\n",
       "      <td>Montreal, PQ / Chesterville, ON</td>\n",
       "    </tr>\n",
       "    <tr>\n",
       "      <th>2</th>\n",
       "      <td>1</td>\n",
       "      <td>0</td>\n",
       "      <td>Allison, Miss. Helen Loraine</td>\n",
       "      <td>female</td>\n",
       "      <td>2</td>\n",
       "      <td>1</td>\n",
       "      <td>2</td>\n",
       "      <td>113781</td>\n",
       "      <td>151.55</td>\n",
       "      <td>C22 C26</td>\n",
       "      <td>S</td>\n",
       "      <td>None</td>\n",
       "      <td>None</td>\n",
       "      <td>Montreal, PQ / Chesterville, ON</td>\n",
       "    </tr>\n",
       "    <tr>\n",
       "      <th>3</th>\n",
       "      <td>1</td>\n",
       "      <td>0</td>\n",
       "      <td>Allison, Mr. Hudson Joshua Creighton</td>\n",
       "      <td>male</td>\n",
       "      <td>30</td>\n",
       "      <td>1</td>\n",
       "      <td>2</td>\n",
       "      <td>113781</td>\n",
       "      <td>151.55</td>\n",
       "      <td>C22 C26</td>\n",
       "      <td>S</td>\n",
       "      <td>None</td>\n",
       "      <td>135</td>\n",
       "      <td>Montreal, PQ / Chesterville, ON</td>\n",
       "    </tr>\n",
       "    <tr>\n",
       "      <th>4</th>\n",
       "      <td>1</td>\n",
       "      <td>0</td>\n",
       "      <td>Allison, Mrs. Hudson J C (Bessie Waldo Daniels)</td>\n",
       "      <td>female</td>\n",
       "      <td>25</td>\n",
       "      <td>1</td>\n",
       "      <td>2</td>\n",
       "      <td>113781</td>\n",
       "      <td>151.55</td>\n",
       "      <td>C22 C26</td>\n",
       "      <td>S</td>\n",
       "      <td>None</td>\n",
       "      <td>None</td>\n",
       "      <td>Montreal, PQ / Chesterville, ON</td>\n",
       "    </tr>\n",
       "    <tr>\n",
       "      <th>...</th>\n",
       "      <td>...</td>\n",
       "      <td>...</td>\n",
       "      <td>...</td>\n",
       "      <td>...</td>\n",
       "      <td>...</td>\n",
       "      <td>...</td>\n",
       "      <td>...</td>\n",
       "      <td>...</td>\n",
       "      <td>...</td>\n",
       "      <td>...</td>\n",
       "      <td>...</td>\n",
       "      <td>...</td>\n",
       "      <td>...</td>\n",
       "      <td>...</td>\n",
       "    </tr>\n",
       "    <tr>\n",
       "      <th>1304</th>\n",
       "      <td>3</td>\n",
       "      <td>0</td>\n",
       "      <td>Zabour, Miss. Hileni</td>\n",
       "      <td>female</td>\n",
       "      <td>14.5</td>\n",
       "      <td>1</td>\n",
       "      <td>0</td>\n",
       "      <td>2665</td>\n",
       "      <td>14.4542</td>\n",
       "      <td>None</td>\n",
       "      <td>C</td>\n",
       "      <td>None</td>\n",
       "      <td>328</td>\n",
       "      <td>None</td>\n",
       "    </tr>\n",
       "    <tr>\n",
       "      <th>1305</th>\n",
       "      <td>3</td>\n",
       "      <td>0</td>\n",
       "      <td>Zabour, Miss. Thamine</td>\n",
       "      <td>female</td>\n",
       "      <td>None</td>\n",
       "      <td>1</td>\n",
       "      <td>0</td>\n",
       "      <td>2665</td>\n",
       "      <td>14.4542</td>\n",
       "      <td>None</td>\n",
       "      <td>C</td>\n",
       "      <td>None</td>\n",
       "      <td>None</td>\n",
       "      <td>None</td>\n",
       "    </tr>\n",
       "    <tr>\n",
       "      <th>1306</th>\n",
       "      <td>3</td>\n",
       "      <td>0</td>\n",
       "      <td>Zakarian, Mr. Mapriededer</td>\n",
       "      <td>male</td>\n",
       "      <td>26.5</td>\n",
       "      <td>0</td>\n",
       "      <td>0</td>\n",
       "      <td>2656</td>\n",
       "      <td>7.225</td>\n",
       "      <td>None</td>\n",
       "      <td>C</td>\n",
       "      <td>None</td>\n",
       "      <td>304</td>\n",
       "      <td>None</td>\n",
       "    </tr>\n",
       "    <tr>\n",
       "      <th>1307</th>\n",
       "      <td>3</td>\n",
       "      <td>0</td>\n",
       "      <td>Zakarian, Mr. Ortin</td>\n",
       "      <td>male</td>\n",
       "      <td>27</td>\n",
       "      <td>0</td>\n",
       "      <td>0</td>\n",
       "      <td>2670</td>\n",
       "      <td>7.225</td>\n",
       "      <td>None</td>\n",
       "      <td>C</td>\n",
       "      <td>None</td>\n",
       "      <td>None</td>\n",
       "      <td>None</td>\n",
       "    </tr>\n",
       "    <tr>\n",
       "      <th>1308</th>\n",
       "      <td>3</td>\n",
       "      <td>0</td>\n",
       "      <td>Zimmerman, Mr. Leo</td>\n",
       "      <td>male</td>\n",
       "      <td>29</td>\n",
       "      <td>0</td>\n",
       "      <td>0</td>\n",
       "      <td>315082</td>\n",
       "      <td>7.875</td>\n",
       "      <td>None</td>\n",
       "      <td>S</td>\n",
       "      <td>None</td>\n",
       "      <td>None</td>\n",
       "      <td>None</td>\n",
       "    </tr>\n",
       "  </tbody>\n",
       "</table>\n",
       "<p>1309 rows × 14 columns</p>\n",
       "</div>"
      ],
      "text/plain": [
       "      pclass  survived                                             name  \\\n",
       "0          1         1                    Allen, Miss. Elisabeth Walton   \n",
       "1          1         1                   Allison, Master. Hudson Trevor   \n",
       "2          1         0                     Allison, Miss. Helen Loraine   \n",
       "3          1         0             Allison, Mr. Hudson Joshua Creighton   \n",
       "4          1         0  Allison, Mrs. Hudson J C (Bessie Waldo Daniels)   \n",
       "...      ...       ...                                              ...   \n",
       "1304       3         0                             Zabour, Miss. Hileni   \n",
       "1305       3         0                            Zabour, Miss. Thamine   \n",
       "1306       3         0                        Zakarian, Mr. Mapriededer   \n",
       "1307       3         0                              Zakarian, Mr. Ortin   \n",
       "1308       3         0                               Zimmerman, Mr. Leo   \n",
       "\n",
       "         sex     age  sibsp  parch  ticket      fare    cabin embarked  boat  \\\n",
       "0     female      29      0      0   24160  211.3375       B5        S     2   \n",
       "1       male  0.9167      1      2  113781    151.55  C22 C26        S    11   \n",
       "2     female       2      1      2  113781    151.55  C22 C26        S  None   \n",
       "3       male      30      1      2  113781    151.55  C22 C26        S  None   \n",
       "4     female      25      1      2  113781    151.55  C22 C26        S  None   \n",
       "...      ...     ...    ...    ...     ...       ...      ...      ...   ...   \n",
       "1304  female    14.5      1      0    2665   14.4542     None        C  None   \n",
       "1305  female    None      1      0    2665   14.4542     None        C  None   \n",
       "1306    male    26.5      0      0    2656     7.225     None        C  None   \n",
       "1307    male      27      0      0    2670     7.225     None        C  None   \n",
       "1308    male      29      0      0  315082     7.875     None        S  None   \n",
       "\n",
       "      body                        home.dest  \n",
       "0     None                     St Louis, MO  \n",
       "1     None  Montreal, PQ / Chesterville, ON  \n",
       "2     None  Montreal, PQ / Chesterville, ON  \n",
       "3      135  Montreal, PQ / Chesterville, ON  \n",
       "4     None  Montreal, PQ / Chesterville, ON  \n",
       "...    ...                              ...  \n",
       "1304   328                             None  \n",
       "1305  None                             None  \n",
       "1306   304                             None  \n",
       "1307  None                             None  \n",
       "1308  None                             None  \n",
       "\n",
       "[1309 rows x 14 columns]"
      ]
     },
     "execution_count": 48,
     "metadata": {},
     "output_type": "execute_result"
    }
   ],
   "source": [
    "titanic_data = titanic_data.replace({'?': None})\n",
    "titanic_data"
   ]
  },
  {
   "cell_type": "markdown",
   "metadata": {},
   "source": [
    "Lets count how many missing values we currently have"
   ]
  },
  {
   "cell_type": "code",
   "execution_count": 49,
   "metadata": {},
   "outputs": [
    {
     "data": {
      "text/plain": [
       "pclass          0\n",
       "survived        0\n",
       "name            0\n",
       "sex             0\n",
       "age           263\n",
       "sibsp           0\n",
       "parch           0\n",
       "ticket          0\n",
       "fare            1\n",
       "cabin        1014\n",
       "embarked        2\n",
       "boat          823\n",
       "body         1188\n",
       "home.dest     564\n",
       "dtype: int64"
      ]
     },
     "execution_count": 49,
     "metadata": {},
     "output_type": "execute_result"
    }
   ],
   "source": [
    "titanic_data.isnull().sum()"
   ]
  },
  {
   "cell_type": "markdown",
   "metadata": {},
   "source": [
    "In the step below we can see where I use the list of numerical columns to convert them all to numeric. You could have typed each individual column out, but this way you save time and can focus at the task at hand."
   ]
  },
  {
   "cell_type": "code",
   "execution_count": 50,
   "metadata": {},
   "outputs": [],
   "source": [
    "# Convert numeric columns to numeric\n",
    "titanic_data[numerical_columns] = titanic_data[numerical_columns].apply(pd.to_numeric, errors='coerce')"
   ]
  },
  {
   "cell_type": "markdown",
   "metadata": {},
   "source": [
    "In the next step I shorten the cabin values to only the cabin letter and not the number. I am doing this to make our next steps easier, but we are losing information that could be important."
   ]
  },
  {
   "cell_type": "code",
   "execution_count": 51,
   "metadata": {},
   "outputs": [],
   "source": [
    "titanic_data[\"cabin\"] = titanic_data[\"cabin\"].str[0]"
   ]
  },
  {
   "cell_type": "markdown",
   "metadata": {},
   "source": [
    "### Feature Engineering "
   ]
  },
  {
   "cell_type": "markdown",
   "metadata": {},
   "source": [
    "As discussed in our previous lesson, Feature engineering is used to enhance our data to draw more insights. Here we will transform stings to numbers, potentially remove missing data, one hot encode data, etc."
   ]
  },
  {
   "cell_type": "code",
   "execution_count": 52,
   "metadata": {},
   "outputs": [],
   "source": [
    "# Label Encoding cabin\n",
    "deck = {\"A\": 1, \"B\": 2, \"C\": 3, \"D\": 4, \"E\": 5, \"F\": 6, \"G\": 7, \"T\": 8}\n",
    "titanic_data[\"cabin\"] = titanic_data[\"cabin\"].map(deck)"
   ]
  },
  {
   "cell_type": "code",
   "execution_count": 53,
   "metadata": {},
   "outputs": [
    {
     "data": {
      "text/html": [
       "<div>\n",
       "<style scoped>\n",
       "    .dataframe tbody tr th:only-of-type {\n",
       "        vertical-align: middle;\n",
       "    }\n",
       "\n",
       "    .dataframe tbody tr th {\n",
       "        vertical-align: top;\n",
       "    }\n",
       "\n",
       "    .dataframe thead th {\n",
       "        text-align: right;\n",
       "    }\n",
       "</style>\n",
       "<table border=\"1\" class=\"dataframe\">\n",
       "  <thead>\n",
       "    <tr style=\"text-align: right;\">\n",
       "      <th></th>\n",
       "      <th>pclass</th>\n",
       "      <th>survived</th>\n",
       "      <th>name</th>\n",
       "      <th>age</th>\n",
       "      <th>sibsp</th>\n",
       "      <th>parch</th>\n",
       "      <th>ticket</th>\n",
       "      <th>fare</th>\n",
       "      <th>cabin</th>\n",
       "      <th>embarked</th>\n",
       "      <th>boat</th>\n",
       "      <th>body</th>\n",
       "      <th>home.dest</th>\n",
       "      <th>gender_female</th>\n",
       "      <th>gender_male</th>\n",
       "    </tr>\n",
       "  </thead>\n",
       "  <tbody>\n",
       "    <tr>\n",
       "      <th>0</th>\n",
       "      <td>1</td>\n",
       "      <td>1</td>\n",
       "      <td>Allen, Miss. Elisabeth Walton</td>\n",
       "      <td>29.0000</td>\n",
       "      <td>0</td>\n",
       "      <td>0</td>\n",
       "      <td>24160.0</td>\n",
       "      <td>211.3375</td>\n",
       "      <td>2.0</td>\n",
       "      <td>S</td>\n",
       "      <td>2.0</td>\n",
       "      <td>NaN</td>\n",
       "      <td>St Louis, MO</td>\n",
       "      <td>1</td>\n",
       "      <td>0</td>\n",
       "    </tr>\n",
       "    <tr>\n",
       "      <th>1</th>\n",
       "      <td>1</td>\n",
       "      <td>1</td>\n",
       "      <td>Allison, Master. Hudson Trevor</td>\n",
       "      <td>0.9167</td>\n",
       "      <td>1</td>\n",
       "      <td>2</td>\n",
       "      <td>113781.0</td>\n",
       "      <td>151.5500</td>\n",
       "      <td>3.0</td>\n",
       "      <td>S</td>\n",
       "      <td>11.0</td>\n",
       "      <td>NaN</td>\n",
       "      <td>Montreal, PQ / Chesterville, ON</td>\n",
       "      <td>0</td>\n",
       "      <td>1</td>\n",
       "    </tr>\n",
       "    <tr>\n",
       "      <th>2</th>\n",
       "      <td>1</td>\n",
       "      <td>0</td>\n",
       "      <td>Allison, Miss. Helen Loraine</td>\n",
       "      <td>2.0000</td>\n",
       "      <td>1</td>\n",
       "      <td>2</td>\n",
       "      <td>113781.0</td>\n",
       "      <td>151.5500</td>\n",
       "      <td>3.0</td>\n",
       "      <td>S</td>\n",
       "      <td>NaN</td>\n",
       "      <td>NaN</td>\n",
       "      <td>Montreal, PQ / Chesterville, ON</td>\n",
       "      <td>1</td>\n",
       "      <td>0</td>\n",
       "    </tr>\n",
       "    <tr>\n",
       "      <th>3</th>\n",
       "      <td>1</td>\n",
       "      <td>0</td>\n",
       "      <td>Allison, Mr. Hudson Joshua Creighton</td>\n",
       "      <td>30.0000</td>\n",
       "      <td>1</td>\n",
       "      <td>2</td>\n",
       "      <td>113781.0</td>\n",
       "      <td>151.5500</td>\n",
       "      <td>3.0</td>\n",
       "      <td>S</td>\n",
       "      <td>NaN</td>\n",
       "      <td>135.0</td>\n",
       "      <td>Montreal, PQ / Chesterville, ON</td>\n",
       "      <td>0</td>\n",
       "      <td>1</td>\n",
       "    </tr>\n",
       "    <tr>\n",
       "      <th>4</th>\n",
       "      <td>1</td>\n",
       "      <td>0</td>\n",
       "      <td>Allison, Mrs. Hudson J C (Bessie Waldo Daniels)</td>\n",
       "      <td>25.0000</td>\n",
       "      <td>1</td>\n",
       "      <td>2</td>\n",
       "      <td>113781.0</td>\n",
       "      <td>151.5500</td>\n",
       "      <td>3.0</td>\n",
       "      <td>S</td>\n",
       "      <td>NaN</td>\n",
       "      <td>NaN</td>\n",
       "      <td>Montreal, PQ / Chesterville, ON</td>\n",
       "      <td>1</td>\n",
       "      <td>0</td>\n",
       "    </tr>\n",
       "    <tr>\n",
       "      <th>...</th>\n",
       "      <td>...</td>\n",
       "      <td>...</td>\n",
       "      <td>...</td>\n",
       "      <td>...</td>\n",
       "      <td>...</td>\n",
       "      <td>...</td>\n",
       "      <td>...</td>\n",
       "      <td>...</td>\n",
       "      <td>...</td>\n",
       "      <td>...</td>\n",
       "      <td>...</td>\n",
       "      <td>...</td>\n",
       "      <td>...</td>\n",
       "      <td>...</td>\n",
       "      <td>...</td>\n",
       "    </tr>\n",
       "    <tr>\n",
       "      <th>1304</th>\n",
       "      <td>3</td>\n",
       "      <td>0</td>\n",
       "      <td>Zabour, Miss. Hileni</td>\n",
       "      <td>14.5000</td>\n",
       "      <td>1</td>\n",
       "      <td>0</td>\n",
       "      <td>2665.0</td>\n",
       "      <td>14.4542</td>\n",
       "      <td>NaN</td>\n",
       "      <td>C</td>\n",
       "      <td>NaN</td>\n",
       "      <td>328.0</td>\n",
       "      <td>None</td>\n",
       "      <td>1</td>\n",
       "      <td>0</td>\n",
       "    </tr>\n",
       "    <tr>\n",
       "      <th>1305</th>\n",
       "      <td>3</td>\n",
       "      <td>0</td>\n",
       "      <td>Zabour, Miss. Thamine</td>\n",
       "      <td>NaN</td>\n",
       "      <td>1</td>\n",
       "      <td>0</td>\n",
       "      <td>2665.0</td>\n",
       "      <td>14.4542</td>\n",
       "      <td>NaN</td>\n",
       "      <td>C</td>\n",
       "      <td>NaN</td>\n",
       "      <td>NaN</td>\n",
       "      <td>None</td>\n",
       "      <td>1</td>\n",
       "      <td>0</td>\n",
       "    </tr>\n",
       "    <tr>\n",
       "      <th>1306</th>\n",
       "      <td>3</td>\n",
       "      <td>0</td>\n",
       "      <td>Zakarian, Mr. Mapriededer</td>\n",
       "      <td>26.5000</td>\n",
       "      <td>0</td>\n",
       "      <td>0</td>\n",
       "      <td>2656.0</td>\n",
       "      <td>7.2250</td>\n",
       "      <td>NaN</td>\n",
       "      <td>C</td>\n",
       "      <td>NaN</td>\n",
       "      <td>304.0</td>\n",
       "      <td>None</td>\n",
       "      <td>0</td>\n",
       "      <td>1</td>\n",
       "    </tr>\n",
       "    <tr>\n",
       "      <th>1307</th>\n",
       "      <td>3</td>\n",
       "      <td>0</td>\n",
       "      <td>Zakarian, Mr. Ortin</td>\n",
       "      <td>27.0000</td>\n",
       "      <td>0</td>\n",
       "      <td>0</td>\n",
       "      <td>2670.0</td>\n",
       "      <td>7.2250</td>\n",
       "      <td>NaN</td>\n",
       "      <td>C</td>\n",
       "      <td>NaN</td>\n",
       "      <td>NaN</td>\n",
       "      <td>None</td>\n",
       "      <td>0</td>\n",
       "      <td>1</td>\n",
       "    </tr>\n",
       "    <tr>\n",
       "      <th>1308</th>\n",
       "      <td>3</td>\n",
       "      <td>0</td>\n",
       "      <td>Zimmerman, Mr. Leo</td>\n",
       "      <td>29.0000</td>\n",
       "      <td>0</td>\n",
       "      <td>0</td>\n",
       "      <td>315082.0</td>\n",
       "      <td>7.8750</td>\n",
       "      <td>NaN</td>\n",
       "      <td>S</td>\n",
       "      <td>NaN</td>\n",
       "      <td>NaN</td>\n",
       "      <td>None</td>\n",
       "      <td>0</td>\n",
       "      <td>1</td>\n",
       "    </tr>\n",
       "  </tbody>\n",
       "</table>\n",
       "<p>1309 rows × 15 columns</p>\n",
       "</div>"
      ],
      "text/plain": [
       "      pclass  survived                                             name  \\\n",
       "0          1         1                    Allen, Miss. Elisabeth Walton   \n",
       "1          1         1                   Allison, Master. Hudson Trevor   \n",
       "2          1         0                     Allison, Miss. Helen Loraine   \n",
       "3          1         0             Allison, Mr. Hudson Joshua Creighton   \n",
       "4          1         0  Allison, Mrs. Hudson J C (Bessie Waldo Daniels)   \n",
       "...      ...       ...                                              ...   \n",
       "1304       3         0                             Zabour, Miss. Hileni   \n",
       "1305       3         0                            Zabour, Miss. Thamine   \n",
       "1306       3         0                        Zakarian, Mr. Mapriededer   \n",
       "1307       3         0                              Zakarian, Mr. Ortin   \n",
       "1308       3         0                               Zimmerman, Mr. Leo   \n",
       "\n",
       "          age  sibsp  parch    ticket      fare  cabin embarked  boat   body  \\\n",
       "0     29.0000      0      0   24160.0  211.3375    2.0        S   2.0    NaN   \n",
       "1      0.9167      1      2  113781.0  151.5500    3.0        S  11.0    NaN   \n",
       "2      2.0000      1      2  113781.0  151.5500    3.0        S   NaN    NaN   \n",
       "3     30.0000      1      2  113781.0  151.5500    3.0        S   NaN  135.0   \n",
       "4     25.0000      1      2  113781.0  151.5500    3.0        S   NaN    NaN   \n",
       "...       ...    ...    ...       ...       ...    ...      ...   ...    ...   \n",
       "1304  14.5000      1      0    2665.0   14.4542    NaN        C   NaN  328.0   \n",
       "1305      NaN      1      0    2665.0   14.4542    NaN        C   NaN    NaN   \n",
       "1306  26.5000      0      0    2656.0    7.2250    NaN        C   NaN  304.0   \n",
       "1307  27.0000      0      0    2670.0    7.2250    NaN        C   NaN    NaN   \n",
       "1308  29.0000      0      0  315082.0    7.8750    NaN        S   NaN    NaN   \n",
       "\n",
       "                            home.dest  gender_female  gender_male  \n",
       "0                        St Louis, MO              1            0  \n",
       "1     Montreal, PQ / Chesterville, ON              0            1  \n",
       "2     Montreal, PQ / Chesterville, ON              1            0  \n",
       "3     Montreal, PQ / Chesterville, ON              0            1  \n",
       "4     Montreal, PQ / Chesterville, ON              1            0  \n",
       "...                               ...            ...          ...  \n",
       "1304                             None              1            0  \n",
       "1305                             None              1            0  \n",
       "1306                             None              0            1  \n",
       "1307                             None              0            1  \n",
       "1308                             None              0            1  \n",
       "\n",
       "[1309 rows x 15 columns]"
      ]
     },
     "execution_count": 53,
     "metadata": {},
     "output_type": "execute_result"
    }
   ],
   "source": [
    "# One hot encoding sex\n",
    "titanic_data = pd.get_dummies(titanic_data,columns= [\"sex\"], prefix=\"gender\")\n",
    "titanic_data"
   ]
  },
  {
   "cell_type": "markdown",
   "metadata": {},
   "source": [
    "In the cell below I am implementing a feature engineering technique called **target mean encoding**. We will only glance at the code, but I wanted to give you a demonstration of more complex techniques that are used in industry "
   ]
  },
  {
   "cell_type": "code",
   "execution_count": 54,
   "metadata": {},
   "outputs": [],
   "source": [
    "target_mean = titanic_data[\"survived\"].mean()\n",
    "embarked_agg = titanic_data.groupby(\"embarked\")[\"survived\"].agg(['count','mean'])\n",
    "counts = embarked_agg['count']\n",
    "means = embarked_agg['mean']\n",
    "target_mean = (counts * means + 100 * means)/(counts + 100)\n",
    "titanic_data[\"embarked\"] = titanic_data[\"embarked\"].map(target_mean)"
   ]
  },
  {
   "cell_type": "markdown",
   "metadata": {},
   "source": [
    "Now lets deal with our missing data. "
   ]
  },
  {
   "cell_type": "code",
   "execution_count": 55,
   "metadata": {},
   "outputs": [
    {
     "data": {
      "text/plain": [
       "pclass              0\n",
       "survived            0\n",
       "name                0\n",
       "age               263\n",
       "sibsp               0\n",
       "parch               0\n",
       "ticket            352\n",
       "fare                1\n",
       "cabin            1014\n",
       "embarked            2\n",
       "boat              911\n",
       "body             1188\n",
       "home.dest         564\n",
       "gender_female       0\n",
       "gender_male         0\n",
       "dtype: int64"
      ]
     },
     "execution_count": 55,
     "metadata": {},
     "output_type": "execute_result"
    }
   ],
   "source": [
    "titanic_data.isnull().sum()"
   ]
  },
  {
   "cell_type": "markdown",
   "metadata": {},
   "source": [
    "As we can see above we have alot of missing values. Our dataset has about 1309 values, and we have cabin and body with more than 1000 values missing. It is here where we can validate if dropping values or imputing will make a difference in our final results. In the cell below, add or remove columns you believe will affect our model due to missing values."
   ]
  },
  {
   "cell_type": "code",
   "execution_count": 56,
   "metadata": {},
   "outputs": [],
   "source": [
    "# Here we will drop columns we deem unnecessary. Remember this spot as we will come back \n",
    "titanic_data = titanic_data.drop(columns=[\"name\",\"boat\",\"home.dest\"])"
   ]
  },
  {
   "cell_type": "code",
   "execution_count": 57,
   "metadata": {},
   "outputs": [
    {
     "name": "stdout",
     "output_type": "stream",
     "text": [
      "<class 'pandas.core.frame.DataFrame'>\n",
      "RangeIndex: 1309 entries, 0 to 1308\n",
      "Data columns (total 12 columns):\n",
      " #   Column         Non-Null Count  Dtype  \n",
      "---  ------         --------------  -----  \n",
      " 0   pclass         1309 non-null   int64  \n",
      " 1   survived       1309 non-null   int64  \n",
      " 2   age            1046 non-null   float64\n",
      " 3   sibsp          1309 non-null   int64  \n",
      " 4   parch          1309 non-null   int64  \n",
      " 5   ticket         957 non-null    float64\n",
      " 6   fare           1308 non-null   float64\n",
      " 7   cabin          295 non-null    float64\n",
      " 8   embarked       1307 non-null   float64\n",
      " 9   body           121 non-null    float64\n",
      " 10  gender_female  1309 non-null   uint8  \n",
      " 11  gender_male    1309 non-null   uint8  \n",
      "dtypes: float64(6), int64(4), uint8(2)\n",
      "memory usage: 104.9 KB\n"
     ]
    }
   ],
   "source": [
    "titanic_data.info()"
   ]
  },
  {
   "cell_type": "markdown",
   "metadata": {},
   "source": [
    "Now that we have removed columns that we have deemed unnecessary, lets fill in values using one of the following:\n",
    "\n",
    "- **mean**: replace missing values using the mean along each column. Can only be used with numeric data.\n",
    "\n",
    "- **median**: replace missing values using the median along each column. Can only be used with numeric data.\n",
    "\n",
    "- **most_frequent**: replace missing using the most frequent value along each column. Can be used with strings or numeric data. If there is more than one such value, only the smallest is returned.\n",
    "\n",
    "- **constant**:  replace missing values with fill_value. Can be used with strings or numeric data.\n",
    "\n",
    "We will be using the `SimpleImputer` method from the sklearn library "
   ]
  },
  {
   "cell_type": "code",
   "execution_count": 58,
   "metadata": {},
   "outputs": [
    {
     "data": {
      "text/html": [
       "<div>\n",
       "<style scoped>\n",
       "    .dataframe tbody tr th:only-of-type {\n",
       "        vertical-align: middle;\n",
       "    }\n",
       "\n",
       "    .dataframe tbody tr th {\n",
       "        vertical-align: top;\n",
       "    }\n",
       "\n",
       "    .dataframe thead th {\n",
       "        text-align: right;\n",
       "    }\n",
       "</style>\n",
       "<table border=\"1\" class=\"dataframe\">\n",
       "  <thead>\n",
       "    <tr style=\"text-align: right;\">\n",
       "      <th></th>\n",
       "      <th>pclass</th>\n",
       "      <th>survived</th>\n",
       "      <th>age</th>\n",
       "      <th>sibsp</th>\n",
       "      <th>parch</th>\n",
       "      <th>ticket</th>\n",
       "      <th>fare</th>\n",
       "      <th>cabin</th>\n",
       "      <th>embarked</th>\n",
       "      <th>body</th>\n",
       "      <th>gender_female</th>\n",
       "      <th>gender_male</th>\n",
       "    </tr>\n",
       "  </thead>\n",
       "  <tbody>\n",
       "    <tr>\n",
       "      <th>0</th>\n",
       "      <td>1.0</td>\n",
       "      <td>1.0</td>\n",
       "      <td>29.000000</td>\n",
       "      <td>0.0</td>\n",
       "      <td>0.0</td>\n",
       "      <td>24160.0</td>\n",
       "      <td>211.3375</td>\n",
       "      <td>2.000000</td>\n",
       "      <td>0.332604</td>\n",
       "      <td>160.809917</td>\n",
       "      <td>1.0</td>\n",
       "      <td>0.0</td>\n",
       "    </tr>\n",
       "    <tr>\n",
       "      <th>1</th>\n",
       "      <td>1.0</td>\n",
       "      <td>1.0</td>\n",
       "      <td>0.916700</td>\n",
       "      <td>1.0</td>\n",
       "      <td>2.0</td>\n",
       "      <td>113781.0</td>\n",
       "      <td>151.5500</td>\n",
       "      <td>3.000000</td>\n",
       "      <td>0.332604</td>\n",
       "      <td>160.809917</td>\n",
       "      <td>0.0</td>\n",
       "      <td>1.0</td>\n",
       "    </tr>\n",
       "    <tr>\n",
       "      <th>2</th>\n",
       "      <td>1.0</td>\n",
       "      <td>0.0</td>\n",
       "      <td>2.000000</td>\n",
       "      <td>1.0</td>\n",
       "      <td>2.0</td>\n",
       "      <td>113781.0</td>\n",
       "      <td>151.5500</td>\n",
       "      <td>3.000000</td>\n",
       "      <td>0.332604</td>\n",
       "      <td>160.809917</td>\n",
       "      <td>1.0</td>\n",
       "      <td>0.0</td>\n",
       "    </tr>\n",
       "    <tr>\n",
       "      <th>3</th>\n",
       "      <td>1.0</td>\n",
       "      <td>0.0</td>\n",
       "      <td>30.000000</td>\n",
       "      <td>1.0</td>\n",
       "      <td>2.0</td>\n",
       "      <td>113781.0</td>\n",
       "      <td>151.5500</td>\n",
       "      <td>3.000000</td>\n",
       "      <td>0.332604</td>\n",
       "      <td>135.000000</td>\n",
       "      <td>0.0</td>\n",
       "      <td>1.0</td>\n",
       "    </tr>\n",
       "    <tr>\n",
       "      <th>4</th>\n",
       "      <td>1.0</td>\n",
       "      <td>0.0</td>\n",
       "      <td>25.000000</td>\n",
       "      <td>1.0</td>\n",
       "      <td>2.0</td>\n",
       "      <td>113781.0</td>\n",
       "      <td>151.5500</td>\n",
       "      <td>3.000000</td>\n",
       "      <td>0.332604</td>\n",
       "      <td>160.809917</td>\n",
       "      <td>1.0</td>\n",
       "      <td>0.0</td>\n",
       "    </tr>\n",
       "    <tr>\n",
       "      <th>...</th>\n",
       "      <td>...</td>\n",
       "      <td>...</td>\n",
       "      <td>...</td>\n",
       "      <td>...</td>\n",
       "      <td>...</td>\n",
       "      <td>...</td>\n",
       "      <td>...</td>\n",
       "      <td>...</td>\n",
       "      <td>...</td>\n",
       "      <td>...</td>\n",
       "      <td>...</td>\n",
       "      <td>...</td>\n",
       "    </tr>\n",
       "    <tr>\n",
       "      <th>1304</th>\n",
       "      <td>3.0</td>\n",
       "      <td>0.0</td>\n",
       "      <td>14.500000</td>\n",
       "      <td>1.0</td>\n",
       "      <td>0.0</td>\n",
       "      <td>2665.0</td>\n",
       "      <td>14.4542</td>\n",
       "      <td>3.362712</td>\n",
       "      <td>0.555556</td>\n",
       "      <td>328.000000</td>\n",
       "      <td>1.0</td>\n",
       "      <td>0.0</td>\n",
       "    </tr>\n",
       "    <tr>\n",
       "      <th>1305</th>\n",
       "      <td>3.0</td>\n",
       "      <td>0.0</td>\n",
       "      <td>29.881135</td>\n",
       "      <td>1.0</td>\n",
       "      <td>0.0</td>\n",
       "      <td>2665.0</td>\n",
       "      <td>14.4542</td>\n",
       "      <td>3.362712</td>\n",
       "      <td>0.555556</td>\n",
       "      <td>160.809917</td>\n",
       "      <td>1.0</td>\n",
       "      <td>0.0</td>\n",
       "    </tr>\n",
       "    <tr>\n",
       "      <th>1306</th>\n",
       "      <td>3.0</td>\n",
       "      <td>0.0</td>\n",
       "      <td>26.500000</td>\n",
       "      <td>0.0</td>\n",
       "      <td>0.0</td>\n",
       "      <td>2656.0</td>\n",
       "      <td>7.2250</td>\n",
       "      <td>3.362712</td>\n",
       "      <td>0.555556</td>\n",
       "      <td>304.000000</td>\n",
       "      <td>0.0</td>\n",
       "      <td>1.0</td>\n",
       "    </tr>\n",
       "    <tr>\n",
       "      <th>1307</th>\n",
       "      <td>3.0</td>\n",
       "      <td>0.0</td>\n",
       "      <td>27.000000</td>\n",
       "      <td>0.0</td>\n",
       "      <td>0.0</td>\n",
       "      <td>2670.0</td>\n",
       "      <td>7.2250</td>\n",
       "      <td>3.362712</td>\n",
       "      <td>0.555556</td>\n",
       "      <td>160.809917</td>\n",
       "      <td>0.0</td>\n",
       "      <td>1.0</td>\n",
       "    </tr>\n",
       "    <tr>\n",
       "      <th>1308</th>\n",
       "      <td>3.0</td>\n",
       "      <td>0.0</td>\n",
       "      <td>29.000000</td>\n",
       "      <td>0.0</td>\n",
       "      <td>0.0</td>\n",
       "      <td>315082.0</td>\n",
       "      <td>7.8750</td>\n",
       "      <td>3.362712</td>\n",
       "      <td>0.332604</td>\n",
       "      <td>160.809917</td>\n",
       "      <td>0.0</td>\n",
       "      <td>1.0</td>\n",
       "    </tr>\n",
       "  </tbody>\n",
       "</table>\n",
       "<p>1309 rows × 12 columns</p>\n",
       "</div>"
      ],
      "text/plain": [
       "      pclass  survived        age  sibsp  parch    ticket      fare     cabin  \\\n",
       "0        1.0       1.0  29.000000    0.0    0.0   24160.0  211.3375  2.000000   \n",
       "1        1.0       1.0   0.916700    1.0    2.0  113781.0  151.5500  3.000000   \n",
       "2        1.0       0.0   2.000000    1.0    2.0  113781.0  151.5500  3.000000   \n",
       "3        1.0       0.0  30.000000    1.0    2.0  113781.0  151.5500  3.000000   \n",
       "4        1.0       0.0  25.000000    1.0    2.0  113781.0  151.5500  3.000000   \n",
       "...      ...       ...        ...    ...    ...       ...       ...       ...   \n",
       "1304     3.0       0.0  14.500000    1.0    0.0    2665.0   14.4542  3.362712   \n",
       "1305     3.0       0.0  29.881135    1.0    0.0    2665.0   14.4542  3.362712   \n",
       "1306     3.0       0.0  26.500000    0.0    0.0    2656.0    7.2250  3.362712   \n",
       "1307     3.0       0.0  27.000000    0.0    0.0    2670.0    7.2250  3.362712   \n",
       "1308     3.0       0.0  29.000000    0.0    0.0  315082.0    7.8750  3.362712   \n",
       "\n",
       "      embarked        body  gender_female  gender_male  \n",
       "0     0.332604  160.809917            1.0          0.0  \n",
       "1     0.332604  160.809917            0.0          1.0  \n",
       "2     0.332604  160.809917            1.0          0.0  \n",
       "3     0.332604  135.000000            0.0          1.0  \n",
       "4     0.332604  160.809917            1.0          0.0  \n",
       "...        ...         ...            ...          ...  \n",
       "1304  0.555556  328.000000            1.0          0.0  \n",
       "1305  0.555556  160.809917            1.0          0.0  \n",
       "1306  0.555556  304.000000            0.0          1.0  \n",
       "1307  0.555556  160.809917            0.0          1.0  \n",
       "1308  0.332604  160.809917            0.0          1.0  \n",
       "\n",
       "[1309 rows x 12 columns]"
      ]
     },
     "execution_count": 58,
     "metadata": {},
     "output_type": "execute_result"
    }
   ],
   "source": [
    "# Exercise 7 - specify a method for filling in missing data \n",
    "from sklearn.impute import SimpleImputer\n",
    "# specify method below after strategy=. Mean will be the default value \n",
    "imp = SimpleImputer(strategy=\"mean\")\n",
    "imp.fit(titanic_data)\n",
    "titanic_data_final = imp.transform(titanic_data)\n",
    "titanic_data_final = pd.DataFrame(titanic_data_final, columns=titanic_data.columns)\n",
    "\n",
    "# Create a copy for regression \n",
    "titanic_data_reg = titanic_data_final\n",
    "\n",
    "titanic_data_final"
   ]
  },
  {
   "cell_type": "code",
   "execution_count": 59,
   "metadata": {},
   "outputs": [],
   "source": [
    "# Rounding the cabin value if we did not drop it\n",
    "if \"cabin\" in titanic_data.columns:\n",
    "    titanic_data_final['cabin'] = round(titanic_data_final['cabin'])\n",
    "    titanic_data_final\n"
   ]
  },
  {
   "cell_type": "markdown",
   "metadata": {},
   "source": [
    "Now lets check our results"
   ]
  },
  {
   "cell_type": "code",
   "execution_count": 60,
   "metadata": {},
   "outputs": [
    {
     "data": {
      "text/plain": [
       "pclass           0\n",
       "survived         0\n",
       "age              0\n",
       "sibsp            0\n",
       "parch            0\n",
       "ticket           0\n",
       "fare             0\n",
       "cabin            0\n",
       "embarked         0\n",
       "body             0\n",
       "gender_female    0\n",
       "gender_male      0\n",
       "dtype: int64"
      ]
     },
     "execution_count": 60,
     "metadata": {},
     "output_type": "execute_result"
    }
   ],
   "source": [
    "titanic_data_final.isnull().sum()"
   ]
  },
  {
   "cell_type": "markdown",
   "metadata": {},
   "source": [
    "## Modeling"
   ]
  },
  {
   "cell_type": "markdown",
   "metadata": {},
   "source": [
    "We went over all of the above to emphasize that without good data, we do not have a good model. All of the above is part of the modeling process. \n",
    "\n",
    "Now that we have our **final titanic  dataset** ready we can now approach the steps to model our data. "
   ]
  },
  {
   "cell_type": "markdown",
   "metadata": {},
   "source": [
    "### Types of Modeling\n",
    "As mentioned from the lecture we have:\n",
    "\n",
    "- Unsupervised Models\n",
    "    - Clustering\n",
    "    - Dimensionality Reduction\n",
    "- Supervised Models\n",
    "    - Regression\n",
    "    - Classification\n",
    "\n",
    "We are focusing on the supervised models.\n",
    "\n",
    "**Classification**: Models are used to classify your target variable. Such as, predict what color my shirt is, or predict if a transaction is fradualent or not. Classification is used to determine a label\n",
    "\n",
    "**Regression**: Models are used to predict values. Such as Predict the stock price for Apple tomorrow, or predict my yearly income for next year. \n",
    "\n",
    "Each both have various specific models under each of them. A few of them are Neural Networks, LSTMS, RandomForrest, XGBoost, DecesionTrees, PCA, K-Means and various others. All these model have the advantages, disadvantages, and specific uses, but we will go over these in another lesson. If you would like to get a head start, you can take a look at the [sklearn documentation](https://scikit-learn.org/stable/user_guide.html)"
   ]
  },
  {
   "cell_type": "markdown",
   "metadata": {},
   "source": [
    "### Specify Target Variable"
   ]
  },
  {
   "cell_type": "markdown",
   "metadata": {},
   "source": [
    "The first step is to remove our value that we aim to predict. We do this because then the model will have no way to know what we are asking of it. If we did not specify our target variable, it would be similiar to expecting ice cream, without asking for it. "
   ]
  },
  {
   "cell_type": "code",
   "execution_count": 61,
   "metadata": {},
   "outputs": [],
   "source": [
    "target = titanic_data_final[\"survived\"]"
   ]
  },
  {
   "cell_type": "markdown",
   "metadata": {},
   "source": [
    "### Specify the features"
   ]
  },
  {
   "cell_type": "markdown",
   "metadata": {},
   "source": [
    "After specifying the target variable, we now drop it from the titanic_daata_final, so then we can have a dataset of just our features. What are features? \n",
    "\n",
    "**Features:** Measurable values to be analyzed. \n",
    "\n",
    "An easier way to understand features is to imagine them as the inputs(columns) to an algorithm that helps make the decisions or path to take"
   ]
  },
  {
   "cell_type": "code",
   "execution_count": 62,
   "metadata": {},
   "outputs": [],
   "source": [
    "features = titanic_data_final.drop('survived', axis = 1)"
   ]
  },
  {
   "cell_type": "markdown",
   "metadata": {},
   "source": [
    "### Lets check what could be good features\n",
    "Now that we have our features we could use modeling to help us decide which features to use in our final model. We will not go over the code below in detail, but we will use the graph to see what might be good features to use."
   ]
  },
  {
   "cell_type": "code",
   "execution_count": 63,
   "metadata": {},
   "outputs": [
    {
     "data": {
      "image/png": "[encoded data removed]",
      "text/plain": [
       "<Figure size 648x360 with 1 Axes>"
      ]
     },
     "metadata": {
      "needs_background": "light"
     },
     "output_type": "display_data"
    }
   ],
   "source": [
    "from sklearn.ensemble import RandomForestClassifier\n",
    "from sklearn.model_selection import train_test_split\n",
    "\n",
    "X_train, X_test, y_train, y_test = train_test_split(features, target, test_size=0.3, random_state=42)\n",
    "model = RandomForestClassifier()\n",
    "\n",
    "model.fit(X_train, y_train)\n",
    "\n",
    "feature_weights = model.feature_importances_\n",
    "feature_weights\n",
    "\n",
    "# Show top 5 features \n",
    "indices = np.argsort(feature_weights)[::-1]\n",
    "columns = X_train.columns.values[indices[:5]]\n",
    "values = feature_weights[indices][:5]\n",
    "\n",
    "# Creat the plot\n",
    "fig = plt.figure(figsize=(9, 5))\n",
    "plt.title(\"Normalized Weights for First Five Most Predictive Features\", fontsize=16)\n",
    "plt.bar(np.arange(5), values, width=0.6, align=\"center\", color='#00A000', \\\n",
    "       label=\"Feature Weight\")\n",
    "plt.bar(np.arange(5) - 0.3, np.cumsum(values), width=0.2, align=\"center\", color='#00A0A0', \\\n",
    "       label=\"Cumulative Feature Weight\")\n",
    "plt.xticks(np.arange(5), columns)\n",
    "plt.xlim((-0.5, 4.5))\n",
    "plt.ylabel(\"Weight\", fontsize=12)\n",
    "plt.xlabel(\"Feature\", fontsize=12)\n",
    "\n",
    "plt.legend(loc='upper center')\n",
    "plt.tight_layout()\n",
    "plt.show()  "
   ]
  },
  {
   "cell_type": "markdown",
   "metadata": {},
   "source": [
    "### Split Data into Train and Test\n",
    "Before we submit out featres and target to a model, we first need to split our data into a test set and a training set. We split our data into test/train, because if we were to train our model with the complete dataset, how could we test our model? How could we know if our model is better than just guessing. \n",
    "\n",
    "By splitting the data we are providing a system of checks and balances, so that if we were to use this model in real life, we could verify our model to more than what is included in our dataset. "
   ]
  },
  {
   "cell_type": "markdown",
   "metadata": {},
   "source": [
    "We will use the `train_test_split` method from the sklearn library to split our data 70% training and 30% testing. You can play with this to see how your results vary. Just change the **test_size** input to a decimal value from .1-.9"
   ]
  },
  {
   "cell_type": "code",
   "execution_count": 64,
   "metadata": {},
   "outputs": [],
   "source": [
    "# Split the data into train and test. \n",
    "X_train, X_test, y_train, y_test = train_test_split(features, target, test_size=0.3, random_state=42)"
   ]
  },
  {
   "cell_type": "markdown",
   "metadata": {},
   "source": [
    "#### Lets take a quick look at our train features values"
   ]
  },
  {
   "cell_type": "code",
   "execution_count": 65,
   "metadata": {},
   "outputs": [
    {
     "data": {
      "text/html": [
       "<div>\n",
       "<style scoped>\n",
       "    .dataframe tbody tr th:only-of-type {\n",
       "        vertical-align: middle;\n",
       "    }\n",
       "\n",
       "    .dataframe tbody tr th {\n",
       "        vertical-align: top;\n",
       "    }\n",
       "\n",
       "    .dataframe thead th {\n",
       "        text-align: right;\n",
       "    }\n",
       "</style>\n",
       "<table border=\"1\" class=\"dataframe\">\n",
       "  <thead>\n",
       "    <tr style=\"text-align: right;\">\n",
       "      <th></th>\n",
       "      <th>pclass</th>\n",
       "      <th>age</th>\n",
       "      <th>sibsp</th>\n",
       "      <th>parch</th>\n",
       "      <th>ticket</th>\n",
       "      <th>fare</th>\n",
       "      <th>cabin</th>\n",
       "      <th>embarked</th>\n",
       "      <th>body</th>\n",
       "      <th>gender_female</th>\n",
       "      <th>gender_male</th>\n",
       "    </tr>\n",
       "  </thead>\n",
       "  <tbody>\n",
       "    <tr>\n",
       "      <th>1214</th>\n",
       "      <td>3.0</td>\n",
       "      <td>29.881135</td>\n",
       "      <td>0.0</td>\n",
       "      <td>0.0</td>\n",
       "      <td>315037.000000</td>\n",
       "      <td>8.6625</td>\n",
       "      <td>3.0</td>\n",
       "      <td>0.332604</td>\n",
       "      <td>160.809917</td>\n",
       "      <td>0.0</td>\n",
       "      <td>1.0</td>\n",
       "    </tr>\n",
       "    <tr>\n",
       "      <th>677</th>\n",
       "      <td>3.0</td>\n",
       "      <td>26.000000</td>\n",
       "      <td>0.0</td>\n",
       "      <td>0.0</td>\n",
       "      <td>349224.000000</td>\n",
       "      <td>7.8958</td>\n",
       "      <td>3.0</td>\n",
       "      <td>0.332604</td>\n",
       "      <td>160.809917</td>\n",
       "      <td>0.0</td>\n",
       "      <td>1.0</td>\n",
       "    </tr>\n",
       "    <tr>\n",
       "      <th>534</th>\n",
       "      <td>2.0</td>\n",
       "      <td>19.000000</td>\n",
       "      <td>0.0</td>\n",
       "      <td>0.0</td>\n",
       "      <td>250655.000000</td>\n",
       "      <td>26.0000</td>\n",
       "      <td>3.0</td>\n",
       "      <td>0.332604</td>\n",
       "      <td>160.809917</td>\n",
       "      <td>1.0</td>\n",
       "      <td>0.0</td>\n",
       "    </tr>\n",
       "    <tr>\n",
       "      <th>1174</th>\n",
       "      <td>3.0</td>\n",
       "      <td>29.881135</td>\n",
       "      <td>8.0</td>\n",
       "      <td>2.0</td>\n",
       "      <td>249039.136886</td>\n",
       "      <td>69.5500</td>\n",
       "      <td>3.0</td>\n",
       "      <td>0.332604</td>\n",
       "      <td>160.809917</td>\n",
       "      <td>1.0</td>\n",
       "      <td>0.0</td>\n",
       "    </tr>\n",
       "    <tr>\n",
       "      <th>864</th>\n",
       "      <td>3.0</td>\n",
       "      <td>28.000000</td>\n",
       "      <td>0.0</td>\n",
       "      <td>0.0</td>\n",
       "      <td>347086.000000</td>\n",
       "      <td>7.7750</td>\n",
       "      <td>3.0</td>\n",
       "      <td>0.332604</td>\n",
       "      <td>160.809917</td>\n",
       "      <td>1.0</td>\n",
       "      <td>0.0</td>\n",
       "    </tr>\n",
       "  </tbody>\n",
       "</table>\n",
       "</div>"
      ],
      "text/plain": [
       "      pclass        age  sibsp  parch         ticket     fare  cabin  \\\n",
       "1214     3.0  29.881135    0.0    0.0  315037.000000   8.6625    3.0   \n",
       "677      3.0  26.000000    0.0    0.0  349224.000000   7.8958    3.0   \n",
       "534      2.0  19.000000    0.0    0.0  250655.000000  26.0000    3.0   \n",
       "1174     3.0  29.881135    8.0    2.0  249039.136886  69.5500    3.0   \n",
       "864      3.0  28.000000    0.0    0.0  347086.000000   7.7750    3.0   \n",
       "\n",
       "      embarked        body  gender_female  gender_male  \n",
       "1214  0.332604  160.809917            0.0          1.0  \n",
       "677   0.332604  160.809917            0.0          1.0  \n",
       "534   0.332604  160.809917            1.0          0.0  \n",
       "1174  0.332604  160.809917            1.0          0.0  \n",
       "864   0.332604  160.809917            1.0          0.0  "
      ]
     },
     "execution_count": 65,
     "metadata": {},
     "output_type": "execute_result"
    }
   ],
   "source": [
    "X_train.head()"
   ]
  },
  {
   "cell_type": "markdown",
   "metadata": {},
   "source": [
    "#### Lets take a quick look at our train target values"
   ]
  },
  {
   "cell_type": "code",
   "execution_count": 66,
   "metadata": {},
   "outputs": [
    {
     "data": {
      "text/plain": [
       "1214    0.0\n",
       "677     0.0\n",
       "534     1.0\n",
       "1174    0.0\n",
       "864     0.0\n",
       "Name: survived, dtype: float64"
      ]
     },
     "execution_count": 66,
     "metadata": {},
     "output_type": "execute_result"
    }
   ],
   "source": [
    "y_train.head()"
   ]
  },
  {
   "cell_type": "markdown",
   "metadata": {},
   "source": [
    "### Create the Model\n",
    "\n",
    "We are finally at the step to creating our model. As this will be your second time viewing a model, we will mainly use the default settings. Models typically have a variety of levers that can be used, but we will cover this in another lesson."
   ]
  },
  {
   "cell_type": "code",
   "execution_count": 67,
   "metadata": {},
   "outputs": [],
   "source": [
    "# Import the classifier from sklearn\n",
    "from sklearn.tree import DecisionTreeClassifier\n",
    "from sklearn import tree\n",
    "\n",
    "\n",
    "# Define the classifier, and fit it to the data. Here we are creating a variable type of the DecisionTreeClassifier\n",
    "# that we will use to perform actions with. \n",
    "model = DecisionTreeClassifier()"
   ]
  },
  {
   "cell_type": "markdown",
   "metadata": {},
   "source": [
    "If you would like to see all of the actions that you can take with [DecisionTreeClassifier](https://scikit-learn.org/stable/modules/generated/sklearn.tree.DecisionTreeClassifier.html) follow the link"
   ]
  },
  {
   "cell_type": "markdown",
   "metadata": {},
   "source": [
    "### Train the model\n",
    "We will now train our model. Taining our model will use our training set created from `train_test_split`. This step can be viewed as teaching our model. The model than stores memory as weights, which will then be used for prediction"
   ]
  },
  {
   "cell_type": "code",
   "execution_count": 68,
   "metadata": {},
   "outputs": [
    {
     "data": {
      "text/plain": [
       "DecisionTreeClassifier()"
      ]
     },
     "execution_count": 68,
     "metadata": {},
     "output_type": "execute_result"
    }
   ],
   "source": [
    "# Train the model\n",
    "model.fit(X_train, y_train)"
   ]
  },
  {
   "cell_type": "markdown",
   "metadata": {},
   "source": [
    "Below is a graph of how are model made decisions. As you can see it made lots of decisions based off of the data we provided. "
   ]
  },
  {
   "cell_type": "markdown",
   "metadata": {},
   "source": [
    "### Predict using your model\n",
    "Now we will ask our model to guess values from our testing set. The model has not seen these values, so it is a good test to see how we are doing"
   ]
  },
  {
   "cell_type": "code",
   "execution_count": 70,
   "metadata": {},
   "outputs": [],
   "source": [
    "y_train_pred = model.predict(X_train)\n",
    "y_test_pred = model.predict(X_test)"
   ]
  },
  {
   "cell_type": "markdown",
   "metadata": {},
   "source": [
    "## Classification"
   ]
  },
  {
   "cell_type": "markdown",
   "metadata": {},
   "source": [
    "### Check our results\n",
    "Below we are the results for our model. Our next lesson is model accuracy, so we will dive deeper then. "
   ]
  },
  {
   "cell_type": "markdown",
   "metadata": {},
   "source": [
    "\n",
    "Remember, with classification models; we are predicting what category an observation falls into. There are a lot of accuracy metrics available:\n",
    "- accuracy\n",
    "- precision\n",
    "- recall \n",
    " \n",
    "\n",
    "\n",
    "We will focus on precision, recall, and accuracy. One way to calculate these metrics is to use the values from the confusion matrix.\n"
   ]
  },
  {
   "cell_type": "code",
   "execution_count": 71,
   "metadata": {},
   "outputs": [
    {
     "name": "stdout",
     "output_type": "stream",
     "text": [
      "The training accuracy is 99.76347251271721%\n",
      "The training precision is 99.69788519637463%\n",
      "The training recall is 99.69788519637463%\n",
      "The test accuracy is 74.19695688926457%\n",
      "The test precision is 71.08433734939759%\n",
      "The test recall is 69.8224852071006%\n"
     ]
    }
   ],
   "source": [
    "from sklearn.metrics import classification_report, confusion_matrix, accuracy_score, balanced_accuracy_score, precision_score, recall_score"
   ]
  },
  {
   "cell_type": "code",
   "execution_count": 61,
   "metadata": {},
   "outputs": [
    {
     "name": "stdout",
     "output_type": "stream",
     "text": [
      "0.7404580152671756\n"
     ]
    }
   ],
   "source": [
    "# Find the accuracy of your predictions\n",
    "test_accuracy = accuracy_score(y_test, y_test_pred)\n",
    "print(test_accuracy)"
   ]
  },
  {
   "cell_type": "markdown",
   "metadata": {},
   "source": [
    "What does this value tells us about our model?\n",
    "   - It tells how well our model was able to predict the results\n",
    "   - Our model was able to accurately predict whether or not someone survived the titanic 74% of the time\n",
    "   - How many passagers does that translate into?\n",
    "   "
   ]
  },
  {
   "cell_type": "code",
   "execution_count": 63,
   "metadata": {},
   "outputs": [
    {
     "name": "stdout",
     "output_type": "stream",
     "text": [
      "The number of passengers in our test set was 393\n",
      "The number of passengers which our model accurately predicted would survive/not survive was 291.0\n"
     ]
    }
   ],
   "source": [
    "# lets save the number of accurate predictions in a variable\n",
    "pass_in_test = y_test.count()\n",
    "print('The number of passengers in our test dataset was', pass_in_test)\n",
    "print('The number of passengers which our model accurately predicted would survive/not survive was', test_accuracy*pass_in_test)"
   ]
  },
  {
   "cell_type": "markdown",
   "metadata": {},
   "source": [
    "Let's dive deeper..\n",
    "\n",
    "- Out of the passengers who actually survived, how many did our model predict would survived?\n",
    "- Out of the passenger who actually did not survive, how many did our model predict would not survive?\n",
    "\n",
    "It is now time to look at our confusion matrix...\n",
    "\n",
    "Remember how our confusion matrix:\n",
    "![confusionmatrix](confusion_matrix.png \"confusion matrix\")"
   ]
  },
  {
   "cell_type": "code",
   "execution_count": 66,
   "metadata": {},
   "outputs": [
    {
     "name": "stdout",
     "output_type": "stream",
     "text": [
      "[[173  51]\n",
      " [ 51 118]]\n"
     ]
    }
   ],
   "source": [
    "titanic_confusion_matrix = confusion_matrix(y_test, y_test_pred)\n",
    "print(titanic_confusion_matrix)"
   ]
  },
  {
   "cell_type": "markdown",
   "metadata": {},
   "source": [
    "***Precision:***\n",
    "- From our confusion matrix we can see that our model predicted that 169 passengers survived, however out of these..\n",
    "    - We predicted 51 false positives (top right result of our matrix)\n",
    "    - Our precision was 0.7 (TP/(TP+FP))\n",
    "    - Note that this value is lower than our accuracy. We can say that our model is not actually performing as well as we thought\n",
    "    \n",
    "***Recall:***\n",
    "- Note that our model predicted that 51 passengers would not survive who actually survived. (lower left result of our matrix)\n",
    "    - Depending on the context of our problem our predicitive models can't miss positive results. Specially true in the case of cancer diagnosis for example\n",
    "    - For this reason we measure Recall, the ratio of positive values predicted vs the actual number of positive values in our test dataset\n",
    "    - The goal in this case is to minimize the number of false negative results (the number of cases in which the model incorrectly predicted negative result)\n",
    "    - In the case of the titanic the recall value is 0.7 (TP/(TP+FN))\n"
   ]
  },
  {
   "cell_type": "code",
   "execution_count": 71,
   "metadata": {},
   "outputs": [
    {
     "data": {
      "text/plain": [
       "<AxesSubplot:>"
      ]
     },
     "execution_count": 71,
     "metadata": {},
     "output_type": "execute_result"
    },
    {
     "data": {
      "image/png": "[encoded data removed]",
      "text/plain": [
       "<Figure size 360x216 with 2 Axes>"
      ]
     },
     "metadata": {
      "needs_background": "light"
     },
     "output_type": "display_data"
    }
   ],
   "source": [
    "# visualize the confusion matrix\n",
    "plt.figure(figsize = (5,3))\n",
    "sns.heatmap(titanic_confusion_matrix)"
   ]
  },
  {
   "cell_type": "code",
   "execution_count": 47,
   "metadata": {},
   "outputs": [
    {
     "name": "stdout",
     "output_type": "stream",
     "text": [
      "              precision    recall  f1-score   support\n",
      "\n",
      "         0.0       0.77      0.77      0.77       224\n",
      "         1.0       0.70      0.70      0.70       169\n",
      "\n",
      "    accuracy                           0.74       393\n",
      "   macro avg       0.74      0.74      0.74       393\n",
      "weighted avg       0.74      0.74      0.74       393\n",
      "\n"
     ]
    }
   ],
   "source": [
    "print(classification_report(y_test,y_test_pred))"
   ]
  },
  {
   "cell_type": "code",
   "execution_count": 74,
   "metadata": {},
   "outputs": [
    {
     "name": "stdout",
     "output_type": "stream",
     "text": [
      "The training accuracy is 99.78165938864629%\n",
      "The training precision is 99.69788519637463%\n",
      "The training recall is 99.69788519637463%\n",
      "The test accuracy is 73.52731403212172%\n",
      "The test precision is 69.8224852071006%\n",
      "The test recall is 69.8224852071006%\n"
     ]
    }
   ],
   "source": [
    "\n",
    "train_accuracy = accuracy_score(y_train, y_train_pred)\n",
    "test_accuracy = accuracy_score(y_test, y_test_pred)\n",
    "train_accuracy_balanced = balanced_accuracy_score(y_train, y_train_pred)\n",
    "test_accuracy = balanced_accuracy_score(y_test, y_test_pred)\n",
    "train_precision = precision_score(y_train, y_train_pred)\n",
    "test_precision = precision_score(y_test, y_test_pred)\n",
    "train_recall = recall_score(y_train, y_train_pred)\n",
    "test_recall = recall_score(y_test, y_test_pred)\n",
    "\n",
    "print('The training accuracy is {}%'.format(train_accuracy*100))\n",
    "print('The training precision is {}%'.format(train_precision*100))\n",
    "print('The training recall is {}%'.format(train_recall*100))\n",
    "print('The test accuracy is {}%'.format(test_accuracy * 100))\n",
    "print('The test precision is {}%'.format(test_precision * 100))\n",
    "print('The test recall is {}%'.format(test_recall * 100))"
   ]
  },
  {
   "cell_type": "code",
   "execution_count": null,
   "metadata": {},
   "outputs": [],
   "source": []
  },
  {
   "cell_type": "markdown",
   "metadata": {},
   "source": [
    "As for now how do you think we did? Could we model our data better with better features? Lets take another look with the code below. \n",
    "\n",
    "#### Another way to Model\n",
    "\n",
    "We have created the code below to show you, one of the levers DecisionTreeClassifier has at its disposal. We are looping over values from 1-20 of max_depth, to show you how adjusting one of these levers can change your results. "
   ]
  },
  {
   "cell_type": "code",
   "execution_count": 72,
   "metadata": {},
   "outputs": [
    {
     "name": "stdout",
     "output_type": "stream",
     "text": [
      ">1, train: 0.755, test: 0.775\n",
      ">2, train: 0.740, test: 0.728\n",
      ">3, train: 0.794, test: 0.793\n",
      ">4, train: 0.767, test: 0.732\n",
      ">5, train: 0.822, test: 0.740\n",
      ">6, train: 0.843, test: 0.729\n",
      ">7, train: 0.862, test: 0.752\n",
      ">8, train: 0.872, test: 0.736\n",
      ">9, train: 0.900, test: 0.739\n",
      ">10, train: 0.914, test: 0.736\n",
      ">11, train: 0.935, test: 0.757\n",
      ">12, train: 0.955, test: 0.749\n",
      ">13, train: 0.973, test: 0.766\n",
      ">14, train: 0.982, test: 0.750\n",
      ">15, train: 0.986, test: 0.749\n",
      ">16, train: 0.992, test: 0.737\n",
      ">17, train: 0.992, test: 0.738\n",
      ">18, train: 0.993, test: 0.742\n",
      ">19, train: 0.996, test: 0.742\n",
      ">20, train: 0.998, test: 0.743\n"
     ]
    }
   ],
   "source": [
    "train_scores = []\n",
    "test_scores = []\n",
    "tree_values = [i for i in range(1, 21)]\n",
    "\n",
    "for i in tree_values:\n",
    "    # configure the model, this is where we set our lever\n",
    "    model = DecisionTreeClassifier(max_depth=i)\n",
    "    # fit model on the training dataset\n",
    "    model.fit(X_train, y_train)\n",
    "    # evaluate on the train dataset\n",
    "    y_train_pred = model.predict(X_train)\n",
    "    train_acc = balanced_accuracy_score(y_train, y_train_pred)\n",
    "    train_scores.append(train_acc)\n",
    "    # evaluate on the test dataset\n",
    "    y_test_pred = model.predict(X_test)\n",
    "    test_acc = balanced_accuracy_score(y_test, y_test_pred)\n",
    "    test_scores.append(test_acc)\n",
    "    # summarize progress\n",
    "    print('>%d, train: %.3f, test: %.3f' % (i, train_acc, test_acc))"
   ]
  },
  {
   "cell_type": "markdown",
   "metadata": {},
   "source": [
    "Here we can see how our model performed in training and testing when we moved through the different values for max_depth. As you can see our model could still use some improvement, but we are performing better than we did from lesson 4."
   ]
  },
  {
   "cell_type": "code",
   "execution_count": 73,
   "metadata": {},
   "outputs": [
    {
     "data": {
      "image/png": "[encoded data removed]",
      "text/plain": [
       "<Figure size 432x288 with 1 Axes>"
      ]
     },
     "metadata": {
      "needs_background": "light"
     },
     "output_type": "display_data"
    }
   ],
   "source": [
    "plt.plot(tree_values, train_scores, '-o', label='Train')\n",
    "plt.plot(tree_values, test_scores, '-o', label='Test')\n",
    "plt.legend()\n",
    "plt.show()"
   ]
  },
  {
   "cell_type": "markdown",
   "metadata": {},
   "source": [
    "## Regression Metrics"
   ]
  },
  {
   "cell_type": "markdown",
   "metadata": {},
   "source": [
    "Remember, with regression models we are trying to predict a numerical value. How could we validate if our predicition of said value is correct? Could we look at the numbers and see if they match? Could we look at the difference of the values?\n",
    "\n",
    "Exercise ___ How would you validate your predictions from a regression model? "
   ]
  },
  {
   "cell_type": "markdown",
   "metadata": {},
   "source": [
    "**(Double Click Here)** Answer:"
   ]
  },
  {
   "cell_type": "markdown",
   "metadata": {},
   "source": [
    "Now lets dive into the two ways we can validate our regression models. \n",
    "\n",
    "- **Mean absolute error (MAE)**: The MAE method is very simple. Lets say I predicted that DogeCoin was going to be 50 dollars tomorrow, and the actual value was 38. My MAE would 50 (Predicted) - 38 (actual) = 12. MAE is simply the difference between what you predicted and what is the actual value. \n",
    "\n",
    "\n",
    "- **Mean squared error (MSE)**: MSE is exactly like MAE, the only difference is after we subtract the value we square that result, so we would then have, (50 (Predicted) - 38 (actual)) = 144. MSE allows for larger errors to have a larger impact. "
   ]
  },
  {
   "cell_type": "markdown",
   "metadata": {},
   "source": [
    "Lets now go over a quick implementation. We will change our prediction of the titanic dataset from survived, to predicting the value of the ticket for passengers. We will follow the same steps above from modeling and build a quick regression model to validate."
   ]
  },
  {
   "cell_type": "code",
   "execution_count": 81,
   "metadata": {},
   "outputs": [],
   "source": [
    "# Import our Regression model\n",
    "from sklearn.tree import DecisionTreeRegressor\n",
    "from sklearn import tree\n",
    "\n",
    "# Build our target and features data\n",
    "reg_target = titanic_data_reg[\"fare\"]\n",
    "reg_features = titanic_data_reg.drop(\"fare\", axis=1)"
   ]
  },
  {
   "cell_type": "code",
   "execution_count": 77,
   "metadata": {},
   "outputs": [
    {
     "data": {
      "text/plain": [
       "DecisionTreeRegressor()"
      ]
     },
     "execution_count": 77,
     "metadata": {},
     "output_type": "execute_result"
    }
   ],
   "source": [
    "# Split our data into training and test sets\n",
    "X_train, X_test, y_train, y_test = train_test_split(reg_features, reg_target, test_size=0.3, random_state=42)\n",
    "\n",
    "# Create our model and train in on the training set\n",
    "reg_model = DecisionTreeRegressor()\n",
    "reg_model.fit(X_train,y_train)"
   ]
  },
  {
   "cell_type": "code",
   "execution_count": 78,
   "metadata": {},
   "outputs": [],
   "source": [
    "# Predict using our regression model\n",
    "y_train_pred = model.predict(X_train)\n",
    "y_test_pred = model.predict(X_test)"
   ]
  },
  {
   "cell_type": "code",
   "execution_count": 82,
   "metadata": {},
   "outputs": [
    {
     "name": "stdout",
     "output_type": "stream",
     "text": [
      "The mean absolute Error is: 32.288931043256994\n",
      "The mean Squared Error is: 3457.558338043842\n"
     ]
    }
   ],
   "source": [
    "# Validate our regression model using MAE and MSE\n",
    "from sklearn.metrics import mean_absolute_error, mean_squared_error\n",
    "\n",
    "print(\"The mean absolute Error is: {}\".format(mean_absolute_error(y_test, y_test_pred)))\n",
    "print(\"The mean Squared Error is: {}\".format(mean_squared_error(y_test, y_test_pred)))"
   ]
  },
  {
   "cell_type": "markdown",
   "metadata": {},
   "source": [
    "Now what can we interpret from these results? Using the mean absolute error we were about 32 pounds off, not to bad. With the Mean Squared error we were about 3457 pounds off, not to good. \n",
    "\n",
    "So How do we know which error metric we should be using? Picking between the MAE and the MSE comes down to the application. Typically if your data has outliers that you want to account for, you would use MSE. If your data is not senstive to outliers you can stick to MAE"
   ]
  },
  {
   "cell_type": "markdown",
   "metadata": {},
   "source": [
    "# Congratulations Future Data Scientist/Machine Learning Engineer! \n",
    "\n",
    "## You've now added many awesome techniques to your toolbox. \n",
    "\n",
    "### You are so close to winning the grand prize!"
   ]
  },
  {
   "cell_type": "code",
   "execution_count": null,
   "metadata": {},
   "outputs": [],
   "source": []
  }
 ],
 "metadata": {
  "kernelspec": {
   "display_name": "Python 3",
   "language": "python",
   "name": "python3"
  },
  "language_info": {
   "codemirror_mode": {
    "name": "ipython",
    "version": 3
   },
   "file_extension": ".py",
   "mimetype": "text/x-python",
   "name": "python",
   "nbconvert_exporter": "python",
   "pygments_lexer": "ipython3",
   "version": "3.7.7"
  }
 },
 "nbformat": 4,
 "nbformat_minor": 4
}
