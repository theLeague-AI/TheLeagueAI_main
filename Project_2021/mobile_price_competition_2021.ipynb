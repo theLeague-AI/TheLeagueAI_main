{
 "cells": [
  {
   "cell_type": "markdown",
   "metadata": {},
   "source": [
    "<img src=\"the_leagueAI_Logo.png\" alt=\"the_leagueAI_Logo\" width=\"200\"/>"
   ]
  },
  {
   "cell_type": "markdown",
   "metadata": {},
   "source": [
    "## 1. Introduction\n",
    "\n",
    "The Banana Company Inc. is a new mobile phone company wanting to disrupt the mobile phone business. Banana wants to compete with Apple and get in on this competitive market. However, since they are brand new to the game, they are seeking a Machine Learning Engineer (that’s YOU!) to help them estimate the most optimal price to sell their mobile phones. \n",
    "\n",
    "Today Banana Inc. will provide you a dataset containing smartphones design features and their cost from different phone manufacturers. The goal is to build a model that can estimate the price of any given phone based on the phone features. Having a machine learning model that can estimate the price range of any phone will give Banana Inc. a strategic advantage when deciding how to price their own phones. \n",
    "\n"
   ]
  },
  {
   "cell_type": "markdown",
   "metadata": {},
   "source": [
    "<img src=\"phones_image.jpeg\" alt=\"phones_image\" width=\"1000\"/>"
   ]
  },
  {
   "cell_type": "markdown",
   "metadata": {},
   "source": [
    "## The Data\n",
    "Banana Inc. has been able to gather information on the technical features and cost of several competitors smartphones. The features gathered for each of these phones are described below:\n",
    "\n",
    "Features:\n",
    "   - ***id***: Identifies every single phone record available in our dataset\n",
    "   - ***battery_power***: Indicates the total energy a battery can store at once (measured in mAh)\n",
    "   - ***blue***: Indicates whether or not the phone has bluetooth capabilities\n",
    "   - ***clock_speed***: Indicates the speed at which the microprocessor executes instructions\n",
    "   - ***dual_sim***: Indicates whether or not the phone has dual sim support\n",
    "   - ***fc***: Indicates the number of megapixels available in the front camera\n",
    "   - ***four_g***: Indicates whether or not the phone has 4G capabilities\n",
    "   - ***int_memory***: Indicates the phone internal memory in Gigabytes\n",
    "   - ***m_dep***: Indicates the phone’s depth in cm\n",
    "   - ***mobile_wt***: Indicates the phone’s weight \n",
    "   - ***n_cores***: Indicates the number of cores the processor contains\n",
    "   - ***pc***: Indicates the number of mega pixels available in the phone’s primary camera mega pixels\n",
    "   - ***px_height***: Indicates the screen’s vertical pixel resolution\n",
    "   - ***px_width***: Indicates the screen’s horizontal pixel resolution\n",
    "   - ***ram***: Indicates the phone’s available ram\n",
    "   - ***sc_h***: Indicates the phone’s height in centimeters\n",
    "   - ***sc_w***: Indicates the phone’s width in centimeters\n",
    "   - ***talk_time***: Indicates the maximum call time that the phone’s battery will last on a single charge\n",
    "   - ***three_g***: Indicates whether or not the phone has 3G capabilities\n",
    "   - ***touch_screen***: Indicates whether or not the phone has a touch screen\n",
    "   - ***wifi***: Indicates whether or not the phone has wi-fi capabilities\n",
    "\n",
    "Target:\n",
    "   - ***price_range***: The price category for each phone. The different categories are explained using the table below:\n",
    "   \n",
    "| price_range Value | Range Description | Dollar Value Range |\n",
    "| --- | --- | --- |\n",
    "| 0 | Budget - Midrange | 0-699 | \n",
    "|  |  |  |\n",
    "| 1 | Premium - Flagship | 700-1300 | \n",
    "\n",
    "   \n",
    "   \n",
    "   \n",
    "Notes to Concider:\n",
    "- The data provided to you is sitting on a csv file named mobile_data_raw.csv\n",
    "- This data was gathered manually and therefore might have a lot of issues\n"
   ]
  },
  {
   "cell_type": "markdown",
   "metadata": {},
   "source": [
    "## The Objective:\n",
    "\n",
    "***To build a machine learning model that is capable of predicting the price range of a smartphone when provided the technical specifications (features) of that phone.***"
   ]
  },
  {
   "cell_type": "markdown",
   "metadata": {},
   "source": [
    "## The Approach:\n",
    "Remember of the general approach to working on a Machine Learning Project:\n",
    "\n",
    " \n",
    "    1. Start off by loading and viewing the dataset. Make sure to get a general understanding of how the data looks (data types, numerical range, ect.)\n",
    " \n",
    "    2. Prepare the data to make sure that you are not missing any values and that your data will be digested by your machine learning model as expected.\n",
    "    \n",
    "    3. Build some intuition on your data by exploring the features. Understand how your features will ultimately help your ml model make a prediction using the context of the problem.\n",
    " \n",
    "    4. Finally build the machine learning model and test its accuracy.\n"
   ]
  },
  {
   "cell_type": "markdown",
   "metadata": {},
   "source": [
    "---\n",
    "## Data Load \n",
    "Load the data from the file provided and inspect it.\n",
    "\n",
    "---\n",
    "\n",
    "Steps to concider:\n",
    "- Start by importing the modules and packages that you might be using in this project\n",
    "- When importing the data concider the use of dataframes to store your data"
   ]
  },
  {
   "cell_type": "code",
   "execution_count": null,
   "metadata": {
    "dc": {
     "key": "3"
    },
    "tags": [
     "sample_code"
    ]
   },
   "outputs": [],
   "source": [
    "# Code for dataload\n"
   ]
  },
  {
   "cell_type": "markdown",
   "metadata": {},
   "source": [
    "---\n",
    "## Data Exploration & Data Visualization\n",
    "Attempt to understand the data with statistical and visualization methods. This step will help you identify patterns and problems in the dataset.\n",
    "\n",
    "---\n",
    "\n",
    "The steps you should consider in this stage include:\n",
    "\n",
    "- Identify input(features) and output(target) variables on your data\n",
    "- What is the size of our data (data shape)\n",
    "- Identify the data types of each one of the features\n",
    "- Identify the number missing values on each feature\n",
    "- Identify categorical vs continuous(numerical) variables\n",
    "- Understand the statistical properties each feature\n",
    "- Creating histograms plot to have an idea of the distribution\n",
    "- Creating scatter plots to find some of the correlation between variables\n"
   ]
  },
  {
   "cell_type": "code",
   "execution_count": null,
   "metadata": {},
   "outputs": [],
   "source": [
    "# Code for data exploration\n"
   ]
  },
  {
   "cell_type": "markdown",
   "metadata": {},
   "source": [
    "----\n",
    "\n",
    "## Data Preparation\n",
    "You must now begin the process of transforming raw data so that data it is run through your ml model\n",
    "\n",
    "\n",
    "---\n",
    "\n",
    "- Modify the data types of each feature (if needed)\n",
    "- Look for missing values, replace or remove\n",
    "- Modify skewed variables\n",
    "- Remove outliers"
   ]
  },
  {
   "cell_type": "code",
   "execution_count": null,
   "metadata": {
    "dc": {
     "key": "31"
    },
    "tags": [
     "sample_code"
    ]
   },
   "outputs": [],
   "source": [
    "# Code for data preparation"
   ]
  },
  {
   "cell_type": "markdown",
   "metadata": {},
   "source": [
    "---\n",
    "## Feature Engineering\n",
    "You must now begin the process of extracting more information from existing data. You are not adding any new data here, but you are actually making the data you already have more useful.\n",
    "\n",
    "---\n",
    "\n",
    "The steps you should consider in this stage include:\n",
    "\n",
    "- Developing new features apart from those already generated\n",
    "\n",
    "- Selecting a set of features to remove\n",
    "\n",
    "- Creating features using existing data through mathematical operations \n",
    "\n",
    "- Applying feature scaling\n",
    "\n",
    "- Applying label encoding\n",
    "\n",
    "- Understanding correlation between features and target\n",
    "\n",
    "\n"
   ]
  },
  {
   "cell_type": "code",
   "execution_count": null,
   "metadata": {},
   "outputs": [],
   "source": [
    "# Code for feature engineering"
   ]
  },
  {
   "cell_type": "markdown",
   "metadata": {},
   "source": [
    "---\n",
    "## Building the Model\n",
    "\n",
    "Now that the data has been processed it is time to determine and build the model that will be used to find our predictions. \n",
    "\n",
    "---\n",
    "\n",
    "Consider the following points before making a choosing a model:\n",
    "\n",
    "- Create a train and test sets of data from the provided data\n",
    "- The type of prediction this project requires (classification/regression)\n",
    "- Determine the best features to used based on feature importance\n",
    "- Define your model and modify it's parameters \n"
   ]
  },
  {
   "cell_type": "code",
   "execution_count": null,
   "metadata": {},
   "outputs": [],
   "source": [
    "# Code to build Model"
   ]
  },
  {
   "cell_type": "markdown",
   "metadata": {},
   "source": [
    "---\n",
    "\n",
    "## Accuracy Metrics\n",
    "With the model finally completed, it is time to understand the model's performance.\n",
    "\n",
    "---\n",
    "\n",
    "Consider the following points before making a choosing a model:\n",
    "\n",
    "- Import the modules that will allow you to estimate different accuracy metrics\n",
    "- Determine the number of positive and negative predictions.\n",
    "- Make an assessment of what our results tell us and draw conclusions based on your findings \n",
    "- Provide and display your results using appropriate variables"
   ]
  },
  {
   "cell_type": "code",
   "execution_count": null,
   "metadata": {},
   "outputs": [],
   "source": [
    "# Code to find Accuracy metrics"
   ]
  }
 ],
 "metadata": {
  "kernelspec": {
   "display_name": "Python 3",
   "language": "python",
   "name": "python3"
  },
  "language_info": {
   "codemirror_mode": {
    "name": "ipython",
    "version": 3
   },
   "file_extension": ".py",
   "mimetype": "text/x-python",
   "name": "python",
   "nbconvert_exporter": "python",
   "pygments_lexer": "ipython3",
   "version": "3.8.10"
  }
 },
 "nbformat": 4,
 "nbformat_minor": 4
}
