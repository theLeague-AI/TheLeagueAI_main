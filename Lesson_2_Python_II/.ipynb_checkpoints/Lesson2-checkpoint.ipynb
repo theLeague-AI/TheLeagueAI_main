{
 "cells": [
  {
   "cell_type": "markdown",
   "metadata": {},
   "source": [
    "# Lesson 2: Intro to Python Part 2\n",
    "\n",
    "Today we want to understand and manage visualization, data structures and control structures"
   ]
  },
  {
   "cell_type": "markdown",
   "metadata": {},
   "source": [
    "## Visualization: Matplotlib\n",
    "- Data visualizations are important because they allows us to understand data\n",
    "- The better you understand data, the more insights you will find\n",
    "- The better the visualization, the easier it will be to communicate your findings\n",
    "- Matplotlib is probably the most important visualization package in python"
   ]
  },
  {
   "cell_type": "markdown",
   "metadata": {},
   "source": [
    "### Matplotlib Magic Function\n"
   ]
  },
  {
   "cell_type": "code",
   "execution_count": 99,
   "metadata": {},
   "outputs": [],
   "source": [
    "#This magic function allows your plots to appear within your Jupyter notebook instead of a new display window\n",
    "%matplotlib inline"
   ]
  },
  {
   "cell_type": "markdown",
   "metadata": {},
   "source": [
    "### Line Plot\n",
    "You can create line plots to represent data\n",
    "\n"
   ]
  },
  {
   "cell_type": "code",
   "execution_count": 100,
   "metadata": {},
   "outputs": [
    {
     "data": {
      "image/png": "[encoded data removed]",
      "text/plain": [
       "<Figure size 432x288 with 1 Axes>"
      ]
     },
     "metadata": {
      "needs_background": "light"
     },
     "output_type": "display_data"
    }
   ],
   "source": [
    "# Import matplotlib subpackage pyplot as plt\n",
    "import matplotlib.pyplot as plt\n",
    "\n",
    "# Data of the population in the US in millions\n",
    "year = [1990, 2000, 2010, 2020]\n",
    "population = [248.7, 281.3, 308.7, 332.6]\n",
    "\n",
    "# Create a plot using the data provided \n",
    "# Year on the horizontal axis and Population on the vertical access\n",
    "# Plot function tells Python what to plot and how to plot it\n",
    "plt.plot(year, population)\n",
    "\n",
    "\n",
    "# Display the plot\n",
    "# You must call the show() fucntion to display the plot\n",
    "plt.show()\n"
   ]
  },
  {
   "cell_type": "markdown",
   "metadata": {},
   "source": [
    "A different and more useful way to vizualize this data is in a scatter plot"
   ]
  },
  {
   "cell_type": "code",
   "execution_count": 101,
   "metadata": {},
   "outputs": [
    {
     "data": {
      "image/png": "[encoded data removed]",
      "text/plain": [
       "<Figure size 432x288 with 1 Axes>"
      ]
     },
     "metadata": {
      "needs_background": "light"
     },
     "output_type": "display_data"
    }
   ],
   "source": [
    "# Create a scatter plot from the data provided\n",
    "plt.scatter(year, population)\n",
    "\n",
    "# Show the plot\n",
    "plt.show()"
   ]
  },
  {
   "cell_type": "markdown",
   "metadata": {},
   "source": [
    "### Customization\n",
    "- There are many options available to customize your plots:\n",
    "    - plot type \n",
    "    - Color\n",
    "    - Label\n",
    "    - Axis\n",
    "    \n",
    "- The choices depend on the data available and the story you want to tell\n",
    "\n",
    "- Important steps to consider:\n",
    "        1) Pick the type\n",
    "        2) Color and size\n",
    "        3) Label your axies \n",
    "        4) Modify the scale of each axis"
   ]
  },
  {
   "cell_type": "code",
   "execution_count": 102,
   "metadata": {},
   "outputs": [
    {
     "ename": "NameError",
     "evalue": "name 'color' is not defined",
     "output_type": "error",
     "traceback": [
      "\u001b[1;31m---------------------------------------------------------------------------\u001b[0m",
      "\u001b[1;31mNameError\u001b[0m                                 Traceback (most recent call last)",
      "\u001b[1;32m<ipython-input-102-9d3e80280599>\u001b[0m in \u001b[0;36m<module>\u001b[1;34m\u001b[0m\n\u001b[0;32m      4\u001b[0m \u001b[1;33m\u001b[0m\u001b[0m\n\u001b[0;32m      5\u001b[0m \u001b[1;31m# Pick the type of graph you would like to make\u001b[0m\u001b[1;33m\u001b[0m\u001b[1;33m\u001b[0m\u001b[1;33m\u001b[0m\u001b[0m\n\u001b[1;32m----> 6\u001b[1;33m \u001b[0mplt\u001b[0m\u001b[1;33m.\u001b[0m\u001b[0mscatter\u001b[0m\u001b[1;33m(\u001b[0m\u001b[0mtime\u001b[0m\u001b[1;33m,\u001b[0m \u001b[0mquantity\u001b[0m\u001b[1;33m,\u001b[0m \u001b[0mc\u001b[0m \u001b[1;33m=\u001b[0m \u001b[0mcolor\u001b[0m\u001b[1;33m,\u001b[0m \u001b[0msize\u001b[0m \u001b[1;33m=\u001b[0m \u001b[1;36m1.5\u001b[0m\u001b[1;33m)\u001b[0m\u001b[1;33m\u001b[0m\u001b[1;33m\u001b[0m\u001b[0m\n\u001b[0m\u001b[0;32m      7\u001b[0m \u001b[1;33m\u001b[0m\u001b[0m\n\u001b[0;32m      8\u001b[0m \u001b[1;31m# Label your axies\u001b[0m\u001b[1;33m\u001b[0m\u001b[1;33m\u001b[0m\u001b[1;33m\u001b[0m\u001b[0m\n",
      "\u001b[1;31mNameError\u001b[0m: name 'color' is not defined"
     ]
    }
   ],
   "source": [
    "# Given exponential data\n",
    "time = []\n",
    "quantity = []\n",
    "\n",
    "# Pick the type of graph you would like to make\n",
    "plt.scatter(time, quantity, c = color, size = 1.5)\n",
    "\n",
    "# Label your axies\n",
    "plt.xlabel('time')\n",
    "plt.ylabel('quantity')\n",
    "\n",
    "# Add a title\n",
    "plt.title('World Pupulation Projections')\n",
    "\n",
    "# We might want our population to start at zero\n",
    "# we can add ticks to modify our y axis\n",
    "plt.yticks([0, 2, 4, 6, 8, 10], ['0', '2B', '3B', '4B', '6B', '8B', '10B'])\n",
    "\n",
    "\n",
    "# Show your graph\n",
    "plt.show()\n",
    "\n"
   ]
  },
  {
   "cell_type": "markdown",
   "metadata": {},
   "source": [
    "## Dictionaries and Pandas\n",
    "### Dictionaries \n",
    "- Dictionaries are another Python data type\n",
    "- Imagine you want to make a list of elements for which you have a particular value\n",
    "- Connect two values into one list\n",
    "- To create a dictionary you first open a set of curly brackets\n",
    "- Inside the curly brackets we have what we call Key Value pairs\n",
    "- Keys: Elements that you want to define\n",
    "- Values: Elements that define your keys and can be of any type \n",
    "- They are separated by a colon (:)"
   ]
  },
  {
   "cell_type": "code",
   "execution_count": null,
   "metadata": {},
   "outputs": [],
   "source": [
    "# Example dictionary of fruit weights in grams\n",
    "fruit_dict = {\"apple\":195 , 'banana':120, 'mango':200}\n",
    "\n",
    "print(fruit_dict)"
   ]
  },
  {
   "cell_type": "markdown",
   "metadata": {},
   "source": [
    "***Accessing Elements From Dictionary***\n",
    "- With lists, we used indexing to access values within a list with a set of squared brackets\n",
    "- Similarly, for dictionaries we can add squre brakets to find any particular element within the dictionary\n"
   ]
  },
  {
   "cell_type": "code",
   "execution_count": null,
   "metadata": {},
   "outputs": [],
   "source": [
    "# Access the weight of the banana from the fruit dictionary\n",
    "print(fruit_dict['banana'])"
   ]
  },
  {
   "cell_type": "markdown",
   "metadata": {},
   "source": [
    "- The keys in the dictionary must be unique\n",
    "- Keys have to be immutable objects; strings, booleans and integers are immutable. Lists for example are not immutable\n",
    "\n",
    "***Adding/updating Data to a Dictionary***\n",
    "\n",
    "You can add new keys and their corresponding value to a dictionary"
   ]
  },
  {
   "cell_type": "code",
   "execution_count": null,
   "metadata": {},
   "outputs": [],
   "source": [
    "# Add orange and its corresponding weight to the dictionary\n",
    "fruit_dict['orange'] = 140\n",
    "\n",
    "# Print the dictionary\n",
    "print(fruit_dict)\n",
    "\n",
    "# You can check if any particular key is in a dictionary\n",
    "# Using \"in\"\n",
    "print('orange' in fruit_dict)"
   ]
  },
  {
   "cell_type": "markdown",
   "metadata": {},
   "source": [
    "You can also update the values inside a list"
   ]
  },
  {
   "cell_type": "code",
   "execution_count": null,
   "metadata": {},
   "outputs": [],
   "source": [
    "# Print the current fruit dictionary\n",
    "print(fruit_dict)\n",
    "\n",
    "# Update the apple value\n",
    "fruit_dict['apple'] = 200\n",
    "\n",
    "# Print the updated fruit dictionary\n",
    "print(fruit_dict)"
   ]
  },
  {
   "cell_type": "code",
   "execution_count": null,
   "metadata": {},
   "outputs": [],
   "source": [
    "# Remove mango key from a dictionary\n",
    "del(fruit_dict['mango'])\n",
    "\n",
    "# Print fruit dictionary\n",
    "print(fruit_dict)"
   ]
  },
  {
   "cell_type": "markdown",
   "metadata": {},
   "source": [
    "***Dictionaries s Lists***\n",
    "- Lists are indexed by numbers and the dictionaries are indexed by keys\n",
    "- Just like lists, you may have dictionaries where the values for each key is another dictionary\n",
    "- You can then access data values within the nested dictionaries"
   ]
  },
  {
   "cell_type": "code",
   "execution_count": null,
   "metadata": {},
   "outputs": [],
   "source": [
    "# Define a dictionary with nested dictionary as values\n",
    "team_dict = {1: {'name': 'John', 'age': '27', 'gender': 'Male'},\n",
    "          2: {'name': 'Marie', 'age': '22', 'gender': 'Female'},\n",
    "          3: {'name': 'Luna', 'age': '24', 'gender': 'Female', 'married': 'No'},\n",
    "          4: {'name': 'Peter', 'age': '29', 'gender': 'Male', 'married': 'Yes'}}\n",
    "\n",
    "# Extract the age of person 4\n",
    "print(team_dict[4]['age'])\n"
   ]
  },
  {
   "cell_type": "markdown",
   "metadata": {},
   "source": [
    "### Pandas and DataFrames\n",
    "- In data science we work with massive amounts of data\n",
    "- To work with data in python we need some sort of 2D tabulated data structures\n",
    "- Pandas allows us to work with data very easily by using DataFrames\n",
    "- Pandas DataFrames are 2-Dimensional table like data scrutures that are found on the Pandas DataFrame\n",
    "\n",
    "***Creating DataFrames***\n",
    "- First you need to import the Pandas package\n",
    "- Then you can create a dataframe from a dictionary and other data sources such as the cloud or a CSV file from your computer\n"
   ]
  },
  {
   "cell_type": "code",
   "execution_count": null,
   "metadata": {},
   "outputs": [],
   "source": [
    "# Import the Pandas package\n",
    "import pandas as pd\n",
    "\n",
    "# Create a DataFrame from the team dictionary\n",
    "teams_df = pd.DataFrame(team_dict)\n",
    "\n",
    "# Print the dataframe \n",
    "print(teams_df)\n",
    "\n"
   ]
  },
  {
   "cell_type": "code",
   "execution_count": null,
   "metadata": {},
   "outputs": [],
   "source": [
    "# Import data from a CSV file\n",
    "# Stored in your computer you must have the car.csv file \n",
    "cars = pd.read_csv('cars.csv')\n",
    "\n",
    "# Print the imported dataframe\n",
    "print(cars)"
   ]
  },
  {
   "cell_type": "markdown",
   "metadata": {},
   "source": [
    "- Notice that the read_csv method automatically generated an index column on the left of the DataFrame automatically\n",
    "- In most cases you would want to make sure that the first column of your DataFrame is the indexing column\n",
    "- In our example, we have data corresponding to different countries, therefore the countries abbreviation should be the first column\n",
    "- To do so you can add an argument on the read_csv method that specifies that our first column should be our indexing column\n"
   ]
  },
  {
   "cell_type": "code",
   "execution_count": null,
   "metadata": {},
   "outputs": [],
   "source": [
    "# Import the CSV file with the first column as the indexing column\n",
    "# you can do this by setting the index_col argument to zero\n",
    "cars = pd.read_csv('cars.csv', index_col = 0)\n",
    "\n",
    "# print dataframe\n",
    "print(cars)\n"
   ]
  },
  {
   "cell_type": "markdown",
   "metadata": {},
   "source": [
    "### Select Data From DataFrames\n",
    "- We must often index and select data from our data frame\n",
    "- Some of the options we have to do this include:\n",
    "    - Brackets\n",
    "    - loc\n",
    "    - iloc\n",
    "    \n",
    "You can select a column in a dataframe using squared brakets:"
   ]
  },
  {
   "cell_type": "code",
   "execution_count": null,
   "metadata": {},
   "outputs": [],
   "source": [
    "# Print the cars per capita column from the cars dataframe\n",
    "cars['cars_per_cap']"
   ]
  },
  {
   "cell_type": "markdown",
   "metadata": {},
   "source": [
    "- Python prints the column along with the row labels\n",
    "- The column was returned with a note at the bottom, stating that the dtype is int64\n",
    "- We can then evaluate what type of data was returned from the square brackets using the type function type()"
   ]
  },
  {
   "cell_type": "code",
   "execution_count": null,
   "metadata": {},
   "outputs": [],
   "source": [
    "type(cars['cars_per_cap'])"
   ]
  },
  {
   "cell_type": "markdown",
   "metadata": {},
   "source": [
    "- Note that you are returned a series\n",
    "- A series is a one dimentional dataframe\n",
    "- You can think of a dataframe as a bunch of series put together\n",
    "\n",
    "***Slicing***\n",
    "- You may obtain a set of rows from the dataframe using slicing\n",
    "- Note the formatting of slicing\n",
    "    - dataframe [start-inclusive, end-exclusive]\n",
    "    - zero based indexing"
   ]
  },
  {
   "cell_type": "code",
   "execution_count": null,
   "metadata": {},
   "outputs": [],
   "source": [
    "# Obtain the 2nd and 3rd rows fromt the cars dataframe (1 is inclusive, 3 is exclusive)\n",
    "cars[1:3]"
   ]
  },
  {
   "cell_type": "markdown",
   "metadata": {},
   "source": [
    "***loc and iloc***\n",
    "- loc: allows you to select data based on labels\n",
    "- iloc: allows you to select your data based on position\n",
    "\n",
    "***Example using loc***"
   ]
  },
  {
   "cell_type": "code",
   "execution_count": null,
   "metadata": {},
   "outputs": [],
   "source": [
    "# get the row for russia from the cars dataframe\n",
    "cars.loc['RU']"
   ]
  },
  {
   "cell_type": "markdown",
   "metadata": {},
   "source": [
    "- You get a pandas series containing all the information for that label (Russia in this case)\n",
    "- If you wanted to get a DataFrame from your car DataFrame that also included China you could use another set of brakets..."
   ]
  },
  {
   "cell_type": "code",
   "execution_count": null,
   "metadata": {},
   "outputs": [],
   "source": [
    "# Select a dataframe from the cars dataframe that contains Russia and Japan\n",
    "cars.loc[['RU','JAP']]"
   ]
  },
  {
   "cell_type": "markdown",
   "metadata": {},
   "source": [
    "- You could also obtain specific information from that label \n",
    "- For example, if you wanted to obtain cars_per_cap and the full country name you can add a coma and another list with the column names that we want"
   ]
  },
  {
   "cell_type": "code",
   "execution_count": null,
   "metadata": {},
   "outputs": [],
   "source": [
    "# Select the cars_per_cap and country columns for the for Russia and Japan\n",
    "cars.loc[['RU','JAP'],['cars_per_cap','country']]"
   ]
  },
  {
   "cell_type": "markdown",
   "metadata": {},
   "source": [
    "- You can select all rows and a set of columns by using a colon (:) instead of specifying what row label you want\n"
   ]
  },
  {
   "cell_type": "code",
   "execution_count": null,
   "metadata": {},
   "outputs": [],
   "source": [
    "# Select all rows and the cars_per_cap and country columns\n",
    "cars.loc[:,['cars_per_cap', 'country']]"
   ]
  },
  {
   "cell_type": "markdown",
   "metadata": {},
   "source": [
    "***Example Using iloc***\n",
    "- You can also select several rows and and columns based on index location by using iloc"
   ]
  },
  {
   "cell_type": "code",
   "execution_count": null,
   "metadata": {},
   "outputs": [],
   "source": [
    "# get the row for russia from the cars dataframe\n",
    "print(cars.iloc[[1]])"
   ]
  },
  {
   "cell_type": "code",
   "execution_count": null,
   "metadata": {},
   "outputs": [],
   "source": [
    "# Select a dataframe from the cars dataframe that contains Russia and Japan\n",
    "print(cars.iloc[[4,2]])"
   ]
  },
  {
   "cell_type": "code",
   "execution_count": null,
   "metadata": {},
   "outputs": [],
   "source": [
    "# Select a dataframe from the cars dataframe that contains India and Morocco\n",
    "print(cars.iloc[[3,5]])"
   ]
  },
  {
   "cell_type": "code",
   "execution_count": null,
   "metadata": {},
   "outputs": [],
   "source": [
    "# Select the cars_per_cap and country columns for the for Russia and Japan\n",
    "print(cars.iloc[[4,2],[0,2]])"
   ]
  },
  {
   "cell_type": "code",
   "execution_count": null,
   "metadata": {},
   "outputs": [],
   "source": [
    "# Select all rows and the cars_per_cap and country columns\n",
    "print(cars.iloc[:,[0,1]])"
   ]
  },
  {
   "cell_type": "markdown",
   "metadata": {},
   "source": [
    "## Logic, Control Flow and Filtering\n",
    "### Comparison Operators\n",
    "- Comparison operators allow us how tell how two python values relate and provide a result in boolean form (True or False)\n",
    "- \"<\" is defined as less than\n",
    "- \">\" is defined as more than\n",
    "- Trick: if you know the game pacman, imagine the comparison operator is pacman's mouth. Packman will always want to eat the biggest value."
   ]
  },
  {
   "cell_type": "code",
   "execution_count": null,
   "metadata": {},
   "outputs": [],
   "source": [
    "# Simple comparison operator, is 2 more than 3?\n",
    "2 < 3"
   ]
  },
  {
   "cell_type": "code",
   "execution_count": null,
   "metadata": {},
   "outputs": [],
   "source": [
    "# You can also check if two values are equal, is 2 equal 4?\n",
    "2==4"
   ]
  },
  {
   "cell_type": "code",
   "execution_count": null,
   "metadata": {},
   "outputs": [],
   "source": [
    "# Same operation can be done for smalle or equal to three operator\n",
    "3 <= 3"
   ]
  },
  {
   "cell_type": "markdown",
   "metadata": {},
   "source": [
    "- You can also use comparison operators directly on variables"
   ]
  },
  {
   "cell_type": "code",
   "execution_count": null,
   "metadata": {},
   "outputs": [],
   "source": [
    "# Define variables and test their values using comparison operators\n",
    "x = 2\n",
    "y = 3\n",
    "x < y"
   ]
  },
  {
   "cell_type": "code",
   "execution_count": null,
   "metadata": {},
   "outputs": [],
   "source": [
    "#Note that '==' checks to see if two values are equal, while '=' set a variable equal to a value\n",
    "x == y"
   ]
  },
  {
   "cell_type": "markdown",
   "metadata": {},
   "source": [
    "- You can also use these operators with other data types. For example,  you may compare a numpy array with an integer to find values for which the comparison is satisfied"
   ]
  },
  {
   "cell_type": "code",
   "execution_count": null,
   "metadata": {},
   "outputs": [],
   "source": [
    "# Import numpy\n",
    "import numpy as np\n",
    "\n",
    "# Define numpy array \n",
    "new_array = np.array([1,23,45,12,34,44,55,2,4])\n",
    "\n",
    "# Find which values in the numpy array are more than 13 using a comparison operator\n",
    "print(new_array > 13)"
   ]
  },
  {
   "cell_type": "markdown",
   "metadata": {},
   "source": [
    "### Boolean Operators\n",
    "- You may combine comparison operation with boolean operators\n",
    "- The main boolean operators are:\n",
    "    - **and**: checks two booleans and returns True if both booleans are the same. It returns False if both booleans are different:\n",
    "        - True and True = True\n",
    "        - False and False = True\n",
    "        - True and Talse = Talse\n",
    "    - **or:** Checks to see if one of the booleans is true\n",
    "        - True or True = True\n",
    "        - True or False = True\n",
    "        - False or False = False\n",
    "    - **not:** negates the boolean value you use it on\n",
    "        - not True = False\n",
    "        - not False = True"
   ]
  },
  {
   "cell_type": "code",
   "execution_count": null,
   "metadata": {},
   "outputs": [],
   "source": [
    "# Suppose you have a variable equal to 12\n",
    "x = 12"
   ]
  },
  {
   "cell_type": "markdown",
   "metadata": {},
   "source": [
    "- You want to check if this variable is less than five and at the same time more than 15"
   ]
  },
  {
   "cell_type": "code",
   "execution_count": null,
   "metadata": {},
   "outputs": [],
   "source": [
    "# Check if x is greater than 5\n",
    "x > 5"
   ]
  },
  {
   "cell_type": "code",
   "execution_count": null,
   "metadata": {},
   "outputs": [],
   "source": [
    "# You may chekc if x is less than 15\n",
    "x < 15"
   ]
  },
  {
   "cell_type": "markdown",
   "metadata": {},
   "source": [
    "- You may check if both conditions are met at the same time with boolean operators"
   ]
  },
  {
   "cell_type": "code",
   "execution_count": null,
   "metadata": {},
   "outputs": [],
   "source": [
    "# Check if x is both more than 5 and less than 15\n",
    "x > 5 and x < 15"
   ]
  },
  {
   "cell_type": "markdown",
   "metadata": {},
   "source": [
    "- Check to see if either condition is met"
   ]
  },
  {
   "cell_type": "code",
   "execution_count": null,
   "metadata": {},
   "outputs": [],
   "source": [
    "# Check to see if either x > 3 or x < 7\n",
    "x > 3 or x < 7 "
   ]
  },
  {
   "cell_type": "markdown",
   "metadata": {},
   "source": [
    "- Negate an operation"
   ]
  },
  {
   "cell_type": "code",
   "execution_count": null,
   "metadata": {},
   "outputs": [],
   "source": [
    "# negate the operation x>3 (Note that x = 12)\n",
    "not x > 3"
   ]
  },
  {
   "cell_type": "markdown",
   "metadata": {},
   "source": [
    "### if, elif, else Conditional Statements\n",
    "\n",
    "- You can now utilize the boolean and comparison operators along with the conditional statements to make your python code behave in any way you want.\n",
    "- Conditional statement allow you to write data that perfomrs tasks based on a condition\n",
    "- Format\n",
    "    - if condition:\n",
    "    \n",
    "            expression...must be indented with 4 spaces or a \"tab\"\n",
    "- The expression is a function (action) that your code will perform on your data\n",
    "- To exit the conditional statement continue writing your code without indentation\n",
    "- **elif**: the elif statement allows you to add more conditions if the first one is not met\n",
    "- **else**: the else statement allows you to run a seperate function or perform a different action if the initial condition(s) is not met\n",
    "- Format:\n",
    "    - if condition :\n",
    "         \n",
    "          expression\n",
    "             \n",
    "      elif condition:\n",
    "      \n",
    "          expression\n",
    "      \n",
    "      else:\n",
    "         \n",
    "          expression\n",
    "             \n",
    "- Once a conditional statement has been met, the remaining statements are skipped.\n",
    "\n",
    "***Example***: write a code to determine the size category of a house. (small, medium, large)"
   ]
  },
  {
   "cell_type": "code",
   "execution_count": null,
   "metadata": {},
   "outputs": [],
   "source": [
    "#Example\n",
    "\n",
    "# Define Area\n",
    "area = 10.\n",
    "\n",
    "# Use if,elif,else to determine if the size category\n",
    "if(area < 9) :\n",
    "    print(\"small\")\n",
    "elif(area < 12) :\n",
    "    print(\"medium\")\n",
    "else :\n",
    "    print(\"large\")"
   ]
  },
  {
   "cell_type": "markdown",
   "metadata": {},
   "source": [
    "## Loops\n",
    "- Loops are techniques that you can use to  execute Python code several times over.\n",
    "\n"
   ]
  },
  {
   "cell_type": "markdown",
   "metadata": {},
   "source": [
    "### While loop\n",
    "- For **if** statements, python checks the condition, then decides to execute or not\n",
    "- For **if** statement, python only goes over the code once\n",
    "- **while** executes the code if the condition is true. But as opposed to the **if** statement , the **while** look will continue executing as along as the condition is true\n",
    "- While loops are not used very often but they can be very useful\n",
    "- \"repeating an action until a particular condition is met\"\n",
    "\n",
    "\n",
    "***Example***: "
   ]
  },
  {
   "cell_type": "code",
   "execution_count": null,
   "metadata": {},
   "outputs": [],
   "source": [
    "x = 1\n",
    "\n",
    "while x < 6:\n",
    "    print (x)\n",
    "    x = x+1\n",
    "    "
   ]
  },
  {
   "cell_type": "markdown",
   "metadata": {},
   "source": [
    "- Notice how the while loop provided us with several answers, one for every loop\n",
    "- With while loops you can write an infinite loop...\n",
    "    - when this is the case, you can use ____ to stop your code from running endlessly and perhaps crashing your computer\n",
    "    - The loop below continues indefinately becasue the loop's condition is always met."
   ]
  },
  {
   "cell_type": "code",
   "execution_count": null,
   "metadata": {},
   "outputs": [],
   "source": [
    "### infinite loop\n",
    "y = 50\n",
    "\n",
    "# while y > 1:\n",
    "#    y = y + 1\n",
    "#    print(y)"
   ]
  },
  {
   "cell_type": "markdown",
   "metadata": {},
   "source": [
    "### For loop\n",
    "- The **for** loop allows you to iterate (repeate a process) on a group of items\n",
    "- Format:\n",
    "\n",
    "    for var in seq:\n",
    "        expression\n",
    "        \n",
    "- It can be read as \"for each variable in sequence execute the expression\"\n",
    "- \"var\" can be any variable you want. It is used in your expression to complete the iteration\n",
    "\n",
    "\n",
    "Example: \n",
    "\n",
    "- Suppose that you want to print each number seperately in the series s...\n",
    "- you may do so this way:"
   ]
  },
  {
   "cell_type": "code",
   "execution_count": null,
   "metadata": {},
   "outputs": [],
   "source": [
    "s = [1,3,5,7,8]\n",
    "\n",
    "print(s[0])\n",
    "print(s[1])\n",
    "print(s[2])\n",
    "print(s[3])\n",
    "print(s[4])"
   ]
  },
  {
   "cell_type": "markdown",
   "metadata": {},
   "source": [
    "- But doing this would be tedious and time consuming\n",
    "- In this case you may use a **for** loop\n",
    "- A **for** loop allows you to visit item by item in your list:"
   ]
  },
  {
   "cell_type": "code",
   "execution_count": null,
   "metadata": {},
   "outputs": [],
   "source": [
    "for item in s:\n",
    "    print(item)"
   ]
  },
  {
   "cell_type": "markdown",
   "metadata": {},
   "source": [
    "- You may modify your code to perform multiple actions during each iteration\n",
    "- Once you have gone looped through your data one time, the loop ends"
   ]
  },
  {
   "cell_type": "code",
   "execution_count": null,
   "metadata": {},
   "outputs": [],
   "source": [
    "# Definition of dictionary\n",
    "europe = {'spain':'madrid', 'france':'paris', 'germany':'berlin',\n",
    "          'norway':'oslo', 'italy':'rome', 'poland':'warsaw', 'austria':'vienna' }\n",
    "          \n",
    "# Iterate over europe (k would be lable, v would be value)\n",
    "for k,v in europe.items() :\n",
    "    print(\"The capital of \"+str(k)+ \" is \" + str(v))"
   ]
  },
  {
   "cell_type": "markdown",
   "metadata": {},
   "source": [
    "### LAB - for loops, Pandas and Numpy"
   ]
  },
  {
   "cell_type": "code",
   "execution_count": null,
   "metadata": {},
   "outputs": [],
   "source": [
    "# Loop over a numpy array\n",
    "# Import numpy as np\n",
    "import numpy as np\n",
    "\n",
    "# For loop over np_height\n",
    "for x in np_height :\n",
    "    print(str(x) + \" inches\")\n",
    "\n",
    "# For loop over np_baseball\n",
    "for y in np.nditer(np_baseball) :\n",
    "    print(y)"
   ]
  },
  {
   "cell_type": "code",
   "execution_count": 103,
   "metadata": {},
   "outputs": [
    {
     "name": "stdout",
     "output_type": "stream",
     "text": [
      "US\n",
      "cars_per_cap              809\n",
      "country         United States\n",
      "drives_right             True\n",
      "Name: US, dtype: object\n",
      "AUS\n",
      "cars_per_cap          731\n",
      "country         Australia\n",
      "drives_right        False\n",
      "Name: AUS, dtype: object\n",
      "JAP\n",
      "cars_per_cap      588\n",
      "country         Japan\n",
      "drives_right    False\n",
      "Name: JAP, dtype: object\n",
      "IN\n",
      "cars_per_cap       18\n",
      "country         India\n",
      "drives_right    False\n",
      "Name: IN, dtype: object\n",
      "RU\n",
      "cars_per_cap       200\n",
      "country         Russia\n",
      "drives_right      True\n",
      "Name: RU, dtype: object\n",
      "MOR\n",
      "cars_per_cap         70\n",
      "country         Morocco\n",
      "drives_right       True\n",
      "Name: MOR, dtype: object\n",
      "EG\n",
      "cars_per_cap       45\n",
      "country         Egypt\n",
      "drives_right     True\n",
      "Name: EG, dtype: object\n",
      "     cars_per_cap        country  drives_right        COUNTRY\n",
      "US            809  United States          True  UNITED STATES\n",
      "AUS           731      Australia         False      AUSTRALIA\n",
      "JAP           588          Japan         False          JAPAN\n",
      "IN             18          India         False          INDIA\n",
      "RU            200         Russia          True         RUSSIA\n",
      "MOR            70        Morocco          True        MOROCCO\n",
      "EG             45          Egypt          True          EGYPT\n"
     ]
    }
   ],
   "source": [
    "# Loop over a dataframe\n",
    "\n",
    "# Import cars data\n",
    "import pandas as pd\n",
    "cars = pd.read_csv('cars.csv', index_col = 0)\n",
    "\n",
    "## Iterate over rows of cars...Write a for loop that iterates over the rows of cars and on each iteration \n",
    "# perform two print() calls: one to print out the row label and one to print out all of the rows contents.\n",
    "\n",
    "for lab,row in cars.iterrows():\n",
    "    print(lab)\n",
    "    print(row)\n",
    "    \n",
    "# Create a loop that adds an additional column named COUNTRY and lists the country's names in upper case\n",
    "for lab, row in cars.iterrows():\n",
    "    cars.loc[lab,\"COUNTRY\"]= row[\"country\"].upper()\n",
    "\n",
    "\n",
    "# Print cars\n",
    "print(cars)"
   ]
  },
  {
   "cell_type": "code",
   "execution_count": null,
   "metadata": {},
   "outputs": [],
   "source": []
  }
 ],
 "metadata": {
  "kernelspec": {
   "display_name": "Python 3",
   "language": "python",
   "name": "python3"
  },
  "language_info": {
   "codemirror_mode": {
    "name": "ipython",
    "version": 3
   },
   "file_extension": ".py",
   "mimetype": "text/x-python",
   "name": "python",
   "nbconvert_exporter": "python",
   "pygments_lexer": "ipython3",
   "version": "3.8.5"
  }
 },
 "nbformat": 4,
 "nbformat_minor": 4
}
