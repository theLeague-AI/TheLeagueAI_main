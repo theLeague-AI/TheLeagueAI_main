{
 "cells": [
  {
   "cell_type": "markdown",
   "metadata": {},
   "source": [
    "# Lesson 1: Introduction To Python\n"
   ]
  },
  {
   "cell_type": "markdown",
   "metadata": {},
   "source": [
    "## Variables and Types\n",
    "\n",
    "### Calculations\n",
    "Python allows you to make normal calculations, just like a regular calculator:"
   ]
  },
  {
   "cell_type": "code",
   "execution_count": 2,
   "metadata": {},
   "outputs": [
    {
     "data": {
      "text/plain": [
       "4"
      ]
     },
     "execution_count": 2,
     "metadata": {},
     "output_type": "execute_result"
    }
   ],
   "source": [
    "# Addition\n",
    "3+1"
   ]
  },
  {
   "cell_type": "code",
   "execution_count": 2,
   "metadata": {},
   "outputs": [
    {
     "data": {
      "text/plain": [
       "12"
      ]
     },
     "execution_count": 2,
     "metadata": {},
     "output_type": "execute_result"
    }
   ],
   "source": [
    "# Multiplication\n",
    "3*4"
   ]
  },
  {
   "cell_type": "code",
   "execution_count": 3,
   "metadata": {},
   "outputs": [
    {
     "data": {
      "text/plain": [
       "29.6263961"
      ]
     },
     "execution_count": 3,
     "metadata": {},
     "output_type": "execute_result"
    }
   ],
   "source": [
    "# Order of operations\n",
    "(3+4)*4.2323423"
   ]
  },
  {
   "cell_type": "markdown",
   "metadata": {},
   "source": [
    "### Variables: Storing Values\n",
    "When you want to make more complex equations you can \"save\" values when you are coding.\n",
    "\n",
    "Imagine you had the task to calculate the measurements of a cylindrical can given that you know its radious (r) to be 1.82364 and height (h) to be 2.984757\n",
    "\n",
    "Measurements:\n",
    "- **Volume**: pi X r^2 X h\n",
    "- **Surface Area**: (2 X pi X r X h) + (2 X pi X r^2)\n",
    "\n",
    "Writing the r and h in these equations would be very inefficient and would take a long time...\n",
    "\n",
    "Instead we can assign the radious and height to variables and write the equations out...\n"
   ]
  },
  {
   "cell_type": "code",
   "execution_count": 4,
   "metadata": {},
   "outputs": [],
   "source": [
    "# Store the values of the radious, height and pi into variables\n",
    "r = 1.82364\n",
    "h = 2.984757\n",
    "pi = 3.14\n",
    "\n",
    "# We may now calculate the volume and surface area using normal math\n",
    "\n",
    "Vol = pi*(r**2)*h\n",
    "SA = (2*pi*r*h)+(2*pi*(r**2))"
   ]
  },
  {
   "cell_type": "markdown",
   "metadata": {},
   "source": [
    "### Display your information: print()\n",
    "print() is a function that can be used to display the results of your code"
   ]
  },
  {
   "cell_type": "code",
   "execution_count": 5,
   "metadata": {},
   "outputs": [
    {
     "name": "stdout",
     "output_type": "stream",
     "text": [
      "The volume of your cylinder is  31.168567775748336 and the Surface Area 55.0679704599024\n"
     ]
    }
   ],
   "source": [
    "print('The volume of your cylinder is ', Vol,  'and the Surface Area', SA)"
   ]
  },
  {
   "cell_type": "markdown",
   "metadata": {},
   "source": [
    "### Types\n",
    "- All values in Python have a specific type.\n",
    "    - There is thousands of types in python but the most common are:\n",
    "        - **Int**: This type describes numbers without decimal points\n",
    "        - **Float**: This type describes numbers with decimals\n",
    "        - **Str**: This type describes a sequence of characters, like a word\n",
    "        - **Booleans**: A value with only two states (True or False) used to represent logical propositions and to do data filtering\n",
    "        \n",
    "- The types of values can be found using the type() function\n"
   ]
  },
  {
   "cell_type": "code",
   "execution_count": 8,
   "metadata": {},
   "outputs": [
    {
     "data": {
      "text/plain": [
       "str"
      ]
     },
     "execution_count": 8,
     "metadata": {},
     "output_type": "execute_result"
    }
   ],
   "source": [
    "# Create a variable\n",
    "x = '1'\n",
    "\n",
    "# Print variable type\n",
    "type(x)"
   ]
  },
  {
   "cell_type": "markdown",
   "metadata": {},
   "source": [
    "### Python Lists\n",
    "- Python list is just another data type. This data type allows us to work with multiple data points at the same time.\n",
    "\n",
    "- In data science you will have to work with mulitple data points very often. Imagine for example that you were building a machine learning model that had as input the heights of your friends, it would be very inconvenient to create a variable for every single person and then call each variable one by one\n",
    "\n",
    "- Instead what you could do is create a list to simplify this process..\n",
    "\n"
   ]
  },
  {
   "cell_type": "code",
   "execution_count": 10,
   "metadata": {},
   "outputs": [
    {
     "name": "stdout",
     "output_type": "stream",
     "text": [
      "[5.5, 5.6, 5.7, 6.1, 6.2, 4.9]\n"
     ]
    }
   ],
   "source": [
    "# Creat a list, note square brakets\n",
    "friends_height = [5.5,5.6,5.7,6.1,6.2,4.9]\n",
    "\n",
    "# Print friends height list\n",
    "print(friends_height)"
   ]
  },
  {
   "cell_type": "markdown",
   "metadata": {},
   "source": [
    "- **Sublist**: Values within lists can be of any type (int, float, string) in fact lists values can be others lists"
   ]
  },
  {
   "cell_type": "code",
   "execution_count": 8,
   "metadata": {},
   "outputs": [
    {
     "name": "stdout",
     "output_type": "stream",
     "text": [
      "[5.5, 5.6, [5.7, 6.1, 6.3]]\n"
     ]
    }
   ],
   "source": [
    "#  Sublits Example\n",
    "sublist_a = [5.5,5.6,[5.7,6.1,6.3]]\n",
    "\n",
    "# Print sublist\n",
    "print(sublist_a)"
   ]
  },
  {
   "cell_type": "markdown",
   "metadata": {},
   "source": [
    "- **Index:** Sometimes you might need to extract one of the elements within the list. You can extract any element from a list by indexing value. To index any element from a list you must add the location of the element inside a pair of squared brakets next to the list name. Note that the location of each element in a list is based on zero based indexing.\n",
    "\n",
    "### Zero Based Indexing:\n",
    "is a way of numbering each of the values of a list where the very first value in the list is assigned the location = 0\n",
    "\n",
    "list_b = [a, b, c, d, e]\n",
    "Index(location)   0, 1, 2, 3, 4        \n"
   ]
  },
  {
   "cell_type": "code",
   "execution_count": 9,
   "metadata": {},
   "outputs": [
    {
     "data": {
      "text/plain": [
       "5.5"
      ]
     },
     "execution_count": 9,
     "metadata": {},
     "output_type": "execute_result"
    }
   ],
   "source": [
    "# Extract 0th value from friends_height list\n",
    "friends_height[0]"
   ]
  },
  {
   "cell_type": "markdown",
   "metadata": {},
   "source": [
    "- **Slicing:** Sometimes you might need to extract multiple elements from a list at the same time. \n",
    "- Note the format of the slicing process list[start,end] where the last element is not included [inclusive:exclusive]"
   ]
  },
  {
   "cell_type": "code",
   "execution_count": 10,
   "metadata": {},
   "outputs": [
    {
     "data": {
      "text/plain": [
       "[5.5, 5.6]"
      ]
     },
     "execution_count": 10,
     "metadata": {},
     "output_type": "execute_result"
    }
   ],
   "source": [
    "# Slicing Example: Extract the first 2 elements of the friends_height list\n",
    "friends_height[0:2]"
   ]
  },
  {
   "cell_type": "code",
   "execution_count": 11,
   "metadata": {},
   "outputs": [
    {
     "data": {
      "text/plain": [
       "[6.2, 4.9]"
      ]
     },
     "execution_count": 11,
     "metadata": {},
     "output_type": "execute_result"
    }
   ],
   "source": [
    "# Extract up to from the 4th element to the end of the list\n",
    "friends_height[4:]"
   ]
  },
  {
   "cell_type": "code",
   "execution_count": 12,
   "metadata": {},
   "outputs": [
    {
     "data": {
      "text/plain": [
       "[5.5, 5.6, 5.7, 6.1, 6.2]"
      ]
     },
     "execution_count": 12,
     "metadata": {},
     "output_type": "execute_result"
    }
   ],
   "source": [
    "# Extranct all elements from the beginning of the list up to the 4th element\n",
    "friends_height[:5]"
   ]
  },
  {
   "cell_type": "markdown",
   "metadata": {},
   "source": [
    "- **List Manipulation:** you can update, add or remove elements from the list"
   ]
  },
  {
   "cell_type": "code",
   "execution_count": 11,
   "metadata": {},
   "outputs": [
    {
     "name": "stdout",
     "output_type": "stream",
     "text": [
      "[5.5, 5.6, 5.7, 6.1, 6.2, 4.9]\n"
     ]
    }
   ],
   "source": [
    "print(friends_height)"
   ]
  },
  {
   "cell_type": "code",
   "execution_count": 13,
   "metadata": {},
   "outputs": [
    {
     "name": "stdout",
     "output_type": "stream",
     "text": [
      "[5.5, 5.6, 5.7, 6.1, 6.2, 7.4]\n"
     ]
    }
   ],
   "source": [
    "# Update the 5th element from the list\n",
    "friends_height[5] = 7.4\n",
    "\n",
    "# Print updated list\n",
    "print(friends_height)"
   ]
  },
  {
   "cell_type": "code",
   "execution_count": 14,
   "metadata": {},
   "outputs": [
    {
     "name": "stdout",
     "output_type": "stream",
     "text": [
      "[5.5, 5.6, 5.7, 6.1, 6.2, 7.4, 3.1]\n"
     ]
    }
   ],
   "source": [
    "# Add an element to the end of the list\n",
    "# Create a new height element for your new friend\n",
    "new_friend = [3.1]\n",
    "\n",
    "# Add the newly created varable to the end of the list\n",
    "new_friends_height = friends_height + new_friend\n",
    "\n",
    "# Print the updated list\n",
    "print(new_friends_height)\n"
   ]
  },
  {
   "cell_type": "markdown",
   "metadata": {},
   "source": [
    "## Fucntions and Pakcages\n",
    "\n",
    "### Functions\n",
    "- A **Function** is a piece of reusable code used to solve a particular task. You can use a function instead of having to write the code yourself.\n"
   ]
  },
  {
   "cell_type": "code",
   "execution_count": 17,
   "metadata": {},
   "outputs": [
    {
     "data": {
      "text/plain": [
       "7.4"
      ]
     },
     "execution_count": 17,
     "metadata": {},
     "output_type": "execute_result"
    }
   ],
   "source": [
    "# Simple function example\n",
    "# Use the max() function to find the maximum height (or the tallest height) among your friends\n",
    "max(new_friends_height)"
   ]
  },
  {
   "cell_type": "markdown",
   "metadata": {},
   "source": [
    "- You may assign a function to a variable to store its results"
   ]
  },
  {
   "cell_type": "code",
   "execution_count": 18,
   "metadata": {},
   "outputs": [
    {
     "name": "stdout",
     "output_type": "stream",
     "text": [
      "7.4\n"
     ]
    }
   ],
   "source": [
    "# Store the highest height on a variable called \"tallest\"\n",
    "tallest = max(new_friends_height)\n",
    "\n",
    "# Print the variable\n",
    "print(tallest)"
   ]
  },
  {
   "cell_type": "markdown",
   "metadata": {},
   "source": [
    "- Functions may take multiple inputs:"
   ]
  },
  {
   "cell_type": "code",
   "execution_count": 19,
   "metadata": {},
   "outputs": [
    {
     "name": "stdout",
     "output_type": "stream",
     "text": [
      "1.984\n"
     ]
    }
   ],
   "source": [
    "# Example of multiple inputs using the round() function, store the value in a variable called \"z\"\n",
    "z = round(1.9835,3)\n",
    "\n",
    "# Print the result\n",
    "print(z)"
   ]
  },
  {
   "cell_type": "markdown",
   "metadata": {},
   "source": [
    " - Note that Python stores all the information and inner workings of a function internally, you dont have to worry about these.\n",
    " - If you want to know more about how a function work, you may simply look for its documentation online\n",
    " "
   ]
  },
  {
   "cell_type": "markdown",
   "metadata": {},
   "source": [
    "### Objects and Methods\n",
    "- Everything in Python is an **object**, that is why Python is known as an \"object oriented programming language\"\n",
    "- **Methods** are functions that belong to objects\n",
    "    - Different objects have specific methods.\n",
    "    - You can apply a method to an object using the dot notation\n",
    "    \n",
    "**Dot Notation Example:** to call a method on a particular object you write the object followed my a period and the name of the method you would like to apply on it. On this example we use the index method on a list to find the location of an element in that list"
   ]
  },
  {
   "cell_type": "code",
   "execution_count": 20,
   "metadata": {},
   "outputs": [
    {
     "data": {
      "text/plain": [
       "3"
      ]
     },
     "execution_count": 20,
     "metadata": {},
     "output_type": "execute_result"
    }
   ],
   "source": [
    "## Dot notation example on a method.\n",
    "# Apply the index method on the new_friends_height list\n",
    "# Find the location of a friend with the height of 6.1 feet in the list\n",
    "new_friends_height.index(6.1)"
   ]
  },
  {
   "cell_type": "code",
   "execution_count": 21,
   "metadata": {},
   "outputs": [
    {
     "name": "stdout",
     "output_type": "stream",
     "text": [
      "[5.5, 5.6, 5.7, 6.1, 6.2, 7.4, 3.1]\n"
     ]
    }
   ],
   "source": [
    "print(new_friends_height)"
   ]
  },
  {
   "cell_type": "code",
   "execution_count": 33,
   "metadata": {},
   "outputs": [
    {
     "name": "stdout",
     "output_type": "stream",
     "text": [
      "lisa\n"
     ]
    }
   ],
   "source": [
    "# Example 2: Changing lisa to liza\n",
    "# You can use the replace method to modify a string\n",
    "# Define a friend name\n",
    "friend_a = 'liza'\n",
    "\n",
    "# Replace 'iza' with 'isa' and store it on a new variable\n",
    "new_friend_a = friend_a.replace('z','s')\n",
    "\n",
    "# print\n",
    "print(new_friend_a)\n"
   ]
  },
  {
   "cell_type": "markdown",
   "metadata": {},
   "source": [
    "### Packages\n",
    "- There is a very large number of methods and types created for Python.\n",
    "- Having all of these in the same Python distribution would be a total mess\n",
    "- We must therefore store all of these methods and types into packages\n",
    "- You can think of packages as a directory of Python script.\n",
    "- Python packages are made up of **Modules**\n",
    "    - Each script is a Module, each module contains functions, methods and types\n",
    "- Among the most important packages for data scientist are:\n",
    "    - NumPy: Allows us to work with numbers in array form\n",
    "    - Matplotlib: Allows us to create data visualizations\n",
    "    - Scikit-Learn: Allows us to use machine lerning models\n",
    "- To use packages you must install them on your own system\n",
    "    - **conda install** allows you to install packages in the Anaconda python distribution\n"
   ]
  },
  {
   "cell_type": "code",
   "execution_count": 36,
   "metadata": {},
   "outputs": [
    {
     "name": "stdout",
     "output_type": "stream",
     "text": [
      "Collecting package metadata (current_repodata.json): ...working... done\n",
      "Note: you may need to restart the kernel to use updated packages.\n",
      "Solving environment: ...working... done\n",
      "\n",
      "## Package Plan ##\n",
      "\n",
      "  environment location: C:\\Users\\okero\\anaconda3\n",
      "\n",
      "  added / updated specs:\n",
      "    - numpy\n",
      "\n",
      "\n",
      "\n",
      "The following packages will be downloaded:\n",
      "\n",
      "    package                    |            build\n",
      "    ---------------------------|-----------------\n",
      "    conda-4.8.4                |           py38_0         2.9 MB\n",
      "    ------------------------------------------------------------\n",
      "                                           Total:         2.9 MB\n",
      "\n",
      "The following packages will be UPDATED:\n",
      "\n",
      "  conda                                        4.8.3-py38_0 --> 4.8.4-py38_0\n",
      "\n",
      "\n",
      "\n",
      "Downloading and Extracting Packages\n",
      "\n",
      "conda-4.8.4          | 2.9 MB    |            |   0% \n",
      "conda-4.8.4          | 2.9 MB    |            |   1% \n",
      "conda-4.8.4          | 2.9 MB    | 6          |   7% \n",
      "conda-4.8.4          | 2.9 MB    | ##         |  21% \n",
      "conda-4.8.4          | 2.9 MB    | ######7    |  67% \n",
      "conda-4.8.4          | 2.9 MB    | #########4 |  94% \n",
      "conda-4.8.4          | 2.9 MB    | ########## | 100% \n",
      "Preparing transaction: ...working... done\n",
      "Verifying transaction: ...working... done\n",
      "Executing transaction: ...working... done\n"
     ]
    }
   ],
   "source": [
    "conda install numpy"
   ]
  },
  {
   "cell_type": "markdown",
   "metadata": {},
   "source": [
    "- After installing you must import the package into python\n",
    "- You will be using the numpy extension often in your code, therfore you can import and immediately abbreviate it as \"np\""
   ]
  },
  {
   "cell_type": "code",
   "execution_count": 37,
   "metadata": {},
   "outputs": [],
   "source": [
    "import numpy as np"
   ]
  },
  {
   "cell_type": "markdown",
   "metadata": {},
   "source": [
    "- At this point you are ready to use the Numpy package in your code\n",
    "- In the example below we use numpy to create an array of zeros"
   ]
  },
  {
   "cell_type": "code",
   "execution_count": 40,
   "metadata": {},
   "outputs": [
    {
     "name": "stdout",
     "output_type": "stream",
     "text": [
      "[[0. 0.]\n",
      " [0. 0.]]\n"
     ]
    }
   ],
   "source": [
    "# Define a 2X2 matrix with only zeros \n",
    "a = np.zeros((2,2))\n",
    "\n",
    "# print the matrix you defined\n",
    "print(a)"
   ]
  },
  {
   "cell_type": "markdown",
   "metadata": {},
   "source": [
    "## LAB\n",
    "- Given the area measurements of a house, complete the following steps"
   ]
  },
  {
   "cell_type": "code",
   "execution_count": 5,
   "metadata": {},
   "outputs": [
    {
     "name": "stdout",
     "output_type": "stream",
     "text": [
      "['bedroom', 10.75, 'bathroom', 9.5]\n",
      "['hallway', 11.25, 'kitchen', 18.0, 'living room', 20.0, 'restroom', 13.5]\n"
     ]
    }
   ],
   "source": [
    "# List with locations in a house with their corresponding areas\n",
    "areas = [\"hallway\", 11.25, \"kitchen\", 18.0, \"living room\", 20.0, \"bedroom\", 10.75, \"bathroom\", 9.50]\n",
    "\n",
    "# Using slicing create a list of the areas that would belong to the first level of the house. Name this list \"downstairs\"\n",
    "\n",
    "\n",
    "# Using slicing create a list of the areas that would belong to the second level of the house. Name this list \"upstairs\"\n",
    "\n",
    "\n",
    "# Print areas from the second level\n",
    "\n",
    "\n",
    "# Add a restroom to the downstairs list with an area of 13.5\n",
    "\n",
    "\n",
    "# Print Downstairs\n",
    "\n",
    "\n",
    "\n"
   ]
  },
  {
   "cell_type": "code",
   "execution_count": null,
   "metadata": {},
   "outputs": [],
   "source": []
  },
  {
   "cell_type": "markdown",
   "metadata": {},
   "source": [
    "## LAB NummPy\n",
    "- As a data scientist you will be working with millions of data points\n",
    "- You will need to be able to interpret the data easily\n",
    "- NumPy is also very good at finding basic statistical facts about your data: Mean, median , sum, sort, std\n",
    "- Note that bececause NumPy forces the data into an array it can drastically speed up the processing of this data\n",
    "- For this lab you are given a dataset wit baseball information\n",
    "\n"
   ]
  },
  {
   "cell_type": "code",
   "execution_count": 2,
   "metadata": {},
   "outputs": [
    {
     "name": "stdout",
     "output_type": "stream",
     "text": [
      "[11.25, 18.0, 20.0, 10.75, 9.5]\n"
     ]
    }
   ],
   "source": [
    "# Import numpy\n",
    "import numpy as np\n",
    "\n",
    "# Create np_height_in from np_baseball\n",
    "np_height_in = np_baseball[:,0]\n",
    "\n",
    "# Print out the mean of np_height_in\n",
    "print(np.mean(np_height_in))\n",
    "\n",
    "# Print out the median of np_height_in\n",
    "print(np.median(np_height_in))\n",
    "\n",
    "# np_baseball is available\n",
    "\n",
    "# Import numpy\n",
    "import numpy as np\n",
    "\n",
    "# Print mean height (first column)\n",
    "avg = np.mean(np_baseball[:,0])\n",
    "print(\"Average: \" + str(avg))\n",
    "\n",
    "# Print median height. Replace 'None'\n",
    "med = np.median(np_baseball[:,0])\n",
    "print(\"Median: \" + str(med))\n",
    "\n",
    "# Print out the standard deviation on height. Replace 'None'\n",
    "stddev = np.std(np_baseball[:,0])\n",
    "print(\"Standard Deviation: \" + str(stddev))\n",
    "\n",
    "# Print out correlation between first and second column. Replace 'None'\n",
    "corr = np.corrcoef(np_baseball[:,0],np_baseball[:,1])\n",
    "print(\"Correlation: \" + str(corr))\n",
    "\n",
    "# heights and positions are available as lists\n",
    "\n",
    "# Import numpy\n",
    "import numpy as np\n",
    "\n",
    "# Convert positions and heights to numpy arrays: np_positions, np_heights\n",
    "np_heights = np.array(heights)\n",
    "np_positions = np.array(positions)\n",
    "\n",
    "# Heights of the goalkeepers: gk_heights\n",
    "gk_heights = np_heights[np_positions == 'GK']# this creates an index for the heights of all gks\n",
    "\n",
    "# Heights of the other players: other_heights\n",
    "other_heights = np_heights[np_positions != 'GK'] #index for non GK heights\n",
    "\n",
    "# Print out the median height of goalkeepers. Replace 'None'\n",
    "print(\"Median height of goalkeepers: \" + str(np.median(gk_heights)))\n",
    "\n",
    "# Print out the median height of other players. Replace 'None'\n",
    "print(\"Median height of other players: \" + str(np.median(other_heights)))\n"
   ]
  }
 ],
 "metadata": {
  "kernelspec": {
   "display_name": "Python 3",
   "language": "python",
   "name": "python3"
  },
  "language_info": {
   "codemirror_mode": {
    "name": "ipython",
    "version": 3
   },
   "file_extension": ".py",
   "mimetype": "text/x-python",
   "name": "python",
   "nbconvert_exporter": "python",
   "pygments_lexer": "ipython3",
   "version": "3.8.5"
  }
 },
 "nbformat": 4,
 "nbformat_minor": 4
}
