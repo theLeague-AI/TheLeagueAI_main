{
 "cells": [
  {
   "cell_type": "markdown",
   "metadata": {},
   "source": [
    "# Introduction to Pandas II\n",
    "Welcome to the Pandas II. In this lesson we will be covering: \n",
    "- **Grouping and Sorting Data**\n",
    "- **Data Types and Missing Values in Data**\n",
    "- **Renaming and Combining Data** \n",
    "\n",
    "We will also create our first **Machine Learning Model**.\n",
    "\n",
    "The lab for Lesson 4 will consist of all the exercises that you will find throughtout the notebook. \n",
    "\n",
    "For this lesson we will again be using the Titanic Survival Dataset from Kaggle. We will perform various tranformations, edits and exploration. \n",
    "\n",
    "Let's review the column values once more as a reminder of the data we are using:\n",
    "- **Survived**: Outcome of survival (0 = No; 1 = Yes)\n",
    "- **Pclass**: Socio-economic class (1 = Upper class; 2 = Middle class; 3 = Lower class)\n",
    "- **Name**: Name of passenger\n",
    "- **Sex**: Sex of the passenger\n",
    "- **Age**: Age of the passenger (Some entries contain `?`)\n",
    "- **SibSp**: Number of siblings and spouses of the passenger aboard\n",
    "- **Parch**: Number of parents and children of the passenger aboard\n",
    "- **Ticket**: Ticket number of the passenger\n",
    "- **Fare**: Fare paid by the passenger\n",
    "- **Cabin** Cabin number of the passenger (Some entries contain `?`)\n",
    "- **Embarked**: Port of embarkation of the passenger (C = Cherbourg; Q = Queenstown; S = Southampton)\n",
    "- **Home.Dest**: Home / Destination\n"
   ]
  },
  {
   "cell_type": "code",
   "execution_count": null,
   "metadata": {},
   "outputs": [],
   "source": [
    "import pandas as pd\n",
    "import numpy as np"
   ]
  },
  {
   "cell_type": "markdown",
   "metadata": {},
   "source": [
    "Let's read in the data set. We performed this in our previous lab, now give it a try:"
   ]
  },
  {
   "cell_type": "code",
   "execution_count": null,
   "metadata": {},
   "outputs": [],
   "source": [
    "# EXERCISE 1\n",
    "# Read in the titanic survival dataset (titanic_data.csv)\n"
   ]
  },
  {
   "cell_type": "markdown",
   "metadata": {},
   "source": [
    "## Grouping and Sorting "
   ]
  },
  {
   "cell_type": "markdown",
   "metadata": {},
   "source": [
    "### Groupwise Analysis\n",
    "The `groupby()` method allows us group our data. Depending on the input given, `groupyby()` can also be used with the summary methods such as `count()`, `mean()`, and the others. "
   ]
  },
  {
   "cell_type": "code",
   "execution_count": null,
   "metadata": {},
   "outputs": [],
   "source": [
    "# Grouping \n",
    "titanic_data.groupby('embarked').embarked.count()\n"
   ]
  },
  {
   "cell_type": "markdown",
   "metadata": {},
   "source": [
    "One thing to note from the above grouping is our results. We grouped by the column \"embarked\" and then asked for only the count of the \"embarked column. The results we got were, ?, C, Q and S. Just as a thought, does it make sense to have ? as a value? Let continue and we shall find out."
   ]
  },
  {
   "cell_type": "code",
   "execution_count": null,
   "metadata": {},
   "outputs": [],
   "source": [
    "# EXERCISE 2\n",
    "\n",
    "# Run the cell below, and then answer the question.\n",
    "titanic_data.groupby('embarked').count()"
   ]
  },
  {
   "cell_type": "code",
   "execution_count": null,
   "metadata": {},
   "outputs": [],
   "source": [
    "# EXERCISE 3\n",
    "\n",
    "# Describe the difference between the first `groupby()` vs the second one we executed in Exercise 2.\n",
    "# Double click the cell below to type your answer"
   ]
  },
  {
   "cell_type": "markdown",
   "metadata": {},
   "source": [
    "#### Answer: \n",
    "(type answer here)\n"
   ]
  },
  {
   "cell_type": "markdown",
   "metadata": {},
   "source": [
    "We can also use the `agg()` method to aggregate values all at once. Let's use it below to get the length, minimun value and maximum value. "
   ]
  },
  {
   "cell_type": "code",
   "execution_count": null,
   "metadata": {},
   "outputs": [],
   "source": [
    "titanic_data.groupby(['sibsp']).survived.agg([len,min,max])"
   ]
  },
  {
   "cell_type": "markdown",
   "metadata": {},
   "source": [
    "Interesting fact about the data above:  \n",
    "The information above tells us that larger families (sibsp refers to the number of siblings / spouses on board) did not survive. "
   ]
  },
  {
   "cell_type": "code",
   "execution_count": null,
   "metadata": {},
   "outputs": [],
   "source": [
    "# EXERCISE 4\n",
    "# Group the data by sibsp and find the sum, min and max values using the agg() method\n"
   ]
  },
  {
   "cell_type": "markdown",
   "metadata": {},
   "source": [
    "### Sorting\n",
    "Sorting is an extremely valuable tool. Sorting allows us to keep our data organized, and allows for the user of the dataset to have better control over their data. Lets sort our data below, by setting the \"embarked\" column as our refrence. "
   ]
  },
  {
   "cell_type": "code",
   "execution_count": null,
   "metadata": {},
   "outputs": [],
   "source": [
    "# Sorting \n",
    "titanic_data.sort_values(by='embarked')"
   ]
  },
  {
   "cell_type": "markdown",
   "metadata": {},
   "source": [
    "As we can see now, the embarked column has been sorted to show ?,C,Q, and S. ? is first as it comes first in the ascii table of characters (http://www.asciitable.com/). \n",
    "\n",
    "The values in code above were sorted in ascending order (default), but we can also sort in descending order as shown below:"
   ]
  },
  {
   "cell_type": "code",
   "execution_count": null,
   "metadata": {},
   "outputs": [],
   "source": [
    "titanic_data.sort_values(by='embarked', ascending=False)"
   ]
  },
  {
   "cell_type": "code",
   "execution_count": null,
   "metadata": {},
   "outputs": [],
   "source": [
    "# EXERCISE 5\n",
    "\n",
    "# Look at the code in the cell below and describe try to describe wha is occuring:\n",
    "# Double click the cell below to type your answer"
   ]
  },
  {
   "cell_type": "markdown",
   "metadata": {},
   "source": [
    "#### Answer: \n",
    "(type answer here)"
   ]
  },
  {
   "cell_type": "code",
   "execution_count": null,
   "metadata": {},
   "outputs": [],
   "source": [
    "titanic_data['last_name'] = titanic_data['name'].str.split().str[0].replace(',','',regex=True)\n",
    "titanic_data['first_name'] = titanic_data['name'].str.split().str[2].replace(',','',regex=True)\n"
   ]
  },
  {
   "cell_type": "markdown",
   "metadata": {},
   "source": [
    "Note that we have used the code above in a previous lesson. It breaks the name column into first and last names and creates new columns at the end of the DataFrame.  \n",
    "We will now use the newly created *last_name* and *first_name* columns to sort two columns at once:"
   ]
  },
  {
   "cell_type": "code",
   "execution_count": null,
   "metadata": {},
   "outputs": [],
   "source": [
    "titanic_data.sort_values(by = ['last_name','first_name'])"
   ]
  },
  {
   "cell_type": "code",
   "execution_count": null,
   "metadata": {},
   "outputs": [],
   "source": [
    "# EXERCISE 6\n",
    "# Sort the fare and age columns and print\n"
   ]
  },
  {
   "cell_type": "markdown",
   "metadata": {},
   "source": [
    "## Data Types and Missing values \n"
   ]
  },
  {
   "cell_type": "markdown",
   "metadata": {},
   "source": [
    "### Dtypes\n",
    "Per our previous lessons, dataypes are the way we store specific data to a specific datatype. Such as numbers to *int, float, double*, and text to *str, char*. It is important to know what data types you are working with because at times you will need to either alter, edit, adjust, or replace values in your data. When altering your data, you will need to ensure that the altered data matches the datatype of the data that you are changing. \n",
    "\n",
    "Let's take a look at how to find the data type of our columns from the titanic dataset:"
   ]
  },
  {
   "cell_type": "code",
   "execution_count": null,
   "metadata": {},
   "outputs": [],
   "source": [
    "#dtypes, types of data\n",
    "titanic_data.dtypes"
   ]
  },
  {
   "cell_type": "code",
   "execution_count": null,
   "metadata": {},
   "outputs": [],
   "source": [
    "# EXERCISE 7\n",
    "# In the example above, we found the data type for all the columns. For this exercise,\n",
    "#  find the data type of just one column from the titanic dataset\n"
   ]
  },
  {
   "cell_type": "markdown",
   "metadata": {},
   "source": [
    "Now that we know how to check data types, let's try changing data types. In the example below we will be converting the *age* column from object (*str or char*) to numeric (*float*). \n"
   ]
  },
  {
   "cell_type": "code",
   "execution_count": null,
   "metadata": {},
   "outputs": [],
   "source": [
    "# EXERCISE 8\n",
    "\n",
    "# Why would we want to convert the age value from str to numeric?   \n",
    "# Double click the cell below to type your answer"
   ]
  },
  {
   "cell_type": "markdown",
   "metadata": {},
   "source": [
    "#### Answer: \n",
    "(type answer here)"
   ]
  },
  {
   "cell_type": "markdown",
   "metadata": {},
   "source": [
    "From the data types listed above, we can see that the *age* column is an *object*. However, we want it to be numeric.  \n",
    "Let's convert the *age* column from *object* to *numeric*:"
   ]
  },
  {
   "cell_type": "code",
   "execution_count": null,
   "metadata": {},
   "outputs": [],
   "source": [
    "titanic_data['age'] = pd.to_numeric(titanic_data['age'], errors = 'coerce')\n",
    "titanic_data"
   ]
  },
  {
   "cell_type": "markdown",
   "metadata": {},
   "source": [
    "We can verify the data type of the *age* column by using `dtype`"
   ]
  },
  {
   "cell_type": "code",
   "execution_count": null,
   "metadata": {},
   "outputs": [],
   "source": [
    "titanic_data.age.dtype"
   ]
  },
  {
   "cell_type": "markdown",
   "metadata": {},
   "source": [
    "As you can see, we were able to successfully convert our age data from *object* to *numeric*"
   ]
  },
  {
   "cell_type": "code",
   "execution_count": null,
   "metadata": {},
   "outputs": [],
   "source": [
    "# EXERCISE 9\n",
    "\n",
    "# Convert the fare column into a numeric value and show print the new data type for the column\n"
   ]
  },
  {
   "cell_type": "markdown",
   "metadata": {},
   "source": [
    "### Missing Values \n",
    "Missing values are displayed as *NaN*. *NaN (Not a Number) values* are values that do not have any data. It is important to understand if your data has missing values because your AI model will only be as good as the data that you are working with.\n",
    "\n",
    "In our data we do not have any missing values, but let's still explore on how to find missing values. \n",
    "To do this, we can use the `isnull()` method as shown below:"
   ]
  },
  {
   "cell_type": "code",
   "execution_count": null,
   "metadata": {},
   "outputs": [],
   "source": [
    "titanic_data.isnull()"
   ]
  },
  {
   "cell_type": "markdown",
   "metadata": {},
   "source": [
    "The dataframe above shows us all the values that met the conditions from `isnull()`. Manually counting the `True` values would be extremely cumbersome and time consuming. However, we can use some of the tools we've learned so far and combine them to make this easier."
   ]
  },
  {
   "cell_type": "code",
   "execution_count": null,
   "metadata": {},
   "outputs": [],
   "source": [
    "# This line of code uses isnull() to find the missing values and sums them up per column\n",
    "titanic_data.isnull().sum()"
   ]
  },
  {
   "cell_type": "code",
   "execution_count": null,
   "metadata": {},
   "outputs": [],
   "source": [
    "# EXERCISE 10\n",
    "\n",
    "# Do you believe missing values are bad for AI? and why?\n",
    "# Double click the cell below to type your answer"
   ]
  },
  {
   "cell_type": "markdown",
   "metadata": {},
   "source": [
    "#### Answer: \n",
    "(type answer here)"
   ]
  },
  {
   "cell_type": "markdown",
   "metadata": {},
   "source": [
    "## Renaming and Combining \n"
   ]
  },
  {
   "cell_type": "markdown",
   "metadata": {},
   "source": [
    "### Renaming\n",
    "The majority of times when you will use a dataset, the columns, indexes, or values will have values that we cannot use or are not beneficial to use. In this case, out data contains some *'?'* throughout. We can use the `rename()` method to change some those values."
   ]
  },
  {
   "cell_type": "code",
   "execution_count": null,
   "metadata": {},
   "outputs": [],
   "source": [
    "# note some of the ? in the cabin and boat columns\n",
    "titanic_data"
   ]
  },
  {
   "cell_type": "code",
   "execution_count": null,
   "metadata": {},
   "outputs": [],
   "source": [
    "# Renaming\n",
    "titanic_data = titanic_data.replace({'?': None})\n",
    "titanic_data"
   ]
  },
  {
   "cell_type": "markdown",
   "metadata": {},
   "source": [
    "As you can see above, the  values that were *'?'* are now None. We also could have used NaN, but either value will allows to mark the values as missing. Now let's rename the embarked column to country to make it easier to interpret."
   ]
  },
  {
   "cell_type": "code",
   "execution_count": null,
   "metadata": {},
   "outputs": [],
   "source": [
    "titanic_data = titanic_data.rename(columns={'embarked': 'country'})\n",
    "titanic_data"
   ]
  },
  {
   "cell_type": "code",
   "execution_count": null,
   "metadata": {},
   "outputs": [],
   "source": [
    "# EXERCISE 11\n",
    "# Find and replace the missing values in the new \"country\" column. \n",
    "#  To verify, run the cell below. The true values should be zero. \n",
    "\n",
    "# HINT: use the fillna() method. https://pandas.pydata.org/pandas-docs/stable/reference/api/pandas.DataFrame.fillna.html\n"
   ]
  },
  {
   "cell_type": "code",
   "execution_count": null,
   "metadata": {},
   "outputs": [],
   "source": [
    "titanic_data.country.isnull().value_counts()"
   ]
  },
  {
   "cell_type": "markdown",
   "metadata": {},
   "source": [
    "## Building our First Machine Learning Model"
   ]
  },
  {
   "cell_type": "markdown",
   "metadata": {},
   "source": [
    "Now that we have looked at our dataset, let's use it for machine learning. For this model, just follow along and try to understang what is happening. We will discuss all these concepts in more detail as the lessons progress. \n",
    "\n",
    "The first step is for us to select a column we would like to try and predict a value for. In this case we will try to predict who will survive, so we will choose the *survived* column as our target and the rest of our columns as our features. \n",
    "\n",
    "We will learn more about what feature and target variables are in upcoming lessons. "
   ]
  },
  {
   "cell_type": "code",
   "execution_count": null,
   "metadata": {},
   "outputs": [],
   "source": [
    "# Seperate target from dataset\n",
    "target = titanic_data['survived']\n",
    "features_raw = titanic_data.drop('survived', axis = 1)"
   ]
  },
  {
   "cell_type": "markdown",
   "metadata": {},
   "source": [
    "We will now perform some basic steps to pre-process our data before passing it into a machine learning model. Computers only understand numbers, they do not understand the words (e.g., cat, dog, goldfish). Instead, we need to convert string characters into a numerical values. In a future lesson we will go over specific methods to do this. "
   ]
  },
  {
   "cell_type": "code",
   "execution_count": null,
   "metadata": {},
   "outputs": [],
   "source": [
    "# preprocess data\n",
    "features = pd.get_dummies(features_raw)\n",
    "features = features.fillna(0.0)"
   ]
  },
  {
   "cell_type": "markdown",
   "metadata": {},
   "source": [
    "In order to train our machine learning model, we will use the **sklearn** (scikit-learn) library. The **sklearn** library contains various statistical and machine learning models that we can use. It also contains useful tools to aid in the machine learning process.  \n",
    "In example below, we will import **train_test_split** from **sklearn.model_selection** and **DecisionTreeClassifier** from **sklearn.tree**.  \n",
    "\n",
    "**train_test_split** is a tool used to split data into *'test'* and *'training'* sets to train our machine learning model.  \n",
    "**DecisionTreeClassifier** is a machine learning model."
   ]
  },
  {
   "cell_type": "code",
   "execution_count": null,
   "metadata": {},
   "outputs": [],
   "source": [
    "#import model\n",
    "from sklearn.model_selection import train_test_split\n",
    "\n",
    "# Split the data into train and test. \n",
    "X_train, X_test, y_train, y_test = train_test_split(features, target, test_size=0.2, random_state=42)\n",
    "\n",
    "#train\n",
    "\n",
    "# Import the classifier from sklearn\n",
    "from sklearn.tree import DecisionTreeClassifier\n",
    "\n",
    "# Define the classifier, and fit it to the data\n",
    "model = DecisionTreeClassifier()\n",
    "model.fit(X_train, y_train)"
   ]
  },
  {
   "cell_type": "code",
   "execution_count": null,
   "metadata": {},
   "outputs": [],
   "source": [
    "# EXERCISE 12\n",
    "\n",
    "# Why do you believe we need to split the data into a training and a test set, \n",
    "#  before we pass it into a machine learning model?\n"
   ]
  },
  {
   "cell_type": "markdown",
   "metadata": {},
   "source": [
    "In the last two lines of the code cell above, we used our training data to train our model. We will now take our trained model and try to predict values from our test set. We will compare our results and assign it an accuracy measure. "
   ]
  },
  {
   "cell_type": "code",
   "execution_count": null,
   "metadata": {},
   "outputs": [],
   "source": [
    "# Making predictions\n",
    "y_train_pred = model.predict(X_train)\n",
    "y_test_pred = model.predict(X_test)\n",
    "\n",
    "# Calculate the accuracy\n",
    "from sklearn.metrics import accuracy_score\n",
    "train_accuracy = accuracy_score(y_train, y_train_pred)\n",
    "test_accuracy = accuracy_score(y_test, y_test_pred)\n",
    "print('The training accuracy is {}%'.format(train_accuracy*100))\n",
    "print('The test accuracy is {}%'.format(test_accuracy * 100))"
   ]
  },
  {
   "cell_type": "code",
   "execution_count": null,
   "metadata": {},
   "outputs": [],
   "source": [
    "# EXERCISE 13\n",
    "\n",
    "# Do you believe the machine learning model performed well? or is it performing too well? \n",
    "# Double click the cell below to type your answer"
   ]
  },
  {
   "cell_type": "markdown",
   "metadata": {},
   "source": [
    "#### Answer: \n",
    "(type answer here)"
   ]
  },
  {
   "cell_type": "code",
   "execution_count": null,
   "metadata": {},
   "outputs": [],
   "source": []
  }
 ],
 "metadata": {
  "kernelspec": {
   "display_name": "Python 3",
   "language": "python",
   "name": "python3"
  },
  "language_info": {
   "codemirror_mode": {
    "name": "ipython",
    "version": 3
   },
   "file_extension": ".py",
   "mimetype": "text/x-python",
   "name": "python",
   "nbconvert_exporter": "python",
   "pygments_lexer": "ipython3",
   "version": "3.8.5"
  }
 },
 "nbformat": 4,
 "nbformat_minor": 4
}
