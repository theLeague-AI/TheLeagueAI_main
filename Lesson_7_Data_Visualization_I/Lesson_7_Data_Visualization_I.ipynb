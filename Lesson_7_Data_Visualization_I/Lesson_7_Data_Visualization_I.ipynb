{
 "cells": [
  {
   "cell_type": "markdown",
   "metadata": {},
   "source": [
    "# Lesson 7: Data Visualization Part I"
   ]
  },
  {
   "cell_type": "markdown",
   "metadata": {},
   "source": [
    "Data visualization is made easy in Python with the use of several libraries. Some of the most common libraries used in Python for data visualization are **Matplotlib, Seaborn and Plotly.** Certain libraries may be better than others depending on the use case. \n",
    "\n",
    "For the purpose of this lesson we will follow a couple of examples from these libraries. We will also learn what distinguishes each library from the others."
   ]
  },
  {
   "cell_type": "markdown",
   "metadata": {},
   "source": [
    "## Matplotlib\n",
    "\n",
    "- This library is perhaps the most common Python library for visualizating data. \n",
    "- The advantage of Matplotlib is that it is easy to see the property of the data with the help of Numpy and Pandas. \n",
    "- For example, if you are interested in seeing the distribution of certain elements within your dataset then using this library may be ideal.\n",
    "\n",
    "- It is important to note that this library is mainly used for basic plotting such as bars, pie charts, lines, scatterplots and so on. \n",
    "- If you are looking for more complex visualizations then more code will be required when using this library.\n",
    "\n",
    "- In the following examples we will use this library to visualize the Titanic dataset.\n"
   ]
  },
  {
   "cell_type": "code",
   "execution_count": null,
   "metadata": {},
   "outputs": [],
   "source": [
    "# You may have to install the following packages in order to complete review this lesson and complete the labs\n",
    "## Remove the # from the 'conda install' lines to install the seabborn and plotly packages\n",
    "\n",
    "#conda install seaborn"
   ]
  },
  {
   "cell_type": "code",
   "execution_count": null,
   "metadata": {},
   "outputs": [],
   "source": [
    "#conda install plotly"
   ]
  },
  {
   "cell_type": "code",
   "execution_count": null,
   "metadata": {},
   "outputs": [],
   "source": [
    "#Importing libraries\n",
    "import pandas as pd\n",
    "import numpy as np\n",
    "import matplotlib.pyplot as plt\n",
    "import seaborn as sns\n",
    "import plotly.express as px"
   ]
  },
  {
   "cell_type": "markdown",
   "metadata": {},
   "source": [
    "Now let's begin visualizing data using the Titanic dataset."
   ]
  },
  {
   "cell_type": "markdown",
   "metadata": {},
   "source": [
    "Let's review the column values once more as a reminder of the data we are using:\n",
    "- **Survived**: Outcome of survival (0 = No; 1 = Yes)\n",
    "- **Pclass**: Socio-economic class (1 = Upper class; 2 = Middle class; 3 = Lower class)\n",
    "- **Name**: Name of passenger\n",
    "- **Sex**: Sex of the passenger\n",
    "- **Age**: Age of the passenger (Some entries contain `?`)\n",
    "- **SibSp**: Number of siblings and spouses of the passenger aboard\n",
    "- **Parch**: Number of parents and children of the passenger aboard\n",
    "- **Ticket**: Ticket number of the passenger\n",
    "- **Fare**: Fare paid by the passenger\n",
    "- **Cabin** Cabin number of the passenger (Some entries contain `?`)\n",
    "- **Embarked**: Port of embarkation of the passenger (C = Cherbourg; Q = Queenstown; S = Southampton)"
   ]
  },
  {
   "cell_type": "code",
   "execution_count": null,
   "metadata": {},
   "outputs": [],
   "source": [
    "#loading Titanic dataset\n",
    "data = pd.read_csv('titanic_train.csv')\n",
    "\n",
    "#Let's view the first 7 rows\n",
    "data.head(7)"
   ]
  },
  {
   "cell_type": "markdown",
   "metadata": {},
   "source": [
    "#### Visualizing Categorical Variables\n",
    "\n",
    "Now let's look at the distribution of the gender categories.\n",
    "\n",
    "To accomplish this we will first take in the \"sex\" column, apply the value_counts() pandas function, and finally plot by inputting \"bar\" graph type. "
   ]
  },
  {
   "cell_type": "code",
   "execution_count": null,
   "metadata": {},
   "outputs": [],
   "source": [
    "#Let's look at the distribution of the gender categories\n",
    "\n",
    "#First, let's look at the value counts for the sex column\n",
    "print(data['Sex'].value_counts())\n",
    "\n",
    "#Now, let's look at the data in a bar plot\n",
    "ax = data[\"Sex\"].value_counts().plot(kind='bar')\n",
    "plt.show()"
   ]
  },
  {
   "cell_type": "markdown",
   "metadata": {},
   "source": [
    "#### Color Customization\n",
    "- In the example above we see the bars are colored blue, but what if we want to modify the color?\n",
    "\n",
    "- With any library, we are given options to further customize our visualization. For example, if we want to modify the colors, we can do so by adding color=[ ] to the function. \n",
    "\n",
    "- For a list of colors, you can visit the following website: https://matplotlib.org/3.1.0/gallery/color/named_colors.html\n",
    "\n",
    "\n",
    "#### Axis Label Customization\n",
    "- We can also modify the tick labels. The example below shows you how to do that. \n",
    "\n",
    "- For a complete list of parameters please visit this website: https://matplotlib.org/3.3.3/api/_as_gen/matplotlib.pyplot.plot.html"
   ]
  },
  {
   "cell_type": "code",
   "execution_count": null,
   "metadata": {},
   "outputs": [],
   "source": [
    "#Using base color \"c\" for teal and \"m\" for dark pink color\n",
    "ax = data[\"Sex\"].value_counts().plot(kind='bar', color=['c', 'm'])\n",
    "\n",
    "#These two lines of code are used to modify the x and y axis labels, respectively\n",
    "ax.set_xticklabels([\"Male\", \"Female\"])\n",
    "ax.set(ylabel='Number of Passengers')\n",
    "\n",
    "plt.show()"
   ]
  },
  {
   "cell_type": "markdown",
   "metadata": {},
   "source": [
    "#### Visualizing Numerical Variables"
   ]
  },
  {
   "cell_type": "markdown",
   "metadata": {},
   "source": [
    "- We can use a histogram to visualize the distribution of a quantitative variable. \n",
    "- What histograms allow us to do is identify the total number of times a specific variable is shown within the data set. \n",
    "\n",
    "- In this example we will visualize histograms of our numerical data to show the count of each item.\n",
    "\n",
    "#### Histogram Customization\n",
    "- The histogram function allows the following parameters: \n",
    "    - x : This parameter is the sequence of data.\n",
    "    - bins : This parameter is optional and it can be an integer or sequence or string. When this value is an integer, it defines the number of equal-width bins in the range\n",
    "    - histtype : This parameter is an optional and it is used to draw type of histogram. {‘bar’, ‘barstacked’, ‘step’, ‘stepfilled’}\n",
    "    - color : This parameter is an optional it is a color spec or sequence of color specs, one per dataset.\n",
    "    - For a list of the complete set of parameters please visit https://matplotlib.org/stable/api/_as_gen/matplotlib.pyplot.hist.html"
   ]
  },
  {
   "cell_type": "code",
   "execution_count": null,
   "metadata": {},
   "outputs": [],
   "source": [
    "#We will use the .hist function to plot the histograms of our numerical data using the data DataFrame\n",
    "histograms = data.hist(bins=10, figsize=(12,12), grid=False, \n",
    "        color='teal', edgecolor='black')\n"
   ]
  },
  {
   "cell_type": "code",
   "execution_count": null,
   "metadata": {},
   "outputs": [],
   "source": [
    "# EXERCISE 1\n",
    "\n",
    "# Plot another set of histograms using the code from the previous example with the following changes:\n",
    "## Change the bin size to 15 and \n",
    "## Change bar color to red\n",
    "## Change the orientation of the bars to horizontal (see link above)\n"
   ]
  },
  {
   "cell_type": "markdown",
   "metadata": {},
   "source": [
    "## Seaborn\n",
    "\n",
    "- This library is also built upon Numpy and Pandas, as well as Matplotlib. \n",
    "- Seaborn tends to be easier to use requiring less code while providing similar plots as Matplotlib. \n",
    "- However the disadvantage is that it can be more constrained with less options to customize (but with nicer design).\n",
    "\n",
    "\n",
    "- The example below will show a plot similar to our first example in line 2 for comparison."
   ]
  },
  {
   "cell_type": "code",
   "execution_count": null,
   "metadata": {},
   "outputs": [],
   "source": [
    "#Creating a bar graph similarly to the one we plotted in line 2\n",
    "sns.set(style=\"darkgrid\")\n",
    "ax = sns.countplot(x=data[\"Sex\"], data=data)"
   ]
  },
  {
   "cell_type": "markdown",
   "metadata": {},
   "source": [
    "- What is the difference between this plot made using Seaborn vs. the plot on line 2 made using MatplotLib?\n",
    "\n",
    "\n",
    "    - Did not specify labels on x-axis and y-axis but they were added by default using Seaborn.\n",
    "   \n",
    "    - Seaborn plot contains a light gray grid with horizontal lines whereas Matplotlib does not contain a background.\n",
    "    \n",
    " - Similar to Matplotlib, you can also further customize this plot by adjusting the parameters. \n",
    " - For a complete list of parameters please visit this website:  https://seaborn.pydata.org/generated/seaborn.countplot.html"
   ]
  },
  {
   "cell_type": "code",
   "execution_count": null,
   "metadata": {},
   "outputs": [],
   "source": [
    "#Let's use a different color palette in the example above\n",
    "sns.set(style=\"darkgrid\")\n",
    "ax = sns.countplot(y=data[\"Sex\"], data=data, palette=\"husl\")"
   ]
  },
  {
   "cell_type": "code",
   "execution_count": null,
   "metadata": {},
   "outputs": [],
   "source": [
    "# In addition to the information above, we can break down the bar plot even more by defining more parameters (hue)\n",
    "#sns.set(style=\"darkgrid\")\n",
    "ax = sns.countplot(y=data[\"Sex\"], hue=\"Survived\", data=data, palette=\"husl\" )"
   ]
  },
  {
   "cell_type": "markdown",
   "metadata": {},
   "source": [
    "#### Visualizing Categorical Features\n",
    "\n",
    "- Besides bar graphs (as shown previously), we can visualize categorical features using heat maps. \n",
    "- Categorical data can be nominal/qualitative or ordinal.\n",
    "    - Nominal/qualitative - no order (such as country, age, gender, etc.)\n",
    "    - Ordinal - does contain order (such as hot/warm/cold, or good/better/best)\n",
    "    \n",
    "\n",
    "- In the following example we will visualize passenger class, or \"Pclass\" (ordinal feature) vs. \"Survived\""
   ]
  },
  {
   "cell_type": "code",
   "execution_count": null,
   "metadata": {},
   "outputs": [],
   "source": [
    "#First we must group the dataset by Pclass and Survived to gather the total count\n",
    "group = data.groupby(['Pclass', 'Survived'])\n",
    "pclass_survived = group.size().unstack()\n",
    "\n",
    "pclass_survived"
   ]
  },
  {
   "cell_type": "code",
   "execution_count": null,
   "metadata": {},
   "outputs": [],
   "source": [
    "#Visualizing using heatmap function from the seaborn library\n",
    "heatmap = sns.heatmap(pclass_survived, annot = True, fmt='d')\n",
    "heatmap"
   ]
  },
  {
   "cell_type": "markdown",
   "metadata": {},
   "source": [
    "- In the example above we used the heatmap function to show the number of passengers by Pclass and whether or not they survived.\n",
    "\n",
    "- In this case, the lower the value the darker the shade. \n",
    "\n",
    "\n",
    "- Next we will look at the distribution of ages.\n",
    "\n",
    "- For the distribution we will use a bivariate distribution using kernel density estimation.\n",
    "\n",
    "- A kernel density estimate (KDE) plot is a method for visualizing the distribution of observations in a dataset, similar to a histogram. KDE represents the data using a continuous probability density curve in one or more dimensions. "
   ]
  },
  {
   "cell_type": "code",
   "execution_count": null,
   "metadata": {},
   "outputs": [],
   "source": [
    "#Using FacetGrid \n",
    "fg = sns.FacetGrid(data, hue=\"Sex\", aspect=3, palette='husl')\n",
    "fg.map(sns.kdeplot, \"Age\", shade=True)\n",
    "fg.add_legend()\n",
    "fg.set(xlim=(0, 80));"
   ]
  },
  {
   "cell_type": "markdown",
   "metadata": {},
   "source": [
    "## Plotly\n",
    "\n",
    "- This library is ideal for interactive graphs making it easier for users to disect data points. \n",
    "- It can also create similar charts as Matplotlib and Seaborn such as line plots, scatter plots, area charts, bar charts, etc. \n",
    "\n",
    "- Plotly Express is one of the easiest functions to use requiring less code to execute."
   ]
  },
  {
   "cell_type": "code",
   "execution_count": null,
   "metadata": {},
   "outputs": [],
   "source": [
    "#Creating a scatterplot of Age, Fare, Pclass, Survived\n",
    "fig = px.scatter(data[:100],\n",
    "          x='Fare',\n",
    "          y='Age',\n",
    "          color='SibSp',\n",
    "          size='Pclass')\n",
    "fig.show()"
   ]
  },
  {
   "cell_type": "markdown",
   "metadata": {},
   "source": [
    "In the example above we can see that by hovering over a data point we can learn more information about that specific data point.\n",
    "\n",
    "Now let's look at a distrubution plot showing the age range by survival. "
   ]
  },
  {
   "cell_type": "code",
   "execution_count": null,
   "metadata": {},
   "outputs": [],
   "source": [
    "# Creating a histogram of age by survival\n",
    "hist = px.histogram(data,x = \"Age\", opacity = 0.7, color = \"Survived\")\n",
    "hist"
   ]
  },
  {
   "cell_type": "code",
   "execution_count": null,
   "metadata": {},
   "outputs": [],
   "source": [
    "#Create a boxplot to find the max, min, median, and quartiles of fare by gender\n",
    "boxplot = px.box(data, x=\"Sex\", y=\"Fare\")\n",
    "boxplot.show()"
   ]
  },
  {
   "cell_type": "markdown",
   "metadata": {},
   "source": [
    "# LAB\n",
    "\n",
    "Given the Titanic dataset, please answer the following questions using the specified library. "
   ]
  },
  {
   "cell_type": "markdown",
   "metadata": {},
   "source": [
    "#### Matplotlib\n",
    "Questions: \n",
    "- How many female passengers were in class 1, class 2, and class 3? \n",
    "- How many male passengers were in class 1, class 2, and class 3? "
   ]
  },
  {
   "cell_type": "code",
   "execution_count": null,
   "metadata": {},
   "outputs": [],
   "source": [
    "# EXERCISE 2\n",
    "\n",
    "# You can answer this through a line trend\n",
    "\n",
    "#Load the necessary data\n",
    "\n",
    "\n",
    "#Create plot and customize as needed\n",
    "\n",
    "\n",
    "#Show plot"
   ]
  },
  {
   "cell_type": "markdown",
   "metadata": {},
   "source": [
    "#### Seaborn\n",
    "\n",
    "Questions:\n",
    "\n",
    "- How does passenger count vary as age increases?\n",
    "- How does it vary by those who survived vs those who did not?\n",
    "\n",
    "Note: You can answer these questions through one or two graphs. "
   ]
  },
  {
   "cell_type": "code",
   "execution_count": null,
   "metadata": {},
   "outputs": [],
   "source": [
    "# EXERCISE 3\n",
    "\n",
    "# You can answer this through a line trend\n",
    "\n",
    "#Load the necessary data\n",
    "\n",
    "\n",
    "\n",
    "\n",
    "#Create plot and customize as needed\n",
    "\n",
    "\n",
    "\n",
    "#Show plot\n"
   ]
  },
  {
   "cell_type": "markdown",
   "metadata": {},
   "source": [
    "#### Plotly\n",
    "\n",
    "Question: \n",
    "- Does fare increase or decrease for each passenger class? \n"
   ]
  },
  {
   "cell_type": "code",
   "execution_count": null,
   "metadata": {},
   "outputs": [],
   "source": [
    "# EXERCISE 4\n",
    "\n",
    "# Load the necessary data\n",
    "\n",
    "\n",
    "\n",
    "# Create plot and customize as needed\n",
    "\n",
    "\n",
    "\n",
    "# Show plot"
   ]
  }
 ],
 "metadata": {
  "kernelspec": {
   "display_name": "Python 3",
   "language": "python",
   "name": "python3"
  },
  "language_info": {
   "codemirror_mode": {
    "name": "ipython",
    "version": 3
   },
   "file_extension": ".py",
   "mimetype": "text/x-python",
   "name": "python",
   "nbconvert_exporter": "python",
   "pygments_lexer": "ipython3",
   "version": "3.8.5"
  }
 },
 "nbformat": 4,
 "nbformat_minor": 2
}
