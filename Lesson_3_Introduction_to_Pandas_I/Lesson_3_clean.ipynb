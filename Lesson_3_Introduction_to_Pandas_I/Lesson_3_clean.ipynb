{
 "cells": [
  {
   "cell_type": "markdown",
   "metadata": {},
   "source": [
    "# Introduction to Pandas I\n",
    "Welcome to the Pandas I. In this lesson we will be covering: \n",
    "- **Creating, reading and writing DataFrames**\n",
    "- **Indexing in Pandas**\n",
    "- **Mapping and Summarizing with Pandas**\n",
    "\n",
    "The lab for Lesson 3 will consist of the nine exercises that you will find throughtout the notebook. \n",
    "\n",
    "For this exercise we wil be using the Titanic Survival Dataset from Kaggle. We will perform various tranformations, edits and exploration. \n",
    "\n",
    "These are the various features present for each passenger on the ship:\n",
    "- **Survived**: Outcome of survival (0 = No; 1 = Yes)\n",
    "- **Pclass**: Socio-economic class (1 = Upper class; 2 = Middle class; 3 = Lower class)\n",
    "- **Name**: Name of passenger\n",
    "- **Sex**: Sex of the passenger\n",
    "- **Age**: Age of the passenger (Some entries contain `?`)\n",
    "- **SibSp**: Number of siblings and spouses of the passenger aboard\n",
    "- **Parch**: Number of parents and children of the passenger aboard\n",
    "- **Ticket**: Ticket number of the passenger\n",
    "- **Fare**: Fare paid by the passenger\n",
    "- **Cabin** Cabin number of the passenger (Some entries contain `?`)\n",
    "- **Embarked**: Port of embarkation of the passenger (C = Cherbourg; Q = Queenstown; S = Southampton)\n",
    "- **Home.Dest**: Home / Destination\n",
    "\n",
    "Let's start with importing some of the libraries we will be using."
   ]
  },
  {
   "cell_type": "code",
   "execution_count": null,
   "metadata": {},
   "outputs": [],
   "source": [
    "import pandas as pd\n",
    "import numpy as np\n",
    "import matplotlib as plt"
   ]
  },
  {
   "cell_type": "markdown",
   "metadata": {},
   "source": [
    "### Why Pandas?\n",
    "Pandas is the go-to python library to use for any data scientist or machine learning engineer. It allows for easy data access, easy data manipulation, and it's free! Let's start off by reading the titanic survival dataset. "
   ]
  },
  {
   "cell_type": "markdown",
   "metadata": {},
   "source": [
    "## Creating and Reading Data"
   ]
  },
  {
   "cell_type": "markdown",
   "metadata": {},
   "source": [
    "### Reading in Data"
   ]
  },
  {
   "cell_type": "code",
   "execution_count": null,
   "metadata": {},
   "outputs": [],
   "source": [
    "# Read in the titanic survival dataset \n",
    "titanic_data = pd.read_csv('titanic_data.csv')\n",
    "titanic_data"
   ]
  },
  {
   "cell_type": "markdown",
   "metadata": {},
   "source": [
    "Pandas has various options to read data. If you are curious, you can read about them here: [Pandas Input/Output](https://pandas.pydata.org/pandas-docs/stable/reference/io.html). For the majority of the exercises, we will be using `read_csv`. If you would like to see all the options for read_csv, [here is the documentation](https://pandas.pydata.org/pandas-docs/stable/reference/api/pandas.read_csv.html#pandas.read_csv). \n",
    "A CSV file is a table of values seperated by commas (CSV =  Comma Seperated Values). The file looks like:\n",
    "\n",
    "data1,data2,data3,...,datan\n",
    "\n",
    "The data is read into a DataFrame. A DataFrame, as you can see from above, is a table. Every entry corresponds to a row and column."
   ]
  },
  {
   "cell_type": "markdown",
   "metadata": {},
   "source": [
    "### Pandas Series \n",
    "A Series is a sequence of data. A dataframe is a table and a series is a list. What's the difference between a Series and a DataFrame? A Dataframe is a table and a Series would be just a single column of data. DataFrames have column names and Series do not. "
   ]
  },
  {
   "cell_type": "code",
   "execution_count": null,
   "metadata": {},
   "outputs": [],
   "source": [
    "# Lets take a look at A Series within the titanic survival dataset. \n",
    "titanic_series_data = titanic_data['survived']\n",
    "titanic_series_data"
   ]
  },
  {
   "cell_type": "code",
   "execution_count": null,
   "metadata": {},
   "outputs": [],
   "source": [
    "# EXERCISE 1\n",
    "# choose a column and create your own series below"
   ]
  },
  {
   "cell_type": "markdown",
   "metadata": {},
   "source": [
    "### Creating Data Using Pandas\n",
    "If you wanted to create your own dataset using pandas you can use the DataFrame method. The DataFrame method can take in data in various formats and creates a dataframe object that can be used to store data. In the example below we are creating a new DataFrame. Note the syntax required to define a header (Survivor_#) versus the data (Name). "
   ]
  },
  {
   "cell_type": "code",
   "execution_count": null,
   "metadata": {},
   "outputs": [],
   "source": [
    "my_data_frame = pd.DataFrame({\"Survivor_1\":[\"Nelson\"],\"Survivor_2\":[\"Monica\"],\"Survivor_3\":[\"Marlon\"]})\n",
    "my_data_frame"
   ]
  },
  {
   "cell_type": "code",
   "execution_count": null,
   "metadata": {},
   "outputs": [],
   "source": [
    "# Think: how would you add a second row to the data above?"
   ]
  },
  {
   "cell_type": "code",
   "execution_count": null,
   "metadata": {},
   "outputs": [],
   "source": [
    "# EXERCISE 2\n",
    "# Create your own DataFrame. Name your DataFrame your_name_df, and assign column values with your first and last name\n",
    "# and the values will be the length of your first and last name\n"
   ]
  },
  {
   "cell_type": "markdown",
   "metadata": {},
   "source": [
    "## Selecting, Indexing and Assigning\n",
    "Selecting, indexing, and assigning data will be your bread and butter of data analysis. These tools will allow you to select aspects of your data quickly and efficiently to analyze. "
   ]
  },
  {
   "cell_type": "markdown",
   "metadata": {},
   "source": [
    "### Native Accessing \n",
    "Let's start by selecting a column of data. There are two ways to do this, either by accessing the column using the dot operator or by referencing the column explicitly."
   ]
  },
  {
   "cell_type": "code",
   "execution_count": null,
   "metadata": {},
   "outputs": [],
   "source": [
    "# Selecting one column data using the dot operator\n",
    "titanic_data.ticket"
   ]
  },
  {
   "cell_type": "code",
   "execution_count": null,
   "metadata": {},
   "outputs": [],
   "source": [
    "# Selecting one column by referencing the column explicitly\n",
    "titanic_data['ticket']"
   ]
  },
  {
   "cell_type": "markdown",
   "metadata": {},
   "source": [
    "There is no real advantage of which to use. They both perform the same function, but when the column is referenced explicitly, you can use column names with special characters such as: \"Test Data\", \"First.Last\"."
   ]
  },
  {
   "cell_type": "code",
   "execution_count": null,
   "metadata": {},
   "outputs": [],
   "source": [
    "# EXERCISE 3\n",
    "# Select the home.dest column fromt the titanic survival dataset and print it to the screen. \n"
   ]
  },
  {
   "cell_type": "markdown",
   "metadata": {},
   "source": [
    "### Indexing in Pandas"
   ]
  },
  {
   "cell_type": "markdown",
   "metadata": {},
   "source": [
    "Now let's take a look at the first value of a column. Let's reference the column explicitly using square brackets:"
   ]
  },
  {
   "cell_type": "code",
   "execution_count": null,
   "metadata": {},
   "outputs": [],
   "source": [
    "titanic_data['ticket'][1]"
   ]
  },
  {
   "cell_type": "markdown",
   "metadata": {},
   "source": [
    "We were able to access the second row *(zero-based indexing)* of data from the ticket column by referencing the column explicity and by using square brackets. Now the method that is typically used in industry, and is the recommended way of accessing data, is iloc. \n",
    "\n",
    "Lets use iloc below and access the same data as we did above"
   ]
  },
  {
   "cell_type": "code",
   "execution_count": null,
   "metadata": {},
   "outputs": [],
   "source": [
    "# Using iloc by natively acessing a dataframe column. \n",
    "titanic_data['ticket'].iloc[1]"
   ]
  },
  {
   "cell_type": "markdown",
   "metadata": {},
   "source": [
    "We used `iloc` above to access the second value, `iloc[1]`, from the column ticket."
   ]
  },
  {
   "cell_type": "markdown",
   "metadata": {},
   "source": [
    "`iloc` accesses data by using row-first, column-second.\n",
    "\n",
    "- iloc[row,column]\n",
    "\n",
    "If we wanted to perform the operation above without natively accessing the column, we can use `iloc` in the following way "
   ]
  },
  {
   "cell_type": "code",
   "execution_count": null,
   "metadata": {},
   "outputs": [],
   "source": [
    "# Using iloc to access the first row, from the seventh column\n",
    "titanic_data.iloc[1,7]"
   ]
  },
  {
   "cell_type": "markdown",
   "metadata": {},
   "source": [
    "Now let's show more ways we can use `iloc`. "
   ]
  },
  {
   "cell_type": "code",
   "execution_count": null,
   "metadata": {},
   "outputs": [],
   "source": [
    "# Using iloc lets access all the rows in the first column\n",
    "titanic_data.iloc[:,0]"
   ]
  },
  {
   "cell_type": "code",
   "execution_count": null,
   "metadata": {},
   "outputs": [],
   "source": [
    "# Using iloc to access the first three rows, from the first column\n",
    "titanic_data.iloc[:3,0]"
   ]
  },
  {
   "cell_type": "code",
   "execution_count": null,
   "metadata": {},
   "outputs": [],
   "source": [
    "# Using iloc to access the last 5 rows from the first column\n",
    "titanic_data.iloc[-5:,0]"
   ]
  },
  {
   "cell_type": "markdown",
   "metadata": {},
   "source": [
    "`iloc` is not the only method that can be used to access data. The `loc` method can also be used similarly, but there is a difference between the two. `loc` is used to access data using label-based selection. So when we use `loc` we will include a label to use as shown below."
   ]
  },
  {
   "cell_type": "code",
   "execution_count": null,
   "metadata": {},
   "outputs": [],
   "source": [
    "#Using loc to access the first three rows from the age column\n",
    "titanic_data.loc[0:2,'age']"
   ]
  },
  {
   "cell_type": "code",
   "execution_count": null,
   "metadata": {},
   "outputs": [],
   "source": [
    "# EXERCISE 4\n",
    "# Describe the difference between iloc and loc, using your own words\n",
    "\n",
    "#Answer here"
   ]
  },
  {
   "cell_type": "markdown",
   "metadata": {},
   "source": [
    "Now let's give it a try on our own. Perform the following operations using iloc:"
   ]
  },
  {
   "cell_type": "code",
   "execution_count": null,
   "metadata": {},
   "outputs": [],
   "source": [
    "# EXERCISE 5\n",
    "# Access the 100th row from the cabin column\n",
    "cabin_value = \n",
    "print(\"The cabin value of the 100th row is {}\".format(cabin_value))\n",
    "\n",
    "\n",
    "# Access rows 300-310 from the ticket column \n",
    "ticket_values = \n",
    "print(\"Tickets values from indicies 300-310 are: {}\".format(ticket_values))\n",
    "\n",
    "\n",
    "# Access the the second row, and the last 5 columns from the Titanic Data set \n",
    "five_columns_value = \n",
    "print(\"The last five columns contain the following values in the first row: {}\".format(five_columns_value))"
   ]
  },
  {
   "cell_type": "markdown",
   "metadata": {},
   "source": [
    "### Manipulating the Index\n",
    "If you have not noticed yet, everytime we print a pandas DataFrame to the screen, there is a column at the beginning that starts at 0. This column is the index column and it is what Pandas uses as a refrence point for every DataFrame. Let's take a look at how to access the index column.  "
   ]
  },
  {
   "cell_type": "code",
   "execution_count": null,
   "metadata": {},
   "outputs": [],
   "source": [
    "titanic_data.index"
   ]
  },
  {
   "cell_type": "markdown",
   "metadata": {},
   "source": [
    "The information above details that the index starts at 0, increments by 1 and stops at 1309."
   ]
  },
  {
   "cell_type": "markdown",
   "metadata": {},
   "source": [
    "The index will not always be in order, or use numbers as increments. You can use label values as index, for which you can later use to help you make graphs, or use `loc` to access specific data. Below we will change the index to sex, and show you how you can change the index value in a Pandas DataFrame"
   ]
  },
  {
   "cell_type": "code",
   "execution_count": null,
   "metadata": {},
   "outputs": [],
   "source": [
    "#changing the index\n",
    "titanic_data_new_index = titanic_data.set_index(\"sex\")\n",
    "titanic_data_new_index"
   ]
  },
  {
   "cell_type": "markdown",
   "metadata": {},
   "source": [
    "### Assigning data\n",
    "To assign new data to an already existing DataFrame is very simple. Let's add our own column to the titanic dataset:"
   ]
  },
  {
   "cell_type": "code",
   "execution_count": null,
   "metadata": {},
   "outputs": [],
   "source": [
    "# Add a new column named Ship_Name and populate it with the value Titanic\n",
    "titanic_data['Ship_Name'] = \"Titanic\"\n",
    "titanic_data"
   ]
  },
  {
   "cell_type": "markdown",
   "metadata": {},
   "source": [
    "As you can see we created the column \"Ship_Name\" and assigned it a string value of \"Titanic\"."
   ]
  },
  {
   "cell_type": "markdown",
   "metadata": {},
   "source": [
    "We can now combine some of what we have learned to create two new columns from the data we have. Using the name column, let's seperate the values into first and last name. The code below may seem new or a bit complicated, but don't worry, we will discuss what we are doing in the class.  \n",
    "Run the cell below to create the new columns."
   ]
  },
  {
   "cell_type": "code",
   "execution_count": null,
   "metadata": {},
   "outputs": [],
   "source": [
    "# Create the last name column\n",
    "titanic_data_last_name = titanic_data\n",
    "titanic_data_last_name['last_name'] = titanic_data['name'].str.split().str[0].replace(',','',regex=True)\n",
    "titanic_data_last_name"
   ]
  },
  {
   "cell_type": "code",
   "execution_count": null,
   "metadata": {},
   "outputs": [],
   "source": [
    "# Note that the split() method turns a string into a list, then you choose which value from the list you want to use. "
   ]
  },
  {
   "cell_type": "code",
   "execution_count": null,
   "metadata": {},
   "outputs": [],
   "source": [
    "# Create the first name column\n",
    "titanic_data_name = titanic_data_last_name\n",
    "titanic_data_name['first_name'] = titanic_data['name'].str.split().str[2].replace(',','',regex=True)\n",
    "titanic_data_name"
   ]
  },
  {
   "cell_type": "markdown",
   "metadata": {},
   "source": [
    "As you can see, we now have two new columns! first name and last_name. Let's try creating some columns of your own."
   ]
  },
  {
   "cell_type": "code",
   "execution_count": null,
   "metadata": {},
   "outputs": [],
   "source": [
    "# EXERCISE 6 \n",
    "# Create a new column called Deck_Location, and assign the value \"Upper\" to the the first half of the dataset, \n",
    "# and Lower to the second half of the dataset. Print the dataset once you are done.\n"
   ]
  },
  {
   "cell_type": "markdown",
   "metadata": {},
   "source": [
    "### Conditional Selection\n",
    "Now we have been using `iloc` to select rows and columns from a dataset. But what if you wanted to find values that matched a certain condition?  \n",
    "This is where we can use conditional selection. In the following cells we will find values that meet conditions from our titanic dataset."
   ]
  },
  {
   "cell_type": "code",
   "execution_count": null,
   "metadata": {},
   "outputs": [],
   "source": [
    "# Using conditional selection, let's find all the female passengers \n",
    "titanic_data.sex == 'female'\n",
    "\n",
    "# Here, we're using the dot operator to access the 'sex' column and setting it equal to 'female'. \n",
    "# This will return True if the passenseg is a female and False if the passenger is a male"
   ]
  },
  {
   "cell_type": "markdown",
   "metadata": {},
   "source": [
    "The output above gives us the index values of where our condition was either True or False. But what if we wanted to see all the date for female passengers instead the conditonal values? We can use `loc` to do this."
   ]
  },
  {
   "cell_type": "code",
   "execution_count": null,
   "metadata": {},
   "outputs": [],
   "source": [
    "# Show the data for female passengers only\n",
    "titanic_data.loc[titanic_data.sex == 'female']"
   ]
  },
  {
   "cell_type": "markdown",
   "metadata": {},
   "source": [
    "We now have the data for all the female passengers using conditional selection.  \n",
    "Let's try a few more:"
   ]
  },
  {
   "cell_type": "code",
   "execution_count": null,
   "metadata": {},
   "outputs": [],
   "source": [
    "# Access the data where for the female passengers that survived\n",
    "titanic_data.loc[(titanic_data.sex == 'female') & (titanic_data.survived == 1)]\n",
    "\n",
    "# Note that the notation above uses '&' instead of 'and'\n",
    "# Using and (logical operator) asks python to check if the entire sex column is equal to 'female'\n",
    "# & (bitwise operator) allows python to check individual values within the column"
   ]
  },
  {
   "cell_type": "code",
   "execution_count": null,
   "metadata": {},
   "outputs": [],
   "source": [
    "# Access the data where the passenger last name is either Allen or Allison \n",
    "titanic_data.loc[titanic_data.last_name.isin(['Allen','Allison'])]\n",
    "\n",
    "# the 'isin()' method allows you to filter the dataset by selecting rows with a particular value(s)"
   ]
  },
  {
   "cell_type": "markdown",
   "metadata": {},
   "source": [
    "Let's try conditional selection on our own. "
   ]
  },
  {
   "cell_type": "code",
   "execution_count": null,
   "metadata": {},
   "outputs": [],
   "source": [
    "# EXERCISE 7\n",
    "\n",
    "# Access the values where the passenger survived and their first name was Elisabeth"
   ]
  },
  {
   "cell_type": "code",
   "execution_count": null,
   "metadata": {},
   "outputs": [],
   "source": [
    "# Access the values where the fare value equals \"2665\" and the passenger survived "
   ]
  },
  {
   "cell_type": "code",
   "execution_count": null,
   "metadata": {},
   "outputs": [],
   "source": [
    "# Access the values where the fare values equals \"113781\" and the passenger survived"
   ]
  },
  {
   "cell_type": "markdown",
   "metadata": {},
   "source": [
    "## Summary and Mapping"
   ]
  },
  {
   "cell_type": "markdown",
   "metadata": {},
   "source": [
    "### Summary Functions \n",
    "Summary functions are used to quickly summarize your data. They are very handy tools when you are working with a new dataset and we will explore in a later lesson why that is important. \n",
    "\n",
    "Let's start by using using the `describe()` method. "
   ]
  },
  {
   "cell_type": "code",
   "execution_count": null,
   "metadata": {},
   "outputs": [],
   "source": [
    "# Use the describe method to quickly summarize the titanic survival dataset\n",
    "titanic_data.describe()"
   ]
  },
  {
   "cell_type": "markdown",
   "metadata": {},
   "source": [
    "The result of the `describe()` method are 8 values: \n",
    "- **count:** \n",
    "  count number of non-NA/null observations.\n",
    "- **mean:**\n",
    "  mean of the values.\n",
    "- **std:**\n",
    "  standard deviation of the observations.\n",
    "- **min:**\n",
    "  minimum of the values in the object.\n",
    "- **max:**\n",
    "  maximum of the values in the object.\n",
    "- **25%-75%:**\n",
    "  these values represent quartiles. We will go over what these mean in another lesson\n"
   ]
  },
  {
   "cell_type": "markdown",
   "metadata": {},
   "source": [
    "If you want to only calculate one value, you can use the following:"
   ]
  },
  {
   "cell_type": "code",
   "execution_count": null,
   "metadata": {},
   "outputs": [],
   "source": [
    "# individual columns stats \n",
    "titanic_data.survived.mean()"
   ]
  },
  {
   "cell_type": "code",
   "execution_count": null,
   "metadata": {},
   "outputs": [],
   "source": [
    "# EXERCISE 8\n",
    "\n",
    "# Calculate the count of the survived column\n"
   ]
  },
  {
   "cell_type": "markdown",
   "metadata": {},
   "source": [
    "#### The `unique()` and `value_counts()` methods \n",
    "\n",
    "The following methods allow you to quickly summarize a column:\n",
    "\n",
    "- **unique:** This method will display all the unique values of your column. \n",
    "- **value_counts:** This method will display all the unique values and their counts. "
   ]
  },
  {
   "cell_type": "code",
   "execution_count": null,
   "metadata": {},
   "outputs": [],
   "source": [
    "# Unique names\n",
    "titanic_data.sex.unique()"
   ]
  },
  {
   "cell_type": "code",
   "execution_count": null,
   "metadata": {},
   "outputs": [],
   "source": [
    "#value counts \n",
    "titanic_data.sex.value_counts()"
   ]
  },
  {
   "cell_type": "code",
   "execution_count": null,
   "metadata": {},
   "outputs": [],
   "source": [
    "# EXERCISE 9\n",
    "\n",
    "# Use the value_counts() method on the AGE column and print the results. \n"
   ]
  },
  {
   "cell_type": "markdown",
   "metadata": {},
   "source": [
    "### Mapping Functions\n",
    "`map()` is a method that is very useful within Data Science and AI to alter or create new dipictions of data. The method takes a function and then maps that function to a set of values. This method can only be used with Series data and not a pandas dataframe.\n",
    "\n",
    "Let's use both `map()` and `lambda` to normalize age values in the titanic dataset. \n",
    "\n",
    "To normilie the data, we will be \"scaling\" the values to be between 0 and 1 using the following formula:\n",
    "\n",
    "$z_{nor}$ = (x - $x_{min}$) / ($x_{max}$ - $x_{min}$)"
   ]
  },
  {
   "cell_type": "code",
   "execution_count": null,
   "metadata": {},
   "outputs": [],
   "source": [
    "# First, we will use the code below to convert the age column to numeric values and get rid of the '?' in the data\n",
    "titanic_data['age'] = pd.to_numeric(titanic_data['age'],errors='coerce')\n",
    "\n",
    "# Find the max and min from the age column\n",
    "max_age = titanic_data.age.max()\n",
    "min_age = titanic_data.age.min()\n",
    "\n",
    "# Use the Mapping Function\n",
    "titanic_data.age.map(lambda p: (p - min_age)/(max_age - min_age))"
   ]
  },
  {
   "cell_type": "markdown",
   "metadata": {},
   "source": [
    "Another useful method that we can use to alter data is the `apply()` method. This method is similar to the `map()` method, but it can be used with a pandas DataFrame.\n",
    "\n",
    "Let's create a method that will convert the embarked column from the town of embarkation to the country of embarkation. "
   ]
  },
  {
   "cell_type": "code",
   "execution_count": null,
   "metadata": {},
   "outputs": [],
   "source": [
    "def rename_embarked(row):\n",
    "    if row.embarked == 'S':\n",
    "        row.embarked = 'UK'\n",
    "    elif row.embarked == 'C':\n",
    "        row.embarked = 'FR'\n",
    "    elif row.embarked == 'Q':\n",
    "        row.embarked = 'IE'\n",
    "    return row\n",
    "    \n",
    "titanic_data = titanic_data.apply(rename_embarked,axis='columns')\n",
    "titanic_data"
   ]
  },
  {
   "cell_type": "code",
   "execution_count": null,
   "metadata": {},
   "outputs": [],
   "source": [
    "# EXERCISE 9\n",
    "\n",
    "# Replace the `?` value in the fare column with NAN and print the new fare column.\n",
    "# Create your own mapping function for the fare column and print the new DataFrame."
   ]
  },
  {
   "cell_type": "code",
   "execution_count": null,
   "metadata": {},
   "outputs": [],
   "source": []
  }
 ],
 "metadata": {
  "kernelspec": {
   "display_name": "Python 3",
   "language": "python",
   "name": "python3"
  },
  "language_info": {
   "codemirror_mode": {
    "name": "ipython",
    "version": 3
   },
   "file_extension": ".py",
   "mimetype": "text/x-python",
   "name": "python",
   "nbconvert_exporter": "python",
   "pygments_lexer": "ipython3",
   "version": "3.8.5"
  }
 },
 "nbformat": 4,
 "nbformat_minor": 4
}
